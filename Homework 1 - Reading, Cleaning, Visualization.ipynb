{
 "cells": [
  {
   "cell_type": "markdown",
   "metadata": {},
   "source": [
    "# Homework 1 - Data Cleaning/Visualization\n",
    "#### Canyen Heimuli, ECON 213R, Jan. 31, 2019\n",
    "\n",
    "For this homework, I will be collecting, cleaning, and visualizing datasets of three different sources: one .csv file, one json text, and one API."
   ]
  },
  {
   "cell_type": "code",
   "execution_count": 1,
   "metadata": {},
   "outputs": [],
   "source": [
    "import pandas as pd\n",
    "import numpy as np\n",
    "import matplotlib.pyplot as plt\n",
    "import json\n",
    "import requests\n",
    "from collections import Counter"
   ]
  },
  {
   "cell_type": "markdown",
   "metadata": {},
   "source": [
    "## Data Source 1\n",
    "#### Ideology Scores of House Representatives (112th to 115th US Congresses)\n",
    "\n",
    "The first dataset I'll be working with is a subset of the \"ideology scores\" of all US Presidents, Senators, Representatives, and Judges since the First Congress of the United States. I'll only be analying a subset of the data. Let's bring it in."
   ]
  },
  {
   "cell_type": "code",
   "execution_count": 2,
   "metadata": {},
   "outputs": [
    {
     "data": {
      "text/html": [
       "<div>\n",
       "<style scoped>\n",
       "    .dataframe tbody tr th:only-of-type {\n",
       "        vertical-align: middle;\n",
       "    }\n",
       "\n",
       "    .dataframe tbody tr th {\n",
       "        vertical-align: top;\n",
       "    }\n",
       "\n",
       "    .dataframe thead th {\n",
       "        text-align: right;\n",
       "    }\n",
       "</style>\n",
       "<table border=\"1\" class=\"dataframe\">\n",
       "  <thead>\n",
       "    <tr style=\"text-align: right;\">\n",
       "      <th></th>\n",
       "      <th>congress</th>\n",
       "      <th>chamber</th>\n",
       "      <th>icpsr</th>\n",
       "      <th>state_icpsr</th>\n",
       "      <th>district_code</th>\n",
       "      <th>state_abbrev</th>\n",
       "      <th>party_code</th>\n",
       "      <th>occupancy</th>\n",
       "      <th>last_means</th>\n",
       "      <th>bioname</th>\n",
       "      <th>...</th>\n",
       "      <th>died</th>\n",
       "      <th>nominate_dim1</th>\n",
       "      <th>nominate_dim2</th>\n",
       "      <th>nominate_log_likelihood</th>\n",
       "      <th>nominate_geo_mean_probability</th>\n",
       "      <th>nominate_number_of_votes</th>\n",
       "      <th>nominate_number_of_errors</th>\n",
       "      <th>conditional</th>\n",
       "      <th>nokken_poole_dim1</th>\n",
       "      <th>nokken_poole_dim2</th>\n",
       "    </tr>\n",
       "  </thead>\n",
       "  <tbody>\n",
       "    <tr>\n",
       "      <th>0</th>\n",
       "      <td>1</td>\n",
       "      <td>President</td>\n",
       "      <td>99869</td>\n",
       "      <td>99</td>\n",
       "      <td>0</td>\n",
       "      <td>USA</td>\n",
       "      <td>5000</td>\n",
       "      <td>NaN</td>\n",
       "      <td>NaN</td>\n",
       "      <td>WASHINGTON, George</td>\n",
       "      <td>...</td>\n",
       "      <td>NaN</td>\n",
       "      <td>NaN</td>\n",
       "      <td>NaN</td>\n",
       "      <td>NaN</td>\n",
       "      <td>NaN</td>\n",
       "      <td>NaN</td>\n",
       "      <td>NaN</td>\n",
       "      <td>NaN</td>\n",
       "      <td>NaN</td>\n",
       "      <td>NaN</td>\n",
       "    </tr>\n",
       "    <tr>\n",
       "      <th>1</th>\n",
       "      <td>1</td>\n",
       "      <td>House</td>\n",
       "      <td>4766</td>\n",
       "      <td>1</td>\n",
       "      <td>98</td>\n",
       "      <td>CT</td>\n",
       "      <td>5000</td>\n",
       "      <td>0.0</td>\n",
       "      <td>1.0</td>\n",
       "      <td>HUNTINGTON, Benjamin</td>\n",
       "      <td>...</td>\n",
       "      <td>1800.0</td>\n",
       "      <td>0.639</td>\n",
       "      <td>0.304</td>\n",
       "      <td>-29.04670</td>\n",
       "      <td>0.708</td>\n",
       "      <td>84.0</td>\n",
       "      <td>12.0</td>\n",
       "      <td>NaN</td>\n",
       "      <td>0.649</td>\n",
       "      <td>0.229</td>\n",
       "    </tr>\n",
       "    <tr>\n",
       "      <th>2</th>\n",
       "      <td>1</td>\n",
       "      <td>House</td>\n",
       "      <td>8457</td>\n",
       "      <td>1</td>\n",
       "      <td>98</td>\n",
       "      <td>CT</td>\n",
       "      <td>5000</td>\n",
       "      <td>0.0</td>\n",
       "      <td>1.0</td>\n",
       "      <td>SHERMAN, Roger</td>\n",
       "      <td>...</td>\n",
       "      <td>1793.0</td>\n",
       "      <td>0.589</td>\n",
       "      <td>0.307</td>\n",
       "      <td>-40.59580</td>\n",
       "      <td>0.684</td>\n",
       "      <td>107.0</td>\n",
       "      <td>18.0</td>\n",
       "      <td>NaN</td>\n",
       "      <td>0.614</td>\n",
       "      <td>0.298</td>\n",
       "    </tr>\n",
       "    <tr>\n",
       "      <th>3</th>\n",
       "      <td>1</td>\n",
       "      <td>House</td>\n",
       "      <td>9062</td>\n",
       "      <td>1</td>\n",
       "      <td>98</td>\n",
       "      <td>CT</td>\n",
       "      <td>5000</td>\n",
       "      <td>0.0</td>\n",
       "      <td>1.0</td>\n",
       "      <td>STURGES, Jonathan</td>\n",
       "      <td>...</td>\n",
       "      <td>1819.0</td>\n",
       "      <td>0.531</td>\n",
       "      <td>0.448</td>\n",
       "      <td>-25.87361</td>\n",
       "      <td>0.724</td>\n",
       "      <td>80.0</td>\n",
       "      <td>13.0</td>\n",
       "      <td>NaN</td>\n",
       "      <td>0.573</td>\n",
       "      <td>0.529</td>\n",
       "    </tr>\n",
       "    <tr>\n",
       "      <th>4</th>\n",
       "      <td>1</td>\n",
       "      <td>House</td>\n",
       "      <td>9489</td>\n",
       "      <td>1</td>\n",
       "      <td>98</td>\n",
       "      <td>CT</td>\n",
       "      <td>5000</td>\n",
       "      <td>0.0</td>\n",
       "      <td>1.0</td>\n",
       "      <td>TRUMBULL, Jonathan, Jr.</td>\n",
       "      <td>...</td>\n",
       "      <td>1809.0</td>\n",
       "      <td>0.692</td>\n",
       "      <td>0.246</td>\n",
       "      <td>-30.47113</td>\n",
       "      <td>0.750</td>\n",
       "      <td>106.0</td>\n",
       "      <td>11.0</td>\n",
       "      <td>NaN</td>\n",
       "      <td>0.749</td>\n",
       "      <td>0.166</td>\n",
       "    </tr>\n",
       "    <tr>\n",
       "      <th>5</th>\n",
       "      <td>1</td>\n",
       "      <td>House</td>\n",
       "      <td>9706</td>\n",
       "      <td>1</td>\n",
       "      <td>98</td>\n",
       "      <td>CT</td>\n",
       "      <td>5000</td>\n",
       "      <td>0.0</td>\n",
       "      <td>1.0</td>\n",
       "      <td>WADSWORTH, Jeremiah</td>\n",
       "      <td>...</td>\n",
       "      <td>1804.0</td>\n",
       "      <td>0.738</td>\n",
       "      <td>0.206</td>\n",
       "      <td>-16.56694</td>\n",
       "      <td>0.825</td>\n",
       "      <td>86.0</td>\n",
       "      <td>5.0</td>\n",
       "      <td>NaN</td>\n",
       "      <td>0.770</td>\n",
       "      <td>0.146</td>\n",
       "    </tr>\n",
       "    <tr>\n",
       "      <th>6</th>\n",
       "      <td>1</td>\n",
       "      <td>House</td>\n",
       "      <td>9676</td>\n",
       "      <td>11</td>\n",
       "      <td>1</td>\n",
       "      <td>DE</td>\n",
       "      <td>5000</td>\n",
       "      <td>0.0</td>\n",
       "      <td>1.0</td>\n",
       "      <td>VINING, John</td>\n",
       "      <td>...</td>\n",
       "      <td>1802.0</td>\n",
       "      <td>0.433</td>\n",
       "      <td>-0.264</td>\n",
       "      <td>-31.60966</td>\n",
       "      <td>0.714</td>\n",
       "      <td>94.0</td>\n",
       "      <td>18.0</td>\n",
       "      <td>NaN</td>\n",
       "      <td>0.430</td>\n",
       "      <td>-0.462</td>\n",
       "    </tr>\n",
       "    <tr>\n",
       "      <th>7</th>\n",
       "      <td>1</td>\n",
       "      <td>House</td>\n",
       "      <td>379</td>\n",
       "      <td>44</td>\n",
       "      <td>2</td>\n",
       "      <td>GA</td>\n",
       "      <td>4000</td>\n",
       "      <td>0.0</td>\n",
       "      <td>1.0</td>\n",
       "      <td>BALDWIN, Abraham</td>\n",
       "      <td>...</td>\n",
       "      <td>1807.0</td>\n",
       "      <td>-0.165</td>\n",
       "      <td>-0.373</td>\n",
       "      <td>-28.55029</td>\n",
       "      <td>0.758</td>\n",
       "      <td>103.0</td>\n",
       "      <td>12.0</td>\n",
       "      <td>NaN</td>\n",
       "      <td>-0.429</td>\n",
       "      <td>-0.817</td>\n",
       "    </tr>\n",
       "    <tr>\n",
       "      <th>8</th>\n",
       "      <td>1</td>\n",
       "      <td>House</td>\n",
       "      <td>4854</td>\n",
       "      <td>44</td>\n",
       "      <td>1</td>\n",
       "      <td>GA</td>\n",
       "      <td>4000</td>\n",
       "      <td>0.0</td>\n",
       "      <td>1.0</td>\n",
       "      <td>JACKSON, James</td>\n",
       "      <td>...</td>\n",
       "      <td>1806.0</td>\n",
       "      <td>-0.320</td>\n",
       "      <td>-0.181</td>\n",
       "      <td>-24.89986</td>\n",
       "      <td>0.776</td>\n",
       "      <td>98.0</td>\n",
       "      <td>9.0</td>\n",
       "      <td>NaN</td>\n",
       "      <td>-0.559</td>\n",
       "      <td>-0.052</td>\n",
       "    </tr>\n",
       "    <tr>\n",
       "      <th>9</th>\n",
       "      <td>1</td>\n",
       "      <td>House</td>\n",
       "      <td>6071</td>\n",
       "      <td>44</td>\n",
       "      <td>3</td>\n",
       "      <td>GA</td>\n",
       "      <td>4000</td>\n",
       "      <td>0.0</td>\n",
       "      <td>1.0</td>\n",
       "      <td>MATHEWS, George</td>\n",
       "      <td>...</td>\n",
       "      <td>1812.0</td>\n",
       "      <td>-0.428</td>\n",
       "      <td>-0.317</td>\n",
       "      <td>-12.62728</td>\n",
       "      <td>0.880</td>\n",
       "      <td>99.0</td>\n",
       "      <td>2.0</td>\n",
       "      <td>NaN</td>\n",
       "      <td>-0.413</td>\n",
       "      <td>-0.232</td>\n",
       "    </tr>\n",
       "  </tbody>\n",
       "</table>\n",
       "<p>10 rows × 22 columns</p>\n",
       "</div>"
      ],
      "text/plain": [
       "   congress    chamber  icpsr  state_icpsr  district_code state_abbrev  \\\n",
       "0         1  President  99869           99              0          USA   \n",
       "1         1      House   4766            1             98           CT   \n",
       "2         1      House   8457            1             98           CT   \n",
       "3         1      House   9062            1             98           CT   \n",
       "4         1      House   9489            1             98           CT   \n",
       "5         1      House   9706            1             98           CT   \n",
       "6         1      House   9676           11              1           DE   \n",
       "7         1      House    379           44              2           GA   \n",
       "8         1      House   4854           44              1           GA   \n",
       "9         1      House   6071           44              3           GA   \n",
       "\n",
       "   party_code  occupancy  last_means                  bioname  \\\n",
       "0        5000        NaN         NaN       WASHINGTON, George   \n",
       "1        5000        0.0         1.0     HUNTINGTON, Benjamin   \n",
       "2        5000        0.0         1.0           SHERMAN, Roger   \n",
       "3        5000        0.0         1.0        STURGES, Jonathan   \n",
       "4        5000        0.0         1.0  TRUMBULL, Jonathan, Jr.   \n",
       "5        5000        0.0         1.0      WADSWORTH, Jeremiah   \n",
       "6        5000        0.0         1.0             VINING, John   \n",
       "7        4000        0.0         1.0         BALDWIN, Abraham   \n",
       "8        4000        0.0         1.0           JACKSON, James   \n",
       "9        4000        0.0         1.0          MATHEWS, George   \n",
       "\n",
       "         ...            died  nominate_dim1  nominate_dim2  \\\n",
       "0        ...             NaN            NaN            NaN   \n",
       "1        ...          1800.0          0.639          0.304   \n",
       "2        ...          1793.0          0.589          0.307   \n",
       "3        ...          1819.0          0.531          0.448   \n",
       "4        ...          1809.0          0.692          0.246   \n",
       "5        ...          1804.0          0.738          0.206   \n",
       "6        ...          1802.0          0.433         -0.264   \n",
       "7        ...          1807.0         -0.165         -0.373   \n",
       "8        ...          1806.0         -0.320         -0.181   \n",
       "9        ...          1812.0         -0.428         -0.317   \n",
       "\n",
       "   nominate_log_likelihood  nominate_geo_mean_probability  \\\n",
       "0                      NaN                            NaN   \n",
       "1                -29.04670                          0.708   \n",
       "2                -40.59580                          0.684   \n",
       "3                -25.87361                          0.724   \n",
       "4                -30.47113                          0.750   \n",
       "5                -16.56694                          0.825   \n",
       "6                -31.60966                          0.714   \n",
       "7                -28.55029                          0.758   \n",
       "8                -24.89986                          0.776   \n",
       "9                -12.62728                          0.880   \n",
       "\n",
       "   nominate_number_of_votes  nominate_number_of_errors  conditional  \\\n",
       "0                       NaN                        NaN          NaN   \n",
       "1                      84.0                       12.0          NaN   \n",
       "2                     107.0                       18.0          NaN   \n",
       "3                      80.0                       13.0          NaN   \n",
       "4                     106.0                       11.0          NaN   \n",
       "5                      86.0                        5.0          NaN   \n",
       "6                      94.0                       18.0          NaN   \n",
       "7                     103.0                       12.0          NaN   \n",
       "8                      98.0                        9.0          NaN   \n",
       "9                      99.0                        2.0          NaN   \n",
       "\n",
       "   nokken_poole_dim1  nokken_poole_dim2  \n",
       "0                NaN                NaN  \n",
       "1              0.649              0.229  \n",
       "2              0.614              0.298  \n",
       "3              0.573              0.529  \n",
       "4              0.749              0.166  \n",
       "5              0.770              0.146  \n",
       "6              0.430             -0.462  \n",
       "7             -0.429             -0.817  \n",
       "8             -0.559             -0.052  \n",
       "9             -0.413             -0.232  \n",
       "\n",
       "[10 rows x 22 columns]"
      ]
     },
     "execution_count": 2,
     "metadata": {},
     "output_type": "execute_result"
    }
   ],
   "source": [
    "ideo_df = pd.read_csv(\"https://voteview.com/static/data/out/members/HSall_members.csv\")\n",
    "ideo_df.head(10)"
   ]
  },
  {
   "cell_type": "code",
   "execution_count": 3,
   "metadata": {},
   "outputs": [
    {
     "data": {
      "text/html": [
       "<div>\n",
       "<style scoped>\n",
       "    .dataframe tbody tr th:only-of-type {\n",
       "        vertical-align: middle;\n",
       "    }\n",
       "\n",
       "    .dataframe tbody tr th {\n",
       "        vertical-align: top;\n",
       "    }\n",
       "\n",
       "    .dataframe thead th {\n",
       "        text-align: right;\n",
       "    }\n",
       "</style>\n",
       "<table border=\"1\" class=\"dataframe\">\n",
       "  <thead>\n",
       "    <tr style=\"text-align: right;\">\n",
       "      <th></th>\n",
       "      <th>congress</th>\n",
       "      <th>icpsr</th>\n",
       "      <th>state_icpsr</th>\n",
       "      <th>district_code</th>\n",
       "      <th>party_code</th>\n",
       "      <th>occupancy</th>\n",
       "      <th>last_means</th>\n",
       "      <th>born</th>\n",
       "      <th>died</th>\n",
       "      <th>nominate_dim1</th>\n",
       "      <th>nominate_dim2</th>\n",
       "      <th>nominate_log_likelihood</th>\n",
       "      <th>nominate_geo_mean_probability</th>\n",
       "      <th>nominate_number_of_votes</th>\n",
       "      <th>nominate_number_of_errors</th>\n",
       "      <th>conditional</th>\n",
       "      <th>nokken_poole_dim1</th>\n",
       "      <th>nokken_poole_dim2</th>\n",
       "    </tr>\n",
       "  </thead>\n",
       "  <tbody>\n",
       "    <tr>\n",
       "      <th>count</th>\n",
       "      <td>49352.000000</td>\n",
       "      <td>49352.000000</td>\n",
       "      <td>49352.000000</td>\n",
       "      <td>49352.000000</td>\n",
       "      <td>49352.000000</td>\n",
       "      <td>48215.000000</td>\n",
       "      <td>48215.000000</td>\n",
       "      <td>49168.000000</td>\n",
       "      <td>39024.000000</td>\n",
       "      <td>49142.000000</td>\n",
       "      <td>49142.000000</td>\n",
       "      <td>48139.000000</td>\n",
       "      <td>48139.000000</td>\n",
       "      <td>48139.000000</td>\n",
       "      <td>48139.000000</td>\n",
       "      <td>0.0</td>\n",
       "      <td>48905.000000</td>\n",
       "      <td>48905.000000</td>\n",
       "    </tr>\n",
       "    <tr>\n",
       "      <th>mean</th>\n",
       "      <td>68.663479</td>\n",
       "      <td>9438.374149</td>\n",
       "      <td>33.510476</td>\n",
       "      <td>9.330828</td>\n",
       "      <td>228.474895</td>\n",
       "      <td>0.131577</td>\n",
       "      <td>1.225096</td>\n",
       "      <td>1873.412890</td>\n",
       "      <td>1927.173688</td>\n",
       "      <td>0.004914</td>\n",
       "      <td>0.015566</td>\n",
       "      <td>-102.349570</td>\n",
       "      <td>0.750272</td>\n",
       "      <td>373.057999</td>\n",
       "      <td>46.210993</td>\n",
       "      <td>NaN</td>\n",
       "      <td>0.004014</td>\n",
       "      <td>0.013605</td>\n",
       "    </tr>\n",
       "    <tr>\n",
       "      <th>std</th>\n",
       "      <td>30.164399</td>\n",
       "      <td>9931.723362</td>\n",
       "      <td>20.453083</td>\n",
       "      <td>16.446524</td>\n",
       "      <td>665.874174</td>\n",
       "      <td>0.526820</td>\n",
       "      <td>0.671743</td>\n",
       "      <td>57.349621</td>\n",
       "      <td>53.385072</td>\n",
       "      <td>0.373595</td>\n",
       "      <td>0.466537</td>\n",
       "      <td>94.464473</td>\n",
       "      <td>0.097311</td>\n",
       "      <td>325.591000</td>\n",
       "      <td>43.935748</td>\n",
       "      <td>NaN</td>\n",
       "      <td>0.391670</td>\n",
       "      <td>0.491359</td>\n",
       "    </tr>\n",
       "    <tr>\n",
       "      <th>min</th>\n",
       "      <td>1.000000</td>\n",
       "      <td>1.000000</td>\n",
       "      <td>1.000000</td>\n",
       "      <td>0.000000</td>\n",
       "      <td>1.000000</td>\n",
       "      <td>0.000000</td>\n",
       "      <td>0.000000</td>\n",
       "      <td>1721.000000</td>\n",
       "      <td>1790.000000</td>\n",
       "      <td>-1.000000</td>\n",
       "      <td>-1.000000</td>\n",
       "      <td>-1135.015230</td>\n",
       "      <td>0.160000</td>\n",
       "      <td>1.000000</td>\n",
       "      <td>0.000000</td>\n",
       "      <td>NaN</td>\n",
       "      <td>-1.000000</td>\n",
       "      <td>-1.000000</td>\n",
       "    </tr>\n",
       "    <tr>\n",
       "      <th>25%</th>\n",
       "      <td>47.000000</td>\n",
       "      <td>3594.000000</td>\n",
       "      <td>14.000000</td>\n",
       "      <td>1.000000</td>\n",
       "      <td>100.000000</td>\n",
       "      <td>0.000000</td>\n",
       "      <td>1.000000</td>\n",
       "      <td>1831.000000</td>\n",
       "      <td>1890.000000</td>\n",
       "      <td>-0.329000</td>\n",
       "      <td>-0.301000</td>\n",
       "      <td>-141.656600</td>\n",
       "      <td>0.688000</td>\n",
       "      <td>125.000000</td>\n",
       "      <td>16.000000</td>\n",
       "      <td>NaN</td>\n",
       "      <td>-0.339000</td>\n",
       "      <td>-0.331000</td>\n",
       "    </tr>\n",
       "    <tr>\n",
       "      <th>50%</th>\n",
       "      <td>72.000000</td>\n",
       "      <td>7246.500000</td>\n",
       "      <td>33.000000</td>\n",
       "      <td>5.000000</td>\n",
       "      <td>100.000000</td>\n",
       "      <td>0.000000</td>\n",
       "      <td>1.000000</td>\n",
       "      <td>1876.000000</td>\n",
       "      <td>1931.000000</td>\n",
       "      <td>-0.040500</td>\n",
       "      <td>-0.010000</td>\n",
       "      <td>-69.673370</td>\n",
       "      <td>0.753000</td>\n",
       "      <td>232.000000</td>\n",
       "      <td>31.000000</td>\n",
       "      <td>NaN</td>\n",
       "      <td>-0.036000</td>\n",
       "      <td>-0.005000</td>\n",
       "    </tr>\n",
       "    <tr>\n",
       "      <th>75%</th>\n",
       "      <td>94.000000</td>\n",
       "      <td>10804.250000</td>\n",
       "      <td>48.000000</td>\n",
       "      <td>10.000000</td>\n",
       "      <td>200.000000</td>\n",
       "      <td>0.000000</td>\n",
       "      <td>1.000000</td>\n",
       "      <td>1923.000000</td>\n",
       "      <td>1970.000000</td>\n",
       "      <td>0.346000</td>\n",
       "      <td>0.312000</td>\n",
       "      <td>-36.204150</td>\n",
       "      <td>0.817000</td>\n",
       "      <td>537.000000</td>\n",
       "      <td>63.000000</td>\n",
       "      <td>NaN</td>\n",
       "      <td>0.351000</td>\n",
       "      <td>0.349000</td>\n",
       "    </tr>\n",
       "    <tr>\n",
       "      <th>max</th>\n",
       "      <td>116.000000</td>\n",
       "      <td>99999.000000</td>\n",
       "      <td>99.000000</td>\n",
       "      <td>99.000000</td>\n",
       "      <td>8888.000000</td>\n",
       "      <td>7.000000</td>\n",
       "      <td>7.000000</td>\n",
       "      <td>1989.000000</td>\n",
       "      <td>2018.000000</td>\n",
       "      <td>1.000000</td>\n",
       "      <td>1.000000</td>\n",
       "      <td>-0.000050</td>\n",
       "      <td>0.999970</td>\n",
       "      <td>1434.000000</td>\n",
       "      <td>498.000000</td>\n",
       "      <td>NaN</td>\n",
       "      <td>1.000000</td>\n",
       "      <td>1.000000</td>\n",
       "    </tr>\n",
       "  </tbody>\n",
       "</table>\n",
       "</div>"
      ],
      "text/plain": [
       "           congress         icpsr   state_icpsr  district_code    party_code  \\\n",
       "count  49352.000000  49352.000000  49352.000000   49352.000000  49352.000000   \n",
       "mean      68.663479   9438.374149     33.510476       9.330828    228.474895   \n",
       "std       30.164399   9931.723362     20.453083      16.446524    665.874174   \n",
       "min        1.000000      1.000000      1.000000       0.000000      1.000000   \n",
       "25%       47.000000   3594.000000     14.000000       1.000000    100.000000   \n",
       "50%       72.000000   7246.500000     33.000000       5.000000    100.000000   \n",
       "75%       94.000000  10804.250000     48.000000      10.000000    200.000000   \n",
       "max      116.000000  99999.000000     99.000000      99.000000   8888.000000   \n",
       "\n",
       "          occupancy    last_means          born          died  nominate_dim1  \\\n",
       "count  48215.000000  48215.000000  49168.000000  39024.000000   49142.000000   \n",
       "mean       0.131577      1.225096   1873.412890   1927.173688       0.004914   \n",
       "std        0.526820      0.671743     57.349621     53.385072       0.373595   \n",
       "min        0.000000      0.000000   1721.000000   1790.000000      -1.000000   \n",
       "25%        0.000000      1.000000   1831.000000   1890.000000      -0.329000   \n",
       "50%        0.000000      1.000000   1876.000000   1931.000000      -0.040500   \n",
       "75%        0.000000      1.000000   1923.000000   1970.000000       0.346000   \n",
       "max        7.000000      7.000000   1989.000000   2018.000000       1.000000   \n",
       "\n",
       "       nominate_dim2  nominate_log_likelihood  nominate_geo_mean_probability  \\\n",
       "count   49142.000000             48139.000000                   48139.000000   \n",
       "mean        0.015566              -102.349570                       0.750272   \n",
       "std         0.466537                94.464473                       0.097311   \n",
       "min        -1.000000             -1135.015230                       0.160000   \n",
       "25%        -0.301000              -141.656600                       0.688000   \n",
       "50%        -0.010000               -69.673370                       0.753000   \n",
       "75%         0.312000               -36.204150                       0.817000   \n",
       "max         1.000000                -0.000050                       0.999970   \n",
       "\n",
       "       nominate_number_of_votes  nominate_number_of_errors  conditional  \\\n",
       "count              48139.000000               48139.000000          0.0   \n",
       "mean                 373.057999                  46.210993          NaN   \n",
       "std                  325.591000                  43.935748          NaN   \n",
       "min                    1.000000                   0.000000          NaN   \n",
       "25%                  125.000000                  16.000000          NaN   \n",
       "50%                  232.000000                  31.000000          NaN   \n",
       "75%                  537.000000                  63.000000          NaN   \n",
       "max                 1434.000000                 498.000000          NaN   \n",
       "\n",
       "       nokken_poole_dim1  nokken_poole_dim2  \n",
       "count       48905.000000       48905.000000  \n",
       "mean            0.004014           0.013605  \n",
       "std             0.391670           0.491359  \n",
       "min            -1.000000          -1.000000  \n",
       "25%            -0.339000          -0.331000  \n",
       "50%            -0.036000          -0.005000  \n",
       "75%             0.351000           0.349000  \n",
       "max             1.000000           1.000000  "
      ]
     },
     "execution_count": 3,
     "metadata": {},
     "output_type": "execute_result"
    }
   ],
   "source": [
    "ideo_df.describe()"
   ]
  },
  {
   "cell_type": "markdown",
   "metadata": {},
   "source": [
    "This is a lot of data, and much of it is historical. I am only interested in House member ideologies of the past few Congresses, from about the 112th to the 115th. I condense the data here:"
   ]
  },
  {
   "cell_type": "code",
   "execution_count": 4,
   "metadata": {},
   "outputs": [],
   "source": [
    "#Condenses data to House Members from 112th to 115th Congresses\n",
    "ideo_df = ideo_df[ideo_df.congress > 106]\n",
    "ideo_df = ideo_df[ideo_df.congress != 116]\n",
    "ideo_df = ideo_df[ideo_df.chamber == \"House\"]"
   ]
  },
  {
   "cell_type": "code",
   "execution_count": 5,
   "metadata": {},
   "outputs": [
    {
     "name": "stdout",
     "output_type": "stream",
     "text": [
      "          congress         icpsr  state_icpsr  district_code   party_code  \\\n",
      "count  3998.000000   3998.000000  3998.000000    3998.000000  3998.000000   \n",
      "mean    111.008004  23450.925713    40.258379      10.104302   152.004002   \n",
      "std       2.582719   7857.582874    21.069313      10.475360    50.257480   \n",
      "min     107.000000   2605.000000     1.000000       1.000000   100.000000   \n",
      "25%     109.000000  20319.000000    22.000000       3.000000   100.000000   \n",
      "50%     111.000000  21133.000000    43.000000       6.000000   200.000000   \n",
      "75%     113.000000  29377.000000    54.000000      13.000000   200.000000   \n",
      "max     115.000000  99767.000000    82.000000      53.000000   328.000000   \n",
      "\n",
      "         occupancy   last_means         born         died  nominate_dim1  \\\n",
      "count  3548.000000  3548.000000  3998.000000   126.000000    3997.000000   \n",
      "mean      0.059752     1.020857  1952.394447  2011.412698       0.052074   \n",
      "std       0.312024     0.142925    10.960787     4.304918       0.438875   \n",
      "min       0.000000     1.000000  1922.000000  2000.000000      -0.702000   \n",
      "25%       0.000000     1.000000  1945.000000  2007.000000      -0.383000   \n",
      "50%       0.000000     1.000000  1952.000000  2013.000000       0.211000   \n",
      "75%       0.000000     1.000000  1960.000000  2015.000000       0.452000   \n",
      "max       2.000000     2.000000  1984.000000  2018.000000       0.931000   \n",
      "\n",
      "       nominate_dim2  nominate_log_likelihood  nominate_geo_mean_probability  \\\n",
      "count    3997.000000              3986.000000                    3986.000000   \n",
      "mean        0.009634              -157.588281                       0.852075   \n",
      "std         0.298744                95.118125                       0.070674   \n",
      "min        -0.992000             -1135.015230                       0.346540   \n",
      "25%        -0.191000              -192.646142                       0.817545   \n",
      "50%         0.002000              -137.076295                       0.865000   \n",
      "75%         0.199000               -96.795520                       0.900142   \n",
      "max         1.000000                -0.000050                       0.999950   \n",
      "\n",
      "       nominate_number_of_votes  nominate_number_of_errors  conditional  \\\n",
      "count               3986.000000                3986.000000          0.0   \n",
      "mean                 974.375314                  65.641244          NaN   \n",
      "std                  259.887117                  42.441815          NaN   \n",
      "min                    1.000000                   0.000000          NaN   \n",
      "25%                  832.000000                  38.000000          NaN   \n",
      "50%                  951.000000                  57.000000          NaN   \n",
      "75%                 1111.000000                  81.000000          NaN   \n",
      "max                 1434.000000                 498.000000          NaN   \n",
      "\n",
      "       nokken_poole_dim1  nokken_poole_dim2  \n",
      "count        3996.000000        3996.000000  \n",
      "mean            0.052433           0.018636  \n",
      "std             0.446635           0.325491  \n",
      "min            -0.954000          -0.986000  \n",
      "25%            -0.388000          -0.189000  \n",
      "50%             0.209500           0.012000  \n",
      "75%             0.456000           0.224000  \n",
      "max             1.000000           0.996000  \n"
     ]
    }
   ],
   "source": [
    "print(ideo_df.describe())"
   ]
  },
  {
   "cell_type": "markdown",
   "metadata": {},
   "source": [
    "With this data, I can visualize trends in ideology scores for the past few Congresses. First, I'll check if it has missing values in the key variable or in other data."
   ]
  },
  {
   "cell_type": "code",
   "execution_count": 6,
   "metadata": {},
   "outputs": [
    {
     "name": "stdout",
     "output_type": "stream",
     "text": [
      "nominate_dim1    0\n",
      "dtype: int64\n"
     ]
    },
    {
     "data": {
      "text/plain": [
       "Index(['occupancy', 'last_means', 'died', 'nominate_dim1', 'nominate_dim2',\n",
       "       'nominate_log_likelihood', 'nominate_geo_mean_probability',\n",
       "       'nominate_number_of_votes', 'nominate_number_of_errors', 'conditional',\n",
       "       'nokken_poole_dim1', 'nokken_poole_dim2'],\n",
       "      dtype='object')"
      ]
     },
     "execution_count": 6,
     "metadata": {},
     "output_type": "execute_result"
    }
   ],
   "source": [
    "#Checks for missing values of the \"ideology score\" variable and other missing data\n",
    "print((ideo_df[[\"nominate_dim1\"]] == 0).sum())\n",
    "ideo_df.columns[ideo_df.isnull().any()]"
   ]
  },
  {
   "cell_type": "markdown",
   "metadata": {},
   "source": [
    "Much of the data is missing at random, or otherwise does not require a value for analysis. The 'died' variable reads the year that a Representative died if he/she is deceased, so it does not need to be filled in. The same can be said for occupancy. I'll drop the 'died' variable as it doesn't matter here. Other data are just transformations of ideology variables. I'm not sure if they're missing at random or not...\n",
    "\n",
    "The main variable that I'm interested in is the \"nominate_dim1\" variable which is an ideology score. To begin, I'll show a simple histogram of this variable to look for any patterns."
   ]
  },
  {
   "cell_type": "code",
   "execution_count": 7,
   "metadata": {
    "scrolled": true
   },
   "outputs": [
    {
     "data": {
      "text/plain": [
       "Text(0.5, 1.0, 'Distribution of House Ideology Scores - 106th - 115th US Congresses')"
      ]
     },
     "execution_count": 7,
     "metadata": {},
     "output_type": "execute_result"
    },
    {
     "data": {
      "image/png": "[encoded data removed]",
      "text/plain": [
       "<Figure size 432x288 with 1 Axes>"
      ]
     },
     "metadata": {
      "needs_background": "light"
     },
     "output_type": "display_data"
    }
   ],
   "source": [
    "#Ideology Histogram (sometimes you have to run this code twice for the hist. to display...)\n",
    "ideo_hist = ideo_df.hist('nominate_dim1', bins=40, facecolor='blue')\n",
    "plt.xlabel('Ideology Scores')\n",
    "plt.ylabel('Frequency')\n",
    "plt.title('Distribution of House Ideology Scores - 106th - 115th US Congresses')"
   ]
  },
  {
   "cell_type": "markdown",
   "metadata": {},
   "source": [
    "This histogram shows a clear ideological bridge between two camps within the House. It is likely that one direction of the ideology variable is more \"conservative\", and the other is more \"liberal\". \n",
    "\n",
    "Assuming that I didn't know which is which, I would need to investigate this. Let's say that I happen to know that Paul Ryan, the Speaker of the House in the 115th Congress, is a Republican. I would simply look at his party value (the party variable records numeric values) and conclude that number party is \"Republican\", and the other is Democrat. I would then similarly conclude that the sign of the mean ideology score represents the direction of the ideoology variable value that corresponds to being more 'conservative', or vice-versa for Democrats. \n",
    "\n",
    "Let's give that a try:"
   ]
  },
  {
   "cell_type": "code",
   "execution_count": 8,
   "metadata": {},
   "outputs": [
    {
     "data": {
      "text/html": [
       "<div>\n",
       "<style scoped>\n",
       "    .dataframe tbody tr th:only-of-type {\n",
       "        vertical-align: middle;\n",
       "    }\n",
       "\n",
       "    .dataframe tbody tr th {\n",
       "        vertical-align: top;\n",
       "    }\n",
       "\n",
       "    .dataframe thead th {\n",
       "        text-align: right;\n",
       "    }\n",
       "</style>\n",
       "<table border=\"1\" class=\"dataframe\">\n",
       "  <thead>\n",
       "    <tr style=\"text-align: right;\">\n",
       "      <th></th>\n",
       "      <th>congress</th>\n",
       "      <th>chamber</th>\n",
       "      <th>icpsr</th>\n",
       "      <th>state_icpsr</th>\n",
       "      <th>district_code</th>\n",
       "      <th>state_abbrev</th>\n",
       "      <th>party_code</th>\n",
       "      <th>occupancy</th>\n",
       "      <th>last_means</th>\n",
       "      <th>bioname</th>\n",
       "      <th>...</th>\n",
       "      <th>died</th>\n",
       "      <th>nominate_dim1</th>\n",
       "      <th>nominate_dim2</th>\n",
       "      <th>nominate_log_likelihood</th>\n",
       "      <th>nominate_geo_mean_probability</th>\n",
       "      <th>nominate_number_of_votes</th>\n",
       "      <th>nominate_number_of_errors</th>\n",
       "      <th>conditional</th>\n",
       "      <th>nokken_poole_dim1</th>\n",
       "      <th>nokken_poole_dim2</th>\n",
       "    </tr>\n",
       "  </thead>\n",
       "  <tbody>\n",
       "    <tr>\n",
       "      <th>44324</th>\n",
       "      <td>107</td>\n",
       "      <td>House</td>\n",
       "      <td>29939</td>\n",
       "      <td>25</td>\n",
       "      <td>1</td>\n",
       "      <td>WI</td>\n",
       "      <td>200</td>\n",
       "      <td>0.0</td>\n",
       "      <td>1.0</td>\n",
       "      <td>RYAN, Paul D.</td>\n",
       "      <td>...</td>\n",
       "      <td>NaN</td>\n",
       "      <td>0.556</td>\n",
       "      <td>-0.25</td>\n",
       "      <td>-122.57333</td>\n",
       "      <td>0.83074</td>\n",
       "      <td>661.0</td>\n",
       "      <td>56.0</td>\n",
       "      <td>NaN</td>\n",
       "      <td>0.499</td>\n",
       "      <td>-0.299</td>\n",
       "    </tr>\n",
       "    <tr>\n",
       "      <th>44868</th>\n",
       "      <td>108</td>\n",
       "      <td>House</td>\n",
       "      <td>29939</td>\n",
       "      <td>25</td>\n",
       "      <td>1</td>\n",
       "      <td>WI</td>\n",
       "      <td>200</td>\n",
       "      <td>0.0</td>\n",
       "      <td>1.0</td>\n",
       "      <td>RYAN, Paul D.</td>\n",
       "      <td>...</td>\n",
       "      <td>NaN</td>\n",
       "      <td>0.556</td>\n",
       "      <td>-0.25</td>\n",
       "      <td>-131.59480</td>\n",
       "      <td>0.85289</td>\n",
       "      <td>827.0</td>\n",
       "      <td>60.0</td>\n",
       "      <td>NaN</td>\n",
       "      <td>0.569</td>\n",
       "      <td>-0.441</td>\n",
       "    </tr>\n",
       "    <tr>\n",
       "      <th>45409</th>\n",
       "      <td>109</td>\n",
       "      <td>House</td>\n",
       "      <td>29939</td>\n",
       "      <td>25</td>\n",
       "      <td>1</td>\n",
       "      <td>WI</td>\n",
       "      <td>200</td>\n",
       "      <td>0.0</td>\n",
       "      <td>1.0</td>\n",
       "      <td>RYAN, Paul D.</td>\n",
       "      <td>...</td>\n",
       "      <td>NaN</td>\n",
       "      <td>0.556</td>\n",
       "      <td>-0.25</td>\n",
       "      <td>-180.60485</td>\n",
       "      <td>0.81540</td>\n",
       "      <td>885.0</td>\n",
       "      <td>82.0</td>\n",
       "      <td>NaN</td>\n",
       "      <td>0.604</td>\n",
       "      <td>-0.397</td>\n",
       "    </tr>\n",
       "    <tr>\n",
       "      <th>45960</th>\n",
       "      <td>110</td>\n",
       "      <td>House</td>\n",
       "      <td>29939</td>\n",
       "      <td>25</td>\n",
       "      <td>1</td>\n",
       "      <td>WI</td>\n",
       "      <td>200</td>\n",
       "      <td>0.0</td>\n",
       "      <td>1.0</td>\n",
       "      <td>RYAN, Paul D.</td>\n",
       "      <td>...</td>\n",
       "      <td>NaN</td>\n",
       "      <td>0.556</td>\n",
       "      <td>-0.25</td>\n",
       "      <td>-218.95065</td>\n",
       "      <td>0.85180</td>\n",
       "      <td>1365.0</td>\n",
       "      <td>81.0</td>\n",
       "      <td>NaN</td>\n",
       "      <td>0.585</td>\n",
       "      <td>-0.427</td>\n",
       "    </tr>\n",
       "    <tr>\n",
       "      <th>46509</th>\n",
       "      <td>111</td>\n",
       "      <td>House</td>\n",
       "      <td>29939</td>\n",
       "      <td>25</td>\n",
       "      <td>1</td>\n",
       "      <td>WI</td>\n",
       "      <td>200</td>\n",
       "      <td>0.0</td>\n",
       "      <td>1.0</td>\n",
       "      <td>RYAN, Paul D.</td>\n",
       "      <td>...</td>\n",
       "      <td>NaN</td>\n",
       "      <td>0.556</td>\n",
       "      <td>-0.25</td>\n",
       "      <td>-143.99454</td>\n",
       "      <td>0.86004</td>\n",
       "      <td>955.0</td>\n",
       "      <td>49.0</td>\n",
       "      <td>NaN</td>\n",
       "      <td>0.588</td>\n",
       "      <td>-0.278</td>\n",
       "    </tr>\n",
       "  </tbody>\n",
       "</table>\n",
       "<p>5 rows × 22 columns</p>\n",
       "</div>"
      ],
      "text/plain": [
       "       congress chamber  icpsr  state_icpsr  district_code state_abbrev  \\\n",
       "44324       107   House  29939           25              1           WI   \n",
       "44868       108   House  29939           25              1           WI   \n",
       "45409       109   House  29939           25              1           WI   \n",
       "45960       110   House  29939           25              1           WI   \n",
       "46509       111   House  29939           25              1           WI   \n",
       "\n",
       "       party_code  occupancy  last_means        bioname        ...          \\\n",
       "44324         200        0.0         1.0  RYAN, Paul D.        ...           \n",
       "44868         200        0.0         1.0  RYAN, Paul D.        ...           \n",
       "45409         200        0.0         1.0  RYAN, Paul D.        ...           \n",
       "45960         200        0.0         1.0  RYAN, Paul D.        ...           \n",
       "46509         200        0.0         1.0  RYAN, Paul D.        ...           \n",
       "\n",
       "      died  nominate_dim1  nominate_dim2  nominate_log_likelihood  \\\n",
       "44324  NaN          0.556          -0.25               -122.57333   \n",
       "44868  NaN          0.556          -0.25               -131.59480   \n",
       "45409  NaN          0.556          -0.25               -180.60485   \n",
       "45960  NaN          0.556          -0.25               -218.95065   \n",
       "46509  NaN          0.556          -0.25               -143.99454   \n",
       "\n",
       "       nominate_geo_mean_probability  nominate_number_of_votes  \\\n",
       "44324                        0.83074                     661.0   \n",
       "44868                        0.85289                     827.0   \n",
       "45409                        0.81540                     885.0   \n",
       "45960                        0.85180                    1365.0   \n",
       "46509                        0.86004                     955.0   \n",
       "\n",
       "       nominate_number_of_errors  conditional  nokken_poole_dim1  \\\n",
       "44324                       56.0          NaN              0.499   \n",
       "44868                       60.0          NaN              0.569   \n",
       "45409                       82.0          NaN              0.604   \n",
       "45960                       81.0          NaN              0.585   \n",
       "46509                       49.0          NaN              0.588   \n",
       "\n",
       "       nokken_poole_dim2  \n",
       "44324             -0.299  \n",
       "44868             -0.441  \n",
       "45409             -0.397  \n",
       "45960             -0.427  \n",
       "46509             -0.278  \n",
       "\n",
       "[5 rows x 22 columns]"
      ]
     },
     "execution_count": 8,
     "metadata": {},
     "output_type": "execute_result"
    }
   ],
   "source": [
    "ideo_df_Ryan = ideo_df[ideo_df.bioname == \"RYAN, Paul D.\"]\n",
    "ideo_df_Ryan.head()"
   ]
  },
  {
   "cell_type": "markdown",
   "metadata": {},
   "source": [
    "It looks like the party_code value '200' corresponds to being in the Republican Party. The only other party_code value for House members is '100', which I will assume to be associated with being in the Democratic Party (forgive me, this was the only way I knew to solve this problem...). Let's compare the means of ideology scores within each party."
   ]
  },
  {
   "cell_type": "code",
   "execution_count": 9,
   "metadata": {},
   "outputs": [
    {
     "name": "stdout",
     "output_type": "stream",
     "text": [
      "Mean Ideology for Republicans:\n",
      "0.4532068632189463\n",
      "Mean Ideology for Democrats:\n",
      "-0.3786720374220375\n"
     ]
    }
   ],
   "source": [
    "#Finds the Means!\n",
    "\n",
    "ideo_df_rep = ideo_df[ideo_df.party_code == 200]\n",
    "ideo_df_dem = ideo_df[ideo_df.party_code == 100]\n",
    "\n",
    "print(\"Mean Ideology for Republicans:\")\n",
    "print(ideo_df_rep.loc[:,\"nominate_dim1\"].mean())\n",
    "print(\"Mean Ideology for Democrats:\")\n",
    "print(ideo_df_dem.loc[:,\"nominate_dim1\"].mean())"
   ]
  },
  {
   "cell_type": "markdown",
   "metadata": {},
   "source": [
    "So it appears to be the case that 'conservatism' is related to having a positive Ideology Score, and vice versa for being more 'progressive'. \n",
    "\n",
    "To visualize this point and how it has (possibly) changed over time, I show a scatter plot of Ideology Scores within parties for about the past 20 years (the 106th Congress first met in 1999):"
   ]
  },
  {
   "cell_type": "code",
   "execution_count": 10,
   "metadata": {},
   "outputs": [
    {
     "data": {
      "image/png": "[encoded data removed]",
      "text/plain": [
       "<Figure size 432x288 with 1 Axes>"
      ]
     },
     "metadata": {
      "needs_background": "light"
     },
     "output_type": "display_data"
    },
    {
     "data": {
      "image/png": "[encoded data removed]",
      "text/plain": [
       "<Figure size 432x288 with 1 Axes>"
      ]
     },
     "metadata": {
      "needs_background": "light"
     },
     "output_type": "display_data"
    }
   ],
   "source": [
    "#Scatter Plot Code\n",
    "ideo_df_reps = ideo_df[ideo_df.party_code == 200]\n",
    "ideo_df_dems = ideo_df[ideo_df.party_code == 100]\n",
    "\n",
    "ideo_scatter_reps = ideo_df_reps.plot.scatter('congress', 'nominate_dim1', color='red')\n",
    "plt.xlabel('Congress Number')\n",
    "plt.ylabel('Ideology Scores')\n",
    "plt.title('Scatter Plot of House Ideology Scores - 112th - 115th US Congresses')\n",
    "\n",
    "ideo_scatter_dems = ideo_df_dems.plot.scatter('congress', 'nominate_dim1', color='blue')\n",
    "plt.xlabel('Congress Number')\n",
    "plt.ylabel('Ideology Scores')\n",
    "plt.title('Scatter Plot of House Ideology Scores - 112th - 115th US Congresses')\n",
    "plt.show()"
   ]
  },
  {
   "cell_type": "markdown",
   "metadata": {},
   "source": [
    "I was unable to add a \"line of best fit\" for either of the scatter plots, but I aver that a case can qualitatively be made that ideology has gotten more divergent, if only slightly.\n",
    "\n",
    "While this graph is not exactly quantifiable, it is a good way to show in a simple way how ideological polarization in the House has happened over the past decade or so. "
   ]
  },
  {
   "cell_type": "markdown",
   "metadata": {},
   "source": [
    "## Data Source 2\n",
    "#### Temperature Readings since 1880 Recorded as Anomalies Compared to a Base Period (1901-2000)\n",
    "\n",
    "This is a simple two column dataset of temperature readings since 1880. Each observation is recorded in the form of a \"temperature anomaly\", or the temperature difference in that year compared to a \"base period\". The description of this dataset says that that base period is from the years 1901 to 2000. "
   ]
  },
  {
   "cell_type": "code",
   "execution_count": 11,
   "metadata": {},
   "outputs": [
    {
     "data": {
      "text/plain": [
       "'{\"description\":{\"title\":\"Global Land and Ocean Temperature Anomalies, January-December\",\"units\":\"Degrees Celsius\",\"base_period\":\"1901-2000\",\"missing\":-999},\"data\":{\"1880\":\"-0.12\",\"1881\":\"-0.07\",\"1882\":\"-0.08\",\"1883\":\"-0.15\",\"1884\":\"-0.21\",\"1885\":\"-0.23\",\"1886\":\"-0.21\",\"1887\":\"-0.25\",\"1888\":\"-0.16\",\"1889\":\"-0.11\",\"1890\":\"-0.33\",\"1891\":\"-0.26\",\"1892\":\"-0.31\",\"1893\":\"-0.32\",\"1894\":\"-0.28\",\"1895\":\"-0.23\",\"1896\":\"-0.09\",\"1897\":\"-0.12\",\"1898\":\"-0.26\",\"1899\":\"-0.12\",\"1900\":\"-0.07\",\"1901\":\"-0.14\",\"1902\":\"-0.25\",\"1903\":\"-0.34\",\"1904\":\"-0.42\",\"1905\":\"-0.29\",\"1906\":\"-0.21\",\"1907\":\"-0.37\",\"1908\":\"-0.44\",\"1909\":\"-0.43\",\"1910\":\"-0.38\",\"1911\":\"-0.43\",\"1912\":\"-0.33\",\"1913\":\"-0.32\",\"1914\":\"-0.14\",\"1915\":\"-0.07\",\"1916\":\"-0.29\",\"1917\":\"-0.31\",\"1918\":\"-0.20\",\"1919\":\"-0.19\",\"1920\":\"-0.20\",\"1921\":\"-0.14\",\"1922\":\"-0.22\",\"1923\":\"-0.20\",\"1924\":\"-0.24\",\"1925\":\"-0.14\",\"1926\":\"-0.05\",\"1927\":\"-0.14\",\"1928\":\"-0.16\",\"1929\":\"-0.29\",\"1930\":\"-0.09\",\"1931\":\"-0.07\",\"1932\":\"-0.11\",\"1933\":\"-0.24\",\"1934\":\"-0.10\",\"1935\":\"-0.13\",\"1936\":\"-0.11\",\"1937\":\"-0.01\",\"1938\":\"-0.03\",\"1939\":\"-0.01\",\"1940\":\"0.10\",\"1941\":\"0.19\",\"1942\":\"0.15\",\"1943\":\"0.15\",\"1944\":\"0.29\",\"1945\":\"0.17\",\"1946\":\"-0.01\",\"1947\":\"-0.05\",\"1948\":\"-0.06\",\"1949\":\"-0.06\",\"1950\":\"-0.17\",\"1951\":\"-0.02\",\"1952\":\"0.02\",\"1953\":\"0.09\",\"1954\":\"-0.12\",\"1955\":\"-0.14\",\"1956\":\"-0.20\",\"1957\":\"0.04\",\"1958\":\"0.11\",\"1959\":\"0.06\",\"1960\":\"0.02\",\"1961\":\"0.08\",\"1962\":\"0.09\",\"1963\":\"0.10\",\"1964\":\"-0.15\",\"1965\":\"-0.08\",\"1966\":\"-0.03\",\"1967\":\"-0.02\",\"1968\":\"-0.03\",\"1969\":\"0.09\",\"1970\":\"0.04\",\"1971\":\"-0.08\",\"1972\":\"0.03\",\"1973\":\"0.16\",\"1974\":\"-0.07\",\"1975\":\"0.00\",\"1976\":\"-0.08\",\"1977\":\"0.20\",\"1978\":\"0.11\",\"1979\":\"0.23\",\"1980\":\"0.26\",\"1981\":\"0.30\",\"1982\":\"0.18\",\"1983\":\"0.34\",\"1984\":\"0.15\",\"1985\":\"0.13\",\"1986\":\"0.23\",\"1987\":\"0.37\",\"1988\":\"0.37\",\"1989\":\"0.29\",\"1990\":\"0.43\",\"1991\":\"0.40\",\"1992\":\"0.25\",\"1993\":\"0.28\",\"1994\":\"0.34\",\"1995\":\"0.45\",\"1996\":\"0.32\",\"1997\":\"0.51\",\"1998\":\"0.63\",\"1999\":\"0.44\",\"2000\":\"0.42\",\"2001\":\"0.54\",\"2002\":\"0.60\",\"2003\":\"0.61\",\"2004\":\"0.57\",\"2005\":\"0.65\",\"2006\":\"0.61\",\"2007\":\"0.61\",\"2008\":\"0.54\",\"2009\":\"0.63\",\"2010\":\"0.70\",\"2011\":\"0.57\",\"2012\":\"0.62\",\"2013\":\"0.66\",\"2014\":\"0.74\",\"2015\":\"0.90\",\"2016\":\"0.94\"}}'"
      ]
     },
     "execution_count": 11,
     "metadata": {},
     "output_type": "execute_result"
    }
   ],
   "source": [
    "get_request = requests.get(\"https://www.ncdc.noaa.gov/cag/time-series/global/globe/land_ocean/ytd/12/1880-2016.json\")\n",
    "get_request.text"
   ]
  },
  {
   "cell_type": "markdown",
   "metadata": {},
   "source": [
    "According to the data description, each observation is a temperature anomaly in degrees celsius of that year's global temperature against the \"base period\" (the 1901-2000 average). It says the missing value indicator is '-99' so I'll watch for those while I'm cleaning the data later."
   ]
  },
  {
   "cell_type": "code",
   "execution_count": 12,
   "metadata": {},
   "outputs": [
    {
     "data": {
      "text/plain": [
       "dict_keys(['description', 'data'])"
      ]
     },
     "execution_count": 12,
     "metadata": {},
     "output_type": "execute_result"
    }
   ],
   "source": [
    "climate_dict = json.loads(get_request.text)\n",
    "climate_dict.keys()"
   ]
  },
  {
   "cell_type": "code",
   "execution_count": 13,
   "metadata": {},
   "outputs": [
    {
     "data": {
      "text/plain": [
       "1880    -0.12\n",
       "1881    -0.07\n",
       "1882    -0.08\n",
       "1883    -0.15\n",
       "1884    -0.21\n",
       "dtype: object"
      ]
     },
     "execution_count": 13,
     "metadata": {},
     "output_type": "execute_result"
    }
   ],
   "source": [
    "climate_series = pd.Series(climate_dict['data'])\n",
    "climate_series.head()"
   ]
  },
  {
   "cell_type": "markdown",
   "metadata": {},
   "source": [
    "For simplicity's sake, I'll convert this series to a dataframe and give its columns variable names like this:"
   ]
  },
  {
   "cell_type": "code",
   "execution_count": 14,
   "metadata": {
    "scrolled": true
   },
   "outputs": [
    {
     "data": {
      "text/html": [
       "<div>\n",
       "<style scoped>\n",
       "    .dataframe tbody tr th:only-of-type {\n",
       "        vertical-align: middle;\n",
       "    }\n",
       "\n",
       "    .dataframe tbody tr th {\n",
       "        vertical-align: top;\n",
       "    }\n",
       "\n",
       "    .dataframe thead th {\n",
       "        text-align: right;\n",
       "    }\n",
       "</style>\n",
       "<table border=\"1\" class=\"dataframe\">\n",
       "  <thead>\n",
       "    <tr style=\"text-align: right;\">\n",
       "      <th></th>\n",
       "      <th>Year</th>\n",
       "      <th>Temp_Anom</th>\n",
       "    </tr>\n",
       "  </thead>\n",
       "  <tbody>\n",
       "    <tr>\n",
       "      <th>0</th>\n",
       "      <td>1880</td>\n",
       "      <td>-0.12</td>\n",
       "    </tr>\n",
       "    <tr>\n",
       "      <th>1</th>\n",
       "      <td>1881</td>\n",
       "      <td>-0.07</td>\n",
       "    </tr>\n",
       "    <tr>\n",
       "      <th>2</th>\n",
       "      <td>1882</td>\n",
       "      <td>-0.08</td>\n",
       "    </tr>\n",
       "    <tr>\n",
       "      <th>3</th>\n",
       "      <td>1883</td>\n",
       "      <td>-0.15</td>\n",
       "    </tr>\n",
       "    <tr>\n",
       "      <th>4</th>\n",
       "      <td>1884</td>\n",
       "      <td>-0.21</td>\n",
       "    </tr>\n",
       "  </tbody>\n",
       "</table>\n",
       "</div>"
      ],
      "text/plain": [
       "   Year Temp_Anom\n",
       "0  1880     -0.12\n",
       "1  1881     -0.07\n",
       "2  1882     -0.08\n",
       "3  1883     -0.15\n",
       "4  1884     -0.21"
      ]
     },
     "execution_count": 14,
     "metadata": {},
     "output_type": "execute_result"
    }
   ],
   "source": [
    "climate_df = climate_series.reset_index()\n",
    "climate_df.columns = ['Year', 'Temp_Anom']\n",
    "climate_df.head()"
   ]
  },
  {
   "cell_type": "markdown",
   "metadata": {},
   "source": [
    "Now, I'll check for missing data."
   ]
  },
  {
   "cell_type": "code",
   "execution_count": 15,
   "metadata": {
    "scrolled": true
   },
   "outputs": [
    {
     "data": {
      "text/plain": [
       "Year         0\n",
       "Temp_Anom    0\n",
       "dtype: int64"
      ]
     },
     "execution_count": 15,
     "metadata": {},
     "output_type": "execute_result"
    }
   ],
   "source": [
    "climate_df.isna().sum()"
   ]
  },
  {
   "cell_type": "code",
   "execution_count": 16,
   "metadata": {},
   "outputs": [
    {
     "data": {
      "text/html": [
       "<div>\n",
       "<style scoped>\n",
       "    .dataframe tbody tr th:only-of-type {\n",
       "        vertical-align: middle;\n",
       "    }\n",
       "\n",
       "    .dataframe tbody tr th {\n",
       "        vertical-align: top;\n",
       "    }\n",
       "\n",
       "    .dataframe thead th {\n",
       "        text-align: right;\n",
       "    }\n",
       "</style>\n",
       "<table border=\"1\" class=\"dataframe\">\n",
       "  <thead>\n",
       "    <tr style=\"text-align: right;\">\n",
       "      <th></th>\n",
       "      <th>Year</th>\n",
       "      <th>Temp_Anom</th>\n",
       "    </tr>\n",
       "  </thead>\n",
       "  <tbody>\n",
       "    <tr>\n",
       "      <th>count</th>\n",
       "      <td>137</td>\n",
       "      <td>137</td>\n",
       "    </tr>\n",
       "    <tr>\n",
       "      <th>unique</th>\n",
       "      <td>137</td>\n",
       "      <td>78</td>\n",
       "    </tr>\n",
       "    <tr>\n",
       "      <th>top</th>\n",
       "      <td>1886</td>\n",
       "      <td>-0.14</td>\n",
       "    </tr>\n",
       "    <tr>\n",
       "      <th>freq</th>\n",
       "      <td>1</td>\n",
       "      <td>6</td>\n",
       "    </tr>\n",
       "  </tbody>\n",
       "</table>\n",
       "</div>"
      ],
      "text/plain": [
       "        Year Temp_Anom\n",
       "count    137       137\n",
       "unique   137        78\n",
       "top     1886     -0.14\n",
       "freq       1         6"
      ]
     },
     "execution_count": 16,
     "metadata": {},
     "output_type": "execute_result"
    }
   ],
   "source": [
    "climate_df.describe()"
   ]
  },
  {
   "cell_type": "markdown",
   "metadata": {},
   "source": [
    "Fortunately, there are no missing values in this dataset for years or for temperature anomalies; none of the temperature values are equal to '-99'. Temperature data, at least in terms of yearly anomalies, has been collected exhaustively for 137 years. The data were kept in their string formats, so I use the code below to convert them to numeric values:"
   ]
  },
  {
   "cell_type": "code",
   "execution_count": 17,
   "metadata": {},
   "outputs": [
    {
     "data": {
      "text/html": [
       "<div>\n",
       "<style scoped>\n",
       "    .dataframe tbody tr th:only-of-type {\n",
       "        vertical-align: middle;\n",
       "    }\n",
       "\n",
       "    .dataframe tbody tr th {\n",
       "        vertical-align: top;\n",
       "    }\n",
       "\n",
       "    .dataframe thead th {\n",
       "        text-align: right;\n",
       "    }\n",
       "</style>\n",
       "<table border=\"1\" class=\"dataframe\">\n",
       "  <thead>\n",
       "    <tr style=\"text-align: right;\">\n",
       "      <th></th>\n",
       "      <th>Year</th>\n",
       "      <th>Temp_Anom</th>\n",
       "    </tr>\n",
       "  </thead>\n",
       "  <tbody>\n",
       "    <tr>\n",
       "      <th>count</th>\n",
       "      <td>137.000000</td>\n",
       "      <td>137.000000</td>\n",
       "    </tr>\n",
       "    <tr>\n",
       "      <th>mean</th>\n",
       "      <td>1948.000000</td>\n",
       "      <td>0.047591</td>\n",
       "    </tr>\n",
       "    <tr>\n",
       "      <th>std</th>\n",
       "      <td>39.692569</td>\n",
       "      <td>0.312023</td>\n",
       "    </tr>\n",
       "    <tr>\n",
       "      <th>min</th>\n",
       "      <td>1880.000000</td>\n",
       "      <td>-0.440000</td>\n",
       "    </tr>\n",
       "    <tr>\n",
       "      <th>25%</th>\n",
       "      <td>1914.000000</td>\n",
       "      <td>-0.170000</td>\n",
       "    </tr>\n",
       "    <tr>\n",
       "      <th>50%</th>\n",
       "      <td>1948.000000</td>\n",
       "      <td>-0.050000</td>\n",
       "    </tr>\n",
       "    <tr>\n",
       "      <th>75%</th>\n",
       "      <td>1982.000000</td>\n",
       "      <td>0.230000</td>\n",
       "    </tr>\n",
       "    <tr>\n",
       "      <th>max</th>\n",
       "      <td>2016.000000</td>\n",
       "      <td>0.940000</td>\n",
       "    </tr>\n",
       "  </tbody>\n",
       "</table>\n",
       "</div>"
      ],
      "text/plain": [
       "              Year   Temp_Anom\n",
       "count   137.000000  137.000000\n",
       "mean   1948.000000    0.047591\n",
       "std      39.692569    0.312023\n",
       "min    1880.000000   -0.440000\n",
       "25%    1914.000000   -0.170000\n",
       "50%    1948.000000   -0.050000\n",
       "75%    1982.000000    0.230000\n",
       "max    2016.000000    0.940000"
      ]
     },
     "execution_count": 17,
     "metadata": {},
     "output_type": "execute_result"
    }
   ],
   "source": [
    "#Converts Data from \"String\" to Numeric:\n",
    "climate_df['Year'] = pd.to_numeric(climate_df['Year'], errors='coerce')\n",
    "climate_df['Temp_Anom'] = pd.to_numeric(climate_df['Temp_Anom'], errors='coerce')\n",
    "climate_df.describe()"
   ]
  },
  {
   "cell_type": "markdown",
   "metadata": {},
   "source": [
    "Let's see what kinds of graphs we can make with this data. Something interesting to examine may be comparing the average temperature of the pre-\"base period\" period, the \"base period\", and the post-\"base period\" period. "
   ]
  },
  {
   "cell_type": "code",
   "execution_count": 18,
   "metadata": {},
   "outputs": [
    {
     "data": {
      "image/png": "[encoded data removed]",
      "text/plain": [
       "<Figure size 432x288 with 1 Axes>"
      ]
     },
     "metadata": {
      "needs_background": "light"
     },
     "output_type": "display_data"
    }
   ],
   "source": [
    "#Bar Chart of Mean Temperature Anomalies by Period\n",
    "climate_df_prebase = climate_df[climate_df.Year < 1901]\n",
    "climate_df_postbase = climate_df[climate_df.Year > 2000]\n",
    "\n",
    "prebase_mean = (climate_df_prebase.loc[:,\"Temp_Anom\"].mean())\n",
    "postbase_mean = (climate_df_postbase.loc[:,\"Temp_Anom\"].mean())\n",
    "\n",
    "objects = ('Pre-Base Mean', 'Base Mean', 'Post-Base Mean')\n",
    "anomalies = (prebase_mean, 0, postbase_mean)\n",
    "\n",
    "plt.bar(objects, anomalies, align='center', alpha=0.5)\n",
    "plt.xticks(objects)\n",
    "plt.ylabel('Temperature Anomaly')\n",
    "plt.title('Comparison of Mean Anomalies - Pre-Base, Base, and Post-Base Period')\n",
    " \n",
    "plt.show()"
   ]
  },
  {
   "cell_type": "markdown",
   "metadata": {},
   "source": [
    "This bar chart looks peculiar at first, but it shows how the Pre-Base period mean temperature anomalies (1880-1900) and the Post-Base period temperature anomalies (2000-2016) compared to the anomaly in the base period, which was zero. \n",
    "\n",
    "Lastly, I visualize what this data shows about how this factor has changed gradually over time instead of just between broadly categorized periods. See the scatter chart below:"
   ]
  },
  {
   "cell_type": "code",
   "execution_count": 19,
   "metadata": {},
   "outputs": [
    {
     "data": {
      "text/plain": [
       "Text(0.5, 1.0, 'Scatter Plot of Worldwide Temperature Anomalies - 1880 to 2016')"
      ]
     },
     "execution_count": 19,
     "metadata": {},
     "output_type": "execute_result"
    },
    {
     "data": {
      "image/png": "[encoded data removed]",
      "text/plain": [
       "<Figure size 432x288 with 1 Axes>"
      ]
     },
     "metadata": {
      "needs_background": "light"
     },
     "output_type": "display_data"
    }
   ],
   "source": [
    "#Temperature Anomalies Scatterplot\n",
    "climate_scatter = climate_df.plot.scatter('Year', 'Temp_Anom', color='red')\n",
    "plt.xlabel('Year')\n",
    "plt.ylabel('Temperature Anomaly')\n",
    "plt.title('Scatter Plot of Worldwide Temperature Anomalies - 1880 to 2016')"
   ]
  },
  {
   "cell_type": "markdown",
   "metadata": {},
   "source": [
    "While I was again unable to add a \"best fit line\" to this data, there is still a visible upward trend in worldwide temperature anomalies. \n",
    "\n",
    "This is particularly powerful data as it doesn't just show temperature increase, it shows anomalies against a base period that encompasses a long timespan which itself was quite hot. Data like this may be instrumental in refuting claims of regular earthwide \"warming\" and \"cooling\" cycles as an explanators of worldwide rising temperatures."
   ]
  },
  {
   "cell_type": "markdown",
   "metadata": {},
   "source": [
    "## Data Source 3\n",
    "#### Cause of Death Data (CDC)\n",
    "\n",
    "Are some causes of death quantifiably more likely or observable than others? If so, are Americans possibly more (or less) concerned about the wrong causes of death? I'll be bringing in data from the CDC to answer this question. "
   ]
  },
  {
   "cell_type": "code",
   "execution_count": 74,
   "metadata": {},
   "outputs": [
    {
     "data": {
      "text/plain": [
       "dict_keys(['meta', 'data'])"
      ]
     },
     "execution_count": 74,
     "metadata": {},
     "output_type": "execute_result"
    }
   ],
   "source": [
    "get_request = requests.get(\"https://data.cdc.gov/api/views/bi63-dtpu/rows.json?accessType=DOWNLOAD\")\n",
    "death_dict = json.loads(get_request.text)\n",
    "death_dict.keys()"
   ]
  },
  {
   "cell_type": "code",
   "execution_count": 75,
   "metadata": {
    "scrolled": false
   },
   "outputs": [
    {
     "data": {
      "text/html": [
       "<div>\n",
       "<style scoped>\n",
       "    .dataframe tbody tr th:only-of-type {\n",
       "        vertical-align: middle;\n",
       "    }\n",
       "\n",
       "    .dataframe tbody tr th {\n",
       "        vertical-align: top;\n",
       "    }\n",
       "\n",
       "    .dataframe thead th {\n",
       "        text-align: right;\n",
       "    }\n",
       "</style>\n",
       "<table border=\"1\" class=\"dataframe\">\n",
       "  <thead>\n",
       "    <tr style=\"text-align: right;\">\n",
       "      <th></th>\n",
       "      <th>0</th>\n",
       "      <th>1</th>\n",
       "      <th>2</th>\n",
       "      <th>3</th>\n",
       "      <th>4</th>\n",
       "      <th>5</th>\n",
       "      <th>6</th>\n",
       "      <th>7</th>\n",
       "      <th>8</th>\n",
       "      <th>9</th>\n",
       "      <th>10</th>\n",
       "      <th>11</th>\n",
       "      <th>12</th>\n",
       "      <th>13</th>\n",
       "    </tr>\n",
       "  </thead>\n",
       "  <tbody>\n",
       "    <tr>\n",
       "      <th>0</th>\n",
       "      <td>15029</td>\n",
       "      <td>0E3080FB-5EF8-4BEF-834E-54B52DB8DFF3</td>\n",
       "      <td>15029</td>\n",
       "      <td>1534786069</td>\n",
       "      <td>1099577</td>\n",
       "      <td>1534786069</td>\n",
       "      <td>1099577</td>\n",
       "      <td>None</td>\n",
       "      <td>2016</td>\n",
       "      <td>Accidents (unintentional injuries) (V01-X59,Y8...</td>\n",
       "      <td>Unintentional injuries</td>\n",
       "      <td>Alabama</td>\n",
       "      <td>2755</td>\n",
       "      <td>55.5</td>\n",
       "    </tr>\n",
       "    <tr>\n",
       "      <th>1</th>\n",
       "      <td>15030</td>\n",
       "      <td>5A6F1799-07FB-4C97-B6FC-A8BB792C5137</td>\n",
       "      <td>15030</td>\n",
       "      <td>1534786069</td>\n",
       "      <td>1099577</td>\n",
       "      <td>1534786069</td>\n",
       "      <td>1099577</td>\n",
       "      <td>None</td>\n",
       "      <td>2016</td>\n",
       "      <td>Accidents (unintentional injuries) (V01-X59,Y8...</td>\n",
       "      <td>Unintentional injuries</td>\n",
       "      <td>Alaska</td>\n",
       "      <td>439</td>\n",
       "      <td>63.1</td>\n",
       "    </tr>\n",
       "    <tr>\n",
       "      <th>2</th>\n",
       "      <td>15031</td>\n",
       "      <td>50D8F132-BD59-4267-A3F9-7179EF5C2628</td>\n",
       "      <td>15031</td>\n",
       "      <td>1534786069</td>\n",
       "      <td>1099577</td>\n",
       "      <td>1534786069</td>\n",
       "      <td>1099577</td>\n",
       "      <td>None</td>\n",
       "      <td>2016</td>\n",
       "      <td>Accidents (unintentional injuries) (V01-X59,Y8...</td>\n",
       "      <td>Unintentional injuries</td>\n",
       "      <td>Arizona</td>\n",
       "      <td>4010</td>\n",
       "      <td>54.2</td>\n",
       "    </tr>\n",
       "    <tr>\n",
       "      <th>3</th>\n",
       "      <td>15032</td>\n",
       "      <td>ED9700FE-F7EB-4B51-A5ED-3C8B710CA2E8</td>\n",
       "      <td>15032</td>\n",
       "      <td>1534786069</td>\n",
       "      <td>1099577</td>\n",
       "      <td>1534786069</td>\n",
       "      <td>1099577</td>\n",
       "      <td>None</td>\n",
       "      <td>2016</td>\n",
       "      <td>Accidents (unintentional injuries) (V01-X59,Y8...</td>\n",
       "      <td>Unintentional injuries</td>\n",
       "      <td>Arkansas</td>\n",
       "      <td>1604</td>\n",
       "      <td>51.8</td>\n",
       "    </tr>\n",
       "    <tr>\n",
       "      <th>4</th>\n",
       "      <td>15033</td>\n",
       "      <td>E15E9F04-AD1B-4335-ACE3-86C7513FE862</td>\n",
       "      <td>15033</td>\n",
       "      <td>1534786069</td>\n",
       "      <td>1099577</td>\n",
       "      <td>1534786069</td>\n",
       "      <td>1099577</td>\n",
       "      <td>None</td>\n",
       "      <td>2016</td>\n",
       "      <td>Accidents (unintentional injuries) (V01-X59,Y8...</td>\n",
       "      <td>Unintentional injuries</td>\n",
       "      <td>California</td>\n",
       "      <td>13213</td>\n",
       "      <td>32</td>\n",
       "    </tr>\n",
       "  </tbody>\n",
       "</table>\n",
       "</div>"
      ],
      "text/plain": [
       "      0                                     1      2           3        4   \\\n",
       "0  15029  0E3080FB-5EF8-4BEF-834E-54B52DB8DFF3  15029  1534786069  1099577   \n",
       "1  15030  5A6F1799-07FB-4C97-B6FC-A8BB792C5137  15030  1534786069  1099577   \n",
       "2  15031  50D8F132-BD59-4267-A3F9-7179EF5C2628  15031  1534786069  1099577   \n",
       "3  15032  ED9700FE-F7EB-4B51-A5ED-3C8B710CA2E8  15032  1534786069  1099577   \n",
       "4  15033  E15E9F04-AD1B-4335-ACE3-86C7513FE862  15033  1534786069  1099577   \n",
       "\n",
       "           5        6     7     8   \\\n",
       "0  1534786069  1099577  None  2016   \n",
       "1  1534786069  1099577  None  2016   \n",
       "2  1534786069  1099577  None  2016   \n",
       "3  1534786069  1099577  None  2016   \n",
       "4  1534786069  1099577  None  2016   \n",
       "\n",
       "                                                  9                       10  \\\n",
       "0  Accidents (unintentional injuries) (V01-X59,Y8...  Unintentional injuries   \n",
       "1  Accidents (unintentional injuries) (V01-X59,Y8...  Unintentional injuries   \n",
       "2  Accidents (unintentional injuries) (V01-X59,Y8...  Unintentional injuries   \n",
       "3  Accidents (unintentional injuries) (V01-X59,Y8...  Unintentional injuries   \n",
       "4  Accidents (unintentional injuries) (V01-X59,Y8...  Unintentional injuries   \n",
       "\n",
       "           11     12    13  \n",
       "0     Alabama   2755  55.5  \n",
       "1      Alaska    439  63.1  \n",
       "2     Arizona   4010  54.2  \n",
       "3    Arkansas   1604  51.8  \n",
       "4  California  13213    32  "
      ]
     },
     "execution_count": 75,
     "metadata": {},
     "output_type": "execute_result"
    }
   ],
   "source": [
    "death_cause = pd.DataFrame(death_dict['data'])\n",
    "death_cause.head()"
   ]
  },
  {
   "cell_type": "markdown",
   "metadata": {},
   "source": [
    "It looks like the data imported in the correct format, but the columns/variable don't have any names. I have found out what the variable names are by browsing through the JSON text of the dataset on the API website given in the code above.\n",
    "\n",
    "Here, I'll just get rid of the columns I won't use and correctly rename the important ones. "
   ]
  },
  {
   "cell_type": "code",
   "execution_count": 76,
   "metadata": {},
   "outputs": [
    {
     "data": {
      "text/html": [
       "<div>\n",
       "<style scoped>\n",
       "    .dataframe tbody tr th:only-of-type {\n",
       "        vertical-align: middle;\n",
       "    }\n",
       "\n",
       "    .dataframe tbody tr th {\n",
       "        vertical-align: top;\n",
       "    }\n",
       "\n",
       "    .dataframe thead th {\n",
       "        text-align: right;\n",
       "    }\n",
       "</style>\n",
       "<table border=\"1\" class=\"dataframe\">\n",
       "  <thead>\n",
       "    <tr style=\"text-align: right;\">\n",
       "      <th></th>\n",
       "      <th>Year</th>\n",
       "      <th>Death_Case</th>\n",
       "      <th>Death_Type</th>\n",
       "      <th>State</th>\n",
       "      <th>Deaths</th>\n",
       "      <th>Age_Adj_Deathrate</th>\n",
       "    </tr>\n",
       "  </thead>\n",
       "  <tbody>\n",
       "    <tr>\n",
       "      <th>0</th>\n",
       "      <td>2016</td>\n",
       "      <td>Accidents (unintentional injuries) (V01-X59,Y8...</td>\n",
       "      <td>Unintentional injuries</td>\n",
       "      <td>Alabama</td>\n",
       "      <td>2755</td>\n",
       "      <td>55.5</td>\n",
       "    </tr>\n",
       "    <tr>\n",
       "      <th>1</th>\n",
       "      <td>2016</td>\n",
       "      <td>Accidents (unintentional injuries) (V01-X59,Y8...</td>\n",
       "      <td>Unintentional injuries</td>\n",
       "      <td>Alaska</td>\n",
       "      <td>439</td>\n",
       "      <td>63.1</td>\n",
       "    </tr>\n",
       "    <tr>\n",
       "      <th>2</th>\n",
       "      <td>2016</td>\n",
       "      <td>Accidents (unintentional injuries) (V01-X59,Y8...</td>\n",
       "      <td>Unintentional injuries</td>\n",
       "      <td>Arizona</td>\n",
       "      <td>4010</td>\n",
       "      <td>54.2</td>\n",
       "    </tr>\n",
       "    <tr>\n",
       "      <th>3</th>\n",
       "      <td>2016</td>\n",
       "      <td>Accidents (unintentional injuries) (V01-X59,Y8...</td>\n",
       "      <td>Unintentional injuries</td>\n",
       "      <td>Arkansas</td>\n",
       "      <td>1604</td>\n",
       "      <td>51.8</td>\n",
       "    </tr>\n",
       "    <tr>\n",
       "      <th>4</th>\n",
       "      <td>2016</td>\n",
       "      <td>Accidents (unintentional injuries) (V01-X59,Y8...</td>\n",
       "      <td>Unintentional injuries</td>\n",
       "      <td>California</td>\n",
       "      <td>13213</td>\n",
       "      <td>32</td>\n",
       "    </tr>\n",
       "    <tr>\n",
       "      <th>5</th>\n",
       "      <td>2016</td>\n",
       "      <td>Accidents (unintentional injuries) (V01-X59,Y8...</td>\n",
       "      <td>Unintentional injuries</td>\n",
       "      <td>Colorado</td>\n",
       "      <td>2880</td>\n",
       "      <td>51.2</td>\n",
       "    </tr>\n",
       "    <tr>\n",
       "      <th>6</th>\n",
       "      <td>2016</td>\n",
       "      <td>Accidents (unintentional injuries) (V01-X59,Y8...</td>\n",
       "      <td>Unintentional injuries</td>\n",
       "      <td>Connecticut</td>\n",
       "      <td>1978</td>\n",
       "      <td>50.3</td>\n",
       "    </tr>\n",
       "    <tr>\n",
       "      <th>7</th>\n",
       "      <td>2016</td>\n",
       "      <td>Accidents (unintentional injuries) (V01-X59,Y8...</td>\n",
       "      <td>Unintentional injuries</td>\n",
       "      <td>Delaware</td>\n",
       "      <td>516</td>\n",
       "      <td>52.4</td>\n",
       "    </tr>\n",
       "    <tr>\n",
       "      <th>8</th>\n",
       "      <td>2016</td>\n",
       "      <td>Accidents (unintentional injuries) (V01-X59,Y8...</td>\n",
       "      <td>Unintentional injuries</td>\n",
       "      <td>District of Columbia</td>\n",
       "      <td>401</td>\n",
       "      <td>58.3</td>\n",
       "    </tr>\n",
       "    <tr>\n",
       "      <th>9</th>\n",
       "      <td>2016</td>\n",
       "      <td>Accidents (unintentional injuries) (V01-X59,Y8...</td>\n",
       "      <td>Unintentional injuries</td>\n",
       "      <td>Florida</td>\n",
       "      <td>12561</td>\n",
       "      <td>54.9</td>\n",
       "    </tr>\n",
       "    <tr>\n",
       "      <th>10</th>\n",
       "      <td>2016</td>\n",
       "      <td>Accidents (unintentional injuries) (V01-X59,Y8...</td>\n",
       "      <td>Unintentional injuries</td>\n",
       "      <td>Georgia</td>\n",
       "      <td>4701</td>\n",
       "      <td>45.8</td>\n",
       "    </tr>\n",
       "    <tr>\n",
       "      <th>11</th>\n",
       "      <td>2016</td>\n",
       "      <td>Accidents (unintentional injuries) (V01-X59,Y8...</td>\n",
       "      <td>Unintentional injuries</td>\n",
       "      <td>Hawaii</td>\n",
       "      <td>577</td>\n",
       "      <td>35.3</td>\n",
       "    </tr>\n",
       "    <tr>\n",
       "      <th>12</th>\n",
       "      <td>2016</td>\n",
       "      <td>Accidents (unintentional injuries) (V01-X59,Y8...</td>\n",
       "      <td>Unintentional injuries</td>\n",
       "      <td>Idaho</td>\n",
       "      <td>849</td>\n",
       "      <td>49.5</td>\n",
       "    </tr>\n",
       "    <tr>\n",
       "      <th>13</th>\n",
       "      <td>2016</td>\n",
       "      <td>Accidents (unintentional injuries) (V01-X59,Y8...</td>\n",
       "      <td>Unintentional injuries</td>\n",
       "      <td>Illinois</td>\n",
       "      <td>5508</td>\n",
       "      <td>41</td>\n",
       "    </tr>\n",
       "    <tr>\n",
       "      <th>14</th>\n",
       "      <td>2016</td>\n",
       "      <td>Accidents (unintentional injuries) (V01-X59,Y8...</td>\n",
       "      <td>Unintentional injuries</td>\n",
       "      <td>Indiana</td>\n",
       "      <td>3496</td>\n",
       "      <td>51.6</td>\n",
       "    </tr>\n",
       "    <tr>\n",
       "      <th>15</th>\n",
       "      <td>2016</td>\n",
       "      <td>Accidents (unintentional injuries) (V01-X59,Y8...</td>\n",
       "      <td>Unintentional injuries</td>\n",
       "      <td>Iowa</td>\n",
       "      <td>1608</td>\n",
       "      <td>45.8</td>\n",
       "    </tr>\n",
       "    <tr>\n",
       "      <th>16</th>\n",
       "      <td>2016</td>\n",
       "      <td>Accidents (unintentional injuries) (V01-X59,Y8...</td>\n",
       "      <td>Unintentional injuries</td>\n",
       "      <td>Kansas</td>\n",
       "      <td>1444</td>\n",
       "      <td>45.7</td>\n",
       "    </tr>\n",
       "    <tr>\n",
       "      <th>17</th>\n",
       "      <td>2016</td>\n",
       "      <td>Accidents (unintentional injuries) (V01-X59,Y8...</td>\n",
       "      <td>Unintentional injuries</td>\n",
       "      <td>Kentucky</td>\n",
       "      <td>3194</td>\n",
       "      <td>71</td>\n",
       "    </tr>\n",
       "    <tr>\n",
       "      <th>18</th>\n",
       "      <td>2016</td>\n",
       "      <td>Accidents (unintentional injuries) (V01-X59,Y8...</td>\n",
       "      <td>Unintentional injuries</td>\n",
       "      <td>Louisiana</td>\n",
       "      <td>2710</td>\n",
       "      <td>57.4</td>\n",
       "    </tr>\n",
       "    <tr>\n",
       "      <th>19</th>\n",
       "      <td>2016</td>\n",
       "      <td>Accidents (unintentional injuries) (V01-X59,Y8...</td>\n",
       "      <td>Unintentional injuries</td>\n",
       "      <td>Maine</td>\n",
       "      <td>909</td>\n",
       "      <td>62.4</td>\n",
       "    </tr>\n",
       "    <tr>\n",
       "      <th>20</th>\n",
       "      <td>2016</td>\n",
       "      <td>Accidents (unintentional injuries) (V01-X59,Y8...</td>\n",
       "      <td>Unintentional injuries</td>\n",
       "      <td>Maryland</td>\n",
       "      <td>2271</td>\n",
       "      <td>35.7</td>\n",
       "    </tr>\n",
       "    <tr>\n",
       "      <th>21</th>\n",
       "      <td>2016</td>\n",
       "      <td>Accidents (unintentional injuries) (V01-X59,Y8...</td>\n",
       "      <td>Unintentional injuries</td>\n",
       "      <td>Massachusetts</td>\n",
       "      <td>3831</td>\n",
       "      <td>52.8</td>\n",
       "    </tr>\n",
       "    <tr>\n",
       "      <th>22</th>\n",
       "      <td>2016</td>\n",
       "      <td>Accidents (unintentional injuries) (V01-X59,Y8...</td>\n",
       "      <td>Unintentional injuries</td>\n",
       "      <td>Michigan</td>\n",
       "      <td>5313</td>\n",
       "      <td>50.5</td>\n",
       "    </tr>\n",
       "    <tr>\n",
       "      <th>23</th>\n",
       "      <td>2016</td>\n",
       "      <td>Accidents (unintentional injuries) (V01-X59,Y8...</td>\n",
       "      <td>Unintentional injuries</td>\n",
       "      <td>Minnesota</td>\n",
       "      <td>2697</td>\n",
       "      <td>43.8</td>\n",
       "    </tr>\n",
       "    <tr>\n",
       "      <th>24</th>\n",
       "      <td>2016</td>\n",
       "      <td>Accidents (unintentional injuries) (V01-X59,Y8...</td>\n",
       "      <td>Unintentional injuries</td>\n",
       "      <td>Mississippi</td>\n",
       "      <td>1803</td>\n",
       "      <td>59.2</td>\n",
       "    </tr>\n",
       "    <tr>\n",
       "      <th>25</th>\n",
       "      <td>2016</td>\n",
       "      <td>Accidents (unintentional injuries) (V01-X59,Y8...</td>\n",
       "      <td>Unintentional injuries</td>\n",
       "      <td>Missouri</td>\n",
       "      <td>3625</td>\n",
       "      <td>57</td>\n",
       "    </tr>\n",
       "    <tr>\n",
       "      <th>26</th>\n",
       "      <td>2016</td>\n",
       "      <td>Accidents (unintentional injuries) (V01-X59,Y8...</td>\n",
       "      <td>Unintentional injuries</td>\n",
       "      <td>Montana</td>\n",
       "      <td>626</td>\n",
       "      <td>54.1</td>\n",
       "    </tr>\n",
       "    <tr>\n",
       "      <th>27</th>\n",
       "      <td>2016</td>\n",
       "      <td>Accidents (unintentional injuries) (V01-X59,Y8...</td>\n",
       "      <td>Unintentional injuries</td>\n",
       "      <td>Nebraska</td>\n",
       "      <td>772</td>\n",
       "      <td>37</td>\n",
       "    </tr>\n",
       "    <tr>\n",
       "      <th>28</th>\n",
       "      <td>2016</td>\n",
       "      <td>Accidents (unintentional injuries) (V01-X59,Y8...</td>\n",
       "      <td>Unintentional injuries</td>\n",
       "      <td>Nevada</td>\n",
       "      <td>1395</td>\n",
       "      <td>46</td>\n",
       "    </tr>\n",
       "    <tr>\n",
       "      <th>29</th>\n",
       "      <td>2016</td>\n",
       "      <td>Accidents (unintentional injuries) (V01-X59,Y8...</td>\n",
       "      <td>Unintentional injuries</td>\n",
       "      <td>New Hampshire</td>\n",
       "      <td>924</td>\n",
       "      <td>66.6</td>\n",
       "    </tr>\n",
       "    <tr>\n",
       "      <th>30</th>\n",
       "      <td>2016</td>\n",
       "      <td>Accidents (unintentional injuries) (V01-X59,Y8...</td>\n",
       "      <td>Unintentional injuries</td>\n",
       "      <td>New Jersey</td>\n",
       "      <td>3839</td>\n",
       "      <td>40.8</td>\n",
       "    </tr>\n",
       "    <tr>\n",
       "      <th>31</th>\n",
       "      <td>2016</td>\n",
       "      <td>Accidents (unintentional injuries) (V01-X59,Y8...</td>\n",
       "      <td>Unintentional injuries</td>\n",
       "      <td>New Mexico</td>\n",
       "      <td>1487</td>\n",
       "      <td>69.5</td>\n",
       "    </tr>\n",
       "    <tr>\n",
       "      <th>32</th>\n",
       "      <td>2016</td>\n",
       "      <td>Accidents (unintentional injuries) (V01-X59,Y8...</td>\n",
       "      <td>Unintentional injuries</td>\n",
       "      <td>New York</td>\n",
       "      <td>7354</td>\n",
       "      <td>34.2</td>\n",
       "    </tr>\n",
       "    <tr>\n",
       "      <th>33</th>\n",
       "      <td>2016</td>\n",
       "      <td>Accidents (unintentional injuries) (V01-X59,Y8...</td>\n",
       "      <td>Unintentional injuries</td>\n",
       "      <td>North Carolina</td>\n",
       "      <td>5476</td>\n",
       "      <td>52.2</td>\n",
       "    </tr>\n",
       "    <tr>\n",
       "      <th>34</th>\n",
       "      <td>2016</td>\n",
       "      <td>Accidents (unintentional injuries) (V01-X59,Y8...</td>\n",
       "      <td>Unintentional injuries</td>\n",
       "      <td>North Dakota</td>\n",
       "      <td>371</td>\n",
       "      <td>45.4</td>\n",
       "    </tr>\n",
       "    <tr>\n",
       "      <th>35</th>\n",
       "      <td>2016</td>\n",
       "      <td>Accidents (unintentional injuries) (V01-X59,Y8...</td>\n",
       "      <td>Unintentional injuries</td>\n",
       "      <td>Ohio</td>\n",
       "      <td>7999</td>\n",
       "      <td>66.6</td>\n",
       "    </tr>\n",
       "    <tr>\n",
       "      <th>36</th>\n",
       "      <td>2006</td>\n",
       "      <td>All Causes</td>\n",
       "      <td>All causes</td>\n",
       "      <td>Alaska</td>\n",
       "      <td>3354</td>\n",
       "      <td>787.6</td>\n",
       "    </tr>\n",
       "    <tr>\n",
       "      <th>37</th>\n",
       "      <td>2016</td>\n",
       "      <td>Accidents (unintentional injuries) (V01-X59,Y8...</td>\n",
       "      <td>Unintentional injuries</td>\n",
       "      <td>Oklahoma</td>\n",
       "      <td>2592</td>\n",
       "      <td>64.1</td>\n",
       "    </tr>\n",
       "    <tr>\n",
       "      <th>38</th>\n",
       "      <td>2016</td>\n",
       "      <td>Accidents (unintentional injuries) (V01-X59,Y8...</td>\n",
       "      <td>Unintentional injuries</td>\n",
       "      <td>Oregon</td>\n",
       "      <td>2105</td>\n",
       "      <td>46</td>\n",
       "    </tr>\n",
       "    <tr>\n",
       "      <th>39</th>\n",
       "      <td>2016</td>\n",
       "      <td>Accidents (unintentional injuries) (V01-X59,Y8...</td>\n",
       "      <td>Unintentional injuries</td>\n",
       "      <td>Pennsylvania</td>\n",
       "      <td>8410</td>\n",
       "      <td>61.8</td>\n",
       "    </tr>\n",
       "    <tr>\n",
       "      <th>40</th>\n",
       "      <td>2016</td>\n",
       "      <td>Accidents (unintentional injuries) (V01-X59,Y8...</td>\n",
       "      <td>Unintentional injuries</td>\n",
       "      <td>Rhode Island</td>\n",
       "      <td>675</td>\n",
       "      <td>56.6</td>\n",
       "    </tr>\n",
       "    <tr>\n",
       "      <th>41</th>\n",
       "      <td>2016</td>\n",
       "      <td>Accidents (unintentional injuries) (V01-X59,Y8...</td>\n",
       "      <td>Unintentional injuries</td>\n",
       "      <td>South Carolina</td>\n",
       "      <td>3012</td>\n",
       "      <td>58.9</td>\n",
       "    </tr>\n",
       "    <tr>\n",
       "      <th>42</th>\n",
       "      <td>2016</td>\n",
       "      <td>Accidents (unintentional injuries) (V01-X59,Y8...</td>\n",
       "      <td>Unintentional injuries</td>\n",
       "      <td>South Dakota</td>\n",
       "      <td>505</td>\n",
       "      <td>53.4</td>\n",
       "    </tr>\n",
       "    <tr>\n",
       "      <th>43</th>\n",
       "      <td>2016</td>\n",
       "      <td>Accidents (unintentional injuries) (V01-X59,Y8...</td>\n",
       "      <td>Unintentional injuries</td>\n",
       "      <td>Tennessee</td>\n",
       "      <td>4238</td>\n",
       "      <td>61.1</td>\n",
       "    </tr>\n",
       "    <tr>\n",
       "      <th>44</th>\n",
       "      <td>2016</td>\n",
       "      <td>Accidents (unintentional injuries) (V01-X59,Y8...</td>\n",
       "      <td>Unintentional injuries</td>\n",
       "      <td>Texas</td>\n",
       "      <td>10536</td>\n",
       "      <td>38.6</td>\n",
       "    </tr>\n",
       "    <tr>\n",
       "      <th>45</th>\n",
       "      <td>2016</td>\n",
       "      <td>Accidents (unintentional injuries) (V01-X59,Y8...</td>\n",
       "      <td>Unintentional injuries</td>\n",
       "      <td>Utah</td>\n",
       "      <td>1211</td>\n",
       "      <td>43.8</td>\n",
       "    </tr>\n",
       "    <tr>\n",
       "      <th>46</th>\n",
       "      <td>2016</td>\n",
       "      <td>Accidents (unintentional injuries) (V01-X59,Y8...</td>\n",
       "      <td>Unintentional injuries</td>\n",
       "      <td>Vermont</td>\n",
       "      <td>372</td>\n",
       "      <td>54.8</td>\n",
       "    </tr>\n",
       "    <tr>\n",
       "      <th>47</th>\n",
       "      <td>2016</td>\n",
       "      <td>Accidents (unintentional injuries) (V01-X59,Y8...</td>\n",
       "      <td>Unintentional injuries</td>\n",
       "      <td>Virginia</td>\n",
       "      <td>3710</td>\n",
       "      <td>42.4</td>\n",
       "    </tr>\n",
       "    <tr>\n",
       "      <th>48</th>\n",
       "      <td>2016</td>\n",
       "      <td>Accidents (unintentional injuries) (V01-X59,Y8...</td>\n",
       "      <td>Unintentional injuries</td>\n",
       "      <td>Washington</td>\n",
       "      <td>3221</td>\n",
       "      <td>41.4</td>\n",
       "    </tr>\n",
       "    <tr>\n",
       "      <th>49</th>\n",
       "      <td>2016</td>\n",
       "      <td>Accidents (unintentional injuries) (V01-X59,Y8...</td>\n",
       "      <td>Unintentional injuries</td>\n",
       "      <td>West Virginia</td>\n",
       "      <td>1705</td>\n",
       "      <td>89.7</td>\n",
       "    </tr>\n",
       "  </tbody>\n",
       "</table>\n",
       "</div>"
      ],
      "text/plain": [
       "    Year                                         Death_Case  \\\n",
       "0   2016  Accidents (unintentional injuries) (V01-X59,Y8...   \n",
       "1   2016  Accidents (unintentional injuries) (V01-X59,Y8...   \n",
       "2   2016  Accidents (unintentional injuries) (V01-X59,Y8...   \n",
       "3   2016  Accidents (unintentional injuries) (V01-X59,Y8...   \n",
       "4   2016  Accidents (unintentional injuries) (V01-X59,Y8...   \n",
       "5   2016  Accidents (unintentional injuries) (V01-X59,Y8...   \n",
       "6   2016  Accidents (unintentional injuries) (V01-X59,Y8...   \n",
       "7   2016  Accidents (unintentional injuries) (V01-X59,Y8...   \n",
       "8   2016  Accidents (unintentional injuries) (V01-X59,Y8...   \n",
       "9   2016  Accidents (unintentional injuries) (V01-X59,Y8...   \n",
       "10  2016  Accidents (unintentional injuries) (V01-X59,Y8...   \n",
       "11  2016  Accidents (unintentional injuries) (V01-X59,Y8...   \n",
       "12  2016  Accidents (unintentional injuries) (V01-X59,Y8...   \n",
       "13  2016  Accidents (unintentional injuries) (V01-X59,Y8...   \n",
       "14  2016  Accidents (unintentional injuries) (V01-X59,Y8...   \n",
       "15  2016  Accidents (unintentional injuries) (V01-X59,Y8...   \n",
       "16  2016  Accidents (unintentional injuries) (V01-X59,Y8...   \n",
       "17  2016  Accidents (unintentional injuries) (V01-X59,Y8...   \n",
       "18  2016  Accidents (unintentional injuries) (V01-X59,Y8...   \n",
       "19  2016  Accidents (unintentional injuries) (V01-X59,Y8...   \n",
       "20  2016  Accidents (unintentional injuries) (V01-X59,Y8...   \n",
       "21  2016  Accidents (unintentional injuries) (V01-X59,Y8...   \n",
       "22  2016  Accidents (unintentional injuries) (V01-X59,Y8...   \n",
       "23  2016  Accidents (unintentional injuries) (V01-X59,Y8...   \n",
       "24  2016  Accidents (unintentional injuries) (V01-X59,Y8...   \n",
       "25  2016  Accidents (unintentional injuries) (V01-X59,Y8...   \n",
       "26  2016  Accidents (unintentional injuries) (V01-X59,Y8...   \n",
       "27  2016  Accidents (unintentional injuries) (V01-X59,Y8...   \n",
       "28  2016  Accidents (unintentional injuries) (V01-X59,Y8...   \n",
       "29  2016  Accidents (unintentional injuries) (V01-X59,Y8...   \n",
       "30  2016  Accidents (unintentional injuries) (V01-X59,Y8...   \n",
       "31  2016  Accidents (unintentional injuries) (V01-X59,Y8...   \n",
       "32  2016  Accidents (unintentional injuries) (V01-X59,Y8...   \n",
       "33  2016  Accidents (unintentional injuries) (V01-X59,Y8...   \n",
       "34  2016  Accidents (unintentional injuries) (V01-X59,Y8...   \n",
       "35  2016  Accidents (unintentional injuries) (V01-X59,Y8...   \n",
       "36  2006                                         All Causes   \n",
       "37  2016  Accidents (unintentional injuries) (V01-X59,Y8...   \n",
       "38  2016  Accidents (unintentional injuries) (V01-X59,Y8...   \n",
       "39  2016  Accidents (unintentional injuries) (V01-X59,Y8...   \n",
       "40  2016  Accidents (unintentional injuries) (V01-X59,Y8...   \n",
       "41  2016  Accidents (unintentional injuries) (V01-X59,Y8...   \n",
       "42  2016  Accidents (unintentional injuries) (V01-X59,Y8...   \n",
       "43  2016  Accidents (unintentional injuries) (V01-X59,Y8...   \n",
       "44  2016  Accidents (unintentional injuries) (V01-X59,Y8...   \n",
       "45  2016  Accidents (unintentional injuries) (V01-X59,Y8...   \n",
       "46  2016  Accidents (unintentional injuries) (V01-X59,Y8...   \n",
       "47  2016  Accidents (unintentional injuries) (V01-X59,Y8...   \n",
       "48  2016  Accidents (unintentional injuries) (V01-X59,Y8...   \n",
       "49  2016  Accidents (unintentional injuries) (V01-X59,Y8...   \n",
       "\n",
       "                Death_Type                 State Deaths Age_Adj_Deathrate  \n",
       "0   Unintentional injuries               Alabama   2755              55.5  \n",
       "1   Unintentional injuries                Alaska    439              63.1  \n",
       "2   Unintentional injuries               Arizona   4010              54.2  \n",
       "3   Unintentional injuries              Arkansas   1604              51.8  \n",
       "4   Unintentional injuries            California  13213                32  \n",
       "5   Unintentional injuries              Colorado   2880              51.2  \n",
       "6   Unintentional injuries           Connecticut   1978              50.3  \n",
       "7   Unintentional injuries              Delaware    516              52.4  \n",
       "8   Unintentional injuries  District of Columbia    401              58.3  \n",
       "9   Unintentional injuries               Florida  12561              54.9  \n",
       "10  Unintentional injuries               Georgia   4701              45.8  \n",
       "11  Unintentional injuries                Hawaii    577              35.3  \n",
       "12  Unintentional injuries                 Idaho    849              49.5  \n",
       "13  Unintentional injuries              Illinois   5508                41  \n",
       "14  Unintentional injuries               Indiana   3496              51.6  \n",
       "15  Unintentional injuries                  Iowa   1608              45.8  \n",
       "16  Unintentional injuries                Kansas   1444              45.7  \n",
       "17  Unintentional injuries              Kentucky   3194                71  \n",
       "18  Unintentional injuries             Louisiana   2710              57.4  \n",
       "19  Unintentional injuries                 Maine    909              62.4  \n",
       "20  Unintentional injuries              Maryland   2271              35.7  \n",
       "21  Unintentional injuries         Massachusetts   3831              52.8  \n",
       "22  Unintentional injuries              Michigan   5313              50.5  \n",
       "23  Unintentional injuries             Minnesota   2697              43.8  \n",
       "24  Unintentional injuries           Mississippi   1803              59.2  \n",
       "25  Unintentional injuries              Missouri   3625                57  \n",
       "26  Unintentional injuries               Montana    626              54.1  \n",
       "27  Unintentional injuries              Nebraska    772                37  \n",
       "28  Unintentional injuries                Nevada   1395                46  \n",
       "29  Unintentional injuries         New Hampshire    924              66.6  \n",
       "30  Unintentional injuries            New Jersey   3839              40.8  \n",
       "31  Unintentional injuries            New Mexico   1487              69.5  \n",
       "32  Unintentional injuries              New York   7354              34.2  \n",
       "33  Unintentional injuries        North Carolina   5476              52.2  \n",
       "34  Unintentional injuries          North Dakota    371              45.4  \n",
       "35  Unintentional injuries                  Ohio   7999              66.6  \n",
       "36              All causes                Alaska   3354             787.6  \n",
       "37  Unintentional injuries              Oklahoma   2592              64.1  \n",
       "38  Unintentional injuries                Oregon   2105                46  \n",
       "39  Unintentional injuries          Pennsylvania   8410              61.8  \n",
       "40  Unintentional injuries          Rhode Island    675              56.6  \n",
       "41  Unintentional injuries        South Carolina   3012              58.9  \n",
       "42  Unintentional injuries          South Dakota    505              53.4  \n",
       "43  Unintentional injuries             Tennessee   4238              61.1  \n",
       "44  Unintentional injuries                 Texas  10536              38.6  \n",
       "45  Unintentional injuries                  Utah   1211              43.8  \n",
       "46  Unintentional injuries               Vermont    372              54.8  \n",
       "47  Unintentional injuries              Virginia   3710              42.4  \n",
       "48  Unintentional injuries            Washington   3221              41.4  \n",
       "49  Unintentional injuries         West Virginia   1705              89.7  "
      ]
     },
     "execution_count": 76,
     "metadata": {},
     "output_type": "execute_result"
    }
   ],
   "source": [
    "#Preserve last 5 columns and rename them\n",
    "death_cause = death_cause.iloc[:,8:]\n",
    "death_cause = death_cause.rename(index=str, columns={8: \"Year\", 9: \"Death_Case\", 10: \"Death_Type\", 11: \"State\", 12: \"Deaths\", 13: \"Age_Adj_Deathrate\"})\n",
    "death_cause.head(50)"
   ]
  },
  {
   "cell_type": "markdown",
   "metadata": {},
   "source": [
    "The other variables that were not preserved were ones I took to be uninterpretable, or otherwise unimportant for analysis. The JSON text for this data says that the \"Age-Adjusted Death Rate\" for a death cause are recorded as per 100,000 persons (based on the 2000 US Census). The rates appear to differ from state to state as evidenced in the heading of the data shown above. Even Death Case can probably be thought of as a subset of Death Type, but I'll explore that more in a moment. \n",
    "\n",
    "Before I do anything else, I'll check for missing values using the code below:"
   ]
  },
  {
   "cell_type": "code",
   "execution_count": 77,
   "metadata": {},
   "outputs": [
    {
     "data": {
      "text/plain": [
       "Year                 0\n",
       "Death_Case           0\n",
       "Death_Type           0\n",
       "State                0\n",
       "Deaths               0\n",
       "Age_Adj_Deathrate    0\n",
       "dtype: int64"
      ]
     },
     "execution_count": 77,
     "metadata": {},
     "output_type": "execute_result"
    }
   ],
   "source": [
    "#Check for any null values\n",
    "death_cause.isna().sum()"
   ]
  },
  {
   "cell_type": "markdown",
   "metadata": {},
   "source": [
    "What a joy: there are no missing values.\n",
    "\n",
    "Let's do a few simple visualizations of this dataset. I'll bet this data can show us broad patterns about how the number of deaths for certain causes has changed over time. Before I do this, I'll explore the data just a bit."
   ]
  },
  {
   "cell_type": "code",
   "execution_count": 78,
   "metadata": {},
   "outputs": [
    {
     "data": {
      "text/html": [
       "<div>\n",
       "<style scoped>\n",
       "    .dataframe tbody tr th:only-of-type {\n",
       "        vertical-align: middle;\n",
       "    }\n",
       "\n",
       "    .dataframe tbody tr th {\n",
       "        vertical-align: top;\n",
       "    }\n",
       "\n",
       "    .dataframe thead th {\n",
       "        text-align: right;\n",
       "    }\n",
       "</style>\n",
       "<table border=\"1\" class=\"dataframe\">\n",
       "  <thead>\n",
       "    <tr style=\"text-align: right;\">\n",
       "      <th></th>\n",
       "      <th>Year</th>\n",
       "      <th>Death_Case</th>\n",
       "      <th>Death_Type</th>\n",
       "      <th>State</th>\n",
       "      <th>Deaths</th>\n",
       "      <th>Age_Adj_Deathrate</th>\n",
       "    </tr>\n",
       "  </thead>\n",
       "  <tbody>\n",
       "    <tr>\n",
       "      <th>count</th>\n",
       "      <td>10296</td>\n",
       "      <td>10296</td>\n",
       "      <td>10296</td>\n",
       "      <td>10296</td>\n",
       "      <td>10296</td>\n",
       "      <td>10296</td>\n",
       "    </tr>\n",
       "    <tr>\n",
       "      <th>unique</th>\n",
       "      <td>18</td>\n",
       "      <td>11</td>\n",
       "      <td>11</td>\n",
       "      <td>52</td>\n",
       "      <td>5741</td>\n",
       "      <td>2457</td>\n",
       "    </tr>\n",
       "    <tr>\n",
       "      <th>top</th>\n",
       "      <td>2010</td>\n",
       "      <td>Nephritis, nephrotic syndrome and nephrosis (N...</td>\n",
       "      <td>CLRD</td>\n",
       "      <td>Hawaii</td>\n",
       "      <td>343</td>\n",
       "      <td>19.2</td>\n",
       "    </tr>\n",
       "    <tr>\n",
       "      <th>freq</th>\n",
       "      <td>572</td>\n",
       "      <td>936</td>\n",
       "      <td>936</td>\n",
       "      <td>198</td>\n",
       "      <td>15</td>\n",
       "      <td>37</td>\n",
       "    </tr>\n",
       "  </tbody>\n",
       "</table>\n",
       "</div>"
      ],
      "text/plain": [
       "         Year                                         Death_Case Death_Type  \\\n",
       "count   10296                                              10296      10296   \n",
       "unique     18                                                 11         11   \n",
       "top      2010  Nephritis, nephrotic syndrome and nephrosis (N...       CLRD   \n",
       "freq      572                                                936        936   \n",
       "\n",
       "         State Deaths Age_Adj_Deathrate  \n",
       "count    10296  10296             10296  \n",
       "unique      52   5741              2457  \n",
       "top     Hawaii    343              19.2  \n",
       "freq       198     15                37  "
      ]
     },
     "execution_count": 78,
     "metadata": {},
     "output_type": "execute_result"
    }
   ],
   "source": [
    "death_cause.describe()"
   ]
  },
  {
   "cell_type": "markdown",
   "metadata": {},
   "source": [
    "It appears that all the data was imported in string format, even the numerical data. I convert it to numeric values using the code shown below:"
   ]
  },
  {
   "cell_type": "code",
   "execution_count": 79,
   "metadata": {},
   "outputs": [
    {
     "data": {
      "text/html": [
       "<div>\n",
       "<style scoped>\n",
       "    .dataframe tbody tr th:only-of-type {\n",
       "        vertical-align: middle;\n",
       "    }\n",
       "\n",
       "    .dataframe tbody tr th {\n",
       "        vertical-align: top;\n",
       "    }\n",
       "\n",
       "    .dataframe thead th {\n",
       "        text-align: right;\n",
       "    }\n",
       "</style>\n",
       "<table border=\"1\" class=\"dataframe\">\n",
       "  <thead>\n",
       "    <tr style=\"text-align: right;\">\n",
       "      <th></th>\n",
       "      <th>Year</th>\n",
       "      <th>Deaths</th>\n",
       "      <th>Age_Adj_Deathrate</th>\n",
       "    </tr>\n",
       "  </thead>\n",
       "  <tbody>\n",
       "    <tr>\n",
       "      <th>count</th>\n",
       "      <td>10296.000000</td>\n",
       "      <td>1.029600e+04</td>\n",
       "      <td>10296.000000</td>\n",
       "    </tr>\n",
       "    <tr>\n",
       "      <th>mean</th>\n",
       "      <td>2007.500000</td>\n",
       "      <td>1.532668e+04</td>\n",
       "      <td>128.026428</td>\n",
       "    </tr>\n",
       "    <tr>\n",
       "      <th>std</th>\n",
       "      <td>5.188379</td>\n",
       "      <td>1.112160e+05</td>\n",
       "      <td>224.355281</td>\n",
       "    </tr>\n",
       "    <tr>\n",
       "      <th>min</th>\n",
       "      <td>1999.000000</td>\n",
       "      <td>2.100000e+01</td>\n",
       "      <td>2.600000</td>\n",
       "    </tr>\n",
       "    <tr>\n",
       "      <th>25%</th>\n",
       "      <td>2003.000000</td>\n",
       "      <td>6.060000e+02</td>\n",
       "      <td>19.200000</td>\n",
       "    </tr>\n",
       "    <tr>\n",
       "      <th>50%</th>\n",
       "      <td>2007.500000</td>\n",
       "      <td>1.704500e+03</td>\n",
       "      <td>35.800000</td>\n",
       "    </tr>\n",
       "    <tr>\n",
       "      <th>75%</th>\n",
       "      <td>2012.000000</td>\n",
       "      <td>5.678000e+03</td>\n",
       "      <td>153.025000</td>\n",
       "    </tr>\n",
       "    <tr>\n",
       "      <th>max</th>\n",
       "      <td>2016.000000</td>\n",
       "      <td>2.712630e+06</td>\n",
       "      <td>1087.300000</td>\n",
       "    </tr>\n",
       "  </tbody>\n",
       "</table>\n",
       "</div>"
      ],
      "text/plain": [
       "               Year        Deaths  Age_Adj_Deathrate\n",
       "count  10296.000000  1.029600e+04       10296.000000\n",
       "mean    2007.500000  1.532668e+04         128.026428\n",
       "std        5.188379  1.112160e+05         224.355281\n",
       "min     1999.000000  2.100000e+01           2.600000\n",
       "25%     2003.000000  6.060000e+02          19.200000\n",
       "50%     2007.500000  1.704500e+03          35.800000\n",
       "75%     2012.000000  5.678000e+03         153.025000\n",
       "max     2016.000000  2.712630e+06        1087.300000"
      ]
     },
     "execution_count": 79,
     "metadata": {},
     "output_type": "execute_result"
    }
   ],
   "source": [
    "#Converts Death Cause Data to Floats:\n",
    "death_cause['Year'] = pd.to_numeric(death_cause['Year'], errors='coerce')\n",
    "death_cause['Deaths'] = pd.to_numeric(death_cause['Deaths'], errors='coerce')\n",
    "death_cause['Age_Adj_Deathrate'] = pd.to_numeric(death_cause['Age_Adj_Deathrate'], errors='coerce')\n",
    "death_cause.describe()"
   ]
  },
  {
   "cell_type": "markdown",
   "metadata": {},
   "source": [
    "Looks like data on death causes has been recorded since the year 1999. I wonder if the same amount of data has been collected from year to year. I'll check using the code below."
   ]
  },
  {
   "cell_type": "code",
   "execution_count": 80,
   "metadata": {},
   "outputs": [
    {
     "data": {
      "text/plain": [
       "Counter({2016: 572,\n",
       "         2006: 572,\n",
       "         2015: 572,\n",
       "         2014: 572,\n",
       "         2013: 572,\n",
       "         2012: 572,\n",
       "         2011: 572,\n",
       "         2010: 572,\n",
       "         2009: 572,\n",
       "         2008: 572,\n",
       "         2007: 572,\n",
       "         2005: 572,\n",
       "         2004: 572,\n",
       "         2003: 572,\n",
       "         2002: 572,\n",
       "         2001: 572,\n",
       "         2000: 572,\n",
       "         1999: 572})"
      ]
     },
     "execution_count": 80,
     "metadata": {},
     "output_type": "execute_result"
    }
   ],
   "source": [
    "Counter(death_cause['Year'])"
   ]
  },
  {
   "cell_type": "markdown",
   "metadata": {},
   "source": [
    "It is probably the case that the data collection began with a more or less exhaustive list of death types that were analyzed from year to year. I'll examine this with the same function, this time exploring Death Types:"
   ]
  },
  {
   "cell_type": "code",
   "execution_count": 81,
   "metadata": {},
   "outputs": [
    {
     "data": {
      "text/plain": [
       "Counter({'Unintentional injuries': 936,\n",
       "         'All causes': 936,\n",
       "         \"Alzheimer's disease\": 936,\n",
       "         'Cancer': 936,\n",
       "         'CLRD': 936,\n",
       "         'Diabetes': 936,\n",
       "         'Heart disease': 936,\n",
       "         'Influenza and pneumonia': 936,\n",
       "         'Kidney disease': 936,\n",
       "         'Stroke': 936,\n",
       "         'Suicide': 936})"
      ]
     },
     "execution_count": 81,
     "metadata": {},
     "output_type": "execute_result"
    }
   ],
   "source": [
    "Counter(death_cause['Death_Type'])"
   ]
  },
  {
   "cell_type": "markdown",
   "metadata": {},
   "source": [
    "It looks like we have a lot of death causes that we could analyze here. I'll now just make sure that all the data looks good when it's organized by State using the code below:"
   ]
  },
  {
   "cell_type": "code",
   "execution_count": 82,
   "metadata": {},
   "outputs": [
    {
     "data": {
      "text/plain": [
       "Counter({'Alabama': 198,\n",
       "         'Alaska': 198,\n",
       "         'Arizona': 198,\n",
       "         'Arkansas': 198,\n",
       "         'California': 198,\n",
       "         'Colorado': 198,\n",
       "         'Connecticut': 198,\n",
       "         'Delaware': 198,\n",
       "         'District of Columbia': 198,\n",
       "         'Florida': 198,\n",
       "         'Georgia': 198,\n",
       "         'Hawaii': 198,\n",
       "         'Idaho': 198,\n",
       "         'Illinois': 198,\n",
       "         'Indiana': 198,\n",
       "         'Iowa': 198,\n",
       "         'Kansas': 198,\n",
       "         'Kentucky': 198,\n",
       "         'Louisiana': 198,\n",
       "         'Maine': 198,\n",
       "         'Maryland': 198,\n",
       "         'Massachusetts': 198,\n",
       "         'Michigan': 198,\n",
       "         'Minnesota': 198,\n",
       "         'Mississippi': 198,\n",
       "         'Missouri': 198,\n",
       "         'Montana': 198,\n",
       "         'Nebraska': 198,\n",
       "         'Nevada': 198,\n",
       "         'New Hampshire': 198,\n",
       "         'New Jersey': 198,\n",
       "         'New Mexico': 198,\n",
       "         'New York': 198,\n",
       "         'North Carolina': 198,\n",
       "         'North Dakota': 198,\n",
       "         'Ohio': 198,\n",
       "         'Oklahoma': 198,\n",
       "         'Oregon': 198,\n",
       "         'Pennsylvania': 198,\n",
       "         'Rhode Island': 198,\n",
       "         'South Carolina': 198,\n",
       "         'South Dakota': 198,\n",
       "         'Tennessee': 198,\n",
       "         'Texas': 198,\n",
       "         'Utah': 198,\n",
       "         'Vermont': 198,\n",
       "         'Virginia': 198,\n",
       "         'Washington': 198,\n",
       "         'West Virginia': 198,\n",
       "         'Wisconsin': 198,\n",
       "         'Wyoming': 198,\n",
       "         'United States': 198})"
      ]
     },
     "execution_count": 82,
     "metadata": {},
     "output_type": "execute_result"
    }
   ],
   "source": [
    "#Check State Values\n",
    "Counter(death_cause['State'])"
   ]
  },
  {
   "cell_type": "markdown",
   "metadata": {},
   "source": [
    "It looks like the data is categorized by state, but it also contains total deaths throughout the country with the last value in this column: United States. I'd like to analyze total deaths first before we continue to compare causes across states.\n",
    "\n",
    "Below, I make a function for showing basic visualizations of specified death causes:"
   ]
  },
  {
   "cell_type": "code",
   "execution_count": 83,
   "metadata": {},
   "outputs": [],
   "source": [
    "#Function for Line Graph of Num. Deaths by Cause\n",
    "def num_cause_byline(sp_cause):\n",
    "    deathcause_sp = death_cause[death_cause.Death_Type == sp_cause]\n",
    "    deathcause_sp1 = deathcause_sp[deathcause_sp.State == \"United States\"]\n",
    "    print(\"Scatter Plot of Total Deaths by\", sp_cause,\"in the United States from 1999 to 2016\")\n",
    "    deathcause_scatter = deathcause_sp1.plot.line('Year', 'Deaths', color='black')\n",
    "    plt.xlabel('Year')\n",
    "    plt.ylabel('Num. Deaths')"
   ]
  },
  {
   "cell_type": "code",
   "execution_count": 84,
   "metadata": {},
   "outputs": [
    {
     "name": "stdout",
     "output_type": "stream",
     "text": [
      "Scatter Plot of Total Deaths by Unintentional injuries in the United States from 1999 to 2016\n"
     ]
    },
    {
     "data": {
      "image/png": "[encoded data removed]",
      "text/plain": [
       "<Figure size 432x288 with 1 Axes>"
      ]
     },
     "metadata": {
      "needs_background": "light"
     },
     "output_type": "display_data"
    }
   ],
   "source": [
    "num_cause_byline(\"Unintentional injuries\")"
   ]
  },
  {
   "cell_type": "code",
   "execution_count": 85,
   "metadata": {},
   "outputs": [
    {
     "name": "stdout",
     "output_type": "stream",
     "text": [
      "Scatter Plot of Total Deaths by Cancer in the United States from 1999 to 2016\n"
     ]
    },
    {
     "data": {
      "image/png": "[encoded data removed]",
      "text/plain": [
       "<Figure size 432x288 with 1 Axes>"
      ]
     },
     "metadata": {
      "needs_background": "light"
     },
     "output_type": "display_data"
    }
   ],
   "source": [
    "num_cause_byline(\"Cancer\")"
   ]
  },
  {
   "cell_type": "code",
   "execution_count": 86,
   "metadata": {},
   "outputs": [
    {
     "name": "stdout",
     "output_type": "stream",
     "text": [
      "Scatter Plot of Total Deaths by Influenza and pneumonia in the United States from 1999 to 2016\n"
     ]
    },
    {
     "data": {
      "image/png": "[encoded data removed]",
      "text/plain": [
       "<Figure size 432x288 with 1 Axes>"
      ]
     },
     "metadata": {
      "needs_background": "light"
     },
     "output_type": "display_data"
    }
   ],
   "source": [
    "num_cause_byline(\"Influenza and pneumonia\")"
   ]
  },
  {
   "cell_type": "code",
   "execution_count": 33,
   "metadata": {},
   "outputs": [
    {
     "name": "stdout",
     "output_type": "stream",
     "text": [
      "Scatter Plot of Total Deaths by Diabetes in the United States from 1999 to 2016\n"
     ]
    },
    {
     "data": {
      "image/png": "[encoded data removed]",
      "text/plain": [
       "<Figure size 432x288 with 1 Axes>"
      ]
     },
     "metadata": {
      "needs_background": "light"
     },
     "output_type": "display_data"
    }
   ],
   "source": [
    "num_cause_byline(\"Diabetes\")"
   ]
  },
  {
   "cell_type": "code",
   "execution_count": 34,
   "metadata": {},
   "outputs": [
    {
     "name": "stdout",
     "output_type": "stream",
     "text": [
      "Scatter Plot of Total Deaths by Suicide in the United States from 1999 to 2016\n"
     ]
    },
    {
     "data": {
      "image/png": "[encoded data removed]",
      "text/plain": [
       "<Figure size 432x288 with 1 Axes>"
      ]
     },
     "metadata": {
      "needs_background": "light"
     },
     "output_type": "display_data"
    }
   ],
   "source": [
    "num_cause_byline(\"Suicide\")"
   ]
  },
  {
   "cell_type": "markdown",
   "metadata": {},
   "source": [
    "These graphs look alarming: Americans are more at risk of Diabetes, Cancer, and unintential injuries than they were in 1999! However, I have defined this function to show gross amount of deaths. Here, I'll make a new one that adjusts for the death rates of certain causes per 100,000 Americans. To distinguish, I'll show these new graphs in a different color."
   ]
  },
  {
   "cell_type": "code",
   "execution_count": 35,
   "metadata": {},
   "outputs": [],
   "source": [
    "#Function for Line Graph of Death Rate by Cause\n",
    "def rate_cause_byline(sp_cause):\n",
    "    deathcause_sp = death_cause[death_cause.Death_Type == sp_cause]\n",
    "    deathcause_sp1 = deathcause_sp[deathcause_sp.State == \"United States\"]\n",
    "    print(\"Scatter Plot of Death Rate of\", sp_cause,\"in the United States from 1999 to 2016\")\n",
    "    deathcause_scatter = deathcause_sp1.plot.line('Year', 'Age_Adj_Deathrate', color='orange')\n",
    "    plt.xlabel('Year')\n",
    "    plt.ylabel('Cause Death Rate')"
   ]
  },
  {
   "cell_type": "code",
   "execution_count": 36,
   "metadata": {},
   "outputs": [
    {
     "name": "stdout",
     "output_type": "stream",
     "text": [
      "Scatter Plot of Death Rate of Unintentional injuries in the United States from 1999 to 2016\n"
     ]
    },
    {
     "data": {
      "image/png": "[encoded data removed]",
      "text/plain": [
       "<Figure size 432x288 with 1 Axes>"
      ]
     },
     "metadata": {
      "needs_background": "light"
     },
     "output_type": "display_data"
    }
   ],
   "source": [
    "rate_cause_byline(\"Unintentional injuries\")"
   ]
  },
  {
   "cell_type": "code",
   "execution_count": 37,
   "metadata": {},
   "outputs": [
    {
     "name": "stdout",
     "output_type": "stream",
     "text": [
      "Scatter Plot of Death Rate of Influenza and pneumonia in the United States from 1999 to 2016\n"
     ]
    },
    {
     "data": {
      "image/png": "[encoded data removed]",
      "text/plain": [
       "<Figure size 432x288 with 1 Axes>"
      ]
     },
     "metadata": {
      "needs_background": "light"
     },
     "output_type": "display_data"
    }
   ],
   "source": [
    "rate_cause_byline(\"Influenza and pneumonia\")"
   ]
  },
  {
   "cell_type": "code",
   "execution_count": 38,
   "metadata": {},
   "outputs": [
    {
     "name": "stdout",
     "output_type": "stream",
     "text": [
      "Scatter Plot of Death Rate of Diabetes in the United States from 1999 to 2016\n"
     ]
    },
    {
     "data": {
      "image/png": "[encoded data removed]",
      "text/plain": [
       "<Figure size 432x288 with 1 Axes>"
      ]
     },
     "metadata": {
      "needs_background": "light"
     },
     "output_type": "display_data"
    }
   ],
   "source": [
    "rate_cause_byline(\"Diabetes\")"
   ]
  },
  {
   "cell_type": "code",
   "execution_count": 39,
   "metadata": {},
   "outputs": [
    {
     "name": "stdout",
     "output_type": "stream",
     "text": [
      "Scatter Plot of Death Rate of Cancer in the United States from 1999 to 2016\n"
     ]
    },
    {
     "data": {
      "image/png": "[encoded data removed]",
      "text/plain": [
       "<Figure size 432x288 with 1 Axes>"
      ]
     },
     "metadata": {
      "needs_background": "light"
     },
     "output_type": "display_data"
    }
   ],
   "source": [
    "rate_cause_byline(\"Cancer\")"
   ]
  },
  {
   "cell_type": "code",
   "execution_count": 40,
   "metadata": {},
   "outputs": [
    {
     "name": "stdout",
     "output_type": "stream",
     "text": [
      "Scatter Plot of Death Rate of Suicide in the United States from 1999 to 2016\n"
     ]
    },
    {
     "data": {
      "image/png": "[encoded data removed]",
      "text/plain": [
       "<Figure size 432x288 with 1 Axes>"
      ]
     },
     "metadata": {
      "needs_background": "light"
     },
     "output_type": "display_data"
    }
   ],
   "source": [
    "rate_cause_byline(\"Suicide\")"
   ]
  },
  {
   "cell_type": "markdown",
   "metadata": {},
   "source": [
    "So in reality, Americans today are statistically *less* at risk of dying by Influenza, Diabetes, or Cancer then they were in 1999 though the nominal number of deaths by these causes has increased. This is intuitive, and naturally refutes the graphs generated by the first function (it turns out deaths increase if more people are alive to be able to die...) \n",
    "\n",
    "Americans today, however, are more likely to die of unintential causes and suicide. These findings could potentially help public health workers and other organizations seeking to curb the most lethal causes of death in the United States.\n",
    "\n",
    "Below is a simple function that returns the adjusted death rates for a type of death for a certain year and a certain state. I'll use this to compare Age-Adjusted Death Rates across certain states in recent years (sorry this is the only way I knew how to do this at this point):"
   ]
  },
  {
   "cell_type": "code",
   "execution_count": 102,
   "metadata": {},
   "outputs": [],
   "source": [
    "#Comparing Age-Adjusted Death Rates across States and Time\n",
    "def selected_array(year, type, state):\n",
    "    deathcause_subs = death_cause[death_cause.Year == year]\n",
    "    deathcause_subs1 = deathcause_subs[deathcause_subs.Death_Type == type]\n",
    "    deathcause_subs2 = deathcause_subs1[deathcause_subs1.State == state]\n",
    "    array = pd.crosstab(index=deathcause_subs2['Age_Adj_Deathrate'],\n",
    "                                columns=deathcause_subs2['State'])\n",
    "    print(array)"
   ]
  },
  {
   "cell_type": "code",
   "execution_count": 103,
   "metadata": {},
   "outputs": [
    {
     "name": "stdout",
     "output_type": "stream",
     "text": [
      "State              Georgia\n",
      "Age_Adj_Deathrate         \n",
      "13.3                     1\n"
     ]
    }
   ],
   "source": [
    "selected_array(2016, \"Suicide\", \"Georgia\")"
   ]
  },
  {
   "cell_type": "code",
   "execution_count": 104,
   "metadata": {},
   "outputs": [
    {
     "name": "stdout",
     "output_type": "stream",
     "text": [
      "State              New York\n",
      "Age_Adj_Deathrate          \n",
      "8.1                       1\n"
     ]
    }
   ],
   "source": [
    "selected_array(2016, \"Suicide\", \"New York\")"
   ]
  },
  {
   "cell_type": "code",
   "execution_count": 105,
   "metadata": {},
   "outputs": [
    {
     "name": "stdout",
     "output_type": "stream",
     "text": [
      "State              California\n",
      "Age_Adj_Deathrate            \n",
      "10.5                        1\n"
     ]
    }
   ],
   "source": [
    "selected_array(2016, \"Suicide\", \"California\")"
   ]
  },
  {
   "cell_type": "code",
   "execution_count": 106,
   "metadata": {},
   "outputs": [
    {
     "name": "stdout",
     "output_type": "stream",
     "text": [
      "State              Michigan\n",
      "Age_Adj_Deathrate          \n",
      "13.3                      1\n"
     ]
    }
   ],
   "source": [
    "selected_array(2016, \"Suicide\", \"Michigan\")"
   ]
  },
  {
   "cell_type": "code",
   "execution_count": 107,
   "metadata": {},
   "outputs": [
    {
     "name": "stdout",
     "output_type": "stream",
     "text": [
      "State              Washington\n",
      "Age_Adj_Deathrate            \n",
      "14.9                        1\n"
     ]
    }
   ],
   "source": [
    "selected_array(2016, \"Suicide\", \"Washington\")"
   ]
  },
  {
   "cell_type": "code",
   "execution_count": 108,
   "metadata": {},
   "outputs": [
    {
     "name": "stdout",
     "output_type": "stream",
     "text": [
      "State              Illinois\n",
      "Age_Adj_Deathrate          \n",
      "10.7                      1\n"
     ]
    }
   ],
   "source": [
    "selected_array(2016, \"Suicide\", \"Illinois\")"
   ]
  },
  {
   "cell_type": "code",
   "execution_count": 109,
   "metadata": {},
   "outputs": [
    {
     "name": "stdout",
     "output_type": "stream",
     "text": [
      "State              Utah\n",
      "Age_Adj_Deathrate      \n",
      "21.8                  1\n"
     ]
    }
   ],
   "source": [
    "selected_array(2016, \"Suicide\", \"Utah\")"
   ]
  },
  {
   "cell_type": "markdown",
   "metadata": {},
   "source": [
    "Thus, there is apparently a lot of heterogeneity in the aggregated Age-Adjusted Death Rates across states. Utah saw many more deaths by suicide per 100,000 persons in 2016 than did California in the same year (ideally, I would have shown this data in a heatmap format - sorry)."
   ]
  },
  {
   "cell_type": "code",
   "execution_count": null,
   "metadata": {},
   "outputs": [],
   "source": []
  }
 ],
 "metadata": {
  "kernelspec": {
   "display_name": "Python 3",
   "language": "python",
   "name": "python3"
  },
  "language_info": {
   "codemirror_mode": {
    "name": "ipython",
    "version": 3
   },
   "file_extension": ".py",
   "mimetype": "text/x-python",
   "name": "python",
   "nbconvert_exporter": "python",
   "pygments_lexer": "ipython3",
   "version": "3.6.7"
  }
 },
 "nbformat": 4,
 "nbformat_minor": 2
}
