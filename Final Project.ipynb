{
 "cells": [
  {
   "cell_type": "markdown",
   "metadata": {},
   "source": [
    "# Final Project - Identifying Possible Victims of/Signals for Sex Trafficking with Unsupervised Machine Learning"
   ]
  },
  {
   "cell_type": "markdown",
   "metadata": {},
   "source": [
    "The purpose of this project is to scrape a number of current personal ads, transform them into a dataframe with words in the ads as features, cluster them using dimensionality reduction, and analyzing the clusters to see if the one or more ad clusters could distinguish possible victims of sex trafficking. This project is mainly subject to the following research questions: \n",
    "\n",
    "*\"Are there observable characteristics in the language and wording of personal ads that possibly identify persons being trafficked?\"*\n",
    "\n",
    "*\"Did shutting down websites suspected of advertising sex labor (such as Craigslist Personals and Backpage) reasonably obstruct trafficking in persons via the internet?\"*"
   ]
  },
  {
   "cell_type": "markdown",
   "metadata": {},
   "source": [
    "### Accredidation:\n",
    "\n",
    "Credit for the ideation of this project goes to [Eric Schles](https://github.com/EricSchles/traffickingGrab) who conceived and developed a web scraper for classifying potential victims of trafficking. His is much more in-depth and robust than mine, but I owe much to the ingenuity and ambition of his work.\n",
    "\n",
    "I would also like to thank [Tyler Folkman](https://github.com/tfolkman) for help with at least one tricky line of code.\n",
    "\n",
    "I also thank [Nelson Griffiths](https://github.com/ngriffiths13) for his encouragement and help using the \"Bag of Words\" model."
   ]
  },
  {
   "cell_type": "markdown",
   "metadata": {},
   "source": [
    "## 1. Getting some Text Data - Personals/Casual Encounters Ads (Website Similar to Backpage)"
   ]
  },
  {
   "cell_type": "markdown",
   "metadata": {},
   "source": [
    "**WARNING** - This section contains explicit material including lewd and/or sensual language from personal ads. Please use discretion when reviewing code, links, etc."
   ]
  },
  {
   "cell_type": "code",
   "execution_count": 1,
   "metadata": {},
   "outputs": [
    {
     "name": "stdout",
     "output_type": "stream",
     "text": [
      "Collecting bs4\n",
      "  Downloading https://files.pythonhosted.org/packages/10/ed/7e8b97591f6f456174139ec089c769f89a94a1a4025fe967691de971f314/bs4-0.0.1.tar.gz\n",
      "Collecting lxml\n",
      "\u001b[?25l  Downloading https://files.pythonhosted.org/packages/35/8a/5e066949f2b40caac32c7b2a77da63ad304b5fbe869036cc3fe4a198f724/lxml-4.3.3-cp36-cp36m-manylinux1_x86_64.whl (5.7MB)\n",
      "\u001b[K    100% |████████████████████████████████| 5.7MB 321kB/s eta 0:00:01█████████████████████▏  | 5.2MB 8.9MB/s eta 0:00:01\n",
      "\u001b[?25hCollecting seaborn\n",
      "\u001b[?25l  Downloading https://files.pythonhosted.org/packages/a8/76/220ba4420459d9c4c9c9587c6ce607bf56c25b3d3d2de62056efe482dadc/seaborn-0.9.0-py3-none-any.whl (208kB)\n",
      "\u001b[K    100% |████████████████████████████████| 215kB 30.7MB/s ta 0:00:01\n",
      "\u001b[?25hCollecting beautifulsoup4 (from bs4)\n",
      "\u001b[?25l  Downloading https://files.pythonhosted.org/packages/1d/5d/3260694a59df0ec52f8b4883f5d23b130bc237602a1411fa670eae12351e/beautifulsoup4-4.7.1-py3-none-any.whl (94kB)\n",
      "\u001b[K    100% |████████████████████████████████| 102kB 9.4MB/s ta 0:00:01\n",
      "\u001b[?25hRequirement already satisfied: scipy>=0.14.0 in /srv/conda/lib/python3.6/site-packages (from seaborn) (1.2.1)\n",
      "Requirement already satisfied: numpy>=1.9.3 in /srv/conda/lib/python3.6/site-packages (from seaborn) (1.16.2)\n",
      "Requirement already satisfied: matplotlib>=1.4.3 in /srv/conda/lib/python3.6/site-packages (from seaborn) (3.0.3)\n",
      "Requirement already satisfied: pandas>=0.15.2 in /srv/conda/lib/python3.6/site-packages (from seaborn) (0.24.2)\n",
      "Collecting soupsieve>=1.2 (from beautifulsoup4->bs4)\n",
      "  Downloading https://files.pythonhosted.org/packages/c9/f8/e54b1d771ed4fab66b3fa1c178e137a3c73d84fb6f64329bddf0da5a371c/soupsieve-1.9-py2.py3-none-any.whl\n",
      "Requirement already satisfied: cycler>=0.10 in /srv/conda/lib/python3.6/site-packages (from matplotlib>=1.4.3->seaborn) (0.10.0)\n",
      "Requirement already satisfied: kiwisolver>=1.0.1 in /srv/conda/lib/python3.6/site-packages (from matplotlib>=1.4.3->seaborn) (1.0.1)\n",
      "Requirement already satisfied: pyparsing!=2.0.4,!=2.1.2,!=2.1.6,>=2.0.1 in /srv/conda/lib/python3.6/site-packages (from matplotlib>=1.4.3->seaborn) (2.3.1)\n",
      "Requirement already satisfied: python-dateutil>=2.1 in /srv/conda/lib/python3.6/site-packages (from matplotlib>=1.4.3->seaborn) (2.8.0)\n",
      "Requirement already satisfied: pytz>=2011k in /srv/conda/lib/python3.6/site-packages (from pandas>=0.15.2->seaborn) (2018.9)\n",
      "Requirement already satisfied: six in /srv/conda/lib/python3.6/site-packages (from cycler>=0.10->matplotlib>=1.4.3->seaborn) (1.12.0)\n",
      "Requirement already satisfied: setuptools in /srv/conda/lib/python3.6/site-packages (from kiwisolver>=1.0.1->matplotlib>=1.4.3->seaborn) (40.8.0)\n",
      "Building wheels for collected packages: bs4\n",
      "  Building wheel for bs4 (setup.py) ... \u001b[?25ldone\n",
      "\u001b[?25h  Stored in directory: /home/jovyan/.cache/pip/wheels/a0/b0/b2/4f80b9456b87abedbc0bf2d52235414c3467d8889be38dd472\n",
      "Successfully built bs4\n",
      "Installing collected packages: soupsieve, beautifulsoup4, bs4, lxml, seaborn\n",
      "Successfully installed beautifulsoup4-4.7.1 bs4-0.0.1 lxml-4.3.3 seaborn-0.9.0 soupsieve-1.9\n"
     ]
    }
   ],
   "source": [
    "!pip install bs4 lxml seaborn"
   ]
  },
  {
   "cell_type": "code",
   "execution_count": 2,
   "metadata": {},
   "outputs": [],
   "source": [
    "#Web-Scraping Things\n",
    "import lxml\n",
    "import bs4 as bs\n",
    "import urllib.request\n",
    "import requests\n",
    "import re\n",
    "import urllib\n",
    "from bs4.element import Comment\n",
    "from urllib.error import HTTPError\n",
    "\n",
    "#Basic Packages\n",
    "import pandas as pd\n",
    "import time\n",
    "import seaborn as sns\n",
    "import numpy as np\n",
    "import matplotlib.pyplot as plt\n",
    "\n",
    "#Bag of Words\n",
    "from sklearn.feature_extraction.text import TfidfVectorizer\n",
    "\n",
    "#Dimensionality Reduction/Clustering Things\n",
    "from sklearn.decomposition import PCA\n",
    "from sklearn.manifold import TSNE\n",
    "from sklearn.cluster import KMeans\n",
    "from sklearn.metrics import silhouette_score"
   ]
  },
  {
   "cell_type": "code",
   "execution_count": 3,
   "metadata": {},
   "outputs": [
    {
     "name": "stdout",
     "output_type": "stream",
     "text": [
      "Backpage Salt Lake City women seek men | Backpage women seek men in Salt Lake City - bedpage\n"
     ]
    }
   ],
   "source": [
    "headers = {'User-Agent': 'Mozilla/5.0 (Macintosh; Intel Mac OS X 10_10_1) AppleWebKit/537.36 (KHTML, like Gecko) Chrome/39.0.2171.95 Safari/537.36'}\n",
    "\"\"\"\n",
    "    The \"header\" option is used as this page requires\n",
    "    going through an authentication page to view the\n",
    "    ads.\n",
    "    \"\"\"\n",
    "source = requests.get('https://saltlakecity.bedpage.com/WomenSeekMen/', headers=headers)\n",
    "soup = bs.BeautifulSoup(source.text,'lxml')\n",
    "print(soup.title.text)"
   ]
  },
  {
   "cell_type": "code",
   "execution_count": 4,
   "metadata": {},
   "outputs": [
    {
     "name": "stdout",
     "output_type": "stream",
     "text": [
      "https://www.bedpage.com/post-ad\n",
      "https://saltlakecity.bedpage.com/\n",
      "https://www.bedpage.com/post-ad\n",
      "https://www.bedpage.com/\n",
      "https://www.bedpage.com/scrapbook\n",
      "http://exn98.voluumtrk.com/3aa89ae8-ba00-4fe9-967a-6d2480cfde40\n",
      "https://engine.voluumtlkrnarketing.com/?733764916\n",
      "https://www.bedpage.com/\n",
      "https://logan.bedpage.com/\n",
      "https://ogden.bedpage.com/\n",
      "https://provo.bedpage.com/\n",
      "https://saltlakecity.bedpage.com/\n",
      "https://StGeorge.bedpage.com/\n",
      "https://stgeorge.bedpage.com/\n",
      "https://www.bedpage.com/\n",
      "https://united-states.bedpage.com/\n",
      "https://utah1.bedpage.com/\n",
      "https://saltlakecity.bedpage.com/\n",
      "https://logan.bedpage.com/WomenSeekMen/\n",
      "https://ogden.bedpage.com/WomenSeekMen/\n",
      "https://provo.bedpage.com/WomenSeekMen/\n",
      "https://StGeorge.bedpage.com/WomenSeekMen/\n",
      "https://stgeorge.bedpage.com/WomenSeekMen/\n",
      "https://saltlakecity.bedpage.com/WomenSeekMen/\n",
      "https://saltlakecity.bedpage.com/WomenSeekMen/gallery\n",
      "http://exn98.voluumtrk.com/3aa89ae8-ba00-4fe9-967a-6d2480cfde40\n",
      "https://engine.voluumtlkrnarketing.com/?733764916\n",
      "http://exn98.voluumtrk.com/25b2b420-639b-48bd-9fc0-1d04923504d9\n",
      "https://saltlakecity.bedpage.com/WomenSeekMen/united-states/6695143.html\n",
      "https://saltlakecity.bedpage.com/WomenSeekMen/united-states/6693121.html\n",
      "https://exn98.voluumtrk.com/33e3926e-1f0e-4409-a156-90df59f99676\n",
      "https://saltlakecity.bedpage.com/WomenSeekMen/united-states/6693129.html\n",
      "https://saltlakecity.bedpage.com/WomenSeekMen/united-states/6693131.html\n",
      "https://saltlakecity.bedpage.com/WomenSeekMen/usa/6693111.html\n",
      "https://saltlakecity.bedpage.com/WomenSeekMen/usa/6703885.html\n",
      "https://saltlakecity.bedpage.com/WomenSeekMen/usa/6595688.html\n",
      "https://saltlakecity.bedpage.com/WomenSeekMen/usa/6597610.html\n",
      "https://saltlakecity.bedpage.com/WomenSeekMen/united-states/7791052.html\n",
      "https://saltlakecity.bedpage.com/WomenSeekMen/incall-outcall-car-play-let-s-have-lots-of-fun/7791052.html\n",
      "https://saltlakecity.bedpage.com/WomenSeekMen/incall-outcall-car-play-let-s-have-lots-of-fun/7791052.html\n",
      "https://saltlakecity.bedpage.com/WomenSeekMen/united-states/7244377.html\n",
      "https://saltlakecity.bedpage.com/WomenSeekMen/incall-outcall-car-play-let-s-have-lots-of-fun/7244377.html\n",
      "https://saltlakecity.bedpage.com/WomenSeekMen/incall-outcall-car-play-let-s-have-lots-of-fun/7244377.html\n",
      "https://saltlakecity.bedpage.com/WomenSeekMen/usa/6563624.html\n",
      "https://saltlakecity.bedpage.com/WomenSeekMen/ride-to-work-asap/6563624.html\n",
      "https://saltlakecity.bedpage.com/WomenSeekMen/ride-to-work-asap/6563624.html\n",
      "https://saltlakecity.bedpage.com/WomenSeekMen/ride-to-work-asap/6563624.html\n",
      "https://saltlakecity.bedpage.com/WomenSeekMen/united-states/6695143.html\n",
      "https://saltlakecity.bedpage.com/WomenSeekMen/hi-i-want-go-out-tonight-do-you-have-time/6695143.html\n",
      "https://saltlakecity.bedpage.com/WomenSeekMen/united-states/6693121.html\n",
      "https://saltlakecity.bedpage.com/WomenSeekMen/come-fuck-my-juicy-pussy-tonight-amp-tomorrow/6693121.html\n",
      "https://saltlakecity.bedpage.com/WomenSeekMen/united-states/6693129.html\n",
      "https://saltlakecity.bedpage.com/WomenSeekMen/i-m-always-horney-so-come-fk-me/6693129.html\n",
      "https://saltlakecity.bedpage.com/WomenSeekMen/united-states/6693131.html\n",
      "https://saltlakecity.bedpage.com/WomenSeekMen/layla-here-to-serve-you-why-look-anywhere-else/6693131.html\n",
      "https://saltlakecity.bedpage.com/WomenSeekMen/usa/6693111.html\n",
      "https://saltlakecity.bedpage.com/WomenSeekMen/nude-full-body-to-body-rub/6693111.html\n",
      "https://saltlakecity.bedpage.com/WomenSeekMen/united-states/6724876.html\n",
      "https://saltlakecity.bedpage.com/WomenSeekMen/take-some-time-out-of-your-day-and-indulge-yourself-come-on-a-tantalizing-tryst-with-me/6724876.html\n",
      "https://saltlakecity.bedpage.com/WomenSeekMen/usa/6703885.html\n",
      "https://saltlakecity.bedpage.com/WomenSeekMen/o-ng-cki-ach-r-wa-t-to-e-t-w-ol-chole86480-at-gmail/6703885.html\n",
      "https://saltlakecity.bedpage.com/WomenSeekMen/o-ng-cki-ach-r-wa-t-to-e-t-w-ol-chole86480-at-gmail/6703885.html\n",
      "https://saltlakecity.bedpage.com/WomenSeekMen/o-ng-cki-ach-r-wa-t-to-e-t-w-ol-chole86480-at-gmail/6703885.html\n",
      "https://saltlakecity.bedpage.com/WomenSeekMen/usa/6595688.html\n",
      "https://saltlakecity.bedpage.com/WomenSeekMen/look-at-me-i-know-what-are-you-thinking/6595688.html\n",
      "https://saltlakecity.bedpage.com/WomenSeekMen/usa/6720122.html\n",
      "https://saltlakecity.bedpage.com/WomenSeekMen/attn-new-number-text-me-469-515-1672-let-me-blo-ur-mind/6720122.html\n",
      "https://saltlakecity.bedpage.com/WomenSeekMen/attn-new-number-text-me-469-515-1672-let-me-blo-ur-mind/6720122.html\n",
      "https://saltlakecity.bedpage.com/WomenSeekMen/attn-new-number-text-me-469-515-1672-let-me-blo-ur-mind/6720122.html\n",
      "https://saltlakecity.bedpage.com/WomenSeekMen/united-states/7246086.html\n",
      "https://saltlakecity.bedpage.com/WomenSeekMen/real-sexy-asian-exotic-latina-ebony-girls-waiting-for-you/7246086.html\n",
      "https://saltlakecity.bedpage.com/WomenSeekMen/real-sexy-asian-exotic-latina-ebony-girls-waiting-for-you/7246086.html\n",
      "https://saltlakecity.bedpage.com/WomenSeekMen/real-sexy-asian-exotic-latina-ebony-girls-waiting-for-you/7246086.html\n",
      "https://saltlakecity.bedpage.com/WomenSeekMen/usa/6719982.html\n",
      "https://saltlakecity.bedpage.com/WomenSeekMen/sexy-brunette-barbie-hottie/6719982.html\n",
      "https://saltlakecity.bedpage.com/WomenSeekMen/sexy-brunette-barbie-hottie/6719982.html\n",
      "https://saltlakecity.bedpage.com/WomenSeekMen/sexy-brunette-barbie-hottie/6719982.html\n",
      "https://saltlakecity.bedpage.com/WomenSeekMen/usa/6597610.html\n",
      "https://saltlakecity.bedpage.com/WomenSeekMen/look-at-me-i-know-what-are-you-thinking/6597610.html\n",
      "https://saltlakecity.bedpage.com/WomenSeekMen/usa/6586011.html\n",
      "https://saltlakecity.bedpage.com/WomenSeekMen/tired-of-getting-the-run-around-and-the-hassle-well-i-m-promise-you-will-leave-wanting-more/6586011.html\n",
      "None\n",
      "https://saltlakecity.bedpage.com/WomenSeekMen/united-states/7791052.html\n",
      "None\n",
      "https://saltlakecity.bedpage.com/WomenSeekMen/united-states/7244377.html\n",
      "None\n",
      "https://saltlakecity.bedpage.com/WomenSeekMen/usa/7806111.html\n",
      "None\n",
      "http://exn98.voluumtrk.com/25b2b420-639b-48bd-9fc0-1d04923504d9\n",
      "None\n",
      "https://saltlakecity.bedpage.com/WomenSeekMen/usa/7806110.html\n",
      "None\n",
      "https://saltlakecity.bedpage.com/WomenSeekMen/usa/7806006.html\n",
      "None\n",
      "https://saltlakecity.bedpage.com/WomenSeekMen/usa/7805960.html\n",
      "None\n",
      "https://exn98.voluumtrk.com/33e3926e-1f0e-4409-a156-90df59f99676\n",
      "None\n",
      "https://saltlakecity.bedpage.com/WomenSeekMen/usa/6563624.html\n",
      "None\n",
      "https://engine.voluumtlkrnarketing.com/?402253961\n",
      "None\n",
      "https://saltlakecity.bedpage.com/WomenSeekMen/usa/7805567.html\n",
      "None\n",
      "https://saltlakecity.bedpage.com/WomenSeekMen/taylorsville/7805336.html\n",
      "None\n",
      "https://saltlakecity.bedpage.com/WomenSeekMen/united-states/6695143.html\n",
      "None\n",
      "https://saltlakecity.bedpage.com/WomenSeekMen/united-states/6693121.html\n",
      "None\n",
      "https://saltlakecity.bedpage.com/WomenSeekMen/united-states/6693129.html\n",
      "None\n",
      "https://saltlakecity.bedpage.com/WomenSeekMen/united-states/6693131.html\n",
      "None\n",
      "https://saltlakecity.bedpage.com/WomenSeekMen/usa/6693111.html\n",
      "None\n",
      "https://saltlakecity.bedpage.com/WomenSeekMen/united-states/6724876.html\n",
      "None\n",
      "https://saltlakecity.bedpage.com/WomenSeekMen/usa/7792882.html\n",
      "None\n",
      "https://saltlakecity.bedpage.com/WomenSeekMen/usa/7792661.html\n",
      "None\n",
      "https://saltlakecity.bedpage.com/WomenSeekMen/usa/7792585.html\n",
      "None\n",
      "https://saltlakecity.bedpage.com/WomenSeekMen/united-states/7792577.html\n",
      "None\n",
      "https://saltlakecity.bedpage.com/WomenSeekMen/usa/7792047.html\n",
      "None\n",
      "https://saltlakecity.bedpage.com/WomenSeekMen/usa/7792046.html\n",
      "None\n",
      "https://saltlakecity.bedpage.com/WomenSeekMen/usa/7791954.html\n",
      "None\n",
      "https://saltlakecity.bedpage.com/WomenSeekMen/usa/6703885.html\n",
      "None\n",
      "https://saltlakecity.bedpage.com/WomenSeekMen/usa/6595688.html\n",
      "None\n",
      "https://saltlakecity.bedpage.com/WomenSeekMen/usa/7791538.html\n",
      "None\n",
      "https://saltlakecity.bedpage.com/WomenSeekMen/usa/6657689.html\n",
      "None\n",
      "https://saltlakecity.bedpage.com/WomenSeekMen/usa/6720122.html\n",
      "None\n",
      "https://saltlakecity.bedpage.com/WomenSeekMen/usa/7246214.html\n",
      "None\n",
      "https://saltlakecity.bedpage.com/WomenSeekMen/united-states/7246086.html\n",
      "None\n",
      "https://saltlakecity.bedpage.com/WomenSeekMen/usa/7246001.html\n",
      "None\n",
      "https://saltlakecity.bedpage.com/WomenSeekMen/usa/7245906.html\n",
      "None\n",
      "https://saltlakecity.bedpage.com/WomenSeekMen/united-states/7245892.html\n",
      "None\n",
      "https://saltlakecity.bedpage.com/WomenSeekMen/usa/7245870.html\n",
      "None\n",
      "https://saltlakecity.bedpage.com/WomenSeekMen/usa/7245253.html\n",
      "None\n",
      "https://saltlakecity.bedpage.com/WomenSeekMen/usa/7245252.html\n",
      "None\n",
      "https://saltlakecity.bedpage.com/WomenSeekMen/usa/7244758.html\n",
      "None\n",
      "https://saltlakecity.bedpage.com/WomenSeekMen/usa/7244289.html\n",
      "None\n",
      "https://saltlakecity.bedpage.com/WomenSeekMen/usa/7198337.html\n",
      "None\n",
      "https://saltlakecity.bedpage.com/WomenSeekMen/united-states/7198198.html\n",
      "None\n",
      "https://saltlakecity.bedpage.com/WomenSeekMen/usa/7198138.html\n",
      "None\n",
      "https://saltlakecity.bedpage.com/WomenSeekMen/united-states/7198131.html\n",
      "None\n",
      "https://saltlakecity.bedpage.com/WomenSeekMen/usa/7198098.html\n",
      "None\n",
      "https://saltlakecity.bedpage.com/WomenSeekMen/usa/6764503.html\n",
      "None\n",
      "https://saltlakecity.bedpage.com/WomenSeekMen/usa/7197674.html\n",
      "None\n",
      "https://saltlakecity.bedpage.com/WomenSeekMen/usa/7197673.html\n",
      "None\n",
      "https://saltlakecity.bedpage.com/WomenSeekMen/usa/7196546.html\n",
      "None\n",
      "https://saltlakecity.bedpage.com/WomenSeekMen/united-states/7196401.html\n",
      "None\n",
      "https://saltlakecity.bedpage.com/WomenSeekMen/usa/7196339.html\n",
      "None\n",
      "https://saltlakecity.bedpage.com/WomenSeekMen/united-states/7196327.html\n",
      "None\n",
      "https://saltlakecity.bedpage.com/WomenSeekMen/usa/7196291.html\n",
      "None\n",
      "https://saltlakecity.bedpage.com/WomenSeekMen/usa/7196286.html\n",
      "None\n",
      "https://saltlakecity.bedpage.com/WomenSeekMen/usa/6719982.html\n",
      "None\n",
      "https://saltlakecity.bedpage.com/WomenSeekMen/usa/7195904.html\n",
      "None\n",
      "https://saltlakecity.bedpage.com/WomenSeekMen/usa/7195850.html\n",
      "None\n",
      "https://saltlakecity.bedpage.com/WomenSeekMen/usa/7195849.html\n",
      "None\n",
      "https://saltlakecity.bedpage.com/WomenSeekMen/usa/7195816.html\n",
      "None\n",
      "https://saltlakecity.bedpage.com/WomenSeekMen/usa/7194894.html\n",
      "None\n",
      "https://saltlakecity.bedpage.com/WomenSeekMen/united-states/7194408.html\n",
      "None\n",
      "https://saltlakecity.bedpage.com/WomenSeekMen/usa/7194406.html\n",
      "None\n",
      "https://saltlakecity.bedpage.com/WomenSeekMen/usa/7194332.html\n",
      "None\n",
      "https://saltlakecity.bedpage.com/WomenSeekMen/united-states/7194325.html\n",
      "None\n",
      "https://saltlakecity.bedpage.com/WomenSeekMen/usa/7194283.html\n",
      "None\n",
      "https://saltlakecity.bedpage.com/WomenSeekMen/usa/7193842.html\n",
      "None\n",
      "https://saltlakecity.bedpage.com/WomenSeekMen/usa/7193841.html\n",
      "None\n",
      "https://saltlakecity.bedpage.com/WomenSeekMen/usa/7193811.html\n",
      "None\n",
      "https://saltlakecity.bedpage.com/WomenSeekMen/usa/6597610.html\n",
      "None\n",
      "https://saltlakecity.bedpage.com/WomenSeekMen/usa/7193391.html\n",
      "None\n",
      "https://saltlakecity.bedpage.com/WomenSeekMen/usa/7193390.html\n",
      "None\n",
      "https://saltlakecity.bedpage.com/WomenSeekMen/united-states/7193284.html\n",
      "None\n",
      "https://saltlakecity.bedpage.com/WomenSeekMen/usa/6695365.html\n",
      "None\n",
      "https://saltlakecity.bedpage.com/WomenSeekMen/united-states/7192519.html\n",
      "None\n",
      "https://saltlakecity.bedpage.com/WomenSeekMen/united-states/7192518.html\n",
      "None\n",
      "https://saltlakecity.bedpage.com/WomenSeekMen/united-states/7192517.html\n",
      "None\n",
      "https://saltlakecity.bedpage.com/WomenSeekMen/usa/7192516.html\n",
      "None\n",
      "https://saltlakecity.bedpage.com/WomenSeekMen/usa/6759177.html\n",
      "None\n",
      "https://saltlakecity.bedpage.com/WomenSeekMen/united-states/7192298.html\n",
      "None\n",
      "https://saltlakecity.bedpage.com/WomenSeekMen/usa/7192182.html\n",
      "None\n",
      "https://saltlakecity.bedpage.com/WomenSeekMen/usa/7192179.html\n",
      "None\n",
      "https://saltlakecity.bedpage.com/WomenSeekMen/usa/7191750.html\n",
      "None\n",
      "https://saltlakecity.bedpage.com/WomenSeekMen/taylorsville/7191725.html\n",
      "None\n",
      "https://saltlakecity.bedpage.com/WomenSeekMen/usa/7191656.html\n",
      "None\n",
      "https://saltlakecity.bedpage.com/WomenSeekMen/taylorsville/7190694.html\n",
      "None\n",
      "https://saltlakecity.bedpage.com/WomenSeekMen/usa/7189886.html\n",
      "None\n",
      "https://saltlakecity.bedpage.com/WomenSeekMen/usa/7189881.html\n",
      "None\n",
      "https://saltlakecity.bedpage.com/WomenSeekMen/usa/7148519.html\n",
      "None\n",
      "https://saltlakecity.bedpage.com/WomenSeekMen/taylorsville/7148492.html\n",
      "None\n",
      "https://saltlakecity.bedpage.com/WomenSeekMen/usa/7148458.html\n",
      "None\n",
      "https://saltlakecity.bedpage.com/WomenSeekMen/usa/7148457.html\n",
      "None\n",
      "https://saltlakecity.bedpage.com/WomenSeekMen/usa/7148424.html\n",
      "None\n",
      "https://saltlakecity.bedpage.com/WomenSeekMen/usa/7119400.html\n",
      "None\n",
      "https://saltlakecity.bedpage.com/WomenSeekMen/usa/7119268.html\n",
      "None\n",
      "https://saltlakecity.bedpage.com/WomenSeekMen/taylorsville/7119160.html\n",
      "None\n",
      "https://saltlakecity.bedpage.com/WomenSeekMen/united-states/6898392.html\n",
      "None\n",
      "https://saltlakecity.bedpage.com/WomenSeekMen/usa/6863392.html\n",
      "None\n",
      "https://saltlakecity.bedpage.com/WomenSeekMen/taylorsville/6863375.html\n",
      "None\n",
      "https://saltlakecity.bedpage.com/WomenSeekMen/usa/6863223.html\n",
      "None\n",
      "https://saltlakecity.bedpage.com/WomenSeekMen/usa/6827067.html\n",
      "None\n",
      "https://saltlakecity.bedpage.com/WomenSeekMen/usa/6827066.html\n",
      "None\n",
      "https://saltlakecity.bedpage.com/WomenSeekMen/usa/6827029.html\n",
      "None\n",
      "https://saltlakecity.bedpage.com/WomenSeekMen/usa/6799158.html\n",
      "None\n",
      "https://saltlakecity.bedpage.com/WomenSeekMen/usa/6799157.html\n",
      "None\n",
      "https://saltlakecity.bedpage.com/WomenSeekMen/usa/6798992.html\n",
      "None\n",
      "https://saltlakecity.bedpage.com/WomenSeekMen/usa/6798783.html\n",
      "None\n",
      "https://saltlakecity.bedpage.com/WomenSeekMen/taylorsville/6798577.html\n",
      "None\n",
      "https://saltlakecity.bedpage.com/WomenSeekMen/usa/6772841.html\n",
      "None\n",
      "https://saltlakecity.bedpage.com/WomenSeekMen/usa/6769832.html\n",
      "None\n",
      "https://saltlakecity.bedpage.com/WomenSeekMen/usa/6769671.html\n",
      "None\n",
      "https://saltlakecity.bedpage.com/WomenSeekMen/usa/6769666.html\n",
      "None\n",
      "https://saltlakecity.bedpage.com/WomenSeekMen/united-states/6769506.html\n",
      "None\n",
      "https://saltlakecity.bedpage.com/WomenSeekMen/taylorsville/6769271.html\n",
      "None\n",
      "https://saltlakecity.bedpage.com/WomenSeekMen/usa/6769215.html\n",
      "None\n",
      "https://saltlakecity.bedpage.com/WomenSeekMen/usa/6768269.html\n",
      "None\n",
      "https://saltlakecity.bedpage.com/WomenSeekMen/taylorsville/6768189.html\n",
      "None\n",
      "https://saltlakecity.bedpage.com/WomenSeekMen/usa/6767834.html\n",
      "None\n",
      "https://saltlakecity.bedpage.com/WomenSeekMen/usa/6767759.html\n",
      "None\n",
      "https://saltlakecity.bedpage.com/WomenSeekMen/taylorsville/6767686.html\n",
      "None\n",
      "https://saltlakecity.bedpage.com/WomenSeekMen/usa/6767617.html\n",
      "None\n",
      "https://saltlakecity.bedpage.com/WomenSeekMen/usa/6767117.html\n",
      "None\n",
      "https://saltlakecity.bedpage.com/WomenSeekMen/usa/6767116.html\n",
      "None\n",
      "https://saltlakecity.bedpage.com/WomenSeekMen/usa/6767058.html\n",
      "None\n",
      "https://saltlakecity.bedpage.com/WomenSeekMen/usa/6766921.html\n",
      "None\n",
      "https://saltlakecity.bedpage.com/WomenSeekMen/usa/6766908.html\n",
      "None\n",
      "https://saltlakecity.bedpage.com/WomenSeekMen/united-states/6766563.html\n",
      "None\n",
      "https://saltlakecity.bedpage.com/WomenSeekMen/taylorsville/6766158.html\n",
      "None\n",
      "https://saltlakecity.bedpage.com/WomenSeekMen/usa/6765907.html\n",
      "None\n",
      "https://saltlakecity.bedpage.com/WomenSeekMen/taylorsville/6765800.html\n",
      "None\n",
      "https://saltlakecity.bedpage.com/WomenSeekMen/usa/6765726.html\n",
      "None\n",
      "https://saltlakecity.bedpage.com/WomenSeekMen/usa/6765658.html\n",
      "None\n",
      "https://saltlakecity.bedpage.com/WomenSeekMen/usa/6765196.html\n",
      "None\n",
      "https://saltlakecity.bedpage.com/WomenSeekMen/usa/6765195.html\n",
      "None\n",
      "https://saltlakecity.bedpage.com/WomenSeekMen/usa/6765133.html\n",
      "None\n",
      "https://saltlakecity.bedpage.com/WomenSeekMen/usa/6764985.html\n",
      "None\n",
      "https://saltlakecity.bedpage.com/WomenSeekMen/usa/6764971.html\n",
      "None\n",
      "https://saltlakecity.bedpage.com/WomenSeekMen/usa/6706578.html\n",
      "None\n",
      "https://saltlakecity.bedpage.com/WomenSeekMen/usa/6764644.html\n",
      "None\n",
      "https://saltlakecity.bedpage.com/WomenSeekMen/usa/6764643.html\n",
      "None\n",
      "https://saltlakecity.bedpage.com/WomenSeekMen/taylorsville/6764022.html\n",
      "None\n",
      "https://saltlakecity.bedpage.com/WomenSeekMen/united-states/6763801.html\n",
      "None\n",
      "https://saltlakecity.bedpage.com/WomenSeekMen/usa/6763589.html\n",
      "None\n",
      "https://saltlakecity.bedpage.com/WomenSeekMen/united-states/6763580.html\n",
      "None\n",
      "https://saltlakecity.bedpage.com/WomenSeekMen/usa/6763465.html\n",
      "None\n",
      "https://saltlakecity.bedpage.com/WomenSeekMen/taylorsville/6763241.html\n",
      "None\n",
      "https://saltlakecity.bedpage.com/WomenSeekMen/estados-unidos/6763039.html\n",
      "None\n",
      "https://saltlakecity.bedpage.com/WomenSeekMen/usa/6762969.html\n",
      "None\n",
      "https://saltlakecity.bedpage.com/WomenSeekMen/usa/6762799.html\n",
      "None\n",
      "https://saltlakecity.bedpage.com/WomenSeekMen/usa/6762758.html\n",
      "None\n",
      "https://saltlakecity.bedpage.com/WomenSeekMen/usa/6762329.html\n",
      "None\n",
      "https://saltlakecity.bedpage.com/WomenSeekMen/estados-unidos/6762027.html\n",
      "None\n",
      "https://saltlakecity.bedpage.com/WomenSeekMen/taylorsville/6761639.html\n",
      "None\n",
      "https://saltlakecity.bedpage.com/WomenSeekMen/taylorsville/6760470.html\n",
      "None\n",
      "https://saltlakecity.bedpage.com/WomenSeekMen/usa/6760268.html\n",
      "None\n",
      "https://saltlakecity.bedpage.com/WomenSeekMen/usa/6759563.html\n",
      "None\n",
      "https://saltlakecity.bedpage.com/WomenSeekMen/usa/6759562.html\n",
      "None\n",
      "https://saltlakecity.bedpage.com/WomenSeekMen/usa/6759503.html\n",
      "None\n",
      "https://saltlakecity.bedpage.com/WomenSeekMen/united-states/6759483.html\n",
      "None\n",
      "https://saltlakecity.bedpage.com/WomenSeekMen/usa/6759482.html\n",
      "None\n",
      "https://saltlakecity.bedpage.com/WomenSeekMen/united-states/6759353.html\n",
      "None\n",
      "https://saltlakecity.bedpage.com/WomenSeekMen/usa/6759334.html\n",
      "None\n",
      "https://saltlakecity.bedpage.com/WomenSeekMen/usa/6759321.html\n",
      "None\n",
      "https://saltlakecity.bedpage.com/WomenSeekMen/taylorsville/6758666.html\n",
      "None\n",
      "https://saltlakecity.bedpage.com/WomenSeekMen/taylorsville/6758656.html\n",
      "None\n",
      "https://saltlakecity.bedpage.com/WomenSeekMen/estados-unidos/6754229.html\n",
      "None\n",
      "https://saltlakecity.bedpage.com/WomenSeekMen/usa/6735412.html\n",
      "None\n",
      "https://saltlakecity.bedpage.com/WomenSeekMen/usa/6735215.html\n",
      "None\n",
      "https://saltlakecity.bedpage.com/WomenSeekMen/united-states/6735163.html\n",
      "None\n",
      "https://saltlakecity.bedpage.com/WomenSeekMen/usa/6735120.html\n",
      "None\n",
      "https://saltlakecity.bedpage.com/WomenSeekMen/usa/6734723.html\n",
      "None\n",
      "https://saltlakecity.bedpage.com/WomenSeekMen/usa/6734722.html\n",
      "None\n",
      "https://saltlakecity.bedpage.com/WomenSeekMen/usa/6734665.html\n",
      "None\n",
      "https://saltlakecity.bedpage.com/WomenSeekMen/united-states/6734552.html\n",
      "None\n",
      "https://saltlakecity.bedpage.com/WomenSeekMen/usa/6734542.html\n",
      "None\n",
      "https://saltlakecity.bedpage.com/WomenSeekMen/usa/6734526.html\n",
      "None\n",
      "https://saltlakecity.bedpage.com/WomenSeekMen/estados-unidos/6733592.html\n",
      "None\n",
      "https://saltlakecity.bedpage.com/WomenSeekMen/usa/6733130.html\n",
      "None\n",
      "https://saltlakecity.bedpage.com/WomenSeekMen/usa/6732820.html\n",
      "None\n",
      "https://saltlakecity.bedpage.com/WomenSeekMen/usa/6732437.html\n",
      "None\n",
      "https://saltlakecity.bedpage.com/WomenSeekMen/usa/6732436.html\n",
      "None\n",
      "https://saltlakecity.bedpage.com/WomenSeekMen/usa/6732385.html\n",
      "None\n",
      "https://saltlakecity.bedpage.com/WomenSeekMen/usa/6732351.html\n",
      "None\n",
      "https://saltlakecity.bedpage.com/WomenSeekMen/usa/6732209.html\n",
      "None\n",
      "https://saltlakecity.bedpage.com/WomenSeekMen/usa/6732196.html\n",
      "None\n",
      "https://saltlakecity.bedpage.com/WomenSeekMen/usa/6731583.html\n",
      "None\n",
      "https://saltlakecity.bedpage.com/WomenSeekMen/estados-unidos/6730577.html\n",
      "None\n",
      "https://saltlakecity.bedpage.com/WomenSeekMen/usa/6730501.html\n",
      "None\n",
      "https://saltlakecity.bedpage.com/WomenSeekMen/usa/6730153.html\n",
      "None\n",
      "https://saltlakecity.bedpage.com/WomenSeekMen/usa/6730152.html\n",
      "None\n",
      "https://saltlakecity.bedpage.com/WomenSeekMen/usa/6730115.html\n",
      "None\n",
      "https://saltlakecity.bedpage.com/WomenSeekMen/usa/6729934.html\n",
      "None\n",
      "https://saltlakecity.bedpage.com/WomenSeekMen/usa/6729918.html\n",
      "None\n",
      "https://saltlakecity.bedpage.com/WomenSeekMen/usa/6729612.html\n",
      "None\n",
      "https://saltlakecity.bedpage.com/WomenSeekMen/usa/6729606.html\n",
      "None\n",
      "https://saltlakecity.bedpage.com/WomenSeekMen/usa/6728718.html\n",
      "None\n",
      "https://saltlakecity.bedpage.com/WomenSeekMen/usa/6728442.html\n",
      "None\n",
      "https://saltlakecity.bedpage.com/WomenSeekMen/usa/6728046.html\n",
      "None\n",
      "https://saltlakecity.bedpage.com/WomenSeekMen/usa/6727824.html\n",
      "None\n",
      "https://saltlakecity.bedpage.com/WomenSeekMen/usa/6727811.html\n",
      "None\n",
      "https://saltlakecity.bedpage.com/WomenSeekMen/usa/6727805.html\n",
      "None\n",
      "https://saltlakecity.bedpage.com/WomenSeekMen/usa/6726791.html\n",
      "None\n",
      "https://saltlakecity.bedpage.com/WomenSeekMen/usa/6726790.html\n",
      "None\n",
      "https://saltlakecity.bedpage.com/WomenSeekMen/usa/6726789.html\n",
      "None\n",
      "https://saltlakecity.bedpage.com/WomenSeekMen/usa/6726788.html\n",
      "None\n",
      "https://saltlakecity.bedpage.com/WomenSeekMen/usa/6726787.html\n",
      "None\n",
      "https://saltlakecity.bedpage.com/WomenSeekMen/usa/6726694.html\n",
      "None\n",
      "https://saltlakecity.bedpage.com/WomenSeekMen/usa/6726688.html\n",
      "None\n",
      "https://saltlakecity.bedpage.com/WomenSeekMen/usa/6726676.html\n",
      "None\n",
      "https://saltlakecity.bedpage.com/WomenSeekMen/usa/6726627.html\n",
      "None\n",
      "https://saltlakecity.bedpage.com/WomenSeekMen/usa/6726543.html\n",
      "None\n",
      "https://saltlakecity.bedpage.com/WomenSeekMen/usa/6725948.html\n",
      "None\n",
      "https://saltlakecity.bedpage.com/WomenSeekMen/usa/6725934.html\n",
      "None\n",
      "https://saltlakecity.bedpage.com/WomenSeekMen/usa/6725927.html\n",
      "None\n",
      "https://saltlakecity.bedpage.com/WomenSeekMen/united-states/6724847.html\n",
      "None\n",
      "https://saltlakecity.bedpage.com/WomenSeekMen/usa/6724592.html\n",
      "None\n",
      "https://saltlakecity.bedpage.com/WomenSeekMen/united-states/6724587.html\n",
      "None\n",
      "https://saltlakecity.bedpage.com/WomenSeekMen/united-states/6724586.html\n",
      "None\n",
      "https://saltlakecity.bedpage.com/WomenSeekMen/united-states/6724585.html\n",
      "None\n",
      "https://saltlakecity.bedpage.com/WomenSeekMen/united-states/6724584.html\n",
      "None\n",
      "https://saltlakecity.bedpage.com/WomenSeekMen/united-states/6724583.html\n",
      "None\n",
      "https://saltlakecity.bedpage.com/WomenSeekMen/usa/6709115.html\n",
      "None\n",
      "https://saltlakecity.bedpage.com/WomenSeekMen/usa/6724232.html\n",
      "None\n",
      "https://saltlakecity.bedpage.com/WomenSeekMen/usa/6724226.html\n",
      "None\n",
      "https://saltlakecity.bedpage.com/WomenSeekMen/usa/6724104.html\n",
      "None\n",
      "https://saltlakecity.bedpage.com/WomenSeekMen/usa/6723901.html\n",
      "None\n",
      "https://saltlakecity.bedpage.com/WomenSeekMen/usa/6723885.html\n",
      "None\n",
      "https://saltlakecity.bedpage.com/WomenSeekMen/usa/6723878.html\n",
      "None\n",
      "https://saltlakecity.bedpage.com/WomenSeekMen/usa/6723830.html\n",
      "None\n",
      "https://saltlakecity.bedpage.com/WomenSeekMen/united-states/6722683.html\n",
      "None\n",
      "https://saltlakecity.bedpage.com/WomenSeekMen/usa/6722682.html\n",
      "None\n",
      "https://saltlakecity.bedpage.com/WomenSeekMen/usa/6722630.html\n",
      "None\n",
      "https://saltlakecity.bedpage.com/WomenSeekMen/usa/6722628.html\n",
      "None\n",
      "https://saltlakecity.bedpage.com/WomenSeekMen/usa/6722625.html\n",
      "None\n",
      "https://saltlakecity.bedpage.com/WomenSeekMen/usa/6722624.html\n",
      "None\n",
      "https://saltlakecity.bedpage.com/WomenSeekMen/usa/6722555.html\n",
      "None\n",
      "https://saltlakecity.bedpage.com/WomenSeekMen/usa/6722549.html\n",
      "None\n",
      "https://saltlakecity.bedpage.com/WomenSeekMen/usa/6722422.html\n",
      "None\n",
      "https://saltlakecity.bedpage.com/WomenSeekMen/united-states/6722392.html\n",
      "None\n",
      "https://saltlakecity.bedpage.com/WomenSeekMen/united-states/6722391.html\n",
      "None\n",
      "https://saltlakecity.bedpage.com/WomenSeekMen/united-states/6722345.html\n",
      "None\n",
      "https://saltlakecity.bedpage.com/WomenSeekMen/united-states/6722339.html\n",
      "None\n",
      "https://saltlakecity.bedpage.com/WomenSeekMen/usa/6722333.html\n",
      "None\n",
      "https://saltlakecity.bedpage.com/WomenSeekMen/usa/6722332.html\n",
      "None\n",
      "https://saltlakecity.bedpage.com/WomenSeekMen/estados-unidos/6722143.html\n",
      "None\n",
      "https://saltlakecity.bedpage.com/WomenSeekMen/usa/6721931.html\n",
      "None\n",
      "https://saltlakecity.bedpage.com/WomenSeekMen/usa/6721740.html\n",
      "None\n",
      "https://saltlakecity.bedpage.com/WomenSeekMen/usa/6721723.html\n",
      "None\n",
      "https://saltlakecity.bedpage.com/WomenSeekMen/usa/6721720.html\n",
      "None\n",
      "https://saltlakecity.bedpage.com/WomenSeekMen/usa/6721673.html\n",
      "None\n",
      "https://saltlakecity.bedpage.com/WomenSeekMen/salt-lake-city-ut-usa/6659473.html\n",
      "None\n",
      "https://saltlakecity.bedpage.com/WomenSeekMen/usa/6720526.html\n",
      "None\n",
      "https://saltlakecity.bedpage.com/WomenSeekMen/usa/6720521.html\n",
      "None\n",
      "https://saltlakecity.bedpage.com/WomenSeekMen/usa/6720520.html\n",
      "None\n",
      "https://saltlakecity.bedpage.com/WomenSeekMen/usa/6720518.html\n",
      "None\n",
      "https://saltlakecity.bedpage.com/WomenSeekMen/usa/6586011.html\n",
      "None\n",
      "https://saltlakecity.bedpage.com/WomenSeekMen/usa/6720310.html\n",
      "None\n",
      "https://saltlakecity.bedpage.com/WomenSeekMen/united-states/6720261.html\n",
      "None\n",
      "https://saltlakecity.bedpage.com/WomenSeekMen/usa/6720224.html\n",
      "None\n",
      "https://saltlakecity.bedpage.com/WomenSeekMen/usa/6719852.html\n",
      "None\n",
      "https://saltlakecity.bedpage.com/WomenSeekMen/united-states/6719673.html\n",
      "None\n",
      "https://saltlakecity.bedpage.com/WomenSeekMen/usa/6719664.html\n",
      "None\n",
      "https://saltlakecity.bedpage.com/WomenSeekMen/usa/6719650.html\n",
      "None\n",
      "https://saltlakecity.bedpage.com/WomenSeekMen/usa/6719645.html\n",
      "None\n",
      "https://saltlakecity.bedpage.com/WomenSeekMen/usa/6719230.html\n",
      "None\n",
      "https://saltlakecity.bedpage.com/WomenSeekMen/usa/6718522.html\n",
      "None\n",
      "https://saltlakecity.bedpage.com/WomenSeekMen/usa/6718520.html\n",
      "None\n",
      "https://saltlakecity.bedpage.com/WomenSeekMen/usa/6718519.html\n",
      "None\n",
      "https://saltlakecity.bedpage.com/WomenSeekMen/usa/6718518.html\n",
      "None\n",
      "https://saltlakecity.bedpage.com/WomenSeekMen/usa/6718513.html\n",
      "None\n",
      "https://saltlakecity.bedpage.com/WomenSeekMen/usa/6718512.html\n",
      "None\n",
      "https://saltlakecity.bedpage.com/WomenSeekMen/usa/6718509.html\n",
      "None\n",
      "https://saltlakecity.bedpage.com/WomenSeekMen/usa/6718508.html\n",
      "None\n",
      "https://saltlakecity.bedpage.com/WomenSeekMen/usa/6718354.html\n",
      "None\n",
      "https://saltlakecity.bedpage.com/WomenSeekMen/usa/6718251.html\n",
      "None\n",
      "https://saltlakecity.bedpage.com/WomenSeekMen/usa/6718248.html\n",
      "None\n",
      "https://saltlakecity.bedpage.com/WomenSeekMen/usa/6718247.html\n",
      "None\n",
      "https://saltlakecity.bedpage.com/WomenSeekMen/usa/6718246.html\n",
      "None\n",
      "https://saltlakecity.bedpage.com/WomenSeekMen/usa/6718245.html\n",
      "None\n",
      "https://saltlakecity.bedpage.com/WomenSeekMen/usa/6717708.html\n",
      "None\n",
      "https://saltlakecity.bedpage.com/WomenSeekMen/usa/6717705.html\n",
      "None\n",
      "https://saltlakecity.bedpage.com/WomenSeekMen/usa/6717657.html\n",
      "None\n",
      "https://saltlakecity.bedpage.com/WomenSeekMen/usa/6717247.html\n",
      "None\n",
      "https://saltlakecity.bedpage.com/WomenSeekMen/usa/6716476.html\n",
      "None\n",
      "https://saltlakecity.bedpage.com/WomenSeekMen/usa/6716475.html\n",
      "None\n",
      "https://saltlakecity.bedpage.com/WomenSeekMen/usa/6716474.html\n",
      "None\n",
      "https://saltlakecity.bedpage.com/WomenSeekMen/usa/6716473.html\n",
      "None\n",
      "https://saltlakecity.bedpage.com/WomenSeekMen/usa/6716472.html\n",
      "None\n",
      "https://saltlakecity.bedpage.com/WomenSeekMen/usa/6716471.html\n",
      "None\n",
      "https://saltlakecity.bedpage.com/WomenSeekMen/usa/6716466.html\n",
      "None\n",
      "https://saltlakecity.bedpage.com/WomenSeekMen/usa/6716465.html\n",
      "None\n",
      "https://saltlakecity.bedpage.com/WomenSeekMen/usa/6716462.html\n",
      "None\n",
      "https://saltlakecity.bedpage.com/WomenSeekMen/usa/6716461.html\n",
      "None\n",
      "https://saltlakecity.bedpage.com/WomenSeekMen/usa/6716460.html\n",
      "None\n",
      "https://saltlakecity.bedpage.com/WomenSeekMen/usa/6716286.html\n",
      "None\n",
      "https://saltlakecity.bedpage.com/WomenSeekMen/usa/6716167.html\n",
      "None\n",
      "https://saltlakecity.bedpage.com/WomenSeekMen/usa/6715551.html\n",
      "None\n",
      "https://saltlakecity.bedpage.com/WomenSeekMen/usa/6715547.html\n",
      "None\n",
      "https://saltlakecity.bedpage.com/WomenSeekMen/usa/6715499.html\n",
      "None\n",
      "https://saltlakecity.bedpage.com/WomenSeekMen/usa/6714685.html\n",
      "None\n",
      "https://saltlakecity.bedpage.com/WomenSeekMen/usa/6714225.html\n",
      "None\n",
      "https://saltlakecity.bedpage.com/WomenSeekMen/usa/6713899.html\n",
      "None\n",
      "https://saltlakecity.bedpage.com/WomenSeekMen/usa/6713712.html\n",
      "None\n",
      "https://saltlakecity.bedpage.com/WomenSeekMen/usa/6713490.html\n",
      "https://saltlakecity.bedpage.com/WomenSeekMen/2\n",
      "https://saltlakecity.bedpage.com/WomenSeekMen/3\n",
      "https://saltlakecity.bedpage.com/WomenSeekMen/4\n",
      "https://saltlakecity.bedpage.com/WomenSeekMen/2\n",
      "https://saltlakecity.bedpage.com/WomenSeekMen/incall-outcall-car-play-let-s-have-lots-of-fun/7791052.html\n",
      "https://saltlakecity.bedpage.com/WomenSeekMen/incall-outcall-car-play-let-s-have-lots-of-fun/7791052.html\n",
      "https://saltlakecity.bedpage.com/WomenSeekMen/incall-outcall-car-play-let-s-have-lots-of-fun/7791052.html\n",
      "https://saltlakecity.bedpage.com/WomenSeekMen/incall-outcall-car-play-let-s-have-lots-of-fun/7244377.html\n",
      "https://saltlakecity.bedpage.com/WomenSeekMen/incall-outcall-car-play-let-s-have-lots-of-fun/7244377.html\n",
      "https://saltlakecity.bedpage.com/WomenSeekMen/incall-outcall-car-play-let-s-have-lots-of-fun/7244377.html\n",
      "https://saltlakecity.bedpage.com/WomenSeekMen/ride-to-work-asap/6563624.html\n",
      "https://saltlakecity.bedpage.com/WomenSeekMen/ride-to-work-asap/6563624.html\n",
      "https://saltlakecity.bedpage.com/WomenSeekMen/ride-to-work-asap/6563624.html\n",
      "https://saltlakecity.bedpage.com/WomenSeekMen/ride-to-work-asap/6563624.html\n",
      "https://saltlakecity.bedpage.com/WomenSeekMen/hi-i-want-go-out-tonight-do-you-have-time/6695143.html\n",
      "https://saltlakecity.bedpage.com/WomenSeekMen/hi-i-want-go-out-tonight-do-you-have-time/6695143.html\n",
      "https://saltlakecity.bedpage.com/WomenSeekMen/come-fuck-my-juicy-pussy-tonight-amp-tomorrow/6693121.html\n",
      "https://saltlakecity.bedpage.com/WomenSeekMen/come-fuck-my-juicy-pussy-tonight-amp-tomorrow/6693121.html\n",
      "https://saltlakecity.bedpage.com/WomenSeekMen/i-m-always-horney-so-come-fk-me/6693129.html\n",
      "https://saltlakecity.bedpage.com/WomenSeekMen/i-m-always-horney-so-come-fk-me/6693129.html\n",
      "https://saltlakecity.bedpage.com/WomenSeekMen/layla-here-to-serve-you-why-look-anywhere-else/6693131.html\n",
      "https://saltlakecity.bedpage.com/WomenSeekMen/layla-here-to-serve-you-why-look-anywhere-else/6693131.html\n",
      "https://saltlakecity.bedpage.com/WomenSeekMen/nude-full-body-to-body-rub/6693111.html\n",
      "https://saltlakecity.bedpage.com/WomenSeekMen/nude-full-body-to-body-rub/6693111.html\n",
      "https://saltlakecity.bedpage.com/WomenSeekMen/take-some-time-out-of-your-day-and-indulge-yourself-come-on-a-tantalizing-tryst-with-me/6724876.html\n",
      "https://saltlakecity.bedpage.com/WomenSeekMen/take-some-time-out-of-your-day-and-indulge-yourself-come-on-a-tantalizing-tryst-with-me/6724876.html\n",
      "https://saltlakecity.bedpage.com/WomenSeekMen/o-ng-cki-ach-r-wa-t-to-e-t-w-ol-chole86480-at-gmail/6703885.html\n",
      "https://saltlakecity.bedpage.com/WomenSeekMen/o-ng-cki-ach-r-wa-t-to-e-t-w-ol-chole86480-at-gmail/6703885.html\n",
      "https://saltlakecity.bedpage.com/WomenSeekMen/o-ng-cki-ach-r-wa-t-to-e-t-w-ol-chole86480-at-gmail/6703885.html\n",
      "https://saltlakecity.bedpage.com/WomenSeekMen/o-ng-cki-ach-r-wa-t-to-e-t-w-ol-chole86480-at-gmail/6703885.html\n",
      "https://saltlakecity.bedpage.com/WomenSeekMen/look-at-me-i-know-what-are-you-thinking/6595688.html\n",
      "https://saltlakecity.bedpage.com/WomenSeekMen/look-at-me-i-know-what-are-you-thinking/6595688.html\n",
      "https://saltlakecity.bedpage.com/WomenSeekMen/attn-new-number-text-me-469-515-1672-let-me-blo-ur-mind/6720122.html\n",
      "https://saltlakecity.bedpage.com/WomenSeekMen/attn-new-number-text-me-469-515-1672-let-me-blo-ur-mind/6720122.html\n",
      "https://saltlakecity.bedpage.com/WomenSeekMen/attn-new-number-text-me-469-515-1672-let-me-blo-ur-mind/6720122.html\n",
      "https://saltlakecity.bedpage.com/WomenSeekMen/attn-new-number-text-me-469-515-1672-let-me-blo-ur-mind/6720122.html\n",
      "https://saltlakecity.bedpage.com/WomenSeekMen/real-sexy-asian-exotic-latina-ebony-girls-waiting-for-you/7246086.html\n",
      "https://saltlakecity.bedpage.com/WomenSeekMen/real-sexy-asian-exotic-latina-ebony-girls-waiting-for-you/7246086.html\n",
      "https://saltlakecity.bedpage.com/WomenSeekMen/real-sexy-asian-exotic-latina-ebony-girls-waiting-for-you/7246086.html\n",
      "https://saltlakecity.bedpage.com/WomenSeekMen/real-sexy-asian-exotic-latina-ebony-girls-waiting-for-you/7246086.html\n",
      "https://saltlakecity.bedpage.com/WomenSeekMen/sexy-brunette-barbie-hottie/6719982.html\n",
      "https://saltlakecity.bedpage.com/WomenSeekMen/sexy-brunette-barbie-hottie/6719982.html\n",
      "https://saltlakecity.bedpage.com/WomenSeekMen/sexy-brunette-barbie-hottie/6719982.html\n",
      "https://saltlakecity.bedpage.com/WomenSeekMen/sexy-brunette-barbie-hottie/6719982.html\n",
      "https://saltlakecity.bedpage.com/WomenSeekMen/look-at-me-i-know-what-are-you-thinking/6597610.html\n",
      "https://saltlakecity.bedpage.com/WomenSeekMen/look-at-me-i-know-what-are-you-thinking/6597610.html\n",
      "https://saltlakecity.bedpage.com/WomenSeekMen/tired-of-getting-the-run-around-and-the-hassle-well-i-m-promise-you-will-leave-wanting-more/6586011.html\n",
      "https://saltlakecity.bedpage.com/WomenSeekMen/tired-of-getting-the-run-around-and-the-hassle-well-i-m-promise-you-will-leave-wanting-more/6586011.html\n",
      "https://www.bedpage.com/\n",
      "https://www.bedpage.com/about-us\n",
      "https://www.bedpage.com/manage-ads\n",
      "https://www.bedpage.com/add-credit\n",
      "https://www.bedpage.com/contact\n",
      "https://www.bedpage.com/PrivacyPolicy\n",
      "https://www.bedpage.com/TermsOfUse\n",
      "https://www.bedpage.com/alternative-to-backpage\n",
      "https://www.bedpage.com/website-similar-to-backpage\n",
      "https://www.bedpage.com/best-sites-like-backpage\n",
      "https://www.bedpage.com/backpage-replacement\n",
      "/free-directory-sites\n",
      "/free-classified-sites\n",
      "https://www.bedpage.com/\n"
     ]
    },
    {
     "data": {
      "text/plain": [
       "'\\nThis output contains sensitive material including sensual language. \\nDiscretion is advised.\\n'"
      ]
     },
     "execution_count": 4,
     "metadata": {},
     "output_type": "execute_result"
    }
   ],
   "source": [
    "#Displays List of urls\n",
    "for url in soup.find_all('a'):\n",
    "    print(url.get('href'))\n",
    "\"\"\"\n",
    "This output contains sensitive material including sensual language. \n",
    "Discretion is advised.\n",
    "\"\"\""
   ]
  },
  {
   "cell_type": "markdown",
   "metadata": {},
   "source": [
    "Looks like the urls of the format [https://saltlakecity.bedpage.com/WomenSeekMen/(something)] are the links to personal ads, accounts, and/or pictures. They are a ways down on this list, but they're there. This is only one page of ads (going to each of the pages and displaying all of that data can be done with packages like selenium), but there are still several results here. Let's figure out exactly how many there are."
   ]
  },
  {
   "cell_type": "code",
   "execution_count": 5,
   "metadata": {},
   "outputs": [
    {
     "name": "stdout",
     "output_type": "stream",
     "text": [
      "402\n"
     ]
    }
   ],
   "source": [
    "ads_list = soup.find_all('a', href=re.compile('https://saltlakecity.bedpage.com/WomenSeekMen/'))\n",
    "print(len(ads_list))"
   ]
  },
  {
   "cell_type": "markdown",
   "metadata": {},
   "source": [
    "Some links in the list are just the actual website link, the website's full gallery of ad pictures, and the links to the next pages of ads. I don't really want to scrape through those, so I'll get rid of those. "
   ]
  },
  {
   "cell_type": "code",
   "execution_count": 6,
   "metadata": {},
   "outputs": [],
   "source": [
    "links = []\n",
    "\n",
    "for url in ads_list:\n",
    "    links.append(url.get('href'))"
   ]
  },
  {
   "cell_type": "code",
   "execution_count": 7,
   "metadata": {},
   "outputs": [],
   "source": [
    "useless = ['https://saltlakecity.bedpage.com/WomenSeekMen/2',\n",
    "           'https://saltlakecity.bedpage.com/WomenSeekMen/3', \n",
    "           'https://saltlakecity.bedpage.com/WomenSeekMen/4',\n",
    "           'https://saltlakecity.bedpage.com/WomenSeekMen/2', \n",
    "           'https://saltlakecity.bedpage.com/WomenSeekMen/', \n",
    "           'https://saltlakecity.bedpage.com/WomenSeekMen/gallery']\n",
    "\n",
    "for url in useless:\n",
    "    links.remove(url)"
   ]
  },
  {
   "cell_type": "code",
   "execution_count": 8,
   "metadata": {},
   "outputs": [
    {
     "name": "stdout",
     "output_type": "stream",
     "text": [
      "{'https://saltlakecity.bedpage.com/WomenSeekMen/usa/6721723.html', 'https://saltlakecity.bedpage.com/WomenSeekMen/usa/6716474.html', 'https://saltlakecity.bedpage.com/WomenSeekMen/usa/6729606.html', 'https://saltlakecity.bedpage.com/WomenSeekMen/usa/6706578.html', 'https://saltlakecity.bedpage.com/WomenSeekMen/usa/7195904.html', 'https://saltlakecity.bedpage.com/WomenSeekMen/usa/6709115.html', 'https://saltlakecity.bedpage.com/WomenSeekMen/united-states/6769506.html', 'https://saltlakecity.bedpage.com/WomenSeekMen/usa/6728046.html', 'https://saltlakecity.bedpage.com/WomenSeekMen/usa/7805960.html', 'https://saltlakecity.bedpage.com/WomenSeekMen/usa/6720224.html', 'https://saltlakecity.bedpage.com/WomenSeekMen/usa/6762329.html', 'https://saltlakecity.bedpage.com/WomenSeekMen/usa/6727824.html', 'https://saltlakecity.bedpage.com/WomenSeekMen/usa/6734722.html', 'https://saltlakecity.bedpage.com/WomenSeekMen/usa/6863223.html', 'https://saltlakecity.bedpage.com/WomenSeekMen/usa/6759321.html', 'https://saltlakecity.bedpage.com/WomenSeekMen/usa/6726627.html', 'https://saltlakecity.bedpage.com/WomenSeekMen/united-states/7246086.html', 'https://saltlakecity.bedpage.com/WomenSeekMen/united-states/6766563.html', 'https://saltlakecity.bedpage.com/WomenSeekMen/usa/6759503.html', 'https://saltlakecity.bedpage.com/WomenSeekMen/usa/6719230.html', 'https://saltlakecity.bedpage.com/WomenSeekMen/usa/7197674.html', 'https://saltlakecity.bedpage.com/WomenSeekMen/united-states/6759353.html', 'https://saltlakecity.bedpage.com/WomenSeekMen/united-states/6724583.html', 'https://saltlakecity.bedpage.com/WomenSeekMen/usa/7194283.html', 'https://saltlakecity.bedpage.com/WomenSeekMen/taylorsville/6761639.html', 'https://saltlakecity.bedpage.com/WomenSeekMen/usa/7148424.html', 'https://saltlakecity.bedpage.com/WomenSeekMen/united-states/6763801.html', 'https://saltlakecity.bedpage.com/WomenSeekMen/usa/6726790.html', 'https://saltlakecity.bedpage.com/WomenSeekMen/salt-lake-city-ut-usa/6659473.html', 'https://saltlakecity.bedpage.com/WomenSeekMen/usa/6798992.html', 'https://saltlakecity.bedpage.com/WomenSeekMen/usa/6717705.html', 'https://saltlakecity.bedpage.com/WomenSeekMen/usa/7792585.html', 'https://saltlakecity.bedpage.com/WomenSeekMen/united-states/7244377.html', 'https://saltlakecity.bedpage.com/WomenSeekMen/united-states/7196401.html', 'https://saltlakecity.bedpage.com/WomenSeekMen/usa/7792661.html', 'https://saltlakecity.bedpage.com/WomenSeekMen/usa/7193841.html', 'https://saltlakecity.bedpage.com/WomenSeekMen/usa/6827066.html', 'https://saltlakecity.bedpage.com/WomenSeekMen/united-states/6759483.html', 'https://saltlakecity.bedpage.com/WomenSeekMen/usa/6726789.html', 'https://saltlakecity.bedpage.com/WomenSeekMen/usa/6722625.html', 'https://saltlakecity.bedpage.com/WomenSeekMen/united-states/6724847.html', 'https://saltlakecity.bedpage.com/WomenSeekMen/usa/6717247.html', 'https://saltlakecity.bedpage.com/WomenSeekMen/usa/6719982.html', 'https://saltlakecity.bedpage.com/WomenSeekMen/usa/6730153.html', 'https://saltlakecity.bedpage.com/WomenSeekMen/usa/6759562.html', 'https://saltlakecity.bedpage.com/WomenSeekMen/usa/6716471.html', 'https://saltlakecity.bedpage.com/WomenSeekMen/usa/6732820.html', 'https://saltlakecity.bedpage.com/WomenSeekMen/i-m-always-horney-so-come-fk-me/6693129.html', 'https://saltlakecity.bedpage.com/WomenSeekMen/usa/6760268.html', 'https://saltlakecity.bedpage.com/WomenSeekMen/usa/6724104.html', 'https://saltlakecity.bedpage.com/WomenSeekMen/usa/6713712.html', 'https://saltlakecity.bedpage.com/WomenSeekMen/taylorsville/6798577.html', 'https://saltlakecity.bedpage.com/WomenSeekMen/usa/6734665.html', 'https://saltlakecity.bedpage.com/WomenSeekMen/usa/7195849.html', 'https://saltlakecity.bedpage.com/WomenSeekMen/look-at-me-i-know-what-are-you-thinking/6597610.html', 'https://saltlakecity.bedpage.com/WomenSeekMen/usa/7196291.html', 'https://saltlakecity.bedpage.com/WomenSeekMen/usa/6759563.html', 'https://saltlakecity.bedpage.com/WomenSeekMen/united-states/6724586.html', 'https://saltlakecity.bedpage.com/WomenSeekMen/usa/6767759.html', 'https://saltlakecity.bedpage.com/WomenSeekMen/usa/6722624.html', 'https://saltlakecity.bedpage.com/WomenSeekMen/usa/7119400.html', 'https://saltlakecity.bedpage.com/WomenSeekMen/usa/7193811.html', 'https://saltlakecity.bedpage.com/WomenSeekMen/usa/6798783.html', 'https://saltlakecity.bedpage.com/WomenSeekMen/usa/7244289.html', 'https://saltlakecity.bedpage.com/WomenSeekMen/usa/6734526.html', 'https://saltlakecity.bedpage.com/WomenSeekMen/usa/6732436.html', 'https://saltlakecity.bedpage.com/WomenSeekMen/usa/6715547.html', 'https://saltlakecity.bedpage.com/WomenSeekMen/usa/6759334.html', 'https://saltlakecity.bedpage.com/WomenSeekMen/usa/7194894.html', 'https://saltlakecity.bedpage.com/WomenSeekMen/usa/6799157.html', 'https://saltlakecity.bedpage.com/WomenSeekMen/usa/6725934.html', 'https://saltlakecity.bedpage.com/WomenSeekMen/usa/7196286.html', 'https://saltlakecity.bedpage.com/WomenSeekMen/usa/6718248.html', 'https://saltlakecity.bedpage.com/WomenSeekMen/usa/7791538.html', 'https://saltlakecity.bedpage.com/WomenSeekMen/usa/6767617.html', 'https://saltlakecity.bedpage.com/WomenSeekMen/usa/7148457.html', 'https://saltlakecity.bedpage.com/WomenSeekMen/usa/6764985.html', 'https://saltlakecity.bedpage.com/WomenSeekMen/o-ng-cki-ach-r-wa-t-to-e-t-w-ol-chole86480-at-gmail/6703885.html', 'https://saltlakecity.bedpage.com/WomenSeekMen/usa/6729934.html', 'https://saltlakecity.bedpage.com/WomenSeekMen/usa/7244758.html', 'https://saltlakecity.bedpage.com/WomenSeekMen/usa/6729918.html', 'https://saltlakecity.bedpage.com/WomenSeekMen/usa/6726688.html', 'https://saltlakecity.bedpage.com/WomenSeekMen/usa/6725948.html', 'https://saltlakecity.bedpage.com/WomenSeekMen/taylorsville/6758656.html', 'https://saltlakecity.bedpage.com/WomenSeekMen/united-states/6722339.html', 'https://saltlakecity.bedpage.com/WomenSeekMen/usa/6722332.html', 'https://saltlakecity.bedpage.com/WomenSeekMen/usa/6732437.html', 'https://saltlakecity.bedpage.com/WomenSeekMen/usa/6726791.html', 'https://saltlakecity.bedpage.com/WomenSeekMen/usa/6719645.html', 'https://saltlakecity.bedpage.com/WomenSeekMen/usa/7792046.html', 'https://saltlakecity.bedpage.com/WomenSeekMen/united-states/7194408.html', 'https://saltlakecity.bedpage.com/WomenSeekMen/estados-unidos/6762027.html', 'https://saltlakecity.bedpage.com/WomenSeekMen/usa/6726787.html', 'https://saltlakecity.bedpage.com/WomenSeekMen/usa/6722628.html', 'https://saltlakecity.bedpage.com/WomenSeekMen/layla-here-to-serve-you-why-look-anywhere-else/6693131.html', 'https://saltlakecity.bedpage.com/WomenSeekMen/usa/6720518.html', 'https://saltlakecity.bedpage.com/WomenSeekMen/usa/6762758.html', 'https://saltlakecity.bedpage.com/WomenSeekMen/usa/6717657.html', 'https://saltlakecity.bedpage.com/WomenSeekMen/usa/6715551.html', 'https://saltlakecity.bedpage.com/WomenSeekMen/usa/6695365.html', 'https://saltlakecity.bedpage.com/WomenSeekMen/usa/6769671.html', 'https://saltlakecity.bedpage.com/WomenSeekMen/usa/7148458.html', 'https://saltlakecity.bedpage.com/WomenSeekMen/usa/6718247.html', 'https://saltlakecity.bedpage.com/WomenSeekMen/usa/6718520.html', 'https://saltlakecity.bedpage.com/WomenSeekMen/ride-to-work-asap/6563624.html', 'https://saltlakecity.bedpage.com/WomenSeekMen/usa/7245906.html', 'https://saltlakecity.bedpage.com/WomenSeekMen/usa/6703885.html', 'https://saltlakecity.bedpage.com/WomenSeekMen/usa/7194332.html', 'https://saltlakecity.bedpage.com/WomenSeekMen/usa/7193842.html', 'https://saltlakecity.bedpage.com/WomenSeekMen/united-states/7192298.html', 'https://saltlakecity.bedpage.com/WomenSeekMen/usa/6767058.html', 'https://saltlakecity.bedpage.com/WomenSeekMen/usa/7805567.html', 'https://saltlakecity.bedpage.com/WomenSeekMen/usa/6693111.html', 'https://saltlakecity.bedpage.com/WomenSeekMen/usa/6766921.html', 'https://saltlakecity.bedpage.com/WomenSeekMen/usa/7192516.html', 'https://saltlakecity.bedpage.com/WomenSeekMen/united-states/6763580.html', 'https://saltlakecity.bedpage.com/WomenSeekMen/united-states/7198198.html', 'https://saltlakecity.bedpage.com/WomenSeekMen/usa/6730152.html', 'https://saltlakecity.bedpage.com/WomenSeekMen/usa/6726788.html', 'https://saltlakecity.bedpage.com/WomenSeekMen/united-states/6724584.html', 'https://saltlakecity.bedpage.com/WomenSeekMen/usa/6721720.html', 'https://saltlakecity.bedpage.com/WomenSeekMen/united-states/7192518.html', 'https://saltlakecity.bedpage.com/WomenSeekMen/estados-unidos/6763039.html', 'https://saltlakecity.bedpage.com/WomenSeekMen/usa/6766908.html', 'https://saltlakecity.bedpage.com/WomenSeekMen/united-states/7192517.html', 'https://saltlakecity.bedpage.com/WomenSeekMen/united-states/6722345.html', 'https://saltlakecity.bedpage.com/WomenSeekMen/usa/7791954.html', 'https://saltlakecity.bedpage.com/WomenSeekMen/usa/7245870.html', 'https://saltlakecity.bedpage.com/WomenSeekMen/usa/6716460.html', 'https://saltlakecity.bedpage.com/WomenSeekMen/usa/6715499.html', 'https://saltlakecity.bedpage.com/WomenSeekMen/usa/6718513.html', 'https://saltlakecity.bedpage.com/WomenSeekMen/attn-new-number-text-me-469-515-1672-let-me-blo-ur-mind/6720122.html', 'https://saltlakecity.bedpage.com/WomenSeekMen/usa/6735215.html', 'https://saltlakecity.bedpage.com/WomenSeekMen/usa/6722549.html', 'https://saltlakecity.bedpage.com/WomenSeekMen/usa/6718509.html', 'https://saltlakecity.bedpage.com/WomenSeekMen/usa/6716472.html', 'https://saltlakecity.bedpage.com/WomenSeekMen/usa/6716473.html', 'https://saltlakecity.bedpage.com/WomenSeekMen/usa/6727811.html', 'https://saltlakecity.bedpage.com/WomenSeekMen/usa/6799158.html', 'https://saltlakecity.bedpage.com/WomenSeekMen/united-states/6720261.html', 'https://saltlakecity.bedpage.com/WomenSeekMen/usa/6732196.html', 'https://saltlakecity.bedpage.com/WomenSeekMen/united-states/7791052.html', 'https://saltlakecity.bedpage.com/WomenSeekMen/usa/6730501.html', 'https://saltlakecity.bedpage.com/WomenSeekMen/usa/6765133.html', 'https://saltlakecity.bedpage.com/WomenSeekMen/come-fuck-my-juicy-pussy-tonight-amp-tomorrow/6693121.html', 'https://saltlakecity.bedpage.com/WomenSeekMen/usa/6717708.html', 'https://saltlakecity.bedpage.com/WomenSeekMen/usa/6722630.html', 'https://saltlakecity.bedpage.com/WomenSeekMen/usa/6657689.html', 'https://saltlakecity.bedpage.com/WomenSeekMen/united-states/6734552.html', 'https://saltlakecity.bedpage.com/WomenSeekMen/usa/7806110.html', 'https://saltlakecity.bedpage.com/WomenSeekMen/sexy-brunette-barbie-hottie/6719982.html', 'https://saltlakecity.bedpage.com/WomenSeekMen/usa/7189881.html', 'https://saltlakecity.bedpage.com/WomenSeekMen/usa/6765658.html', 'https://saltlakecity.bedpage.com/WomenSeekMen/usa/6731583.html', 'https://saltlakecity.bedpage.com/WomenSeekMen/usa/6722682.html', 'https://saltlakecity.bedpage.com/WomenSeekMen/usa/6720521.html', 'https://saltlakecity.bedpage.com/WomenSeekMen/usa/6718354.html', 'https://saltlakecity.bedpage.com/WomenSeekMen/usa/6718251.html', 'https://saltlakecity.bedpage.com/WomenSeekMen/usa/6723830.html', 'https://saltlakecity.bedpage.com/WomenSeekMen/usa/6716167.html', 'https://saltlakecity.bedpage.com/WomenSeekMen/united-states/6898392.html', 'https://saltlakecity.bedpage.com/WomenSeekMen/united-states/6724587.html', 'https://saltlakecity.bedpage.com/WomenSeekMen/usa/6762799.html', 'https://saltlakecity.bedpage.com/WomenSeekMen/taylorsville/6767686.html', 'https://saltlakecity.bedpage.com/WomenSeekMen/united-states/6693131.html', 'https://saltlakecity.bedpage.com/WomenSeekMen/usa/6735120.html', 'https://saltlakecity.bedpage.com/WomenSeekMen/usa/7806006.html', 'https://saltlakecity.bedpage.com/WomenSeekMen/usa/7246001.html', 'https://saltlakecity.bedpage.com/WomenSeekMen/usa/7198098.html', 'https://saltlakecity.bedpage.com/WomenSeekMen/usa/7195816.html', 'https://saltlakecity.bedpage.com/WomenSeekMen/usa/7246214.html', 'https://saltlakecity.bedpage.com/WomenSeekMen/usa/6713490.html', 'https://saltlakecity.bedpage.com/WomenSeekMen/usa/6767117.html', 'https://saltlakecity.bedpage.com/WomenSeekMen/usa/6765195.html', 'https://saltlakecity.bedpage.com/WomenSeekMen/united-states/7194325.html', 'https://saltlakecity.bedpage.com/WomenSeekMen/taylorsville/7190694.html', 'https://saltlakecity.bedpage.com/WomenSeekMen/taylorsville/7119160.html', 'https://saltlakecity.bedpage.com/WomenSeekMen/usa/6765196.html', 'https://saltlakecity.bedpage.com/WomenSeekMen/usa/6718512.html', 'https://saltlakecity.bedpage.com/WomenSeekMen/usa/6768269.html', 'https://saltlakecity.bedpage.com/WomenSeekMen/usa/6767116.html', 'https://saltlakecity.bedpage.com/WomenSeekMen/united-states/6722392.html', 'https://saltlakecity.bedpage.com/WomenSeekMen/united-states/7792577.html', 'https://saltlakecity.bedpage.com/WomenSeekMen/usa/6720520.html', 'https://saltlakecity.bedpage.com/WomenSeekMen/usa/6563624.html', 'https://saltlakecity.bedpage.com/WomenSeekMen/estados-unidos/6722143.html', 'https://saltlakecity.bedpage.com/WomenSeekMen/usa/6718518.html', 'https://saltlakecity.bedpage.com/WomenSeekMen/usa/6724226.html', 'https://saltlakecity.bedpage.com/WomenSeekMen/taylorsville/7805336.html', 'https://saltlakecity.bedpage.com/WomenSeekMen/usa/6721673.html', 'https://saltlakecity.bedpage.com/WomenSeekMen/usa/6718519.html', 'https://saltlakecity.bedpage.com/WomenSeekMen/united-states/6693129.html', 'https://saltlakecity.bedpage.com/WomenSeekMen/usa/6764643.html', 'https://saltlakecity.bedpage.com/WomenSeekMen/usa/6586011.html', 'https://saltlakecity.bedpage.com/WomenSeekMen/real-sexy-asian-exotic-latina-ebony-girls-waiting-for-you/7246086.html', 'https://saltlakecity.bedpage.com/WomenSeekMen/incall-outcall-car-play-let-s-have-lots-of-fun/7244377.html', 'https://saltlakecity.bedpage.com/WomenSeekMen/taylorsville/6763241.html', 'https://saltlakecity.bedpage.com/WomenSeekMen/estados-unidos/6733592.html', 'https://saltlakecity.bedpage.com/WomenSeekMen/usa/6722333.html', 'https://saltlakecity.bedpage.com/WomenSeekMen/taylorsville/6758666.html', 'https://saltlakecity.bedpage.com/WomenSeekMen/usa/6726694.html', 'https://saltlakecity.bedpage.com/WomenSeekMen/usa/6716475.html', 'https://saltlakecity.bedpage.com/WomenSeekMen/hi-i-want-go-out-tonight-do-you-have-time/6695143.html', 'https://saltlakecity.bedpage.com/WomenSeekMen/usa/7196546.html', 'https://saltlakecity.bedpage.com/WomenSeekMen/usa/7194406.html', 'https://saltlakecity.bedpage.com/WomenSeekMen/usa/6732385.html', 'https://saltlakecity.bedpage.com/WomenSeekMen/united-states/6693121.html', 'https://saltlakecity.bedpage.com/WomenSeekMen/usa/6727805.html', 'https://saltlakecity.bedpage.com/WomenSeekMen/usa/6827067.html', 'https://saltlakecity.bedpage.com/WomenSeekMen/taylorsville/6760470.html', 'https://saltlakecity.bedpage.com/WomenSeekMen/taylorsville/7148492.html', 'https://saltlakecity.bedpage.com/WomenSeekMen/usa/7198138.html', 'https://saltlakecity.bedpage.com/WomenSeekMen/usa/6725927.html', 'https://saltlakecity.bedpage.com/WomenSeekMen/usa/6720310.html', 'https://saltlakecity.bedpage.com/WomenSeekMen/united-states/6719673.html', 'https://saltlakecity.bedpage.com/WomenSeekMen/usa/6759482.html', 'https://saltlakecity.bedpage.com/WomenSeekMen/usa/6769666.html', 'https://saltlakecity.bedpage.com/WomenSeekMen/usa/7191750.html', 'https://saltlakecity.bedpage.com/WomenSeekMen/usa/6734542.html', 'https://saltlakecity.bedpage.com/WomenSeekMen/estados-unidos/6730577.html', 'https://saltlakecity.bedpage.com/WomenSeekMen/usa/6724592.html', 'https://saltlakecity.bedpage.com/WomenSeekMen/usa/6722422.html', 'https://saltlakecity.bedpage.com/WomenSeekMen/united-states/6722391.html', 'https://saltlakecity.bedpage.com/WomenSeekMen/usa/6718522.html', 'https://saltlakecity.bedpage.com/WomenSeekMen/usa/6713899.html', 'https://saltlakecity.bedpage.com/WomenSeekMen/usa/7119268.html', 'https://saltlakecity.bedpage.com/WomenSeekMen/usa/6716476.html', 'https://saltlakecity.bedpage.com/WomenSeekMen/usa/6721931.html', 'https://saltlakecity.bedpage.com/WomenSeekMen/usa/7148519.html', 'https://saltlakecity.bedpage.com/WomenSeekMen/usa/6734723.html', 'https://saltlakecity.bedpage.com/WomenSeekMen/usa/7192179.html', 'https://saltlakecity.bedpage.com/WomenSeekMen/usa/7196339.html', 'https://saltlakecity.bedpage.com/WomenSeekMen/usa/6723885.html', 'https://saltlakecity.bedpage.com/WomenSeekMen/usa/7198337.html', 'https://saltlakecity.bedpage.com/WomenSeekMen/usa/7191656.html', 'https://saltlakecity.bedpage.com/WomenSeekMen/take-some-time-out-of-your-day-and-indulge-yourself-come-on-a-tantalizing-tryst-with-me/6724876.html', 'https://saltlakecity.bedpage.com/WomenSeekMen/usa/6716462.html', 'https://saltlakecity.bedpage.com/WomenSeekMen/taylorsville/6768189.html', 'https://saltlakecity.bedpage.com/WomenSeekMen/united-states/6722683.html', 'https://saltlakecity.bedpage.com/WomenSeekMen/united-states/6724876.html', 'https://saltlakecity.bedpage.com/WomenSeekMen/usa/6764503.html', 'https://saltlakecity.bedpage.com/WomenSeekMen/usa/6767834.html', 'https://saltlakecity.bedpage.com/WomenSeekMen/taylorsville/7191725.html', 'https://saltlakecity.bedpage.com/WomenSeekMen/nude-full-body-to-body-rub/6693111.html', 'https://saltlakecity.bedpage.com/WomenSeekMen/united-states/6724585.html', 'https://saltlakecity.bedpage.com/WomenSeekMen/usa/6723878.html', 'https://saltlakecity.bedpage.com/WomenSeekMen/usa/6718246.html', 'https://saltlakecity.bedpage.com/WomenSeekMen/usa/6732351.html', 'https://saltlakecity.bedpage.com/WomenSeekMen/usa/6716466.html', 'https://saltlakecity.bedpage.com/WomenSeekMen/usa/6772841.html', 'https://saltlakecity.bedpage.com/WomenSeekMen/usa/6769832.html', 'https://saltlakecity.bedpage.com/WomenSeekMen/usa/6719664.html', 'https://saltlakecity.bedpage.com/WomenSeekMen/usa/7245252.html', 'https://saltlakecity.bedpage.com/WomenSeekMen/usa/7197673.html', 'https://saltlakecity.bedpage.com/WomenSeekMen/usa/7193391.html', 'https://saltlakecity.bedpage.com/WomenSeekMen/usa/6720526.html', 'https://saltlakecity.bedpage.com/WomenSeekMen/taylorsville/6863375.html', 'https://saltlakecity.bedpage.com/WomenSeekMen/usa/6729612.html', 'https://saltlakecity.bedpage.com/WomenSeekMen/usa/6726543.html', 'https://saltlakecity.bedpage.com/WomenSeekMen/usa/6722555.html', 'https://saltlakecity.bedpage.com/WomenSeekMen/united-states/7196327.html', 'https://saltlakecity.bedpage.com/WomenSeekMen/usa/6724232.html', 'https://saltlakecity.bedpage.com/WomenSeekMen/usa/6733130.html', 'https://saltlakecity.bedpage.com/WomenSeekMen/usa/6721740.html', 'https://saltlakecity.bedpage.com/WomenSeekMen/taylorsville/6766158.html', 'https://saltlakecity.bedpage.com/WomenSeekMen/united-states/6695143.html', 'https://saltlakecity.bedpage.com/WomenSeekMen/usa/6764971.html', 'https://saltlakecity.bedpage.com/WomenSeekMen/united-states/6735163.html', 'https://saltlakecity.bedpage.com/WomenSeekMen/usa/6714685.html', 'https://saltlakecity.bedpage.com/WomenSeekMen/taylorsville/6765800.html', 'https://saltlakecity.bedpage.com/WomenSeekMen/usa/6719650.html', 'https://saltlakecity.bedpage.com/WomenSeekMen/usa/6765726.html', 'https://saltlakecity.bedpage.com/WomenSeekMen/usa/6723901.html', 'https://saltlakecity.bedpage.com/WomenSeekMen/estados-unidos/6754229.html', 'https://saltlakecity.bedpage.com/WomenSeekMen/usa/6759177.html', 'https://saltlakecity.bedpage.com/WomenSeekMen/usa/6730115.html', 'https://saltlakecity.bedpage.com/WomenSeekMen/usa/6714225.html', 'https://saltlakecity.bedpage.com/WomenSeekMen/taylorsville/6764022.html', 'https://saltlakecity.bedpage.com/WomenSeekMen/tired-of-getting-the-run-around-and-the-hassle-well-i-m-promise-you-will-leave-wanting-more/6586011.html', 'https://saltlakecity.bedpage.com/WomenSeekMen/united-states/7245892.html', 'https://saltlakecity.bedpage.com/WomenSeekMen/united-states/7192519.html', 'https://saltlakecity.bedpage.com/WomenSeekMen/usa/7192182.html', 'https://saltlakecity.bedpage.com/WomenSeekMen/usa/7189886.html', 'https://saltlakecity.bedpage.com/WomenSeekMen/taylorsville/6769271.html', 'https://saltlakecity.bedpage.com/WomenSeekMen/usa/6863392.html', 'https://saltlakecity.bedpage.com/WomenSeekMen/usa/6763465.html', 'https://saltlakecity.bedpage.com/WomenSeekMen/usa/6762969.html', 'https://saltlakecity.bedpage.com/WomenSeekMen/usa/7792047.html', 'https://saltlakecity.bedpage.com/WomenSeekMen/usa/6728442.html', 'https://saltlakecity.bedpage.com/WomenSeekMen/usa/6718508.html', 'https://saltlakecity.bedpage.com/WomenSeekMen/usa/6718245.html', 'https://saltlakecity.bedpage.com/WomenSeekMen/usa/6728718.html', 'https://saltlakecity.bedpage.com/WomenSeekMen/usa/7792882.html', 'https://saltlakecity.bedpage.com/WomenSeekMen/usa/7195850.html', 'https://saltlakecity.bedpage.com/WomenSeekMen/usa/6769215.html', 'https://saltlakecity.bedpage.com/WomenSeekMen/usa/6765907.html', 'https://saltlakecity.bedpage.com/WomenSeekMen/united-states/7198131.html', 'https://saltlakecity.bedpage.com/WomenSeekMen/usa/6597610.html', 'https://saltlakecity.bedpage.com/WomenSeekMen/united-states/7193284.html', 'https://saltlakecity.bedpage.com/WomenSeekMen/usa/6735412.html', 'https://saltlakecity.bedpage.com/WomenSeekMen/look-at-me-i-know-what-are-you-thinking/6595688.html', 'https://saltlakecity.bedpage.com/WomenSeekMen/usa/6763589.html', 'https://saltlakecity.bedpage.com/WomenSeekMen/usa/6732209.html', 'https://saltlakecity.bedpage.com/WomenSeekMen/usa/6716461.html', 'https://saltlakecity.bedpage.com/WomenSeekMen/usa/6720122.html', 'https://saltlakecity.bedpage.com/WomenSeekMen/usa/6764644.html', 'https://saltlakecity.bedpage.com/WomenSeekMen/usa/6595688.html', 'https://saltlakecity.bedpage.com/WomenSeekMen/usa/6719852.html', 'https://saltlakecity.bedpage.com/WomenSeekMen/incall-outcall-car-play-let-s-have-lots-of-fun/7791052.html', 'https://saltlakecity.bedpage.com/WomenSeekMen/usa/6716465.html', 'https://saltlakecity.bedpage.com/WomenSeekMen/usa/6726676.html', 'https://saltlakecity.bedpage.com/WomenSeekMen/usa/7193390.html', 'https://saltlakecity.bedpage.com/WomenSeekMen/usa/7806111.html', 'https://saltlakecity.bedpage.com/WomenSeekMen/usa/6716286.html', 'https://saltlakecity.bedpage.com/WomenSeekMen/usa/7245253.html', 'https://saltlakecity.bedpage.com/WomenSeekMen/usa/6827029.html'}\n"
     ]
    },
    {
     "data": {
      "text/plain": [
       "'\\nThis output contains sensitive material including sensual language. \\nDiscretion is advised.\\n'"
      ]
     },
     "execution_count": 8,
     "metadata": {},
     "output_type": "execute_result"
    }
   ],
   "source": [
    "#The set function deletes the duplicate links in the list\n",
    "links = set(links)\n",
    "print(links)\n",
    "\"\"\"\n",
    "This output contains sensitive material including sensual language. \n",
    "Discretion is advised.\n",
    "\"\"\""
   ]
  },
  {
   "cell_type": "code",
   "execution_count": 9,
   "metadata": {},
   "outputs": [
    {
     "name": "stdout",
     "output_type": "stream",
     "text": [
      "316\n"
     ]
    }
   ],
   "source": [
    "print(len(links))"
   ]
  },
  {
   "cell_type": "markdown",
   "metadata": {},
   "source": [
    "Without any of the unnecessary links or duplicates, I'm still left with 316 links to ads. This appears to be a decent size, but I later found out that several of the links lead to the same ads. Even if I did delete the duplicates, this would not leave me with very many observations. To deal with this, I'll add the links from at least one more page of links."
   ]
  },
  {
   "cell_type": "code",
   "execution_count": 10,
   "metadata": {},
   "outputs": [
    {
     "name": "stdout",
     "output_type": "stream",
     "text": [
      "719\n"
     ]
    }
   ],
   "source": [
    "links = list(links)\n",
    "\n",
    "source2 = requests.get('https://saltlakecity.bedpage.com/WomenSeekMen/2', headers=headers)\n",
    "soup2 = bs.BeautifulSoup(source2.text,'lxml')\n",
    "\n",
    "ads_list2 = soup2.find_all('a', href=re.compile('https://saltlakecity.bedpage.com/WomenSeekMen/'))\n",
    "\n",
    "for url in ads_list2:\n",
    "    links.append(url.get('href'))\n",
    "    \n",
    "print(len(links))"
   ]
  },
  {
   "cell_type": "code",
   "execution_count": 11,
   "metadata": {},
   "outputs": [
    {
     "name": "stdout",
     "output_type": "stream",
     "text": [
      "['https://saltlakecity.bedpage.com/WomenSeekMen/usa/6721723.html', 'https://saltlakecity.bedpage.com/WomenSeekMen/usa/6716474.html', 'https://saltlakecity.bedpage.com/WomenSeekMen/usa/6729606.html', 'https://saltlakecity.bedpage.com/WomenSeekMen/usa/6706578.html', 'https://saltlakecity.bedpage.com/WomenSeekMen/usa/7195904.html', 'https://saltlakecity.bedpage.com/WomenSeekMen/usa/6709115.html', 'https://saltlakecity.bedpage.com/WomenSeekMen/united-states/6769506.html', 'https://saltlakecity.bedpage.com/WomenSeekMen/usa/6728046.html', 'https://saltlakecity.bedpage.com/WomenSeekMen/usa/7805960.html', 'https://saltlakecity.bedpage.com/WomenSeekMen/usa/6720224.html', 'https://saltlakecity.bedpage.com/WomenSeekMen/usa/6762329.html', 'https://saltlakecity.bedpage.com/WomenSeekMen/usa/6727824.html', 'https://saltlakecity.bedpage.com/WomenSeekMen/usa/6734722.html', 'https://saltlakecity.bedpage.com/WomenSeekMen/usa/6863223.html', 'https://saltlakecity.bedpage.com/WomenSeekMen/usa/6759321.html', 'https://saltlakecity.bedpage.com/WomenSeekMen/usa/6726627.html', 'https://saltlakecity.bedpage.com/WomenSeekMen/united-states/7246086.html', 'https://saltlakecity.bedpage.com/WomenSeekMen/united-states/6766563.html', 'https://saltlakecity.bedpage.com/WomenSeekMen/usa/6759503.html', 'https://saltlakecity.bedpage.com/WomenSeekMen/usa/6719230.html', 'https://saltlakecity.bedpage.com/WomenSeekMen/usa/7197674.html', 'https://saltlakecity.bedpage.com/WomenSeekMen/united-states/6759353.html', 'https://saltlakecity.bedpage.com/WomenSeekMen/united-states/6724583.html', 'https://saltlakecity.bedpage.com/WomenSeekMen/usa/7194283.html', 'https://saltlakecity.bedpage.com/WomenSeekMen/taylorsville/6761639.html', 'https://saltlakecity.bedpage.com/WomenSeekMen/usa/7148424.html', 'https://saltlakecity.bedpage.com/WomenSeekMen/united-states/6763801.html', 'https://saltlakecity.bedpage.com/WomenSeekMen/usa/6726790.html', 'https://saltlakecity.bedpage.com/WomenSeekMen/salt-lake-city-ut-usa/6659473.html', 'https://saltlakecity.bedpage.com/WomenSeekMen/usa/6798992.html', 'https://saltlakecity.bedpage.com/WomenSeekMen/usa/6717705.html', 'https://saltlakecity.bedpage.com/WomenSeekMen/usa/7792585.html', 'https://saltlakecity.bedpage.com/WomenSeekMen/united-states/7244377.html', 'https://saltlakecity.bedpage.com/WomenSeekMen/united-states/7196401.html', 'https://saltlakecity.bedpage.com/WomenSeekMen/usa/7792661.html', 'https://saltlakecity.bedpage.com/WomenSeekMen/usa/7193841.html', 'https://saltlakecity.bedpage.com/WomenSeekMen/usa/6827066.html', 'https://saltlakecity.bedpage.com/WomenSeekMen/united-states/6759483.html', 'https://saltlakecity.bedpage.com/WomenSeekMen/usa/6726789.html', 'https://saltlakecity.bedpage.com/WomenSeekMen/usa/6722625.html', 'https://saltlakecity.bedpage.com/WomenSeekMen/united-states/6724847.html', 'https://saltlakecity.bedpage.com/WomenSeekMen/usa/6717247.html', 'https://saltlakecity.bedpage.com/WomenSeekMen/usa/6719982.html', 'https://saltlakecity.bedpage.com/WomenSeekMen/usa/6730153.html', 'https://saltlakecity.bedpage.com/WomenSeekMen/usa/6759562.html', 'https://saltlakecity.bedpage.com/WomenSeekMen/usa/6716471.html', 'https://saltlakecity.bedpage.com/WomenSeekMen/usa/6732820.html', 'https://saltlakecity.bedpage.com/WomenSeekMen/i-m-always-horney-so-come-fk-me/6693129.html', 'https://saltlakecity.bedpage.com/WomenSeekMen/usa/6760268.html', 'https://saltlakecity.bedpage.com/WomenSeekMen/usa/6724104.html', 'https://saltlakecity.bedpage.com/WomenSeekMen/usa/6713712.html', 'https://saltlakecity.bedpage.com/WomenSeekMen/taylorsville/6798577.html', 'https://saltlakecity.bedpage.com/WomenSeekMen/usa/6734665.html', 'https://saltlakecity.bedpage.com/WomenSeekMen/usa/7195849.html', 'https://saltlakecity.bedpage.com/WomenSeekMen/look-at-me-i-know-what-are-you-thinking/6597610.html', 'https://saltlakecity.bedpage.com/WomenSeekMen/usa/7196291.html', 'https://saltlakecity.bedpage.com/WomenSeekMen/usa/6759563.html', 'https://saltlakecity.bedpage.com/WomenSeekMen/united-states/6724586.html', 'https://saltlakecity.bedpage.com/WomenSeekMen/usa/6767759.html', 'https://saltlakecity.bedpage.com/WomenSeekMen/usa/6722624.html', 'https://saltlakecity.bedpage.com/WomenSeekMen/usa/7119400.html', 'https://saltlakecity.bedpage.com/WomenSeekMen/usa/7193811.html', 'https://saltlakecity.bedpage.com/WomenSeekMen/usa/6798783.html', 'https://saltlakecity.bedpage.com/WomenSeekMen/usa/7244289.html', 'https://saltlakecity.bedpage.com/WomenSeekMen/usa/6734526.html', 'https://saltlakecity.bedpage.com/WomenSeekMen/usa/6732436.html', 'https://saltlakecity.bedpage.com/WomenSeekMen/usa/6715547.html', 'https://saltlakecity.bedpage.com/WomenSeekMen/usa/6759334.html', 'https://saltlakecity.bedpage.com/WomenSeekMen/usa/7194894.html', 'https://saltlakecity.bedpage.com/WomenSeekMen/usa/6799157.html', 'https://saltlakecity.bedpage.com/WomenSeekMen/usa/6725934.html', 'https://saltlakecity.bedpage.com/WomenSeekMen/usa/7196286.html', 'https://saltlakecity.bedpage.com/WomenSeekMen/usa/6718248.html', 'https://saltlakecity.bedpage.com/WomenSeekMen/usa/7791538.html', 'https://saltlakecity.bedpage.com/WomenSeekMen/usa/6767617.html', 'https://saltlakecity.bedpage.com/WomenSeekMen/usa/7148457.html', 'https://saltlakecity.bedpage.com/WomenSeekMen/usa/6764985.html', 'https://saltlakecity.bedpage.com/WomenSeekMen/o-ng-cki-ach-r-wa-t-to-e-t-w-ol-chole86480-at-gmail/6703885.html', 'https://saltlakecity.bedpage.com/WomenSeekMen/usa/6729934.html', 'https://saltlakecity.bedpage.com/WomenSeekMen/usa/7244758.html', 'https://saltlakecity.bedpage.com/WomenSeekMen/usa/6729918.html', 'https://saltlakecity.bedpage.com/WomenSeekMen/usa/6726688.html', 'https://saltlakecity.bedpage.com/WomenSeekMen/usa/6725948.html', 'https://saltlakecity.bedpage.com/WomenSeekMen/taylorsville/6758656.html', 'https://saltlakecity.bedpage.com/WomenSeekMen/united-states/6722339.html', 'https://saltlakecity.bedpage.com/WomenSeekMen/usa/6722332.html', 'https://saltlakecity.bedpage.com/WomenSeekMen/usa/6732437.html', 'https://saltlakecity.bedpage.com/WomenSeekMen/usa/6726791.html', 'https://saltlakecity.bedpage.com/WomenSeekMen/usa/6719645.html', 'https://saltlakecity.bedpage.com/WomenSeekMen/usa/7792046.html', 'https://saltlakecity.bedpage.com/WomenSeekMen/united-states/7194408.html', 'https://saltlakecity.bedpage.com/WomenSeekMen/estados-unidos/6762027.html', 'https://saltlakecity.bedpage.com/WomenSeekMen/usa/6726787.html', 'https://saltlakecity.bedpage.com/WomenSeekMen/usa/6722628.html', 'https://saltlakecity.bedpage.com/WomenSeekMen/layla-here-to-serve-you-why-look-anywhere-else/6693131.html', 'https://saltlakecity.bedpage.com/WomenSeekMen/usa/6720518.html', 'https://saltlakecity.bedpage.com/WomenSeekMen/usa/6762758.html', 'https://saltlakecity.bedpage.com/WomenSeekMen/usa/6717657.html', 'https://saltlakecity.bedpage.com/WomenSeekMen/usa/6715551.html', 'https://saltlakecity.bedpage.com/WomenSeekMen/usa/6695365.html', 'https://saltlakecity.bedpage.com/WomenSeekMen/usa/6769671.html', 'https://saltlakecity.bedpage.com/WomenSeekMen/usa/7148458.html', 'https://saltlakecity.bedpage.com/WomenSeekMen/usa/6718247.html', 'https://saltlakecity.bedpage.com/WomenSeekMen/usa/6718520.html', 'https://saltlakecity.bedpage.com/WomenSeekMen/ride-to-work-asap/6563624.html', 'https://saltlakecity.bedpage.com/WomenSeekMen/usa/7245906.html', 'https://saltlakecity.bedpage.com/WomenSeekMen/usa/6703885.html', 'https://saltlakecity.bedpage.com/WomenSeekMen/usa/7194332.html', 'https://saltlakecity.bedpage.com/WomenSeekMen/usa/7193842.html', 'https://saltlakecity.bedpage.com/WomenSeekMen/united-states/7192298.html', 'https://saltlakecity.bedpage.com/WomenSeekMen/usa/6767058.html', 'https://saltlakecity.bedpage.com/WomenSeekMen/usa/7805567.html', 'https://saltlakecity.bedpage.com/WomenSeekMen/usa/6693111.html', 'https://saltlakecity.bedpage.com/WomenSeekMen/usa/6766921.html', 'https://saltlakecity.bedpage.com/WomenSeekMen/usa/7192516.html', 'https://saltlakecity.bedpage.com/WomenSeekMen/united-states/6763580.html', 'https://saltlakecity.bedpage.com/WomenSeekMen/united-states/7198198.html', 'https://saltlakecity.bedpage.com/WomenSeekMen/usa/6730152.html', 'https://saltlakecity.bedpage.com/WomenSeekMen/usa/6726788.html', 'https://saltlakecity.bedpage.com/WomenSeekMen/united-states/6724584.html', 'https://saltlakecity.bedpage.com/WomenSeekMen/usa/6721720.html', 'https://saltlakecity.bedpage.com/WomenSeekMen/united-states/7192518.html', 'https://saltlakecity.bedpage.com/WomenSeekMen/estados-unidos/6763039.html', 'https://saltlakecity.bedpage.com/WomenSeekMen/usa/6766908.html', 'https://saltlakecity.bedpage.com/WomenSeekMen/united-states/7192517.html', 'https://saltlakecity.bedpage.com/WomenSeekMen/united-states/6722345.html', 'https://saltlakecity.bedpage.com/WomenSeekMen/usa/7791954.html', 'https://saltlakecity.bedpage.com/WomenSeekMen/usa/7245870.html', 'https://saltlakecity.bedpage.com/WomenSeekMen/usa/6716460.html', 'https://saltlakecity.bedpage.com/WomenSeekMen/usa/6715499.html', 'https://saltlakecity.bedpage.com/WomenSeekMen/usa/6718513.html', 'https://saltlakecity.bedpage.com/WomenSeekMen/attn-new-number-text-me-469-515-1672-let-me-blo-ur-mind/6720122.html', 'https://saltlakecity.bedpage.com/WomenSeekMen/usa/6735215.html', 'https://saltlakecity.bedpage.com/WomenSeekMen/usa/6722549.html', 'https://saltlakecity.bedpage.com/WomenSeekMen/usa/6718509.html', 'https://saltlakecity.bedpage.com/WomenSeekMen/usa/6716472.html', 'https://saltlakecity.bedpage.com/WomenSeekMen/usa/6716473.html', 'https://saltlakecity.bedpage.com/WomenSeekMen/usa/6727811.html', 'https://saltlakecity.bedpage.com/WomenSeekMen/usa/6799158.html', 'https://saltlakecity.bedpage.com/WomenSeekMen/united-states/6720261.html', 'https://saltlakecity.bedpage.com/WomenSeekMen/usa/6732196.html', 'https://saltlakecity.bedpage.com/WomenSeekMen/united-states/7791052.html', 'https://saltlakecity.bedpage.com/WomenSeekMen/usa/6730501.html', 'https://saltlakecity.bedpage.com/WomenSeekMen/usa/6765133.html', 'https://saltlakecity.bedpage.com/WomenSeekMen/come-fuck-my-juicy-pussy-tonight-amp-tomorrow/6693121.html', 'https://saltlakecity.bedpage.com/WomenSeekMen/usa/6717708.html', 'https://saltlakecity.bedpage.com/WomenSeekMen/usa/6722630.html', 'https://saltlakecity.bedpage.com/WomenSeekMen/usa/6657689.html', 'https://saltlakecity.bedpage.com/WomenSeekMen/united-states/6734552.html', 'https://saltlakecity.bedpage.com/WomenSeekMen/usa/7806110.html', 'https://saltlakecity.bedpage.com/WomenSeekMen/sexy-brunette-barbie-hottie/6719982.html', 'https://saltlakecity.bedpage.com/WomenSeekMen/usa/7189881.html', 'https://saltlakecity.bedpage.com/WomenSeekMen/usa/6765658.html', 'https://saltlakecity.bedpage.com/WomenSeekMen/usa/6731583.html', 'https://saltlakecity.bedpage.com/WomenSeekMen/usa/6722682.html', 'https://saltlakecity.bedpage.com/WomenSeekMen/usa/6720521.html', 'https://saltlakecity.bedpage.com/WomenSeekMen/usa/6718354.html', 'https://saltlakecity.bedpage.com/WomenSeekMen/usa/6718251.html', 'https://saltlakecity.bedpage.com/WomenSeekMen/usa/6723830.html', 'https://saltlakecity.bedpage.com/WomenSeekMen/usa/6716167.html', 'https://saltlakecity.bedpage.com/WomenSeekMen/united-states/6898392.html', 'https://saltlakecity.bedpage.com/WomenSeekMen/united-states/6724587.html', 'https://saltlakecity.bedpage.com/WomenSeekMen/usa/6762799.html', 'https://saltlakecity.bedpage.com/WomenSeekMen/taylorsville/6767686.html', 'https://saltlakecity.bedpage.com/WomenSeekMen/united-states/6693131.html', 'https://saltlakecity.bedpage.com/WomenSeekMen/usa/6735120.html', 'https://saltlakecity.bedpage.com/WomenSeekMen/usa/7806006.html', 'https://saltlakecity.bedpage.com/WomenSeekMen/usa/7246001.html', 'https://saltlakecity.bedpage.com/WomenSeekMen/usa/7198098.html', 'https://saltlakecity.bedpage.com/WomenSeekMen/usa/7195816.html', 'https://saltlakecity.bedpage.com/WomenSeekMen/usa/7246214.html', 'https://saltlakecity.bedpage.com/WomenSeekMen/usa/6713490.html', 'https://saltlakecity.bedpage.com/WomenSeekMen/usa/6767117.html', 'https://saltlakecity.bedpage.com/WomenSeekMen/usa/6765195.html', 'https://saltlakecity.bedpage.com/WomenSeekMen/united-states/7194325.html', 'https://saltlakecity.bedpage.com/WomenSeekMen/taylorsville/7190694.html', 'https://saltlakecity.bedpage.com/WomenSeekMen/taylorsville/7119160.html', 'https://saltlakecity.bedpage.com/WomenSeekMen/usa/6765196.html', 'https://saltlakecity.bedpage.com/WomenSeekMen/usa/6718512.html', 'https://saltlakecity.bedpage.com/WomenSeekMen/usa/6768269.html', 'https://saltlakecity.bedpage.com/WomenSeekMen/usa/6767116.html', 'https://saltlakecity.bedpage.com/WomenSeekMen/united-states/6722392.html', 'https://saltlakecity.bedpage.com/WomenSeekMen/united-states/7792577.html', 'https://saltlakecity.bedpage.com/WomenSeekMen/usa/6720520.html', 'https://saltlakecity.bedpage.com/WomenSeekMen/usa/6563624.html', 'https://saltlakecity.bedpage.com/WomenSeekMen/estados-unidos/6722143.html', 'https://saltlakecity.bedpage.com/WomenSeekMen/usa/6718518.html', 'https://saltlakecity.bedpage.com/WomenSeekMen/usa/6724226.html', 'https://saltlakecity.bedpage.com/WomenSeekMen/taylorsville/7805336.html', 'https://saltlakecity.bedpage.com/WomenSeekMen/usa/6721673.html', 'https://saltlakecity.bedpage.com/WomenSeekMen/usa/6718519.html', 'https://saltlakecity.bedpage.com/WomenSeekMen/united-states/6693129.html', 'https://saltlakecity.bedpage.com/WomenSeekMen/usa/6764643.html', 'https://saltlakecity.bedpage.com/WomenSeekMen/usa/6586011.html', 'https://saltlakecity.bedpage.com/WomenSeekMen/real-sexy-asian-exotic-latina-ebony-girls-waiting-for-you/7246086.html', 'https://saltlakecity.bedpage.com/WomenSeekMen/incall-outcall-car-play-let-s-have-lots-of-fun/7244377.html', 'https://saltlakecity.bedpage.com/WomenSeekMen/taylorsville/6763241.html', 'https://saltlakecity.bedpage.com/WomenSeekMen/estados-unidos/6733592.html', 'https://saltlakecity.bedpage.com/WomenSeekMen/usa/6722333.html', 'https://saltlakecity.bedpage.com/WomenSeekMen/taylorsville/6758666.html', 'https://saltlakecity.bedpage.com/WomenSeekMen/usa/6726694.html', 'https://saltlakecity.bedpage.com/WomenSeekMen/usa/6716475.html', 'https://saltlakecity.bedpage.com/WomenSeekMen/hi-i-want-go-out-tonight-do-you-have-time/6695143.html', 'https://saltlakecity.bedpage.com/WomenSeekMen/usa/7196546.html', 'https://saltlakecity.bedpage.com/WomenSeekMen/usa/7194406.html', 'https://saltlakecity.bedpage.com/WomenSeekMen/usa/6732385.html', 'https://saltlakecity.bedpage.com/WomenSeekMen/united-states/6693121.html', 'https://saltlakecity.bedpage.com/WomenSeekMen/usa/6727805.html', 'https://saltlakecity.bedpage.com/WomenSeekMen/usa/6827067.html', 'https://saltlakecity.bedpage.com/WomenSeekMen/taylorsville/6760470.html', 'https://saltlakecity.bedpage.com/WomenSeekMen/taylorsville/7148492.html', 'https://saltlakecity.bedpage.com/WomenSeekMen/usa/7198138.html', 'https://saltlakecity.bedpage.com/WomenSeekMen/usa/6725927.html', 'https://saltlakecity.bedpage.com/WomenSeekMen/usa/6720310.html', 'https://saltlakecity.bedpage.com/WomenSeekMen/united-states/6719673.html', 'https://saltlakecity.bedpage.com/WomenSeekMen/usa/6759482.html', 'https://saltlakecity.bedpage.com/WomenSeekMen/usa/6769666.html', 'https://saltlakecity.bedpage.com/WomenSeekMen/usa/7191750.html', 'https://saltlakecity.bedpage.com/WomenSeekMen/usa/6734542.html', 'https://saltlakecity.bedpage.com/WomenSeekMen/estados-unidos/6730577.html', 'https://saltlakecity.bedpage.com/WomenSeekMen/usa/6724592.html', 'https://saltlakecity.bedpage.com/WomenSeekMen/usa/6722422.html', 'https://saltlakecity.bedpage.com/WomenSeekMen/united-states/6722391.html', 'https://saltlakecity.bedpage.com/WomenSeekMen/usa/6718522.html', 'https://saltlakecity.bedpage.com/WomenSeekMen/usa/6713899.html', 'https://saltlakecity.bedpage.com/WomenSeekMen/usa/7119268.html', 'https://saltlakecity.bedpage.com/WomenSeekMen/usa/6716476.html', 'https://saltlakecity.bedpage.com/WomenSeekMen/usa/6721931.html', 'https://saltlakecity.bedpage.com/WomenSeekMen/usa/7148519.html', 'https://saltlakecity.bedpage.com/WomenSeekMen/usa/6734723.html', 'https://saltlakecity.bedpage.com/WomenSeekMen/usa/7192179.html', 'https://saltlakecity.bedpage.com/WomenSeekMen/usa/7196339.html', 'https://saltlakecity.bedpage.com/WomenSeekMen/usa/6723885.html', 'https://saltlakecity.bedpage.com/WomenSeekMen/usa/7198337.html', 'https://saltlakecity.bedpage.com/WomenSeekMen/usa/7191656.html', 'https://saltlakecity.bedpage.com/WomenSeekMen/take-some-time-out-of-your-day-and-indulge-yourself-come-on-a-tantalizing-tryst-with-me/6724876.html', 'https://saltlakecity.bedpage.com/WomenSeekMen/usa/6716462.html', 'https://saltlakecity.bedpage.com/WomenSeekMen/taylorsville/6768189.html', 'https://saltlakecity.bedpage.com/WomenSeekMen/united-states/6722683.html', 'https://saltlakecity.bedpage.com/WomenSeekMen/united-states/6724876.html', 'https://saltlakecity.bedpage.com/WomenSeekMen/usa/6764503.html', 'https://saltlakecity.bedpage.com/WomenSeekMen/usa/6767834.html', 'https://saltlakecity.bedpage.com/WomenSeekMen/taylorsville/7191725.html', 'https://saltlakecity.bedpage.com/WomenSeekMen/nude-full-body-to-body-rub/6693111.html', 'https://saltlakecity.bedpage.com/WomenSeekMen/united-states/6724585.html', 'https://saltlakecity.bedpage.com/WomenSeekMen/usa/6723878.html', 'https://saltlakecity.bedpage.com/WomenSeekMen/usa/6718246.html', 'https://saltlakecity.bedpage.com/WomenSeekMen/usa/6732351.html', 'https://saltlakecity.bedpage.com/WomenSeekMen/usa/6716466.html', 'https://saltlakecity.bedpage.com/WomenSeekMen/usa/6772841.html', 'https://saltlakecity.bedpage.com/WomenSeekMen/usa/6769832.html', 'https://saltlakecity.bedpage.com/WomenSeekMen/usa/6719664.html', 'https://saltlakecity.bedpage.com/WomenSeekMen/usa/7245252.html', 'https://saltlakecity.bedpage.com/WomenSeekMen/usa/7197673.html', 'https://saltlakecity.bedpage.com/WomenSeekMen/usa/7193391.html', 'https://saltlakecity.bedpage.com/WomenSeekMen/usa/6720526.html', 'https://saltlakecity.bedpage.com/WomenSeekMen/taylorsville/6863375.html', 'https://saltlakecity.bedpage.com/WomenSeekMen/usa/6729612.html', 'https://saltlakecity.bedpage.com/WomenSeekMen/usa/6726543.html', 'https://saltlakecity.bedpage.com/WomenSeekMen/usa/6722555.html', 'https://saltlakecity.bedpage.com/WomenSeekMen/united-states/7196327.html', 'https://saltlakecity.bedpage.com/WomenSeekMen/usa/6724232.html', 'https://saltlakecity.bedpage.com/WomenSeekMen/usa/6733130.html', 'https://saltlakecity.bedpage.com/WomenSeekMen/usa/6721740.html', 'https://saltlakecity.bedpage.com/WomenSeekMen/taylorsville/6766158.html', 'https://saltlakecity.bedpage.com/WomenSeekMen/united-states/6695143.html', 'https://saltlakecity.bedpage.com/WomenSeekMen/usa/6764971.html', 'https://saltlakecity.bedpage.com/WomenSeekMen/united-states/6735163.html', 'https://saltlakecity.bedpage.com/WomenSeekMen/usa/6714685.html', 'https://saltlakecity.bedpage.com/WomenSeekMen/taylorsville/6765800.html', 'https://saltlakecity.bedpage.com/WomenSeekMen/usa/6719650.html', 'https://saltlakecity.bedpage.com/WomenSeekMen/usa/6765726.html', 'https://saltlakecity.bedpage.com/WomenSeekMen/usa/6723901.html', 'https://saltlakecity.bedpage.com/WomenSeekMen/estados-unidos/6754229.html', 'https://saltlakecity.bedpage.com/WomenSeekMen/usa/6759177.html', 'https://saltlakecity.bedpage.com/WomenSeekMen/usa/6730115.html', 'https://saltlakecity.bedpage.com/WomenSeekMen/usa/6714225.html', 'https://saltlakecity.bedpage.com/WomenSeekMen/taylorsville/6764022.html', 'https://saltlakecity.bedpage.com/WomenSeekMen/tired-of-getting-the-run-around-and-the-hassle-well-i-m-promise-you-will-leave-wanting-more/6586011.html', 'https://saltlakecity.bedpage.com/WomenSeekMen/united-states/7245892.html', 'https://saltlakecity.bedpage.com/WomenSeekMen/united-states/7192519.html', 'https://saltlakecity.bedpage.com/WomenSeekMen/usa/7192182.html', 'https://saltlakecity.bedpage.com/WomenSeekMen/usa/7189886.html', 'https://saltlakecity.bedpage.com/WomenSeekMen/taylorsville/6769271.html', 'https://saltlakecity.bedpage.com/WomenSeekMen/usa/6863392.html', 'https://saltlakecity.bedpage.com/WomenSeekMen/usa/6763465.html', 'https://saltlakecity.bedpage.com/WomenSeekMen/usa/6762969.html', 'https://saltlakecity.bedpage.com/WomenSeekMen/usa/7792047.html', 'https://saltlakecity.bedpage.com/WomenSeekMen/usa/6728442.html', 'https://saltlakecity.bedpage.com/WomenSeekMen/usa/6718508.html', 'https://saltlakecity.bedpage.com/WomenSeekMen/usa/6718245.html', 'https://saltlakecity.bedpage.com/WomenSeekMen/usa/6728718.html', 'https://saltlakecity.bedpage.com/WomenSeekMen/usa/7792882.html', 'https://saltlakecity.bedpage.com/WomenSeekMen/usa/7195850.html', 'https://saltlakecity.bedpage.com/WomenSeekMen/usa/6769215.html', 'https://saltlakecity.bedpage.com/WomenSeekMen/usa/6765907.html', 'https://saltlakecity.bedpage.com/WomenSeekMen/united-states/7198131.html', 'https://saltlakecity.bedpage.com/WomenSeekMen/usa/6597610.html', 'https://saltlakecity.bedpage.com/WomenSeekMen/united-states/7193284.html', 'https://saltlakecity.bedpage.com/WomenSeekMen/usa/6735412.html', 'https://saltlakecity.bedpage.com/WomenSeekMen/look-at-me-i-know-what-are-you-thinking/6595688.html', 'https://saltlakecity.bedpage.com/WomenSeekMen/usa/6763589.html', 'https://saltlakecity.bedpage.com/WomenSeekMen/usa/6732209.html', 'https://saltlakecity.bedpage.com/WomenSeekMen/usa/6716461.html', 'https://saltlakecity.bedpage.com/WomenSeekMen/usa/6720122.html', 'https://saltlakecity.bedpage.com/WomenSeekMen/usa/6764644.html', 'https://saltlakecity.bedpage.com/WomenSeekMen/usa/6595688.html', 'https://saltlakecity.bedpage.com/WomenSeekMen/usa/6719852.html', 'https://saltlakecity.bedpage.com/WomenSeekMen/incall-outcall-car-play-let-s-have-lots-of-fun/7791052.html', 'https://saltlakecity.bedpage.com/WomenSeekMen/usa/6716465.html', 'https://saltlakecity.bedpage.com/WomenSeekMen/usa/6726676.html', 'https://saltlakecity.bedpage.com/WomenSeekMen/usa/7193390.html', 'https://saltlakecity.bedpage.com/WomenSeekMen/usa/7806111.html', 'https://saltlakecity.bedpage.com/WomenSeekMen/usa/6716286.html', 'https://saltlakecity.bedpage.com/WomenSeekMen/usa/7245253.html', 'https://saltlakecity.bedpage.com/WomenSeekMen/usa/6827029.html', 'https://saltlakecity.bedpage.com/WomenSeekMen/', 'https://saltlakecity.bedpage.com/WomenSeekMen/gallery', 'https://saltlakecity.bedpage.com/WomenSeekMen/united-states/6695143.html', 'https://saltlakecity.bedpage.com/WomenSeekMen/united-states/6693121.html', 'https://saltlakecity.bedpage.com/WomenSeekMen/united-states/6693129.html', 'https://saltlakecity.bedpage.com/WomenSeekMen/united-states/6693131.html', 'https://saltlakecity.bedpage.com/WomenSeekMen/usa/6693111.html', 'https://saltlakecity.bedpage.com/WomenSeekMen/usa/6703885.html', 'https://saltlakecity.bedpage.com/WomenSeekMen/usa/6595688.html', 'https://saltlakecity.bedpage.com/WomenSeekMen/usa/6597610.html', 'https://saltlakecity.bedpage.com/WomenSeekMen/united-states/7791052.html', 'https://saltlakecity.bedpage.com/WomenSeekMen/incall-outcall-car-play-let-s-have-lots-of-fun/7791052.html', 'https://saltlakecity.bedpage.com/WomenSeekMen/incall-outcall-car-play-let-s-have-lots-of-fun/7791052.html', 'https://saltlakecity.bedpage.com/WomenSeekMen/united-states/7244377.html', 'https://saltlakecity.bedpage.com/WomenSeekMen/incall-outcall-car-play-let-s-have-lots-of-fun/7244377.html', 'https://saltlakecity.bedpage.com/WomenSeekMen/incall-outcall-car-play-let-s-have-lots-of-fun/7244377.html', 'https://saltlakecity.bedpage.com/WomenSeekMen/usa/6563624.html', 'https://saltlakecity.bedpage.com/WomenSeekMen/ride-to-work-asap/6563624.html', 'https://saltlakecity.bedpage.com/WomenSeekMen/ride-to-work-asap/6563624.html', 'https://saltlakecity.bedpage.com/WomenSeekMen/ride-to-work-asap/6563624.html', 'https://saltlakecity.bedpage.com/WomenSeekMen/united-states/6695143.html', 'https://saltlakecity.bedpage.com/WomenSeekMen/hi-i-want-go-out-tonight-do-you-have-time/6695143.html', 'https://saltlakecity.bedpage.com/WomenSeekMen/united-states/6693121.html', 'https://saltlakecity.bedpage.com/WomenSeekMen/come-fuck-my-juicy-pussy-tonight-amp-tomorrow/6693121.html', 'https://saltlakecity.bedpage.com/WomenSeekMen/united-states/6693129.html', 'https://saltlakecity.bedpage.com/WomenSeekMen/i-m-always-horney-so-come-fk-me/6693129.html', 'https://saltlakecity.bedpage.com/WomenSeekMen/united-states/6693131.html', 'https://saltlakecity.bedpage.com/WomenSeekMen/layla-here-to-serve-you-why-look-anywhere-else/6693131.html', 'https://saltlakecity.bedpage.com/WomenSeekMen/usa/6693111.html', 'https://saltlakecity.bedpage.com/WomenSeekMen/nude-full-body-to-body-rub/6693111.html', 'https://saltlakecity.bedpage.com/WomenSeekMen/united-states/6724876.html', 'https://saltlakecity.bedpage.com/WomenSeekMen/take-some-time-out-of-your-day-and-indulge-yourself-come-on-a-tantalizing-tryst-with-me/6724876.html', 'https://saltlakecity.bedpage.com/WomenSeekMen/usa/6703885.html', 'https://saltlakecity.bedpage.com/WomenSeekMen/o-ng-cki-ach-r-wa-t-to-e-t-w-ol-chole86480-at-gmail/6703885.html', 'https://saltlakecity.bedpage.com/WomenSeekMen/o-ng-cki-ach-r-wa-t-to-e-t-w-ol-chole86480-at-gmail/6703885.html', 'https://saltlakecity.bedpage.com/WomenSeekMen/o-ng-cki-ach-r-wa-t-to-e-t-w-ol-chole86480-at-gmail/6703885.html', 'https://saltlakecity.bedpage.com/WomenSeekMen/usa/6595688.html', 'https://saltlakecity.bedpage.com/WomenSeekMen/look-at-me-i-know-what-are-you-thinking/6595688.html', 'https://saltlakecity.bedpage.com/WomenSeekMen/usa/6720122.html', 'https://saltlakecity.bedpage.com/WomenSeekMen/attn-new-number-text-me-469-515-1672-let-me-blo-ur-mind/6720122.html', 'https://saltlakecity.bedpage.com/WomenSeekMen/attn-new-number-text-me-469-515-1672-let-me-blo-ur-mind/6720122.html', 'https://saltlakecity.bedpage.com/WomenSeekMen/attn-new-number-text-me-469-515-1672-let-me-blo-ur-mind/6720122.html', 'https://saltlakecity.bedpage.com/WomenSeekMen/united-states/7246086.html', 'https://saltlakecity.bedpage.com/WomenSeekMen/real-sexy-asian-exotic-latina-ebony-girls-waiting-for-you/7246086.html', 'https://saltlakecity.bedpage.com/WomenSeekMen/real-sexy-asian-exotic-latina-ebony-girls-waiting-for-you/7246086.html', 'https://saltlakecity.bedpage.com/WomenSeekMen/real-sexy-asian-exotic-latina-ebony-girls-waiting-for-you/7246086.html', 'https://saltlakecity.bedpage.com/WomenSeekMen/usa/6719982.html', 'https://saltlakecity.bedpage.com/WomenSeekMen/sexy-brunette-barbie-hottie/6719982.html', 'https://saltlakecity.bedpage.com/WomenSeekMen/sexy-brunette-barbie-hottie/6719982.html', 'https://saltlakecity.bedpage.com/WomenSeekMen/sexy-brunette-barbie-hottie/6719982.html', 'https://saltlakecity.bedpage.com/WomenSeekMen/usa/6597610.html', 'https://saltlakecity.bedpage.com/WomenSeekMen/look-at-me-i-know-what-are-you-thinking/6597610.html', 'https://saltlakecity.bedpage.com/WomenSeekMen/usa/6586011.html', 'https://saltlakecity.bedpage.com/WomenSeekMen/tired-of-getting-the-run-around-and-the-hassle-well-i-m-promise-you-will-leave-wanting-more/6586011.html', 'https://saltlakecity.bedpage.com/WomenSeekMen/usa/6713481.html', 'https://saltlakecity.bedpage.com/WomenSeekMen/usa/6713326.html', 'https://saltlakecity.bedpage.com/WomenSeekMen/usa/6713273.html', 'https://saltlakecity.bedpage.com/WomenSeekMen/usa/6712639.html', 'https://saltlakecity.bedpage.com/WomenSeekMen/usa/6712210.html', 'https://saltlakecity.bedpage.com/WomenSeekMen/usa/6712000.html', 'https://saltlakecity.bedpage.com/WomenSeekMen/usa/6711991.html', 'https://saltlakecity.bedpage.com/WomenSeekMen/usa/6711978.html', 'https://saltlakecity.bedpage.com/WomenSeekMen/usa/6711974.html', 'https://saltlakecity.bedpage.com/WomenSeekMen/usa/6711973.html', 'https://saltlakecity.bedpage.com/WomenSeekMen/usa/6711972.html', 'https://saltlakecity.bedpage.com/WomenSeekMen/usa/6711835.html', 'https://saltlakecity.bedpage.com/WomenSeekMen/usa/6711536.html', 'https://saltlakecity.bedpage.com/WomenSeekMen/usa/6711531.html', 'https://saltlakecity.bedpage.com/WomenSeekMen/usa/6711332.html', 'https://saltlakecity.bedpage.com/WomenSeekMen/usa/6710533.html', 'https://saltlakecity.bedpage.com/WomenSeekMen/usa/6710480.html', 'https://saltlakecity.bedpage.com/WomenSeekMen/united-states/6710220.html', 'https://saltlakecity.bedpage.com/WomenSeekMen/united-states/6709856.html', 'https://saltlakecity.bedpage.com/WomenSeekMen/united-states/6709855.html', 'https://saltlakecity.bedpage.com/WomenSeekMen/united-states/6709854.html', 'https://saltlakecity.bedpage.com/WomenSeekMen/united-states/6709853.html', 'https://saltlakecity.bedpage.com/WomenSeekMen/usa/6709768.html', 'https://saltlakecity.bedpage.com/WomenSeekMen/usa/6709275.html', 'https://saltlakecity.bedpage.com/WomenSeekMen/usa/6709270.html', 'https://saltlakecity.bedpage.com/WomenSeekMen/united-states/6709265.html', 'https://saltlakecity.bedpage.com/WomenSeekMen/usa/6709053.html', 'https://saltlakecity.bedpage.com/WomenSeekMen/united-states/6708622.html', 'https://saltlakecity.bedpage.com/WomenSeekMen/united-states/6708621.html', 'https://saltlakecity.bedpage.com/WomenSeekMen/usa/6708249.html', 'https://saltlakecity.bedpage.com/WomenSeekMen/united-states/6707493.html', 'https://saltlakecity.bedpage.com/WomenSeekMen/united-states/6707492.html', 'https://saltlakecity.bedpage.com/WomenSeekMen/usa/6707418.html', 'https://saltlakecity.bedpage.com/WomenSeekMen/usa/6706951.html', 'https://saltlakecity.bedpage.com/WomenSeekMen/usa/6706946.html', 'https://saltlakecity.bedpage.com/WomenSeekMen/united-states/6706935.html', 'https://saltlakecity.bedpage.com/WomenSeekMen/usa/6706934.html', 'https://saltlakecity.bedpage.com/WomenSeekMen/usa/6706746.html', 'https://saltlakecity.bedpage.com/WomenSeekMen/united-states/6706398.html', 'https://saltlakecity.bedpage.com/WomenSeekMen/usa/6705996.html', 'https://saltlakecity.bedpage.com/WomenSeekMen/usa/6705599.html', 'https://saltlakecity.bedpage.com/WomenSeekMen/usa/6705596.html', 'https://saltlakecity.bedpage.com/WomenSeekMen/usa/6705595.html', 'https://saltlakecity.bedpage.com/WomenSeekMen/usa/6705428.html', 'https://saltlakecity.bedpage.com/WomenSeekMen/usa/6705427.html', 'https://saltlakecity.bedpage.com/WomenSeekMen/usa/6705425.html', 'https://saltlakecity.bedpage.com/WomenSeekMen/usa/6705424.html', 'https://saltlakecity.bedpage.com/WomenSeekMen/usa/6705423.html', 'https://saltlakecity.bedpage.com/WomenSeekMen/usa/6705422.html', 'https://saltlakecity.bedpage.com/WomenSeekMen/usa/6705239.html', 'https://saltlakecity.bedpage.com/WomenSeekMen/usa/6705175.html', 'https://saltlakecity.bedpage.com/WomenSeekMen/usa/6705163.html', 'https://saltlakecity.bedpage.com/WomenSeekMen/usa/6705158.html', 'https://saltlakecity.bedpage.com/WomenSeekMen/usa/6705156.html', 'https://saltlakecity.bedpage.com/WomenSeekMen/usa/6704741.html', 'https://saltlakecity.bedpage.com/WomenSeekMen/usa/6653143.html', 'https://saltlakecity.bedpage.com/WomenSeekMen/usa/6704550.html', 'https://saltlakecity.bedpage.com/WomenSeekMen/usa/6703769.html', 'https://saltlakecity.bedpage.com/WomenSeekMen/usa/6703084.html', 'https://saltlakecity.bedpage.com/WomenSeekMen/usa/6703023.html', 'https://saltlakecity.bedpage.com/WomenSeekMen/usa/6702967.html', 'https://saltlakecity.bedpage.com/WomenSeekMen/usa/6702582.html', 'https://saltlakecity.bedpage.com/WomenSeekMen/usa/6702361.html', 'https://saltlakecity.bedpage.com/WomenSeekMen/usa/6702020.html', 'https://saltlakecity.bedpage.com/WomenSeekMen/usa/6700860.html', 'https://saltlakecity.bedpage.com/WomenSeekMen/usa/6700826.html', 'https://saltlakecity.bedpage.com/WomenSeekMen/usa/6700815.html', 'https://saltlakecity.bedpage.com/WomenSeekMen/usa/6700514.html', 'https://saltlakecity.bedpage.com/WomenSeekMen/usa/6700237.html', 'https://saltlakecity.bedpage.com/WomenSeekMen/usa/6699476.html', 'https://saltlakecity.bedpage.com/WomenSeekMen/usa/6698740.html', 'https://saltlakecity.bedpage.com/WomenSeekMen/usa/6698690.html', 'https://saltlakecity.bedpage.com/WomenSeekMen/usa/6698464.html', 'https://saltlakecity.bedpage.com/WomenSeekMen/usa/6698426.html', 'https://saltlakecity.bedpage.com/WomenSeekMen/usa/6698062.html', 'https://saltlakecity.bedpage.com/WomenSeekMen/usa/6696883.html', 'https://saltlakecity.bedpage.com/WomenSeekMen/usa/6696688.html', 'https://saltlakecity.bedpage.com/WomenSeekMen/usa/6696376.html', 'https://saltlakecity.bedpage.com/WomenSeekMen/usa/6696297.html', 'https://saltlakecity.bedpage.com/WomenSeekMen/usa/6694887.html', 'https://saltlakecity.bedpage.com/WomenSeekMen/usa/6694216.html', 'https://saltlakecity.bedpage.com/WomenSeekMen/usa/6694183.html', 'https://saltlakecity.bedpage.com/WomenSeekMen/usa/6692260.html', 'https://saltlakecity.bedpage.com/WomenSeekMen/usa/6692052.html', 'https://saltlakecity.bedpage.com/WomenSeekMen/usa/6692024.html', 'https://saltlakecity.bedpage.com/WomenSeekMen/usa/6691185.html', 'https://saltlakecity.bedpage.com/WomenSeekMen/usa/6690244.html', 'https://saltlakecity.bedpage.com/WomenSeekMen/usa/6690234.html', 'https://saltlakecity.bedpage.com/WomenSeekMen/usa/6689605.html', 'https://saltlakecity.bedpage.com/WomenSeekMen/usa/6689601.html', 'https://saltlakecity.bedpage.com/WomenSeekMen/usa/6688178.html', 'https://saltlakecity.bedpage.com/WomenSeekMen/usa/6688013.html', 'https://saltlakecity.bedpage.com/WomenSeekMen/usa/6687981.html', 'https://saltlakecity.bedpage.com/WomenSeekMen/usa/6687392.html', 'https://saltlakecity.bedpage.com/WomenSeekMen/usa/6687389.html', 'https://saltlakecity.bedpage.com/WomenSeekMen/usa/6685787.html', 'https://saltlakecity.bedpage.com/WomenSeekMen/usa/6685751.html', 'https://saltlakecity.bedpage.com/WomenSeekMen/usa/6685160.html', 'https://saltlakecity.bedpage.com/WomenSeekMen/usa/6685157.html', 'https://saltlakecity.bedpage.com/WomenSeekMen/usa/6683769.html', 'https://saltlakecity.bedpage.com/WomenSeekMen/usa/6683729.html', 'https://saltlakecity.bedpage.com/WomenSeekMen/usa/6683144.html', 'https://saltlakecity.bedpage.com/WomenSeekMen/usa/6683092.html', 'https://saltlakecity.bedpage.com/WomenSeekMen/usa/6681874.html', 'https://saltlakecity.bedpage.com/WomenSeekMen/usa/6681872.html', 'https://saltlakecity.bedpage.com/WomenSeekMen/usa/6681276.html', 'https://saltlakecity.bedpage.com/WomenSeekMen/usa/6681234.html', 'https://saltlakecity.bedpage.com/WomenSeekMen/usa/6680492.html', 'https://saltlakecity.bedpage.com/WomenSeekMen/usa/6679818.html', 'https://saltlakecity.bedpage.com/WomenSeekMen/usa/6679816.html', 'https://saltlakecity.bedpage.com/WomenSeekMen/usa/6679219.html', 'https://saltlakecity.bedpage.com/WomenSeekMen/usa/6678368.html', 'https://saltlakecity.bedpage.com/WomenSeekMen/usa/6677675.html', 'https://saltlakecity.bedpage.com/WomenSeekMen/usa/6677673.html', 'https://saltlakecity.bedpage.com/WomenSeekMen/usa/6677041.html', 'https://saltlakecity.bedpage.com/WomenSeekMen/usa/6676132.html', 'https://saltlakecity.bedpage.com/WomenSeekMen/usa/6675374.html', 'https://saltlakecity.bedpage.com/WomenSeekMen/usa/6675372.html', 'https://saltlakecity.bedpage.com/WomenSeekMen/usa/6674857.html', 'https://saltlakecity.bedpage.com/WomenSeekMen/usa/6673249.html', 'https://saltlakecity.bedpage.com/WomenSeekMen/usa/6673247.html', 'https://saltlakecity.bedpage.com/WomenSeekMen/usa/6672791.html', 'https://saltlakecity.bedpage.com/WomenSeekMen/usa/6672754.html', 'https://saltlakecity.bedpage.com/WomenSeekMen/usa/6671159.html', 'https://saltlakecity.bedpage.com/WomenSeekMen/usa/6670636.html', 'https://saltlakecity.bedpage.com/WomenSeekMen/usa/6670600.html', 'https://saltlakecity.bedpage.com/WomenSeekMen/usa/6670555.html', 'https://saltlakecity.bedpage.com/WomenSeekMen/usa/6668912.html', 'https://saltlakecity.bedpage.com/WomenSeekMen/usa/6668910.html', 'https://saltlakecity.bedpage.com/WomenSeekMen/usa/6668424.html', 'https://saltlakecity.bedpage.com/WomenSeekMen/usa/6668392.html', 'https://saltlakecity.bedpage.com/WomenSeekMen/usa/6667168.html', 'https://saltlakecity.bedpage.com/WomenSeekMen/usa/6667166.html', 'https://saltlakecity.bedpage.com/WomenSeekMen/usa/6666648.html', 'https://saltlakecity.bedpage.com/WomenSeekMen/usa/6666617.html', 'https://saltlakecity.bedpage.com/WomenSeekMen/usa/6665234.html', 'https://saltlakecity.bedpage.com/WomenSeekMen/usa/6665232.html', 'https://saltlakecity.bedpage.com/WomenSeekMen/usa/6664702.html', 'https://saltlakecity.bedpage.com/WomenSeekMen/usa/6664635.html', 'https://saltlakecity.bedpage.com/WomenSeekMen/usa/6663046.html', 'https://saltlakecity.bedpage.com/WomenSeekMen/usa/6663044.html', 'https://saltlakecity.bedpage.com/WomenSeekMen/usa/6662605.html', 'https://saltlakecity.bedpage.com/WomenSeekMen/usa/6662484.html', 'https://saltlakecity.bedpage.com/WomenSeekMen/usa/6662055.html', 'https://saltlakecity.bedpage.com/WomenSeekMen/usa/6660855.html', 'https://saltlakecity.bedpage.com/WomenSeekMen/usa/6660851.html', 'https://saltlakecity.bedpage.com/WomenSeekMen/usa/6660365.html', 'https://saltlakecity.bedpage.com/WomenSeekMen/united-states/6660344.html', 'https://saltlakecity.bedpage.com/WomenSeekMen/united-states/6644962.html', 'https://saltlakecity.bedpage.com/WomenSeekMen/usa/6658950.html', 'https://saltlakecity.bedpage.com/WomenSeekMen/usa/6658392.html', 'https://saltlakecity.bedpage.com/WomenSeekMen/united-states/6658322.html', 'https://saltlakecity.bedpage.com/WomenSeekMen/usa/6658262.html', 'https://saltlakecity.bedpage.com/WomenSeekMen/usa/6658258.html', 'https://saltlakecity.bedpage.com/WomenSeekMen/usa/6656427.html', 'https://saltlakecity.bedpage.com/WomenSeekMen/united-states/6656275.html', 'https://saltlakecity.bedpage.com/WomenSeekMen/usa/6656215.html', 'https://saltlakecity.bedpage.com/WomenSeekMen/usa/6656211.html', 'https://saltlakecity.bedpage.com/WomenSeekMen/salt-lake-city-ut-usa/6655541.html', 'https://saltlakecity.bedpage.com/WomenSeekMen/ee-uu/6655365.html', 'https://saltlakecity.bedpage.com/WomenSeekMen/usa/6654636.html', 'https://saltlakecity.bedpage.com/WomenSeekMen/usa/6654634.html', 'https://saltlakecity.bedpage.com/WomenSeekMen/usa/6654398.html', 'https://saltlakecity.bedpage.com/WomenSeekMen/united-states/6654149.html', 'https://saltlakecity.bedpage.com/WomenSeekMen/salt-lake-city-ut-usa/6653548.html', 'https://saltlakecity.bedpage.com/WomenSeekMen/usa/6652918.html', 'https://saltlakecity.bedpage.com/WomenSeekMen/usa/6652916.html', 'https://saltlakecity.bedpage.com/WomenSeekMen/usa/6652741.html', 'https://saltlakecity.bedpage.com/WomenSeekMen/ee-uu/6652485.html', 'https://saltlakecity.bedpage.com/WomenSeekMen/usa/6651851.html', 'https://saltlakecity.bedpage.com/WomenSeekMen/usa/6651750.html', 'https://saltlakecity.bedpage.com/WomenSeekMen/usa/6651534.html', 'https://saltlakecity.bedpage.com/WomenSeekMen/united-states/6651383.html', 'https://saltlakecity.bedpage.com/WomenSeekMen/ee-uu/6651230.html', 'https://saltlakecity.bedpage.com/WomenSeekMen/salt-lake-city-ut-usa/6650151.html', 'https://saltlakecity.bedpage.com/WomenSeekMen/usa/6649993.html', 'https://saltlakecity.bedpage.com/WomenSeekMen/usa/6649990.html', 'https://saltlakecity.bedpage.com/WomenSeekMen/salt-lake-city-ut-usa/6649828.html', 'https://saltlakecity.bedpage.com/WomenSeekMen/united-states/6649059.html', 'https://saltlakecity.bedpage.com/WomenSeekMen/ee-uu/6648935.html', 'https://saltlakecity.bedpage.com/WomenSeekMen/usa/6648588.html', 'https://saltlakecity.bedpage.com/WomenSeekMen/estados-unidos/6612052.html', 'https://saltlakecity.bedpage.com/WomenSeekMen/salt-lake-city-ut-usa/6647887.html', 'https://saltlakecity.bedpage.com/WomenSeekMen/usa/6647678.html', 'https://saltlakecity.bedpage.com/WomenSeekMen/usa/6647675.html', 'https://saltlakecity.bedpage.com/WomenSeekMen/salt-lake-city-ut-usa/6647509.html', 'https://saltlakecity.bedpage.com/WomenSeekMen/usa/6647213.html', 'https://saltlakecity.bedpage.com/WomenSeekMen/salt-lake-city-ut-usa/6647042.html', 'https://saltlakecity.bedpage.com/WomenSeekMen/ee-uu/6646708.html', 'https://saltlakecity.bedpage.com/WomenSeekMen/usa/6646303.html', 'https://saltlakecity.bedpage.com/WomenSeekMen/united-states/6645834.html', 'https://saltlakecity.bedpage.com/WomenSeekMen/salt-lake-city-ut-usa/6645278.html', 'https://saltlakecity.bedpage.com/WomenSeekMen/salt-lake-city-ut-usa/6644458.html', 'https://saltlakecity.bedpage.com/WomenSeekMen/usa/6644044.html', 'https://saltlakecity.bedpage.com/WomenSeekMen/usa/6643807.html', 'https://saltlakecity.bedpage.com/WomenSeekMen/usa/6643793.html', 'https://saltlakecity.bedpage.com/WomenSeekMen/salt-lake-city-ut-usa/6643113.html', 'https://saltlakecity.bedpage.com/WomenSeekMen/salt-lake-city-ut-usa/6582764.html', 'https://saltlakecity.bedpage.com/WomenSeekMen/usa/6641190.html', 'https://saltlakecity.bedpage.com/WomenSeekMen/usa/6641171.html', 'https://saltlakecity.bedpage.com/WomenSeekMen/usa/6640870.html', 'https://saltlakecity.bedpage.com/WomenSeekMen/usa/6639712.html', 'https://saltlakecity.bedpage.com/WomenSeekMen/usa/6639184.html', 'https://saltlakecity.bedpage.com/WomenSeekMen/usa/6639165.html', 'https://saltlakecity.bedpage.com/WomenSeekMen/usa/6638049.html', 'https://saltlakecity.bedpage.com/WomenSeekMen/usa/6638003.html', 'https://saltlakecity.bedpage.com/WomenSeekMen/usa/6637983.html', 'https://saltlakecity.bedpage.com/WomenSeekMen/usa/6637940.html', 'https://saltlakecity.bedpage.com/WomenSeekMen/usa/6635724.html', 'https://saltlakecity.bedpage.com/WomenSeekMen/usa/6635581.html', 'https://saltlakecity.bedpage.com/WomenSeekMen/usa/6635572.html', 'https://saltlakecity.bedpage.com/WomenSeekMen/usa/6634247.html', 'https://saltlakecity.bedpage.com/WomenSeekMen/usa/6634226.html', 'https://saltlakecity.bedpage.com/WomenSeekMen/usa/6634219.html', 'https://saltlakecity.bedpage.com/WomenSeekMen/usa/6633200.html', 'https://saltlakecity.bedpage.com/WomenSeekMen/usa/6632839.html', 'https://saltlakecity.bedpage.com/WomenSeekMen/usa/6632830.html', 'https://saltlakecity.bedpage.com/WomenSeekMen/usa/6632285.html', 'https://saltlakecity.bedpage.com/WomenSeekMen/usa/6631935.html', 'https://saltlakecity.bedpage.com/WomenSeekMen/usa/6631753.html', 'https://saltlakecity.bedpage.com/WomenSeekMen/usa/6631183.html', 'https://saltlakecity.bedpage.com/WomenSeekMen/usa/6631167.html', 'https://saltlakecity.bedpage.com/WomenSeekMen/usa/6573640.html', 'https://saltlakecity.bedpage.com/WomenSeekMen/usa/6630682.html', 'https://saltlakecity.bedpage.com/WomenSeekMen/usa/6629217.html', 'https://saltlakecity.bedpage.com/WomenSeekMen/usa/6629155.html', 'https://saltlakecity.bedpage.com/WomenSeekMen/usa/6628971.html', 'https://saltlakecity.bedpage.com/WomenSeekMen/usa/6627647.html', 'https://saltlakecity.bedpage.com/WomenSeekMen/usa/6627407.html', 'https://saltlakecity.bedpage.com/WomenSeekMen/usa/6625756.html', 'https://saltlakecity.bedpage.com/WomenSeekMen/usa/6625514.html', 'https://saltlakecity.bedpage.com/WomenSeekMen/salt-lake-city-ut-usa/6624502.html', 'https://saltlakecity.bedpage.com/WomenSeekMen/usa/6623797.html', 'https://saltlakecity.bedpage.com/WomenSeekMen/usa/6623537.html', 'https://saltlakecity.bedpage.com/WomenSeekMen/usa/6621948.html', 'https://saltlakecity.bedpage.com/WomenSeekMen/usa/6621693.html', 'https://saltlakecity.bedpage.com/WomenSeekMen/salt-lake-city-ut-usa/6621373.html', 'https://saltlakecity.bedpage.com/WomenSeekMen/usa/6620367.html', 'https://saltlakecity.bedpage.com/WomenSeekMen/usa/6619996.html', 'https://saltlakecity.bedpage.com/WomenSeekMen/usa/6619756.html', 'https://saltlakecity.bedpage.com/WomenSeekMen/salt-lake-city-ut-usa/6619477.html', 'https://saltlakecity.bedpage.com/WomenSeekMen/salt-lake-city-ut-usa/6618782.html', 'https://saltlakecity.bedpage.com/WomenSeekMen/usa/6618072.html', 'https://saltlakecity.bedpage.com/WomenSeekMen/usa/6617843.html', 'https://saltlakecity.bedpage.com/WomenSeekMen/usa/6616266.html', 'https://saltlakecity.bedpage.com/WomenSeekMen/usa/6616043.html', 'https://saltlakecity.bedpage.com/WomenSeekMen/usa/6614735.html', 'https://saltlakecity.bedpage.com/WomenSeekMen/usa/6614514.html', 'https://saltlakecity.bedpage.com/WomenSeekMen/usa/6613136.html', 'https://saltlakecity.bedpage.com/WomenSeekMen/usa/6612899.html', 'https://saltlakecity.bedpage.com/WomenSeekMen/usa/6611159.html', 'https://saltlakecity.bedpage.com/WomenSeekMen/usa/6611094.html', 'https://saltlakecity.bedpage.com/WomenSeekMen/usa/6611090.html', 'https://saltlakecity.bedpage.com/WomenSeekMen/usa/6610547.html', 'https://saltlakecity.bedpage.com/WomenSeekMen/usa/6609489.html', 'https://saltlakecity.bedpage.com/WomenSeekMen/usa/6609488.html', 'https://saltlakecity.bedpage.com/WomenSeekMen/usa/6609303.html', 'https://saltlakecity.bedpage.com/WomenSeekMen/usa/6609230.html', 'https://saltlakecity.bedpage.com/WomenSeekMen/usa/6607680.html', 'https://saltlakecity.bedpage.com/WomenSeekMen/usa/6607419.html', 'https://saltlakecity.bedpage.com/WomenSeekMen/estados-unidos/6581020.html', 'https://saltlakecity.bedpage.com/WomenSeekMen/usa/6605977.html', 'https://saltlakecity.bedpage.com/WomenSeekMen/usa/6605614.html', 'https://saltlakecity.bedpage.com/WomenSeekMen/usa/6605165.html', 'https://saltlakecity.bedpage.com/WomenSeekMen/usa/6605164.html', 'https://saltlakecity.bedpage.com/WomenSeekMen/usa/6604117.html', 'https://saltlakecity.bedpage.com/WomenSeekMen/usa/6604116.html', 'https://saltlakecity.bedpage.com/WomenSeekMen/usa/6603894.html', 'https://saltlakecity.bedpage.com/WomenSeekMen/usa/6603849.html', 'https://saltlakecity.bedpage.com/WomenSeekMen/usa/6603817.html', 'https://saltlakecity.bedpage.com/WomenSeekMen/usa/6602343.html', 'https://saltlakecity.bedpage.com/WomenSeekMen/usa/6602057.html', 'https://saltlakecity.bedpage.com/WomenSeekMen/usa/6602012.html', 'https://saltlakecity.bedpage.com/WomenSeekMen/usa/6601497.html', 'https://saltlakecity.bedpage.com/WomenSeekMen/usa/6601496.html', 'https://saltlakecity.bedpage.com/WomenSeekMen/usa/6590545.html', 'https://saltlakecity.bedpage.com/WomenSeekMen/usa/6590848.html', 'https://saltlakecity.bedpage.com/WomenSeekMen/usa/6600642.html', 'https://saltlakecity.bedpage.com/WomenSeekMen/usa/6600358.html', 'https://saltlakecity.bedpage.com/WomenSeekMen/usa/6600283.html', 'https://saltlakecity.bedpage.com/WomenSeekMen/usa/6599815.html', 'https://saltlakecity.bedpage.com/WomenSeekMen/usa/6599814.html', 'https://saltlakecity.bedpage.com/WomenSeekMen/usa/6598872.html', 'https://saltlakecity.bedpage.com/WomenSeekMen/usa/6598269.html', 'https://saltlakecity.bedpage.com/WomenSeekMen/usa/6598267.html', 'https://saltlakecity.bedpage.com/WomenSeekMen/usa/6597008.html', 'https://saltlakecity.bedpage.com/WomenSeekMen/usa/6596433.html', 'https://saltlakecity.bedpage.com/WomenSeekMen/usa/6596431.html', 'https://saltlakecity.bedpage.com/WomenSeekMen/united-states/6595222.html', 'https://saltlakecity.bedpage.com/WomenSeekMen/usa/6594678.html', 'https://saltlakecity.bedpage.com/WomenSeekMen/usa/6594676.html', 'https://saltlakecity.bedpage.com/WomenSeekMen/usa/6593527.html', 'https://saltlakecity.bedpage.com/WomenSeekMen/usa/6593525.html', 'https://saltlakecity.bedpage.com/WomenSeekMen/united-states/6591860.html', 'https://saltlakecity.bedpage.com/WomenSeekMen/usa/6591763.html', 'https://saltlakecity.bedpage.com/WomenSeekMen/usa/6591762.html', 'https://saltlakecity.bedpage.com/WomenSeekMen/usa/6590222.html', 'https://saltlakecity.bedpage.com/WomenSeekMen/usa/6590221.html', 'https://saltlakecity.bedpage.com/WomenSeekMen/usa/6589842.html', 'https://saltlakecity.bedpage.com/WomenSeekMen/salt-lake-city-ut-usa/6588742.html', 'https://saltlakecity.bedpage.com/WomenSeekMen/1', 'https://saltlakecity.bedpage.com/WomenSeekMen/1', 'https://saltlakecity.bedpage.com/WomenSeekMen/3', 'https://saltlakecity.bedpage.com/WomenSeekMen/4', 'https://saltlakecity.bedpage.com/WomenSeekMen/3', 'https://saltlakecity.bedpage.com/WomenSeekMen/incall-outcall-car-play-let-s-have-lots-of-fun/7791052.html', 'https://saltlakecity.bedpage.com/WomenSeekMen/incall-outcall-car-play-let-s-have-lots-of-fun/7791052.html', 'https://saltlakecity.bedpage.com/WomenSeekMen/incall-outcall-car-play-let-s-have-lots-of-fun/7791052.html', 'https://saltlakecity.bedpage.com/WomenSeekMen/incall-outcall-car-play-let-s-have-lots-of-fun/7244377.html', 'https://saltlakecity.bedpage.com/WomenSeekMen/incall-outcall-car-play-let-s-have-lots-of-fun/7244377.html', 'https://saltlakecity.bedpage.com/WomenSeekMen/incall-outcall-car-play-let-s-have-lots-of-fun/7244377.html', 'https://saltlakecity.bedpage.com/WomenSeekMen/ride-to-work-asap/6563624.html', 'https://saltlakecity.bedpage.com/WomenSeekMen/ride-to-work-asap/6563624.html', 'https://saltlakecity.bedpage.com/WomenSeekMen/ride-to-work-asap/6563624.html', 'https://saltlakecity.bedpage.com/WomenSeekMen/ride-to-work-asap/6563624.html', 'https://saltlakecity.bedpage.com/WomenSeekMen/hi-i-want-go-out-tonight-do-you-have-time/6695143.html', 'https://saltlakecity.bedpage.com/WomenSeekMen/hi-i-want-go-out-tonight-do-you-have-time/6695143.html', 'https://saltlakecity.bedpage.com/WomenSeekMen/come-fuck-my-juicy-pussy-tonight-amp-tomorrow/6693121.html', 'https://saltlakecity.bedpage.com/WomenSeekMen/come-fuck-my-juicy-pussy-tonight-amp-tomorrow/6693121.html', 'https://saltlakecity.bedpage.com/WomenSeekMen/i-m-always-horney-so-come-fk-me/6693129.html', 'https://saltlakecity.bedpage.com/WomenSeekMen/i-m-always-horney-so-come-fk-me/6693129.html', 'https://saltlakecity.bedpage.com/WomenSeekMen/layla-here-to-serve-you-why-look-anywhere-else/6693131.html', 'https://saltlakecity.bedpage.com/WomenSeekMen/layla-here-to-serve-you-why-look-anywhere-else/6693131.html', 'https://saltlakecity.bedpage.com/WomenSeekMen/nude-full-body-to-body-rub/6693111.html', 'https://saltlakecity.bedpage.com/WomenSeekMen/nude-full-body-to-body-rub/6693111.html', 'https://saltlakecity.bedpage.com/WomenSeekMen/take-some-time-out-of-your-day-and-indulge-yourself-come-on-a-tantalizing-tryst-with-me/6724876.html', 'https://saltlakecity.bedpage.com/WomenSeekMen/take-some-time-out-of-your-day-and-indulge-yourself-come-on-a-tantalizing-tryst-with-me/6724876.html', 'https://saltlakecity.bedpage.com/WomenSeekMen/o-ng-cki-ach-r-wa-t-to-e-t-w-ol-chole86480-at-gmail/6703885.html', 'https://saltlakecity.bedpage.com/WomenSeekMen/o-ng-cki-ach-r-wa-t-to-e-t-w-ol-chole86480-at-gmail/6703885.html', 'https://saltlakecity.bedpage.com/WomenSeekMen/o-ng-cki-ach-r-wa-t-to-e-t-w-ol-chole86480-at-gmail/6703885.html', 'https://saltlakecity.bedpage.com/WomenSeekMen/o-ng-cki-ach-r-wa-t-to-e-t-w-ol-chole86480-at-gmail/6703885.html', 'https://saltlakecity.bedpage.com/WomenSeekMen/look-at-me-i-know-what-are-you-thinking/6595688.html', 'https://saltlakecity.bedpage.com/WomenSeekMen/look-at-me-i-know-what-are-you-thinking/6595688.html', 'https://saltlakecity.bedpage.com/WomenSeekMen/attn-new-number-text-me-469-515-1672-let-me-blo-ur-mind/6720122.html', 'https://saltlakecity.bedpage.com/WomenSeekMen/attn-new-number-text-me-469-515-1672-let-me-blo-ur-mind/6720122.html', 'https://saltlakecity.bedpage.com/WomenSeekMen/attn-new-number-text-me-469-515-1672-let-me-blo-ur-mind/6720122.html', 'https://saltlakecity.bedpage.com/WomenSeekMen/attn-new-number-text-me-469-515-1672-let-me-blo-ur-mind/6720122.html', 'https://saltlakecity.bedpage.com/WomenSeekMen/real-sexy-asian-exotic-latina-ebony-girls-waiting-for-you/7246086.html', 'https://saltlakecity.bedpage.com/WomenSeekMen/real-sexy-asian-exotic-latina-ebony-girls-waiting-for-you/7246086.html', 'https://saltlakecity.bedpage.com/WomenSeekMen/real-sexy-asian-exotic-latina-ebony-girls-waiting-for-you/7246086.html', 'https://saltlakecity.bedpage.com/WomenSeekMen/real-sexy-asian-exotic-latina-ebony-girls-waiting-for-you/7246086.html', 'https://saltlakecity.bedpage.com/WomenSeekMen/sexy-brunette-barbie-hottie/6719982.html', 'https://saltlakecity.bedpage.com/WomenSeekMen/sexy-brunette-barbie-hottie/6719982.html', 'https://saltlakecity.bedpage.com/WomenSeekMen/sexy-brunette-barbie-hottie/6719982.html', 'https://saltlakecity.bedpage.com/WomenSeekMen/sexy-brunette-barbie-hottie/6719982.html', 'https://saltlakecity.bedpage.com/WomenSeekMen/look-at-me-i-know-what-are-you-thinking/6597610.html', 'https://saltlakecity.bedpage.com/WomenSeekMen/look-at-me-i-know-what-are-you-thinking/6597610.html', 'https://saltlakecity.bedpage.com/WomenSeekMen/tired-of-getting-the-run-around-and-the-hassle-well-i-m-promise-you-will-leave-wanting-more/6586011.html', 'https://saltlakecity.bedpage.com/WomenSeekMen/tired-of-getting-the-run-around-and-the-hassle-well-i-m-promise-you-will-leave-wanting-more/6586011.html']\n"
     ]
    },
    {
     "data": {
      "text/plain": [
       "'\\nThis output contains sensitive material including sensual language. \\nDiscretion is advised.\\n'"
      ]
     },
     "execution_count": 11,
     "metadata": {},
     "output_type": "execute_result"
    }
   ],
   "source": [
    "print(links)\n",
    "\"\"\"\n",
    "This output contains sensitive material including sensual language. \n",
    "Discretion is advised.\n",
    "\"\"\""
   ]
  },
  {
   "cell_type": "code",
   "execution_count": 12,
   "metadata": {},
   "outputs": [],
   "source": [
    "useless2 = ['https://saltlakecity.bedpage.com/WomenSeekMen/1',\n",
    "            'https://saltlakecity.bedpage.com/WomenSeekMen/1',\n",
    "            'https://saltlakecity.bedpage.com/WomenSeekMen/3', \n",
    "            'https://saltlakecity.bedpage.com/WomenSeekMen/4',\n",
    "            'https://saltlakecity.bedpage.com/WomenSeekMen/3',\n",
    "            'https://saltlakecity.bedpage.com/WomenSeekMen/gallery']\n",
    "\n",
    "for url in useless2:\n",
    "    links.remove(url)"
   ]
  },
  {
   "cell_type": "code",
   "execution_count": 13,
   "metadata": {},
   "outputs": [
    {
     "name": "stdout",
     "output_type": "stream",
     "text": [
      "617\n"
     ]
    }
   ],
   "source": [
    "links = set(links)\n",
    "print(len(links))"
   ]
  },
  {
   "cell_type": "markdown",
   "metadata": {},
   "source": [
    "I'm now left with over 600 unique links (though some could lead to duplicate ads)."
   ]
  },
  {
   "cell_type": "markdown",
   "metadata": {},
   "source": [
    "The very last part of this step is to convert each ad into its text components. The code below tries to do this for every observation, catching the HTTP Errors as exceptions."
   ]
  },
  {
   "cell_type": "code",
   "execution_count": 14,
   "metadata": {},
   "outputs": [
    {
     "name": "stderr",
     "output_type": "stream",
     "text": [
      "Some characters could not be decoded, and were replaced with REPLACEMENT CHARACTER.\n",
      "Some characters could not be decoded, and were replaced with REPLACEMENT CHARACTER.\n",
      "Some characters could not be decoded, and were replaced with REPLACEMENT CHARACTER.\n",
      "Some characters could not be decoded, and were replaced with REPLACEMENT CHARACTER.\n",
      "Some characters could not be decoded, and were replaced with REPLACEMENT CHARACTER.\n",
      "Some characters could not be decoded, and were replaced with REPLACEMENT CHARACTER.\n",
      "Some characters could not be decoded, and were replaced with REPLACEMENT CHARACTER.\n",
      "Some characters could not be decoded, and were replaced with REPLACEMENT CHARACTER.\n",
      "Some characters could not be decoded, and were replaced with REPLACEMENT CHARACTER.\n",
      "Some characters could not be decoded, and were replaced with REPLACEMENT CHARACTER.\n",
      "Some characters could not be decoded, and were replaced with REPLACEMENT CHARACTER.\n",
      "Some characters could not be decoded, and were replaced with REPLACEMENT CHARACTER.\n",
      "Some characters could not be decoded, and were replaced with REPLACEMENT CHARACTER.\n",
      "Some characters could not be decoded, and were replaced with REPLACEMENT CHARACTER.\n",
      "Some characters could not be decoded, and were replaced with REPLACEMENT CHARACTER.\n",
      "Some characters could not be decoded, and were replaced with REPLACEMENT CHARACTER.\n",
      "Some characters could not be decoded, and were replaced with REPLACEMENT CHARACTER.\n",
      "Some characters could not be decoded, and were replaced with REPLACEMENT CHARACTER.\n",
      "Some characters could not be decoded, and were replaced with REPLACEMENT CHARACTER.\n",
      "Some characters could not be decoded, and were replaced with REPLACEMENT CHARACTER.\n",
      "Some characters could not be decoded, and were replaced with REPLACEMENT CHARACTER.\n",
      "Some characters could not be decoded, and were replaced with REPLACEMENT CHARACTER.\n",
      "Some characters could not be decoded, and were replaced with REPLACEMENT CHARACTER.\n",
      "Some characters could not be decoded, and were replaced with REPLACEMENT CHARACTER.\n",
      "Some characters could not be decoded, and were replaced with REPLACEMENT CHARACTER.\n",
      "Some characters could not be decoded, and were replaced with REPLACEMENT CHARACTER.\n",
      "Some characters could not be decoded, and were replaced with REPLACEMENT CHARACTER.\n",
      "Some characters could not be decoded, and were replaced with REPLACEMENT CHARACTER.\n",
      "Some characters could not be decoded, and were replaced with REPLACEMENT CHARACTER.\n",
      "Some characters could not be decoded, and were replaced with REPLACEMENT CHARACTER.\n",
      "Some characters could not be decoded, and were replaced with REPLACEMENT CHARACTER.\n",
      "Some characters could not be decoded, and were replaced with REPLACEMENT CHARACTER.\n",
      "Some characters could not be decoded, and were replaced with REPLACEMENT CHARACTER.\n",
      "Some characters could not be decoded, and were replaced with REPLACEMENT CHARACTER.\n",
      "Some characters could not be decoded, and were replaced with REPLACEMENT CHARACTER.\n",
      "Some characters could not be decoded, and were replaced with REPLACEMENT CHARACTER.\n",
      "Some characters could not be decoded, and were replaced with REPLACEMENT CHARACTER.\n",
      "Some characters could not be decoded, and were replaced with REPLACEMENT CHARACTER.\n",
      "Some characters could not be decoded, and were replaced with REPLACEMENT CHARACTER.\n",
      "Some characters could not be decoded, and were replaced with REPLACEMENT CHARACTER.\n",
      "Some characters could not be decoded, and were replaced with REPLACEMENT CHARACTER.\n",
      "Some characters could not be decoded, and were replaced with REPLACEMENT CHARACTER.\n",
      "Some characters could not be decoded, and were replaced with REPLACEMENT CHARACTER.\n",
      "Some characters could not be decoded, and were replaced with REPLACEMENT CHARACTER.\n",
      "Some characters could not be decoded, and were replaced with REPLACEMENT CHARACTER.\n",
      "Some characters could not be decoded, and were replaced with REPLACEMENT CHARACTER.\n",
      "Some characters could not be decoded, and were replaced with REPLACEMENT CHARACTER.\n",
      "Some characters could not be decoded, and were replaced with REPLACEMENT CHARACTER.\n",
      "Some characters could not be decoded, and were replaced with REPLACEMENT CHARACTER.\n",
      "Some characters could not be decoded, and were replaced with REPLACEMENT CHARACTER.\n",
      "Some characters could not be decoded, and were replaced with REPLACEMENT CHARACTER.\n",
      "Some characters could not be decoded, and were replaced with REPLACEMENT CHARACTER.\n",
      "Some characters could not be decoded, and were replaced with REPLACEMENT CHARACTER.\n",
      "Some characters could not be decoded, and were replaced with REPLACEMENT CHARACTER.\n",
      "Some characters could not be decoded, and were replaced with REPLACEMENT CHARACTER.\n",
      "Some characters could not be decoded, and were replaced with REPLACEMENT CHARACTER.\n",
      "Some characters could not be decoded, and were replaced with REPLACEMENT CHARACTER.\n",
      "Some characters could not be decoded, and were replaced with REPLACEMENT CHARACTER.\n",
      "Some characters could not be decoded, and were replaced with REPLACEMENT CHARACTER.\n",
      "Some characters could not be decoded, and were replaced with REPLACEMENT CHARACTER.\n",
      "Some characters could not be decoded, and were replaced with REPLACEMENT CHARACTER.\n",
      "Some characters could not be decoded, and were replaced with REPLACEMENT CHARACTER.\n",
      "Some characters could not be decoded, and were replaced with REPLACEMENT CHARACTER.\n",
      "Some characters could not be decoded, and were replaced with REPLACEMENT CHARACTER.\n",
      "Some characters could not be decoded, and were replaced with REPLACEMENT CHARACTER.\n",
      "Some characters could not be decoded, and were replaced with REPLACEMENT CHARACTER.\n",
      "Some characters could not be decoded, and were replaced with REPLACEMENT CHARACTER.\n",
      "Some characters could not be decoded, and were replaced with REPLACEMENT CHARACTER.\n",
      "Some characters could not be decoded, and were replaced with REPLACEMENT CHARACTER.\n",
      "Some characters could not be decoded, and were replaced with REPLACEMENT CHARACTER.\n",
      "Some characters could not be decoded, and were replaced with REPLACEMENT CHARACTER.\n",
      "Some characters could not be decoded, and were replaced with REPLACEMENT CHARACTER.\n",
      "Some characters could not be decoded, and were replaced with REPLACEMENT CHARACTER.\n",
      "Some characters could not be decoded, and were replaced with REPLACEMENT CHARACTER.\n",
      "Some characters could not be decoded, and were replaced with REPLACEMENT CHARACTER.\n",
      "Some characters could not be decoded, and were replaced with REPLACEMENT CHARACTER.\n",
      "Some characters could not be decoded, and were replaced with REPLACEMENT CHARACTER.\n",
      "Some characters could not be decoded, and were replaced with REPLACEMENT CHARACTER.\n",
      "Some characters could not be decoded, and were replaced with REPLACEMENT CHARACTER.\n",
      "Some characters could not be decoded, and were replaced with REPLACEMENT CHARACTER.\n",
      "Some characters could not be decoded, and were replaced with REPLACEMENT CHARACTER.\n",
      "Some characters could not be decoded, and were replaced with REPLACEMENT CHARACTER.\n",
      "Some characters could not be decoded, and were replaced with REPLACEMENT CHARACTER.\n",
      "Some characters could not be decoded, and were replaced with REPLACEMENT CHARACTER.\n",
      "Some characters could not be decoded, and were replaced with REPLACEMENT CHARACTER.\n",
      "Some characters could not be decoded, and were replaced with REPLACEMENT CHARACTER.\n",
      "Some characters could not be decoded, and were replaced with REPLACEMENT CHARACTER.\n",
      "Some characters could not be decoded, and were replaced with REPLACEMENT CHARACTER.\n",
      "Some characters could not be decoded, and were replaced with REPLACEMENT CHARACTER.\n",
      "Some characters could not be decoded, and were replaced with REPLACEMENT CHARACTER.\n",
      "Some characters could not be decoded, and were replaced with REPLACEMENT CHARACTER.\n",
      "Some characters could not be decoded, and were replaced with REPLACEMENT CHARACTER.\n",
      "Some characters could not be decoded, and were replaced with REPLACEMENT CHARACTER.\n",
      "Some characters could not be decoded, and were replaced with REPLACEMENT CHARACTER.\n",
      "Some characters could not be decoded, and were replaced with REPLACEMENT CHARACTER.\n",
      "Some characters could not be decoded, and were replaced with REPLACEMENT CHARACTER.\n",
      "Some characters could not be decoded, and were replaced with REPLACEMENT CHARACTER.\n",
      "Some characters could not be decoded, and were replaced with REPLACEMENT CHARACTER.\n"
     ]
    },
    {
     "name": "stderr",
     "output_type": "stream",
     "text": [
      "Some characters could not be decoded, and were replaced with REPLACEMENT CHARACTER.\n",
      "Some characters could not be decoded, and were replaced with REPLACEMENT CHARACTER.\n",
      "Some characters could not be decoded, and were replaced with REPLACEMENT CHARACTER.\n",
      "Some characters could not be decoded, and were replaced with REPLACEMENT CHARACTER.\n",
      "Some characters could not be decoded, and were replaced with REPLACEMENT CHARACTER.\n",
      "Some characters could not be decoded, and were replaced with REPLACEMENT CHARACTER.\n",
      "Some characters could not be decoded, and were replaced with REPLACEMENT CHARACTER.\n",
      "Some characters could not be decoded, and were replaced with REPLACEMENT CHARACTER.\n",
      "Some characters could not be decoded, and were replaced with REPLACEMENT CHARACTER.\n",
      "Some characters could not be decoded, and were replaced with REPLACEMENT CHARACTER.\n",
      "Some characters could not be decoded, and were replaced with REPLACEMENT CHARACTER.\n",
      "Some characters could not be decoded, and were replaced with REPLACEMENT CHARACTER.\n",
      "Some characters could not be decoded, and were replaced with REPLACEMENT CHARACTER.\n",
      "Some characters could not be decoded, and were replaced with REPLACEMENT CHARACTER.\n",
      "Some characters could not be decoded, and were replaced with REPLACEMENT CHARACTER.\n",
      "Some characters could not be decoded, and were replaced with REPLACEMENT CHARACTER.\n",
      "Some characters could not be decoded, and were replaced with REPLACEMENT CHARACTER.\n",
      "Some characters could not be decoded, and were replaced with REPLACEMENT CHARACTER.\n",
      "Some characters could not be decoded, and were replaced with REPLACEMENT CHARACTER.\n",
      "Some characters could not be decoded, and were replaced with REPLACEMENT CHARACTER.\n",
      "Some characters could not be decoded, and were replaced with REPLACEMENT CHARACTER.\n",
      "Some characters could not be decoded, and were replaced with REPLACEMENT CHARACTER.\n",
      "Some characters could not be decoded, and were replaced with REPLACEMENT CHARACTER.\n",
      "Some characters could not be decoded, and were replaced with REPLACEMENT CHARACTER.\n",
      "Some characters could not be decoded, and were replaced with REPLACEMENT CHARACTER.\n",
      "Some characters could not be decoded, and were replaced with REPLACEMENT CHARACTER.\n",
      "Some characters could not be decoded, and were replaced with REPLACEMENT CHARACTER.\n",
      "Some characters could not be decoded, and were replaced with REPLACEMENT CHARACTER.\n",
      "Some characters could not be decoded, and were replaced with REPLACEMENT CHARACTER.\n",
      "Some characters could not be decoded, and were replaced with REPLACEMENT CHARACTER.\n",
      "Some characters could not be decoded, and were replaced with REPLACEMENT CHARACTER.\n",
      "Some characters could not be decoded, and were replaced with REPLACEMENT CHARACTER.\n",
      "Some characters could not be decoded, and were replaced with REPLACEMENT CHARACTER.\n",
      "Some characters could not be decoded, and were replaced with REPLACEMENT CHARACTER.\n",
      "Some characters could not be decoded, and were replaced with REPLACEMENT CHARACTER.\n",
      "Some characters could not be decoded, and were replaced with REPLACEMENT CHARACTER.\n",
      "Some characters could not be decoded, and were replaced with REPLACEMENT CHARACTER.\n",
      "Some characters could not be decoded, and were replaced with REPLACEMENT CHARACTER.\n",
      "Some characters could not be decoded, and were replaced with REPLACEMENT CHARACTER.\n",
      "Some characters could not be decoded, and were replaced with REPLACEMENT CHARACTER.\n",
      "Some characters could not be decoded, and were replaced with REPLACEMENT CHARACTER.\n",
      "Some characters could not be decoded, and were replaced with REPLACEMENT CHARACTER.\n",
      "Some characters could not be decoded, and were replaced with REPLACEMENT CHARACTER.\n",
      "Some characters could not be decoded, and were replaced with REPLACEMENT CHARACTER.\n",
      "Some characters could not be decoded, and were replaced with REPLACEMENT CHARACTER.\n",
      "Some characters could not be decoded, and were replaced with REPLACEMENT CHARACTER.\n",
      "Some characters could not be decoded, and were replaced with REPLACEMENT CHARACTER.\n",
      "Some characters could not be decoded, and were replaced with REPLACEMENT CHARACTER.\n",
      "Some characters could not be decoded, and were replaced with REPLACEMENT CHARACTER.\n",
      "Some characters could not be decoded, and were replaced with REPLACEMENT CHARACTER.\n",
      "Some characters could not be decoded, and were replaced with REPLACEMENT CHARACTER.\n",
      "Some characters could not be decoded, and were replaced with REPLACEMENT CHARACTER.\n",
      "Some characters could not be decoded, and were replaced with REPLACEMENT CHARACTER.\n",
      "Some characters could not be decoded, and were replaced with REPLACEMENT CHARACTER.\n",
      "Some characters could not be decoded, and were replaced with REPLACEMENT CHARACTER.\n",
      "Some characters could not be decoded, and were replaced with REPLACEMENT CHARACTER.\n"
     ]
    }
   ],
   "source": [
    "#Turning the Pages' Texts into a List\n",
    "pages_text = []\n",
    "\n",
    "def tag_visible(element):\n",
    "    if element.parent.name in ['style', 'script', 'head', 'title', 'meta', '[document]']:\n",
    "        return False\n",
    "    if isinstance(element, Comment):\n",
    "        return False\n",
    "    return True\n",
    "\n",
    "def text_from_html(body):\n",
    "    scrape = bs.BeautifulSoup(body, 'html.parser')\n",
    "    source = scrape.findAll(text=True)\n",
    "    visible_texts = filter(tag_visible, source)  \n",
    "    return u\" \".join(t.strip() for t in visible_texts)\n",
    "\n",
    "for url in links:\n",
    "    #The sleep function is used as not to overcrowd the server with requests\n",
    "    time.sleep(6)\n",
    "    req = urllib.request.Request(url ,headers=headers)\n",
    "    try:\n",
    "        html = urllib.request.urlopen(req)\n",
    "        page_text = text_from_html(html)\n",
    "    except HTTPError as e:\n",
    "        print(\"HTTP Error\")\n",
    "        page_text = None\n",
    "    pages_text.append(page_text)"
   ]
  },
  {
   "cell_type": "code",
   "execution_count": 15,
   "metadata": {},
   "outputs": [
    {
     "name": "stdout",
     "output_type": "stream",
     "text": [
      "617\n"
     ]
    }
   ],
   "source": [
    "print(len(pages_text))"
   ]
  },
  {
   "cell_type": "code",
   "execution_count": 16,
   "metadata": {},
   "outputs": [
    {
     "name": "stdout",
     "output_type": "stream",
     "text": [
      "601\n"
     ]
    }
   ],
   "source": [
    "pt_cond = set(pages_text)\n",
    "print(len(pt_cond))"
   ]
  },
  {
   "cell_type": "markdown",
   "metadata": {},
   "source": [
    "Each ad link was converted to its text elements and I now have 617 observations, where each observation is the full text of the ad. I won't get rid of the duplicates just yet, as I'll need to attach them to their corresponding links before doing so. From these, I should be able to use unsupervised learning to sufficiently cluster the data into more or less distinguishable groups. These will serve as the clusters I'll look at to find possible instances of and signals for trafficking."
   ]
  },
  {
   "cell_type": "markdown",
   "metadata": {},
   "source": [
    "## 2. Read Through the Ads and Find Word-Features\n",
    "\n",
    "In this step, I read through the ads and make them analyzable in terms of the features (words) they contain. This prepares the data for some short dimensionality reduction before moving on to clustering."
   ]
  },
  {
   "cell_type": "markdown",
   "metadata": {},
   "source": [
    "The code below brings in the TF-IDF Vectorizer and trains it on the data. This categorizes each document based on the words it contains. The model treats each word as an independent feature of the document. Words are given more weight if they are both unique and frequent *within* documents, and are given less weight if they are frequent *across* documents. This effectively deals with the basic text elements included in every ad, and it also turns the data into a numeric format that the machine learning algorithm can recognize."
   ]
  },
  {
   "cell_type": "code",
   "execution_count": 17,
   "metadata": {},
   "outputs": [
    {
     "name": "stdout",
     "output_type": "stream",
     "text": [
      "{'nav': 1658, 'post': 1793, 'ad': 879, 'select': 1920, 'category': 1060, 'acctg': 876, 'finance': 1291, 'admin': 883, 'office': 1697, 'antiq': 916, 'collectibles': 1089, 'appliances': 925, 'apt': 929, 'condo': 1106, 'house': 1437, 'auto': 949, 'parts': 1742, 'truck': 2134, 'rv': 1893, 'available': 951, 'wanted': 2201, 'bars': 970, 'clubs': 1085, 'biz': 996, 'opps': 1713, 'boats': 1007, 'motorcycles': 1638, 'business': 1034, 'childcare': 1067, 'classes': 1076, 'workshops': 2244, 'cleaning': 1080, 'clothing': 1083, 'jewelry': 1490, 'commercial': 1096, 'computer': 1103, 'technical': 2057, 'computers': 1104, 'electronics': 1224, 'creative': 1127, 'customer': 1141, 'service': 1930, 'domestic': 1192, 'driver': 1206, 'delivery': 1165, 'courier': 1123, 'education': 1221, 'equip': 1242, 'instruments': 1469, 'events': 1256, 'farm': 1277, 'garden': 1337, 'financial': 1292, 'focus': 1298, 'group': 1365, 'studies': 2016, 'free': 1308, 'furniture': 1327, 'general': 1339, 'groups': 1366, 'health': 1398, 'beauty': 976, 'home': 1416, 'improvement': 1454, 'household': 1440, 'items': 1479, 'instruction': 1468, 'job': 1491, 'resume': 1871, 'labor': 1510, 'moving': 1639, 'land': 1514, 'for': 1300, 'sale': 1896, 'landscape': 1515, 'lawn': 1520, 'legal': 1525, 'lost': 1571, 'found': 1305, 'massage': 1595, 'medical': 1606, 'men': 1613, 'women': 2235, 'mgmt': 1615, 'professional': 1813, 'misc': 1622, 'miscellaneous': 1623, 'pets': 1762, 'pet': 1760, 'supplies': 2033, 'phone': 1763, 'websites': 2211, 'plug': 1785, 'the': 2074, 'band': 968, 'real': 1843, 'estate': 1253, 'rentals': 1861, 'rest': 1868, 'retail': 1872, 'hotel': 1431, 'restaurants': 1869, 'roommates': 1887, 'sales': 1897, 'mktg': 1624, 'salon': 1898, 'spa': 1991, 'salons': 1899, 'nails': 1652, 'spas': 1992, 'services': 1931, 'show': 1958, 'audition': 947, 'sports': 1997, 'strippers': 2014, 'strip': 2013, 'tickets': 2094, 'tools': 2116, 'materials': 1597, 'trades': 2126, 'vacation': 2180, 'volunteers': 2194, 'want': 2200, 'trade': 2125, 'yard': 2254, 'search': 1912, 'backpage': 963, 'saltlakecity': 1901, 'scrapbook': 1909, 'sugar': 2029, 'babies': 960, 'meet': 1608, 'fuck': 1320, 'nearby': 1662, 'cities': 1072, 'go': 1356, 'to': 2105, 'logan': 1558, 'ogden': 1698, 'provo': 1819, 'salt': 1900, 'lake': 1513, 'city': 1073, 'st': 2001, 'george': 1343, 'united': 2161, 'states': 2006, 'utah': 2178, 'burning': 1033, 'up': 2168, 'sheets': 1954, 'corching': 1118, 'red': 1850, 'hot': 1430, '786': 817, '910': 837, '3575': 115, '23': 67, 'posted': 1794, 'saturday': 1906, 'march': 1590, '30': 92, 'please': 1781, 'login': 1559, 'with': 2232, 'gmail': 1355, 'view': 2190, 'similar': 1963, 'ads': 884, 'report': 1865, 'text': 2066, 'only': 1709, 'if': 1449, 'you': 2260, 'ride': 1878, 'of': 1694, 'your': 2262, 'life': 1536, 'am': 905, 'girl': 1348, 'always': 903, 'fun': 1326, 'loving': 1577, 'and': 912, 'not': 1681, 'rushed': 1892, 'ill': 1450, 'do': 1188, 'things': 2085, 'other': 1720, 'girls': 1351, 'wont': 2241, 'let': 1528, 'me': 1602, 'be': 974, 'sexy': 1947, 'vixen': 2193, 'poster': 1795, 'age': 888, 'location': 1557, 'usa': 2172, 'id': 1448, '6706578': 461, 'email': 1226, 'friend': 1312, 'frequent': 1309, 'searches': 1913, 'adult': 885, 'work': 2243, 'womenseekmen': 2239, 'sex': 1936, 'in': 1455, 'local': 1555, 'cheap': 1064, 'shemale': 1955, 'gay': 1338, 'erotic': 1244, 'mature': 1599, 'about': 869, 'us': 2171, 'my': 1647, 'account': 875, 'buy': 1037, 'credit': 1128, 'contact': 1112, 'privacy': 1809, 'terms': 2065, 'alternative': 901, 'best': 990, 'sites': 1970, 'like': 1538, 'replacement': 1862, 'directory': 1174, 'classified': 1077, 'bedpage': 979, 'com': 1092, 'is': 1477, 'an': 909, 'interactive': 1470, 'that': 2073, 'enables': 1229, 'access': 874, 'by': 1038, 'multiple': 1641, 'users': 2175, 'should': 1957, 'treated': 2132, 'as': 936, 'publisher': 1822, 'or': 1715, 'speaker': 1993, 'any': 917, 'information': 1463, 'provided': 1817, 'another': 913, 'content': 1114, 'provider': 1818, '2018': 53, 'all': 897, 'can': 1049, 'imagine': 1453, 'hottie': 1433, 'new': 1668, 'number': 1689, '24': 69, 'thursday': 2093, '21': 57, 'at': 942, 'top': 2117, 'this': 2089, 'page': 1735, '214': 60, '960': 844, '0676': 10, 'no': 1678, 'pre': 1798, 'booking': 1013, 'name': 1653, 'alina': 896, 'wait': 2196, 'come': 1093, 'anywhere': 922, 'stop': 2009, 'screwin': 1910, 'around': 933, 'lets': 1529, 'incall': 1456, 'outcall': 1727, '1oo': 50, 'independent': 1460, 'which': 2224, 'means': 1603, 'drama': 1200, 'non': 1680, 'experience': 1264, 'stand': 2003, '115': 30, 'lbs': 1522, '34': 109, 'curves': 1139, 'right': 1879, 'places': 1776, '36': 116, 're': 1839, 'craving': 1125, 'some': 1983, 'longing': 1562, 'affection': 887, 'pamper': 1736, 'spoil': 1995, '6720224': 548, '______divorc': 854, 'ed': 1219, 'older': 1702, 'woman': 2234, 'looki': 1565, 'ng': 1670, 'pusssy': 1826, 'eater______': 1216, '814': 825, '830': 827, '072': 14, '29': 89, 'wednesday': 2213, 'april': 928, '03': 4, 'hi': 1405, 'dear': 1157, 'need': 1664, 'money': 1631, 'divorced': 1187, 'just': 1493, 'guy': 1371, 'down': 1199, 'eat': 1214, 'clean': 1079, 'shaved': 1953, 'sweet': 2039, 'must': 1642, 'attractive': 946, 'will': 2229, 'return': 1873, 'favor': 1280, 'race': 1834, 'are': 931, 'fine': 1294, 'interested': 1471, '0724': 15, '6863223': 708, 'unhappy_': 2157, '_married': 865, 'town': 2124, 'fu': 1316, 'ck': 1074, 'ready': 1842, 'now': 1684, '878': 833, '60': 170, '07': 12, '28': 87, 'sunday': 2031, 'horny': 1426, 'have': 1394, 'man': 1587, 'satisfy': 1905, 'needs': 1667, 'open': 1710, 'minded': 1620, 'fetish': 1288, 'friendly': 1313, 'respectful': 1867, 'classy': 1078, 'lady': 1512, 'very': 2188, 'discreet': 1180, 'queen': 1831, 'waiting': 2197, 'fast': 1278, 'reply': 1864, 'love': 1573, 'oral': 1716, 'favorite': 1281, 'style': 2018, 'goal': 1357, 'make': 1585, 'totally': 2119, 'treat': 2131, 'yourself': 2265, 'full': 1325, 'body': 1008, 'panis': 1738, 'nuru': 1691, 'oil': 1699, 'calm': 1044, 'mind': 1619, 'feel': 1284, 'relaxing': 1860, 'stress': 2011, 'away': 953, 'servies': 1933, 'time': 2097, 'blowjob': 1006, 'kisser': 1500, '6007': 171, '6726627': 595, '___________d': 853, 'ivorced': 1481, 'eater_______': 1217, '___': 851, 'february': 1283, '6676132': 376, 'young': 2261, 'sexxy': 1945, 'bored': 1016, 'mom': 1625, 'uck': 2147, '243': 71, '6117': 176, 'friday': 1311, 'year': 2256, 'ass': 941, 'doggy': 1190, 'relax': 1857, 'person': 1756, 'who': 2226, 'fill': 1290, 'bed': 978, 'parsonal': 1740, '724': 776, '6759503': 648, '___play': 858, 'tight': 2095, 'pu': 1820, 'y___': 2253, '978': 848, '504': 152, '748': 796, '20': 51, '8748': 832, 'yrs': 2266, 'old': 1701, 'cute': 1142, 'hookup': 1420, 'today': 2106, 'host': 1428, 'place': 1774, 'sensual': 1923, 'pics': 1770, '100': 28, 'recent': 1849, '6658950': 342, 'll': 1548, 'keep': 1496, 'short': 1956, 'area': 932, 'single': 1966, 'looking': 1566, 'nice': 1671, '720': 773, '315': 99, '5143': 154, '26': 79, '04': 6, 'wants': 2203, 'yours': 2264, 'decide': 1159, 'share': 1951, 'more': 1634, 'pictures': 1772, 'myself': 1649, '7148424': 722, 'bliss': 1001, 'rub': 1889, '7200s': 774, 'tate': 2052, '37': 117, 'brailynn': 1021, 'naughty': 1657, 'touch': 2120, 'truly': 2136, 'enjoy': 1235, 'what': 2219, 'so': 1980, 'provide': 1816, 'mutual': 1644, 'guaranteed': 1368, 'disappointed': 1177, 'see': 1915, 'get': 1344, 'private': 1810, 'state': 2005, 'same': 1902, 'day': 1152, 'appointment': 926, 'hour': 1435, 'half': 1386, 'hours': 1436, 'incredible': 1459, 'within': 2233, 'brailynnbliss': 1022, 'serious': 1928, 'inquiries': 1467, 'ut': 2177, '6659473': 343, 'tuesday': 2143, '02': 3, '6798992': 700, 'look': 1564, 'ðÿ': 2276, 'brunette': 1028, '06': 9, 'forget': 1301, 'pretty': 1806, 'big': 993, 'tits': 2102, 'little': 1545, 'meat': 1604, 'on': 1705, 'bones': 1010, 'our': 1724, 'together': 2110, 'unrushed': 2165, 'sometime': 1987, 'tonight': 2113, 'here': 1402, '629': 179, '401': 126, '7017': 714, 'its': 1480, 'personal': 1757, '7193841': 748, 'hey': 1404, 'stressed': 2012, 'out': 1726, 'dull': 1208, 'weekend': 2215, 'getting': 1345, 'fulfilled': 1324, '22': 62, 'we': 2209, 'problems': 1811, 'melt': 1611, 'copy': 1117, 'paste': 1748, 'link': 1541, 'images': 1452, 'party': 1743, '6722625': 571, 'asian': 940, 'girlfriend': 1349, 'juicy': 1492, 'ho': 1412, '12': 31, '240': 70, '588': 169, '8356': 828, 'beautiful': 975, 'staff': 2002, 'magic': 1584, 'choice': 1068, 'bodywork': 1009, 'try': 2138, 'rooms': 1888, 'rush': 1891, 'entertainer': 1240, 'nunu': 1690, 'b2b': 958, 'touche': 2121, 'licking': 1535, 'sucking': 2026, '6700860': 433, 'monday': 1630, '11': 29, '6639184': 288, 'pick': 1768, 'xxx': 2248, '01': 1, 'when': 2223, '725': 790, '22i': 65, '3562': 114, 'dont': 1195, 'call': 1042, '6623537': 258, 'babe': 959, 'january': 1486, '6618072': 249, '13': 32, '6590221': 192, '2all': 91, '17': 40, 'guys': 1372, 'avaiable': 950, 'calls': 1043, 'pls': 1784, 'gfe': 1347, 'dreams': 1202, 'true': 2135, '6711536': 488, '1all': 49, 'listed': 1544, 'fyi': 1332, '6730153': 616, 'ppl': 1797, 'im': 1451, 'youre': 2263, 'women24': 2236, 'online': 1708, '6712210': 496, 'valentine': 2182, '221': 63, '6660851': 346, '27': 82, '6732820': 626, 'there': 2079, 'boy': 1018, 'perhaps': 1753, 'bad': 964, 'roleplay': 1883, 'site': 1969, 'back': 962, 'stroke': 2015, 'length': 1527, 'cock': 1087, 'course': 1124, 'taboo': 2045, 'temptation': 2061, 'playground': 1779, 'every': 1258, 'inch': 1457, 'arrive': 934, '6711972': 490, 'know': 1504, 'thinking': 2087, '25': 74, 'nasty': 1655, 'trashy': 2128, 'slut': 1978, 'find': 1293, 'pussy': 1827, '6597610': 208, '7119400': 721, '6689605': 403, 'nayra': 1659, 'caliente': 1041, 'disponible': 1184, 'si': 1961, '540': 163, '356': 113, '3965': 123, 'whatsapp': 2222, 'para': 1739, 'mas': 1592, 'información': 1462, '14': 33, 'verify': 2187, 'robot': 1882, 'desea': 1167, 'pasar': 1745, 'un': 2149, 'momento': 1626, 'rico': 1877, 'amor': 908, 'quiero': 1833, 'mi': 1616, 'ee': 1222, 'uu': 2179, '6646708': 302, '6732436': 624, '6705428': 455, '7196286': 760, '6725948': 593, 'se': 1911, 'ᗰoᑌtᕼ': 2292, 'ᑭᑌ': 2285, 'ssy': 2000, 'ᗷᒍ': 2294, 'ᗰ0ᗰ': 2291, '16': 37, 'div0rced': 1186, 'm0m': 1582, 'decent': 1158, 'easy': 1213, 'going': 1358, 'had': 1383, 'dick': 1169, 'month': 1632, 'separated': 1926, 'it': 1478, 'bedroom': 980, 'everything': 1259, 'give': 1353, '17247951364': 42, '6651383': 317, '7148457': 723, '31': 97, '6764985': 670, '6722332': 561, 'eater': 1215, '_____': 852, '6680492': 384, 'gran': 1362, 'opening': 1711, '３８５': 2298, '３４７': 2297, '７２６': 2300, 'hello': 1400, 'absolutely': 871, 'use': 2173, 'technology': 2058, 'room': 1886, 'warm': 2204, 'comfortable': 1094, 'environment': 1241, 'sure': 2034, 'don': 1194, 'hesitate': 1403, 'directly': 1173, '385': 118, '347': 110, '7263': 791, 'send': 1922, 'mon': 1629, 'sun': 2030, '30am': 96, '00pm': 0, 'address': 880, '1737': 43, 'carriage': 1058, 'sq': 1998, 'taylorsville': 2053, '84129': 830, '6758656': 640, '6732437': 625, '6605164': 227, '6719645': 541, 'barbie': 969, '10': 27, '7792046': 805, 'h0t': 1376, 'bl0nde': 999, 'yumm': 2267, 'wai': 2195, 'ting': 2099, 'f0r': 1270, '0ld': 23, 'smart': 1979, 'hum0r0us': 1444, 'curi0us': 1136, 'm0re': 1583, 'y0u': 2251, 'definitely': 1160, 'enj0y': 1233, 's0ft': 1894, 'b00bs': 956, 'b0dy': 957, 'lip': 1542, 't0': 2042, 'suck': 2024, 'y0ur': 2252, 'l0ve': 1507, '0ral': 26, 'fav0rite': 1279, 'd0ggy': 1147, 'extremely': 1268, '0pen': 24, 'really': 1846, 'h0rny': 1375, 'l00king': 1506, 't0night': 2043, 'c0me': 1039, 'during': 1209, 'leisure': 1526, 'h0pe': 1374, 'happy': 1388, 'd0': 1146, 'live': 1546, 'al0ne': 894, 'h0me': 1373, 'h0use': 1379, '0r': 25, 't0uch': 2044, 'gentle': 1340, 'relaxati0n': 1858, 'setish': 1935, 'great': 1364, 'pers0nality': 1755, 'charge': 1061, 'bel0w': 983, 'l0west': 1508, 'rate': 1837, '0ffers': 22, '40': 125, 'd0llars': 1148, 'h0ur': 1377, 'h0urs': 1378, '180': 46, 'night': 1672, 'pers0nal': 1754, '6020': 172, '7194408': 754, '6652918': 324, '6717657': 523, '6762758': 656, 'lonely': 1560, 'housewives': 1441, 'localmilf': 1556, '35': 112, '19': 48, 'casual': 1059, 'dating': 1150, 'waste': 2206, 'their': 2075, 'bullshit': 1032, 'they': 2081, 'pleasure': 1782, 'browser': 1027, 've': 2183, 'got': 1361, 'nothing': 1682, 'lose': 1569, '6715551': 508, '6696883': 422, '6769671': 695, '6705422': 450, '_____need': 856, 'buddy': 1029, '___any': 857, '610': 174, '900': 836, 'ddf': 1155, 'alone': 899, 'pay': 1749, '2527': 76, '6662605': 350, '6596431': 205, '6718519': 537, '6730152': 615, '6629217': 267, '6644458': 297, 'needing': 1666, 'company': 1100, '717': 728, '837': 829, '8070': 824, 'play': 1777, '08': 18, 'says': 1907, 'fucked': 1321, 'condoms': 1108, 'needed': 1665, '7198198': 771, 'moms': 1628, 'affairs': 886, 'them': 2076, '6718520': 538, 'ne': 1661, 'fucking': 1322, 'blow': 1005, '434': 138, '225': 64, '0314': 5, '6611159': 240, 'think': 2086, 'kind': 1498, 'something': 1986, 'url': 2170, 'myloveblog': 1648, 'review': 1874, '6709853': 479, '6663046': 352, '6715499': 506, 'hola': 1414, 'te': 2054, 'estamos': 1251, 'esperando': 1249, 'tener': 2062, 'encuentro': 1231, 'inolvidableâ': 1465, '323': 103, '628': 178, '4110': 131, '15': 34, 'soy': 1989, 'una': 2150, 'preciosa': 1800, 'masajista': 1594, 'dispongo': 1183, 'de': 1156, 'camilla': 1048, 'hacerte': 1381, 'unos': 2164, 'buenos': 1031, 'masajes': 1593, 'erotocos': 1245, 'descontracturantes': 1166, 'que': 1830, 'haran': 1390, 'sentir': 1925, 'buen': 1030, 'placer': 1775, 'en': 1228, 'todo': 2108, 'tu': 2141, 'cuerpo': 1133, 'encarta': 1230, 'la': 1509, 'pasion': 1746, 'muy': 1645, 'atrevida': 944, 'con': 1105, 'experiencia': 1265, 'suficiente': 2028, 'enseã': 1238, 'arte': 935, 'algunas': 895, 'cosas': 1120, 'pesar': 1759, 'corta': 1119, 'edad': 1220, 'aunque': 948, 'tambiã': 2050, 'excelente': 1260, 'alumna': 902, 'pregunta': 1804, 'por': 1791, 'melany': 1610, 'fotos': 1304, 'son': 1988, 'total': 2118, 'mente': 1614, 'reales': 1844, 'resientes': 1866, 'garantizo': 1336, 'servicio': 1932, 'lujo': 1579, 'estarã': 1252, 'llamada': 1550, 'ansias': 914, 'solo': 1982, 'atiendo': 943, 'caballeros': 1040, 'exigentes': 1262, 'gustan': 1369, 'lo': 1554, 'mejor': 1609, 'whatsap': 2221, 'tel': 2059, 'estados': 1250, 'unidos': 2160, '6612052': 241, '6614514': 244, 'carina': 1054, 'hosting': 1429, 'visiting': 2192, 'next': 1669, 'week': 2214, 'hang': 1387, '801': 821, '893': 835, '2785': 86, '6643113': 293, '6687389': 397, '6619756': 252, '18': 45, '6713273': 498, 'tomorrow': 2112, 'boobs': 1012, 'pink': 1773, 'clear': 1081, 'picture': 1771, 'then': 2077, 'knock': 1503, '6693121': 411, 'sexy_married': 1948, 'rea': 1840, 'dy': 1210, '6706946': 465, 'petltte': 1761, 'blonde': 1003, 'set': 1934, 'lovely': 1574, 'gallery': 1333, 'username': 2174, 'susan94': 2035, '6722630': 573, '6660855': 347, '6618782': 250, '05': 8, '6631167': 269, '6723830': 576, 'gentlemen': 1342, 'kelsey': 1497, 'somebody': 1984, 'entertain': 1239, 'fantasies': 1274, 'take': 2046, 'cloud': 1084, 'nine': 1674, 'unmatched': 2163, 'skills': 1973, '6724587': 587, '6762799': 657, '6591762': 196, '6675372': 374, '6647509': 305, 'yo': 2259, 'ung': 2153, 'husband': 1446, 'jail': 1485, 'months': 1633, 'empty': 1227, 'house_come_f': 1438, 'irst_': 1476, '_play_': 866, 'sexxx_suc': 1944, 'fuc': 1317, 'hard': 1391, '71': 718, '3960': 122, '09': 19, '__i': 860, 'last': 1517, 'booobs': 1014, '__see': 862, '__im': 861, 'crazy': 1126, '__you': 864, '__full': 859, 'includes': 1458, 'sexual': 1941, 'interests': 1473, 'anal': 910, '69': 712, 'bj': 997, 'etc': 1255, '__text': 863, '715': 727, '7246001': 787, '6670600': 366, '6670636': 367, '6683729': 391, '6603817': 222, 'grand': 1363, '８５': 2302, '４７': 2299, '２６３': 2295, '7119160': 719, 'princess': 1808, 'hailey': 1385, '424': 136, '738': 794, '0494': 7, '6588742': 190, 'chubby': 1070, '913': 838, '521': 156, 'fwb': 1331, 'relationship': 1856, 'status': 2007, 'size': 1972, 'nsa': 1686, 'would': 2245, 'orally': 1717, 'until': 2166, 'cum': 1134, 'swallow': 2037, '1521': 36, '6692260': 409, '6768269': 690, '6767116': 683, '6705239': 449, '6724226': 581, 'asia': 939, '7805336': 811, '6721673': 555, 'horney': 1425, 'fk': 1296, 'plus': 1787, 'jaw': 1487, 'dropping': 1207, 'capabilities': 1051, 'coming': 1095, 'promise': 1815, '6693129': 412, 'rica': 1876, 'latina': 1519, 'ganas': 1335, 'cojer': 1088, 'bien': 992, 'ven': 2184, 'cama': 1046, 'llámame': 1553, 'al': 893, '213': 59, '419': 134, '6429': 182, 'chica': 1066, 'espectacular': 1248, 'niña': 1677, 'juventud': 1494, 'belleza': 985, 'mis': 1621, 'nada': 1651, 'photoshop': 1765, 'pasa': 1744, 'agradable': 889, 'lado': 1511, 'dejate': 1161, 'consentir': 1111, 'como': 1097, 'sencillamente': 1921, 'sin': 1965, 'engaños': 1232, 'las': 1516, 'ademas': 881, 'guapa': 1367, 'carismatica': 1055, 'estilooooo': 1254, 'tengo': 2063, 'unas': 2151, 'curvasss': 1138, 'podras': 1789, 'deleitartee': 1164, 'besame': 988, 'todita': 2107, 'cara': 1053, 'bonitaaaa': 1011, 'acituudddd': 877, 'pufffff': 1824, 'seguro': 1919, 'seguiremos': 1918, 'siendo': 1962, 'complices': 1102, 'otras': 1722, 'ocasiones': 1693, 'trato': 2129, 'es': 1246, 'novios': 1683, 'super': 2032, 'accesible': 873, 'llama': 1549, 'lleno': 1552, 'sensualidad': 1924, 'fogosidad': 1299, 'besos': 989, 'motel': 1635, 'domicilio': 1193, 'cualquier': 1130, 'cita': 1071, 'preferncia': 1801, 'media': 1605, 'hora': 1424, 'anticipacion': 915, 'comodidad': 1098, 'ambos': 907, 'asi': 938, 'podre': 1790, 'llegar': 1551, 'rapido': 1836, 'hacia': 1382, 'tiii': 2096, 'absolutamente': 870, 'preservativo': 1805, 'higiene': 1407, 'mutua': 1643, '6733592': 628, '6677675': 379, '6709270': 476, '6758666': 641, 'leave': 1524, 'breathless': 1025, 'perfect': 1752, 'package': 1734, 'fantasy': 1275, 'womenovernight': 2238, '6709855': 481, '6641190': 292, '6711835': 489, 'ingle': 1464, 'unhappy': 2156, 'hungry': 1445, 'mommy': 1627, 'figure': 1289, 'wanna': 2199, '484': 148, '657': 185, '3966': 124, 'years': 2257, 'someone': 1985, 'also': 900, 'car': 1052, 'one': 1706, 'too': 2115, 'picky': 1769, 'looks': 1567, 'confirmation': 1110, 'others': 1721, '6720310': 550, 'willing': 2230, 'special': 1994, 'favors': 1282, 'stay': 2008, '971': 846, '273': 84, '5608': 166, 'bae': 965, 'thanks': 2072, 'stopping': 2010, 'well': 2217, 'whatever': 2220, 'check': 1065, 'gf': 1346, 'sext': 1939, 'profiles': 1814, 'trans': 2127, '325': 104, '208': 56, '1863': 47, 'tgirl': 2070, 'friends': 1314, 'blondie': 1004, '646': 183, '798': 819, '7527': 798, 'wanting': 2202, 'haha': 1384, 'ebony': 1218, 'hotties': 1434, '702': 715, '389': 119, '7584': 799, 'trying': 2139, 'girlfriends': 1350, 'hit': 1411, 'milf': 1617, '559': 165, '6804': 704, 'omg': 1704, 'haven': 1395, 'been': 981, 'romantic': 1885, 'but': 1036, '231': 68, '266': 80, '9492': 842, 'curvy': 1140, 'why': 2228, 'than': 2071, 'sextlocals': 1940, 'dot': 1197, '6719673': 544, '6707492': 468, '7191750': 736, '6652916': 323, '6698690': 426, '6700815': 431, '7119268': 720, '6716476': 521, 'pi': 1766, '6610547': 237, '6611090': 238, '6623797': 259, '272': 83, '215': 61, '3298': 105, '6698426': 424, '6732351': 622, '7197673': 766, 'layla': 1521, 'serve': 1929, 'else': 1225, 'busty': 1035, 'thrills': 2091, '7196327': 762, '6724232': 582, '6721740': 558, '6666617': 357, '6764971': 669, 'seek': 1916, 'restrictions': 1870, 'door': 1196, 'anything': 919, 'help': 1401, 'bills': 994, 'nude': 1687, '𝚈o𝚞ng': 2311, '𝙵𝚞cki𝚗𝚐': 2305, '𝚃𝚎ach𝚎r': 2310, 'wa𝚗t': 2208, '𝙼e𝚎t': 2307, '𝙽𝚘w': 2308, '𝙻ol': 2306, 'chole86480': 1069, 'lots': 1572, 'asap': 937, '24y': 72, 'read': 1841, 'co': 1086, 'indulge': 1461, 'tantalizing': 2051, 'tryst': 2140, 'al𝚘ne': 904, 'a𝚗𝚍': 955, 'attn': 945, '469': 144, '515': 155, '1672': 39, 'blo': 1002, 'ur': 2169, 'exotic': 1263, 'tired': 2100, 'run': 1890, 'hassle': 1393, 'thu': 2092, 'apr': 927, 'verified': 2186, '______divorced': 855, 'wed': 2212, 'hook': 1418, '７２６３': 2301, 'house_come_first_': 1439, '_play_sexxx_suc': 867, 'lic': 1532, 'ked': 1495, 'sy': 2041, 'romance': 1884, '443': 139, '581': 168, '4972': 150, 'tue': 2142, '41yo': 135, 'horrny': 1427, 'fuccker': 1319, '7178378027': 730, 'sat': 1903, 'yummy': 2268, 'fri': 1310, 'su': 2019, 'holes': 1415, 'own': 1730, 'visit': 2191, '３４': 2296, 'better': 991, '8016': 822, 'fuuck': 1328, 'teala': 2056, 'thing': 2084, 'hugry': 1443, '6030': 173, 'mar': 1589, 'scorching': 1908, 'how': 1442, 'long': 1561, 'hottest': 1432, 'bp': 1020, 'dirty': 1176, 'dirtiest': 1175, 'way': 2207, 'warning': 2205, 'may': 1600, 'contain': 1113, 'photos': 1764, 'unhappy_sexy': 2158, '22yrs': 66, 'good': 1360, 'cool': 1116, 'fucck': 1318, 'sinner': 1967, 'exciting': 1261, 'bella': 984, 'colombiana': 1091, 'sexo': 1938, '476': 146, '0755': 17, 'unhappy_sexy_married': 2159, '39': 120, 'previous': 1807, 'sponsor': 1996, 'website': 2210, '6711332': 486, '7192519': 743, 'unhapp': 2154, 'hispanic': 1410, 'married': 1591, '952': 843, '9336': 840, 'male': 1586, 'regularly': 1854, 'discreetly': 1181, '6696376': 420, '6685160': 394, '6679818': 383, '6762969': 658, '6718245': 526, 'babysugar24': 961, 'thick': 2082, 'races': 1835, 'welcome': 2216, '6709854': 480, '6655365': 331, '6668424': 362, '6617843': 248, '6718247': 528, 'nina': 1673, '7195850': 758, '6601497': 218, '7198131': 769, '6609488': 235, '773': 800, '943': 841, '3372': 108, '6598269': 210, '312': 98, '318': 102, '0992': 21, '6593527': 200, '6763589': 663, '6656427': 336, '6596433': 206, '203': 54, '2781': 85, 'carplay': 1057, '7791052': 802, '6711978': 493, '7193390': 745, '6827029': 705, '6702967': 438, 'daughter': 1151, '0932': 20, 'toghather': 2111, 'from': 1315, '6694887': 416, '6729606': 610, '7195904': 759, 'xxy': 2249, 'gentleman': 1341, 'unmarried': 2162, 'trusted': 2137, 'shape': 1950, 'soft': 1981, 'matter': 1598, 'safe': 1895, 'below': 986, 'dollars': 1191, '75': 797, '150': 35, '250': 75, 'wish': 2231, '614': 177, '3958': 121, '6709115': 474, 'fr': 1306, 'eaky': 1211, 'hoorny': 1421, 'bl0w': 1000, 'j0b': 1484, 'allowed': 898, 'fre': 1307, 'aky': 892, 'different': 1172, 'companionship': 1099, 'ever': 1257, 'dream': 1201, 'hear': 1399, '463': 143, '4777': 147, '6637940': 283, 'regular': 1853, 'basis': 971, 'agreement': 891, 'receiving': 1848, 'travel': 2130, 'anytime': 921, 'enjoying': 1236, 'licccking': 1533, '6769506': 693, '7805960': 813, '6594678': 202, '6762329': 655, '6727824': 606, '6734722': 633, 'natural': 1656, 'skin': 1974, 'amazing': 906, 'unwind': 2167, 'adlist24': 882, 'io': 1474, '7246086': 788, '6700826': 432, '6719230': 540, 'qui': 1832, 'dejo': 1163, 'nueva': 1688, 'aquí': 930, 'nombre': 1679, 'massiel': 1596, 'dispuesta': 1185, 'complacerte': 1101, 'tú': 2146, 'fantasías': 1276, 'sexuales': 1942, 'vaginal': 2181, 'baile': 966, 'eroctico': 1243, 'trio': 2133, 'deje': 1162, 'cuente': 1132, 'foto': 1303, 'más': 1650, 'puede': 1823, 'contáctame': 1115, '6581020': 187, '6605165': 228, '7197674': 767, 'mw': 1646, '205': 55, '6701': 434, '6599815': 213, '6665234': 356, '6724583': 583, '7194283': 750, 'won': 2240, 'twice': 2144, 'ripping': 1880, 'clothes': 1082, 'hooking': 1419, 'he': 1397, 'has': 1392, 'opy': 1714, '6726790': 602, '6704550': 443, '6600283': 214, '6717705': 524, '497': 149, 'xy': 2250, 'pus': 1825, 'anytim': 920, '7792585': 808, 'lexi': 1531, 'outgoing': 1728, 'receive': 1847, 'unhapppy': 2155, 'inquires': 1466, 'ndependent': 1660, 'games': 1334, 'discrete': 1182, '7244377': 780, '6827066': 706, '6637983': 284, 'iíll': 1482, 'while': 2225, 'wonít': 2242, '6724847': 589, '6647675': 306, '6689601': 402, 'waitting': 2198, '7097': 717, 'late': 1518, '6603849': 223, '6760268': 651, '6724104': 580, '6713712': 502, '6709275': 477, '6698062': 423, '6658258': 338, 'boys': 1019, 'lips': 1543, 'breasts': 1024, 'reality': 1845, 'shy': 1960, 'kisses': 1501, 'britney': 1026, '998': 850, '2946': 90, '6651851': 320, '6767759': 687, '6593525': 199, '7244289': 779, '6715547': 507, '7194894': 755, 'women24dating': 2237, '6707493': 469, '6635572': 280, '6679816': 382, '6729918': 612, '6722339': 563, '6662484': 349, '6662055': 348, 'succk': 2022, 'replies': 1863, '17245223095': 41, '6649059': 311, '6693131': 413, 'bbw': 973, 'fo': 1297, 'reg': 1852, 'ular': 2148, '570': 167, '993': 849, '68': 703, 'high': 1406, 'drive': 1205, 'either': 1223, '1668': 38, '6678368': 380, '44yo': 141, '302732': 94, '5267': 157, 'fuucker': 1329, 'bjj': 998, 'cuum': 1143, '302': 93, '732': 792, '6660344': 344, '6702361': 436, 'college': 1090, 'agree': 890, '285': 88, '0100': 2, 'drink': 1203, 'milk': 1618, 'gold': 1359, 'much': 1640, 'irrigate': 1475, 'sexes': 1937, 'interesting': 1472, 'talk': 2047, 'first': 1295, 'pic': 1767, 'pleas': 1780, 'fake': 1273, 'relaxation': 1859, 'factor': 1272, 'confirm': 1109, 'passionate': 1747, 'kissing': 1502, 'penis': 1750, 'extras': 1267, 'therapy': 2078, 'shower': 1959, 'many': 1588, 'position': 1792, 'personally': 1758, 'sitting': 1971, 'tour': 2123, 'suuck': 2036, 'breast': 1023, 'slide': 1976, 'double': 1198, 'face': 1271, 'titty': 2104, 'lick': 1534, 'balls': 967, 'sucked': 2025, 'wet': 2218, 'anyone': 918, 'accepted': 872, 'lowest': 1578, 'offers': 1696, '50': 151, '200': 52, 'start': 2004, 'talking': 2048, 'texting': 2068, '6563624': 184, 'o𝚞ng': 1733, '𝙵𝚞cki': 2304, '𝚃𝚎ach': 2309, 'l𝚘o𝚔in𝚐': 1580, 'so𝚖𝚎on𝚎': 1990, 'ver𝚢': 2189, 'pl𝚊yf𝚞l': 1788, 'o𝚗': 1731, '𝚋e𝚍': 2314, 'w𝚑𝚘': 2247, '𝚖ake': 2319, '𝚖𝚎': 2322, 'hap𝚙y': 1389, 'ton𝚒g𝚑t': 2114, '𝚟𝚎𝚛𝚢': 2330, '𝚑orny': 2318, '𝚊nd': 2312, 'o𝚗ly': 1732, '𝚍e𝚜i𝚛e': 2316, '𝚜exua𝚕': 2324, 're𝚕at𝚒on𝚜h𝚒p': 1875, '𝚠𝚒t𝚑': 2332, '𝚐𝚞y': 2317, '𝚝o': 2327, '𝚠i𝚝h': 2331, '𝚜𝚝𝚛𝚘ng': 2326, 'c𝚘𝚌k': 1145, 'c𝚊n': 1144, 'giv𝚎': 1354, 'lon𝚐': 1563, 'tim𝚎': 2098, 'p𝚕𝚊𝚢': 1829, '𝙰nd': 2303, 'i𝚜': 1483, 'no𝚝': 1685, '𝚖att𝚎r': 2320, '𝚠𝚒𝚕l': 2333, '𝚞se': 2329, '𝚖𝚢': 2323, 'se𝚡y': 1949, 'li𝚙𝚜': 1547, '𝚝𝚘': 2328, '𝚜uc𝚔': 2325, 'dic𝚔': 1171, '𝚊n𝚍': 2313, '𝚋𝚕𝚘𝚠': 2315, 'y𝚘ur': 2269, '𝚖in𝚍': 2321, 'write': 2246, 'subject': 2020, 'line': 1540, '6703885': 442, 'jeniloish': 1488, '6590848': 195, '7194332': 752, 'opinion': 1712, '722': 775, '3150': 100, '7192298': 739, '6766921': 681, '6726788': 600, '7805567': 812, '6721720': 556, 'dripping': 1204, '97': 845, '3486': 111, 'currently': 1137, 'forward': 1302, 'having': 1396, '6696688': 421, '6724584': 584, '551': 164, '255': 77, '8594': 831, '6591860': 198, '6612899': 242, '6716460': 511, '7791954': 804, '6735215': 637, '6718509': 533, '6716472': 517, '6625756': 262, '6716473': 518, '6632830': 274, '6706746': 462, '6614735': 245, 'ᗪiᐯoᖇ': 2290, 'eᗪ': 1269, 'ᕼoᖇᑎy': 2287, 'ᑕoᒪᒪeg': 2284, 'teᗩᑕᕼe': 2069, 'ᒪookiᑎg': 2286, 'ᖴoᖇ': 2288, 'ᗷeᗪᖇoo': 2293, 'ᖴᑌᑎ': 2289, '337': 107, '793': 818, 'teacher': 2055, 'seeking': 1917, 'benefits': 987, 'does': 1189, '1793': 44, '6703023': 439, '6730501': 617, '6717708': 525, '6710480': 484, '6711973': 491, '6670555': 365, '6719982': 546, '7189881': 731, '6694183': 414, '6718251': 530, '6716167': 509, 'ss': 1999, '5396': 162, 'off': 1695, 'county': 1122, 'fell': 1286, '3027325396': 95, '6631935': 272, '6597008': 207, '6653143': 325, '6698464': 425, '7198098': 768, '7246214': 789, 'jennifer': 1489, 'disappointments': 1178, '4693790694': 145, '6573640': 186, '6687392': 398, '7194325': 751, '6709053': 473, '6647042': 303, '075': 16, 'cariñosa': 1056, 'todos': 2109, 'los': 1568, 'guste': 1370, 'usted': 2176, 'texteame': 2067, 'escribe': 1247, '6722143': 560, '6586011': 189, 'txt': 2145, 'vera': 2185, '6722333': 562, '6621693': 256, '6621948': 257, '6609230': 233, 'dateir': 1149, '6705427': 454, '6641171': 291, '6652741': 322, '6695143': 417, '6706935': 464, '6727805': 604, '6607680': 232, '6702582': 437, '918': 839, '2101': 58, '6591763': 197, '7198138': 770, '6589842': 191, '6654636': 330, '6722422': 567, 'orny': 1719, '63': 180, 'cu': 1129, '6595222': 203, '6611094': 239, '6685157': 393, 'earth': 1212, 'stuff': 2017, 'these': 2080, 'peoples': 1751, 'apartment': 923, '6705424': 452, '7148519': 726, '6681234': 385, '7192179': 737, '6656211': 333, '6605614': 229, '5085': 153, '6645834': 300, '7191656': 734, 'feeling': 1285, 'rejuvenated': 1855, 'tension': 2064, 'came': 1047, 'maybe': 1601, 'leap': 1523, 'plunge': 1786, '6724876': 590, '6634226': 278, '7191725': 735, 'hwp': 1447, '6693111': 410, 'sit': 1968, 'before': 982, 'letting': 1530, '6724585': 585, '6640870': 290, '6719664': 543, '6722555': 569, '6667168': 360, '6690234': 404, '6700237': 429, '6639165': 287, '6733130': 627, '6619996': 253, '6607419': 231, '6754229': 639, '6730115': 614, '6764022': 665, 'šâž': 2283, 'âž': 2275, 'šsu': 2282, 'nip': 1675, 'ples': 1783, 'šand': 2281, 'ha': 1380, 'rdðÿ': 1838, 'loves': 1576, 'titts': 2103, 'could': 1121, 'nipples': 1676, '267': 81, '778': 801, '0710': 13, '6609303': 234, '6763465': 661, '6683144': 390, '6649828': 312, '6613136': 243, '6863392': 710, '6602012': 219, '6728718': 609, '6677673': 378, '6705423': 451, '6769215': 691, '6732209': 621, '6735412': 638, '6716461': 512, 'prebooking': 1799, '6720122': 547, '6719852': 545, '7806111': 816, '6716286': 510, '6721723': 557, '6716474': 519, '6705596': 457, '6658392': 341, '6766563': 679, '6685751': 395, 'fuuckk': 1330, '3174': 101, 'female': 1287, 'tall': 2049, 'slim': 1977, 'slender': 1975, 'simple': 1964, 'ordinary': 1718, 'bit': 995, 'sexx': 1943, 'playful': 1778, '415': 133, '6685787': 396, '6631183': 270, '6650151': 315, '6708249': 470, '6763801': 664, '6759483': 647, '6709856': 482, '7792661': 809, '6655541': 332, '6716471': 516, '6759562': 649, '6705425': 453, '6660365': 345, '6798577': 698, '6649990': 313, '6759563': 650, '6724586': 586, '6722624': 570, '7193811': 747, '6798783': 699, '6710220': 483, '6625514': 261, '6759334': 644, '6725934': 592, '6718248': 529, '6631753': 271, '7791538': 803, '6729934': 613, '6726688': 597, '6649993': 314, '6726791': 603, '6722628': 572, '6700514': 430, '6695365': 418, '6604116': 225, '7148458': 724, '6703084': 440, '6705158': 446, '24year': 73, 'mother': 1636, 'him': 1408, 'searching': 1914, 'light': 1537, 'thin': 2083, 'appealing': 924, 'enough': 1237, 'able': 868, '410': 130, '425': 137, '8886': 834, '6605977': 230, 'title': 2101, 'border': 1015, '6705595': 456, '6634219': 277, '6654398': 328, '6590222': 193, '7192518': 742, '6763039': 659, '6706951': 466, '6654634': 329, '6722549': 568, '6668912': 364, '6799158': 702, '6598872': 211, '6619477': 251, '6765133': 671, '6672791': 370, '6657689': 337, '6734552': 631, '7806110': 815, '6681874': 388, '6718354': 531, '6599814': 212, '6767686': 686, '6679219': 381, '6735120': 635, '6708621': 471, '6634247': 279, '6702020': 435, '6632285': 273, '6713326': 499, '6713490': 501, '6635581': 281, '6765195': 672, '6692052': 408, '7190694': 733, '6711531': 487, '6765196': 673, '6713481': 500, '6722392': 566, '6718518': 536, '6707418': 467, '6764643': 667, 'rny': 1881, 'okk': 1700, '528': 158, '5308': 159, '6602343': 221, '6763241': 660, '6668910': 363, '6726694': 598, '7194406': 753, '6827067': 707, '6725927': 591, '6769666': 694, '6718522': 539, '6724592': 588, '6665232': 355, '6648935': 310, '6704741': 444, '6590545': 194, '6638049': 286, '7084910569': 716, '6620367': 254, '452': 142, '0679': 11, '6629155': 266, '6721931': 559, '6696297': 419, '7198337': 772, '6716462': 513, '6643807': 295, '6768189': 689, '6722683': 575, '6764503': 666, '6627407': 263, '6709265': 475, '6723878': 577, '6716466': 515, '6647887': 308, '7245252': 782, '7193391': 746, '6671159': 368, '6683769': 392, '6594676': 201, 'œðÿ': 2280, 'œð': 2279, 'œtext': 2277, '5333': 160, 'though': 2090, '405': 128, '6603894': 224, '6651750': 319, '6766158': 678, 'om': 1703, '6735163': 636, '6647678': 307, '6668392': 361, '6765800': 676, '6719650': 542, '6765726': 675, '6723901': 579, '7245892': 785, '7192182': 738, '7189886': 732, '6718508': 532, '7792047': 806, '6681276': 386, '6705163': 447, '6765907': 677, '7193284': 744, '6595688': 204, '6764644': 668, '6658262': 339, '6705175': 448, '6675374': 375, '6726676': 596, '6767834': 688, '6664635': 353, '6632839': 275, '6728046': 607, '6759321': 643, '6688013': 400, '6604117': 226, '6759353': 645, '6708622': 472, '7days': 820, 'fuckk': 1323, 'days': 1153, 'under': 2152, '70': 713, 'shares': 1952, 'tell': 2060, 'swap': 2038, '6658322': 340, '6761639': 653, '6648588': 309, '6716475': 520, '6601496': 217, '717837': 729, '8027': 823, '7196401': 764, '6726789': 601, '6717247': 522, '6672754': 369, '6646303': 301, '6667166': 359, '6699476': 428, '6734665': 632, '7195849': 757, 'm000m': 1581, '8215': 826, '6656275': 335, '7196291': 761, '6711991': 494, '6677041': 377, '6734526': 629, '6799157': 701, '6767617': 685, '6651534': 318, '6683092': 389, '7244758': 781, '6616043': 246, '6644962': 298, '6762027': 654, '6726787': 599, '6621373': 255, '6598267': 209, '6720518': 551, '6712000': 495, '6651230': 316, '7245906': 786, '6638003': 285, '6767058': 682, '7193842': 749, '6763580': 662, '6694216': 415, '7192516': 740, '6653548': 326, '6766908': 680, '7192517': 741, '6722345': 564, '7245870': 784, '6718513': 535, '6664702': 354, '6727811': 605, '6647213': 304, '6720261': 549, '6633200': 276, '6732196': 620, '6710533': 485, '6627647': 264, '6703769': 441, 'his': 1409, 'panic': 1737, 'over': 1729, 'knows': 1505, '6691185': 406, '6709768': 478, '6656215': 334, '6722682': 574, '6765658': 674, '6731583': 619, '6720521': 553, '6673249': 372, 'yeah': 2255, 'partner': 1741, 'because': 977, 'power': 1796, 'loss': 1570, 'thirst': 2088, 'whole': 2227, '6898392': 711, 'aㅡmㅡaㅡ': 954, 'zㅡiㅡnㅡ': 2270, 'disc': 1179, 'reet': 1851, 'ongoing': 1707, 'honest': 1417, '412': 132, '409': 129, '5372': 161, '6600358': 215, '7806006': 814, '7195816': 756, '6767117': 684, '6706934': 463, '6718512': 534, '6720520': 552, '7792577': 807, '6712639': 497, '6645278': 299, '6705599': 458, '6643793': 294, '6705996': 459, '6616266': 247, '7196546': 765, '6732385': 623, '6760470': 652, '7148492': 725, '6666648': 358, '6759482': 646, '6734542': 630, '6730577': 618, 'condom': 1107, '257': 78, '9738': 847, 'action': 878, '7242579738': 778, '6630682': 268, '6705156': 445, '6722391': 565, '6713899': 503, '6692024': 407, '6582764': 188, 'sweetie': 2040, 'limits': 1539, '6706398': 460, '6639712': 289, '6734723': 634, '6663044': 351, '7196339': 763, '6723885': 578, 'âœ': 2274, 'œyoun': 2278, 'girlâ': 1352, 'ºneed': 2272, 'sexxâ': 1946, 'ºlove': 2271, 'anallâ': 911, 'ºâœ': 2273, '444': 140, '7353': 793, 'class': 1075, 'succking': 2023, 'cuddling': 1131, 'motion': 1637, 'touching': 2122, 'suckk': 2027, 'dickk': 1170, 'pussyyy': 1828, 'chat': 1063, 'hopefully': 1422, 'cam': 1045, '6688178': 401, '6624502': 260, '6718246': 527, '6609489': 236, '6772841': 697, '6769832': 696, '6720526': 554, '6863375': 709, '6729612': 611, '6726543': 594, 'oung': 1723, 'nee': 1663, 'lover': 1575, 'suc': 2021, 'king': 1499, 'di': 1168, 'bbbj': 972, 'memorable': 1612, 'average': 952, 'dd': 1154, 'cup': 1135, '634': 181, '4041': 127, '6698740': 427, '6681872': 387, '724257973': 777, 'mee': 1607, 'satisfaction': 1904, '6635724': 282, '6673247': 371, '6714685': 505, '743': 795, '3309': 106, '6602057': 220, 'enjo': 1234, 'ying': 2258, 'public': 1821, '6600642': 216, '6714225': 504, 'boring': 1017, 'cannot': 1050, 'extra': 1266, 'charges': 1062, 'hobby': 1413, 'profession': 1812, '6109003974': 175, '6759177': 642, '6644044': 296, '6769271': 692, '6728442': 608, '6628971': 265, '6690244': 405, '6652485': 321, '6687981': 399, '7792882': 810, '6711974': 492, '6716465': 514, 'preg': 1802, 'nant': 1654, 'seri': 1927, 'ous': 1725, 'pregnant': 1803, 'hor': 1423, 'ny': 1692, '6654149': 327, '6674857': 373, '7245253': 783}\n",
      "[4.48204948 4.43075618 6.32787617 ... 6.32787617 6.32787617 6.32787617]\n"
     ]
    }
   ],
   "source": [
    "#Create the Vectorizer\n",
    "vectorizer = TfidfVectorizer()\n",
    "\n",
    "#Build Vocabulary\n",
    "vectorizer.fit(pages_text)\n",
    "print(vectorizer.vocabulary_)\n",
    "print(vectorizer.idf_)"
   ]
  },
  {
   "cell_type": "markdown",
   "metadata": {},
   "source": [
    "The Vectorizer learned a pretty extensive vocabulary. Thankfully, the idf calculation shows that the words that appear in every ad are assigned weights of zero or essentially zero. This means the algorithm will focus more on the text on the page that has to do with the ad, or the information relating to the actual advertiser. "
   ]
  },
  {
   "cell_type": "code",
   "execution_count": 18,
   "metadata": {},
   "outputs": [
    {
     "name": "stdout",
     "output_type": "stream",
     "text": [
      "(617, 2334)\n",
      "[[0. 0. 0. ... 0. 0. 0.]\n",
      " [0. 0. 0. ... 0. 0. 0.]\n",
      " [0. 0. 0. ... 0. 0. 0.]\n",
      " ...\n",
      " [0. 0. 0. ... 0. 0. 0.]\n",
      " [0. 0. 0. ... 0. 0. 0.]\n",
      " [0. 0. 0. ... 0. 0. 0.]]\n"
     ]
    }
   ],
   "source": [
    "#Encode All Observations\n",
    "vector = vectorizer.transform(pages_text)\n",
    "\n",
    "#Summarize Encoded Documents\n",
    "print(vector.shape)\n",
    "print(vector.toarray())\n",
    "\n",
    "#Turn Ad Info into an Array\n",
    "pages_text_array = vector.toarray()"
   ]
  },
  {
   "cell_type": "markdown",
   "metadata": {},
   "source": [
    "When condensed into an array, the 600+ observations I've compiled each have around 2,300 features. The vast majority of these will be useless. The next step will tell if, within these features, evidence can be found for instances of or signals for sex trafficking."
   ]
  },
  {
   "cell_type": "markdown",
   "metadata": {},
   "source": [
    "## 3. Dimensionality Reduction & Cluster Analysis"
   ]
  },
  {
   "cell_type": "markdown",
   "metadata": {},
   "source": [
    "In this section, I take the data that I have compiled and analyze it using some dimensionality reduction and cluster analysis. These data all have several dimensions inasmuch as I have defined each word in a document as a feature independent of other words in the document. Dimensionality reduction is the process of removing dimensions of the data that do not explain much of the variance in the data. This will be useful for getting rid of lots of the words that are in each document so I can focus on the unique ones for each.\n",
    "\n",
    "This section uses three main techniques for dimensionality reduction: Principle Component Analysis (PCA), t-SNE, and K-Means clustering. I go through all of them here."
   ]
  },
  {
   "cell_type": "markdown",
   "metadata": {},
   "source": [
    "### PCA\n",
    "\n",
    "PCA works by reducing the data to only those components that explain most of the variance. It preserves the component that explains the most, and then goes on to the next orthogonal component that explains the next greatest amount of the variance, and so on. It's a useful tool for roughly deciding how many components are absolutely essential in the data.\n",
    "\n",
    "In my case, there are hundreds of words in an ad meaning hundreds of components per ad. Only about one hundred or so of them are unique across ads and among those types of words only a handful of them will differ between ads. Let's see what PCA can show us about the dimensionality of these ads."
   ]
  },
  {
   "cell_type": "code",
   "execution_count": 19,
   "metadata": {},
   "outputs": [
    {
     "data": {
      "text/plain": [
       "Text(0.5, 1.0, 'Explained Variance by Components Preserved')"
      ]
     },
     "execution_count": 19,
     "metadata": {},
     "output_type": "execute_result"
    },
    {
     "data": {
      "image/png": "[encoded data removed]",
      "text/plain": [
       "<Figure size 648x504 with 1 Axes>"
      ]
     },
     "metadata": {
      "needs_background": "light"
     },
     "output_type": "display_data"
    }
   ],
   "source": [
    "data = pages_text_array\n",
    "\n",
    "pca = PCA()\n",
    "data_pca = pca.fit_transform(data)\n",
    "cum_ratio = np.cumsum(pca.explained_variance_ratio_)\n",
    "\n",
    "f, ax = plt.subplots(figsize=(9,7))\n",
    "plt.plot(range(len(cum_ratio)), cum_ratio)\n",
    "plt.ylabel('Prop. Explained Variance')\n",
    "plt.xlabel('N Components')\n",
    "plt.title('Explained Variance by Components Preserved')"
   ]
  },
  {
   "cell_type": "markdown",
   "metadata": {},
   "source": [
    "This graph illustrates about how many components would be absolutely necessary to expalain variance in the data. Thankfully, it's not too many relative to the number of components available. Each one has over 2,300, but variation is explained by about 100 of them. To be precise, however, I'll defer to a benchmark of using *n* amount of components such that that number of components explain at least 95% of the variance."
   ]
  },
  {
   "cell_type": "code",
   "execution_count": 20,
   "metadata": {},
   "outputs": [
    {
     "name": "stdout",
     "output_type": "stream",
     "text": [
      "132\n",
      "0.9500639618794096\n"
     ]
    }
   ],
   "source": [
    "index_95 = np.argmax(cum_ratio >= 0.95)\n",
    "print(index_95)\n",
    "print(cum_ratio[index_95])"
   ]
  },
  {
   "cell_type": "markdown",
   "metadata": {},
   "source": [
    "Turns out that about 130 components (words) explain pretty much all of the variance."
   ]
  },
  {
   "cell_type": "markdown",
   "metadata": {},
   "source": [
    "I'll now visualize the first two components. Together, these components don't explain much of the of the variance in ads but this technique is useful for visualization of clusters."
   ]
  },
  {
   "cell_type": "code",
   "execution_count": 21,
   "metadata": {},
   "outputs": [
    {
     "data": {
      "text/plain": [
       "Text(0.5, 1.0, 'First Two Components')"
      ]
     },
     "execution_count": 21,
     "metadata": {},
     "output_type": "execute_result"
    },
    {
     "data": {
      "image/png": "[encoded data removed]",
      "text/plain": [
       "<Figure size 864x648 with 1 Axes>"
      ]
     },
     "metadata": {
      "needs_background": "light"
     },
     "output_type": "display_data"
    }
   ],
   "source": [
    "pca = PCA(n_components = 2)\n",
    "data_pca = pca.fit_transform(data)\n",
    "f, ax = plt.subplots(figsize = (12,9))\n",
    "plt.scatter(data_pca[:, 0], data_pca[:, 1],\n",
    "            cmap='plasma', edgecolor='none', alpha=0.5)\n",
    "plt.xlabel('Component 1')\n",
    "plt.ylabel('Component 2')\n",
    "plt.title('First Two Components')"
   ]
  },
  {
   "cell_type": "markdown",
   "metadata": {},
   "source": [
    "Clustering observations using PCA and then plotting them gave a few insights. First, at least with regards to two dimensions of the data, most observations were not very distinct, save for a few outlier groups. These groups look very dense, but these are very likely duplicate ads that had multiple links attached to them. The lack of distinction between observations - at least as visualized in two dimensions - isn't surprising, given the broad range of language that can be used in advertisements as well as the number of components to which I restricted the analysis. It is encouraging but also reasonable to me that the variance can be explained with relatively so few components. The majority of the words are almost exactly the same across ads. However, this will mean the next step, t-SNE, might not yield many more insights unless I increase the number of components that are considered in the clustering. \n",
    "\n",
    "Practically speaking, ads on the Backpage alternative site appear pretty similar at least for this stage in analysis. Thankfully, there are plenty of dimensions (words) to which I can expand analysis and visualization."
   ]
  },
  {
   "cell_type": "markdown",
   "metadata": {},
   "source": [
    "### t-SNE\n",
    "\n",
    "This is another dimensionality reduction technique that is especially used for visualization and not pre-processing. For this technique, the data is reduced to two dimensions so that we can plot the data in this way. The goal of t-SNE is to take the data and represent it correctly in lower dimensions. With t-SNE plots, observations close together in high dimensions remain close together in lower dimensions. \n",
    "\n",
    "Practically speaking, this ought to show me how many clusters the data is naturally separated into, though it won't tell me much about the differences between clusters."
   ]
  },
  {
   "cell_type": "code",
   "execution_count": 22,
   "metadata": {},
   "outputs": [
    {
     "name": "stdout",
     "output_type": "stream",
     "text": [
      "[t-SNE] Computing 151 nearest neighbors...\n",
      "[t-SNE] Indexed 617 samples in 0.004s...\n",
      "[t-SNE] Computed neighbors for 617 samples in 0.157s...\n",
      "[t-SNE] Computed conditional probabilities for sample 617 / 617\n",
      "[t-SNE] Mean sigma: 0.267484\n",
      "[t-SNE] KL divergence after 250 iterations with early exaggeration: 59.774715\n",
      "[t-SNE] KL divergence after 1000 iterations: 0.301792\n"
     ]
    }
   ],
   "source": [
    "#Reduce Dimensionality Before Feeding In\n",
    "pca = PCA(n_components=132)\n",
    "data_pca = pca.fit_transform(data)\n",
    "\n",
    "rows = np.arange(617)\n",
    "np.random.shuffle(rows)\n",
    "n_select = 10000\n",
    "\n",
    "tsne = TSNE(n_components=2, verbose=1, perplexity=50, n_iter=1000, learning_rate=200)\n",
    "tsne_results = tsne.fit_transform(data_pca[rows[:n_select],:])"
   ]
  },
  {
   "cell_type": "code",
   "execution_count": 23,
   "metadata": {},
   "outputs": [
    {
     "data": {
      "text/plain": [
       "<seaborn.axisgrid.FacetGrid at 0x7fea19581668>"
      ]
     },
     "execution_count": 23,
     "metadata": {},
     "output_type": "execute_result"
    },
    {
     "data": {
      "image/png": "[encoded data removed]",
      "text/plain": [
       "<Figure size 360x360 with 1 Axes>"
      ]
     },
     "metadata": {
      "needs_background": "light"
     },
     "output_type": "display_data"
    }
   ],
   "source": [
    "df_tsne = pd.DataFrame(tsne_results, columns=['comp1', 'comp2'])\n",
    "sns.lmplot(x='comp1', y='comp2', data=df_tsne, fit_reg=False)"
   ]
  },
  {
   "cell_type": "markdown",
   "metadata": {},
   "source": [
    "### K-Means\n",
    "\n",
    "I'll finish off with the most famous clustering algorithm - K-Means. It finds some amount, K, of distinct \"clusters\" in a set of data by using the features of the given data. I have a lot of features here, but each is weighted by it's importance. I have a good idea of the *K* amount of groups that the data ought to be separated in, and t-SNE was also helpful to show how the data might naturally be clustered. Let's see what K-means can tell us about clusters in the data."
   ]
  },
  {
   "cell_type": "markdown",
   "metadata": {},
   "source": [
    "As I said, I have a good idea of how many clusters the data might naturally be separated into. On dating sites like the one I scraped, there probably exist several kinds of users that want different things. These might include casual hook-up seekers, prostitutes, or even catfish. Another group might indeed be persons who are being sex trafficked. I therefore imagine that the data might naturally be clustered into **five** groups, but I'd like to see what something like the *Elbow Method* yields for me. "
   ]
  },
  {
   "cell_type": "code",
   "execution_count": 26,
   "metadata": {},
   "outputs": [
    {
     "data": {
      "text/plain": [
       "[<matplotlib.lines.Line2D at 0x7fea31893908>]"
      ]
     },
     "execution_count": 26,
     "metadata": {},
     "output_type": "execute_result"
    },
    {
     "data": {
      "image/png": "[encoded data removed]",
      "text/plain": [
       "<Figure size 432x288 with 1 Axes>"
      ]
     },
     "metadata": {
      "needs_background": "light"
     },
     "output_type": "display_data"
    }
   ],
   "source": [
    "#Elbow Method Code\n",
    "\n",
    "sses = []\n",
    "for k in range(1,16):\n",
    "    kmeans = KMeans(n_clusters=k, n_init=50, n_jobs=-1)\n",
    "    kmeans.fit(df_tsne[['comp1', 'comp2']])\n",
    "    sses.append(kmeans.inertia_)\n",
    "plt.plot(range(1,16), sses)"
   ]
  },
  {
   "cell_type": "markdown",
   "metadata": {},
   "source": [
    "Oh wow. Similar to what I expected, it appears that the elbow in the code lies at around 5 or 6 clusters in the data. Five clusters seems like a reasonable amount of groups, given what I have already described about the possible groups. Crucially, however, I later found out once the labels were assigned that the clustering was simply finding the duplicate ads on the same landing page. Some ads were posted once a day for several days at a time. My workaround for this is quite crude: I increase the number of clusters so that the duplicate ads will be clustered together and more clusters will hopeflly be determined within the non-duplicate ads. "
   ]
  },
  {
   "cell_type": "markdown",
   "metadata": {},
   "source": [
    "The code below does the K-Means clustering for the data again - using a K of 15 - and assigns the labels to each observation. It also returns the Sillhouette Score of the clustering. This ought to be useful to me in that I don't have solid ground truth about the data or the clustering in it. Let's see how it looks:"
   ]
  },
  {
   "cell_type": "code",
   "execution_count": 29,
   "metadata": {},
   "outputs": [
    {
     "data": {
      "text/plain": [
       "0.33102455289311383"
      ]
     },
     "execution_count": 29,
     "metadata": {},
     "output_type": "execute_result"
    }
   ],
   "source": [
    "kmeans_model = KMeans(n_clusters=15, n_init=50, n_jobs=-1)\n",
    "kmeans_model.fit(data)\n",
    "labels = kmeans_model.labels_\n",
    "silhouette_score(data, labels, metric='euclidean')"
   ]
  },
  {
   "cell_type": "markdown",
   "metadata": {},
   "source": [
    "My Sillhouette Score is not terrible but it's not too great either. It seems that on average the clusters are not very dense and only roughly distinct. "
   ]
  },
  {
   "cell_type": "markdown",
   "metadata": {},
   "source": [
    "Next, I'll visualize the clusters that K-Means returned using t-SNE. This won't be much more descriptive than the t-SNE chart above, but here the observations will be labeled with the labels they were assigned by the K-Means algorithm."
   ]
  },
  {
   "cell_type": "code",
   "execution_count": 34,
   "metadata": {},
   "outputs": [
    {
     "name": "stdout",
     "output_type": "stream",
     "text": [
      "[t-SNE] Computing 91 nearest neighbors...\n",
      "[t-SNE] Indexed 617 samples in 0.078s...\n",
      "[t-SNE] Computed neighbors for 617 samples in 2.546s...\n",
      "[t-SNE] Computed conditional probabilities for sample 617 / 617\n",
      "[t-SNE] Mean sigma: 0.171359\n",
      "[t-SNE] KL divergence after 250 iterations with early exaggeration: 54.801460\n",
      "[t-SNE] KL divergence after 1000 iterations: 0.286608\n"
     ]
    },
    {
     "name": "stderr",
     "output_type": "stream",
     "text": [
      "/srv/conda/lib/python3.6/site-packages/seaborn/regression.py:546: UserWarning: The `size` paramter has been renamed to `height`; please update your code.\n",
      "  warnings.warn(msg, UserWarning)\n"
     ]
    },
    {
     "data": {
      "text/plain": [
       "Text(0.5, 1.0, 'K-Means Clustering')"
      ]
     },
     "execution_count": 34,
     "metadata": {},
     "output_type": "execute_result"
    },
    {
     "data": {
      "image/png": "[encoded data removed]",
      "text/plain": [
       "<Figure size 912.75x864 with 1 Axes>"
      ]
     },
     "metadata": {
      "needs_background": "light"
     },
     "output_type": "display_data"
    }
   ],
   "source": [
    "tsne = TSNE(n_components=2, verbose=1, perplexity=30, n_iter=1000, learning_rate=50)\n",
    "tsne_results = tsne.fit_transform(data[rows[:n_select],:])\n",
    "\n",
    "df_tsne = pd.DataFrame(tsne_results, columns=['comp1', 'comp2'])\n",
    "df_tsne['label'] = labels[rows[:n_select]]\n",
    "\n",
    "sns.lmplot(x='comp1', y='comp2', data=df_tsne, hue='label', fit_reg=False, size=12)\n",
    "plt.title('K-Means Clustering')"
   ]
  },
  {
   "cell_type": "markdown",
   "metadata": {},
   "source": [
    "It looks like the clustering did a fair job of pairing the duplicate ads together, and found a few clusters of ads that are not the same but are similar in terms of language. The final step will be to manually investigate these clusters to look for anything suspicious."
   ]
  },
  {
   "cell_type": "markdown",
   "metadata": {},
   "source": [
    "## 4. Examining Clusters\n",
    "\n",
    "**WARNING** - This section contains links to ads that contain highly sensual and personal inormation that is not safe for viewing at work. Use discretion if viewing these links."
   ]
  },
  {
   "cell_type": "markdown",
   "metadata": {},
   "source": [
    "Here, I discuss the findings of my analysis. This mostly deals with substantively and quantitatively examining the broad clusters the algorithms found."
   ]
  },
  {
   "cell_type": "markdown",
   "metadata": {},
   "source": [
    "To make this simple, I'll combine the links, ad texts, and labels into a dataframe so I can reference the links by labels. The attaching the ad texts is just so that I can delete any duplicate ads in the dataset. Once this is done, I'll drop the ad texts and I'll be left with the links and the labels assigned to those ads by the K-Means Clustering. From there, I'll just manually look at the ads to see if there are distinguishable patterns with regards to ad text."
   ]
  },
  {
   "cell_type": "code",
   "execution_count": 35,
   "metadata": {},
   "outputs": [
    {
     "name": "stdout",
     "output_type": "stream",
     "text": [
      "617\n",
      "617\n"
     ]
    }
   ],
   "source": [
    "links = list(links)\n",
    "print(len(links))\n",
    "print(len(pages_text))"
   ]
  },
  {
   "cell_type": "code",
   "execution_count": 37,
   "metadata": {},
   "outputs": [
    {
     "data": {
      "text/plain": [
       "585"
      ]
     },
     "execution_count": 37,
     "metadata": {},
     "output_type": "execute_result"
    }
   ],
   "source": [
    "links_labels_table = pd.DataFrame({'Links': links, 'Ad Text': pages_text, 'Labels': labels})\n",
    "links_labels_table.drop_duplicates(subset = \"Ad Text\", keep = False, inplace = True)\n",
    "links_labels_table = links_labels_table.drop(['Ad Text'], axis=1)\n",
    "links_labels_table.shape[0]"
   ]
  },
  {
   "cell_type": "markdown",
   "metadata": {},
   "source": [
    "Only 30 or so ads were exact duplicates, but I still expect there to be several duplicate ads in here that are linked to multiple links because certain posters post ads on different days, different posters may post the same link to the same site or information, etc. "
   ]
  },
  {
   "cell_type": "markdown",
   "metadata": {},
   "source": [
    "The last phase is mostly conjecture: I'll print off a sample of ads for each label and read through them. Learning 'feature importances' between groups to determine what words significantly distinguish ads might be useful, but it would take far too long for my purposes."
   ]
  },
  {
   "cell_type": "code",
   "execution_count": 38,
   "metadata": {},
   "outputs": [
    {
     "data": {
      "text/html": [
       "<div>\n",
       "<style scoped>\n",
       "    .dataframe tbody tr th:only-of-type {\n",
       "        vertical-align: middle;\n",
       "    }\n",
       "\n",
       "    .dataframe tbody tr th {\n",
       "        vertical-align: top;\n",
       "    }\n",
       "\n",
       "    .dataframe thead th {\n",
       "        text-align: right;\n",
       "    }\n",
       "</style>\n",
       "<table border=\"1\" class=\"dataframe\">\n",
       "  <thead>\n",
       "    <tr style=\"text-align: right;\">\n",
       "      <th></th>\n",
       "      <th>Links</th>\n",
       "      <th>Labels</th>\n",
       "    </tr>\n",
       "  </thead>\n",
       "  <tbody>\n",
       "    <tr>\n",
       "      <th>61</th>\n",
       "      <td>https://saltlakecity.bedpage.com/WomenSeekMen/estados-unidos/6612052.html</td>\n",
       "      <td>0</td>\n",
       "    </tr>\n",
       "    <tr>\n",
       "      <th>94</th>\n",
       "      <td>https://saltlakecity.bedpage.com/WomenSeekMen/estados-unidos/6733592.html</td>\n",
       "      <td>0</td>\n",
       "    </tr>\n",
       "    <tr>\n",
       "      <th>163</th>\n",
       "      <td>https://saltlakecity.bedpage.com/WomenSeekMen/estados-unidos/6581020.html</td>\n",
       "      <td>0</td>\n",
       "    </tr>\n",
       "    <tr>\n",
       "      <th>251</th>\n",
       "      <td>https://saltlakecity.bedpage.com/WomenSeekMen/estados-unidos/6722143.html</td>\n",
       "      <td>0</td>\n",
       "    </tr>\n",
       "    <tr>\n",
       "      <th>298</th>\n",
       "      <td>https://saltlakecity.bedpage.com/WomenSeekMen/estados-unidos/6754229.html</td>\n",
       "      <td>0</td>\n",
       "    </tr>\n",
       "    <tr>\n",
       "      <th>371</th>\n",
       "      <td>https://saltlakecity.bedpage.com/WomenSeekMen/estados-unidos/6763039.html</td>\n",
       "      <td>0</td>\n",
       "    </tr>\n",
       "    <tr>\n",
       "      <th>507</th>\n",
       "      <td>https://saltlakecity.bedpage.com/WomenSeekMen/estados-unidos/6762027.html</td>\n",
       "      <td>0</td>\n",
       "    </tr>\n",
       "    <tr>\n",
       "      <th>571</th>\n",
       "      <td>https://saltlakecity.bedpage.com/WomenSeekMen/estados-unidos/6730577.html</td>\n",
       "      <td>0</td>\n",
       "    </tr>\n",
       "  </tbody>\n",
       "</table>\n",
       "</div>"
      ],
      "text/plain": [
       "                                                                         Links  \\\n",
       "61   https://saltlakecity.bedpage.com/WomenSeekMen/estados-unidos/6612052.html   \n",
       "94   https://saltlakecity.bedpage.com/WomenSeekMen/estados-unidos/6733592.html   \n",
       "163  https://saltlakecity.bedpage.com/WomenSeekMen/estados-unidos/6581020.html   \n",
       "251  https://saltlakecity.bedpage.com/WomenSeekMen/estados-unidos/6722143.html   \n",
       "298  https://saltlakecity.bedpage.com/WomenSeekMen/estados-unidos/6754229.html   \n",
       "371  https://saltlakecity.bedpage.com/WomenSeekMen/estados-unidos/6763039.html   \n",
       "507  https://saltlakecity.bedpage.com/WomenSeekMen/estados-unidos/6762027.html   \n",
       "571  https://saltlakecity.bedpage.com/WomenSeekMen/estados-unidos/6730577.html   \n",
       "\n",
       "     Labels  \n",
       "61   0       \n",
       "94   0       \n",
       "163  0       \n",
       "251  0       \n",
       "298  0       \n",
       "371  0       \n",
       "507  0       \n",
       "571  0       "
      ]
     },
     "execution_count": 38,
     "metadata": {},
     "output_type": "execute_result"
    }
   ],
   "source": [
    "pd.set_option('display.max_colwidth', -1)\n",
    "links_labels_table[links_labels_table['Labels'] == 0].head(10)"
   ]
  },
  {
   "cell_type": "markdown",
   "metadata": {},
   "source": [
    "This is a cluster of some duplicate and some unique ads in Spanish. K-Means likely clustered them for similarities in word usage but only because they are all the same language and use similar articles and words."
   ]
  },
  {
   "cell_type": "code",
   "execution_count": 39,
   "metadata": {},
   "outputs": [
    {
     "data": {
      "text/html": [
       "<div>\n",
       "<style scoped>\n",
       "    .dataframe tbody tr th:only-of-type {\n",
       "        vertical-align: middle;\n",
       "    }\n",
       "\n",
       "    .dataframe tbody tr th {\n",
       "        vertical-align: top;\n",
       "    }\n",
       "\n",
       "    .dataframe thead th {\n",
       "        text-align: right;\n",
       "    }\n",
       "</style>\n",
       "<table border=\"1\" class=\"dataframe\">\n",
       "  <thead>\n",
       "    <tr style=\"text-align: right;\">\n",
       "      <th></th>\n",
       "      <th>Links</th>\n",
       "      <th>Labels</th>\n",
       "    </tr>\n",
       "  </thead>\n",
       "  <tbody>\n",
       "    <tr>\n",
       "      <th>0</th>\n",
       "      <td>https://saltlakecity.bedpage.com/WomenSeekMen/usa/6706578.html</td>\n",
       "      <td>1</td>\n",
       "    </tr>\n",
       "    <tr>\n",
       "      <th>3</th>\n",
       "      <td>https://saltlakecity.bedpage.com/WomenSeekMen/usa/6726627.html</td>\n",
       "      <td>1</td>\n",
       "    </tr>\n",
       "    <tr>\n",
       "      <th>5</th>\n",
       "      <td>https://saltlakecity.bedpage.com/WomenSeekMen/usa/6759503.html</td>\n",
       "      <td>1</td>\n",
       "    </tr>\n",
       "    <tr>\n",
       "      <th>6</th>\n",
       "      <td>https://saltlakecity.bedpage.com/WomenSeekMen/usa/6658950.html</td>\n",
       "      <td>1</td>\n",
       "    </tr>\n",
       "    <tr>\n",
       "      <th>9</th>\n",
       "      <td>https://saltlakecity.bedpage.com/WomenSeekMen/usa/6798992.html</td>\n",
       "      <td>1</td>\n",
       "    </tr>\n",
       "    <tr>\n",
       "      <th>11</th>\n",
       "      <td>https://saltlakecity.bedpage.com/WomenSeekMen/usa/6722625.html</td>\n",
       "      <td>1</td>\n",
       "    </tr>\n",
       "    <tr>\n",
       "      <th>12</th>\n",
       "      <td>https://saltlakecity.bedpage.com/WomenSeekMen/usa/6700860.html</td>\n",
       "      <td>1</td>\n",
       "    </tr>\n",
       "    <tr>\n",
       "      <th>19</th>\n",
       "      <td>https://saltlakecity.bedpage.com/WomenSeekMen/usa/6712210.html</td>\n",
       "      <td>1</td>\n",
       "    </tr>\n",
       "    <tr>\n",
       "      <th>22</th>\n",
       "      <td>https://saltlakecity.bedpage.com/WomenSeekMen/usa/6711972.html</td>\n",
       "      <td>1</td>\n",
       "    </tr>\n",
       "    <tr>\n",
       "      <th>34</th>\n",
       "      <td>https://saltlakecity.bedpage.com/WomenSeekMen/usa/6722332.html</td>\n",
       "      <td>1</td>\n",
       "    </tr>\n",
       "  </tbody>\n",
       "</table>\n",
       "</div>"
      ],
      "text/plain": [
       "                                                             Links  Labels\n",
       "0   https://saltlakecity.bedpage.com/WomenSeekMen/usa/6706578.html  1     \n",
       "3   https://saltlakecity.bedpage.com/WomenSeekMen/usa/6726627.html  1     \n",
       "5   https://saltlakecity.bedpage.com/WomenSeekMen/usa/6759503.html  1     \n",
       "6   https://saltlakecity.bedpage.com/WomenSeekMen/usa/6658950.html  1     \n",
       "9   https://saltlakecity.bedpage.com/WomenSeekMen/usa/6798992.html  1     \n",
       "11  https://saltlakecity.bedpage.com/WomenSeekMen/usa/6722625.html  1     \n",
       "12  https://saltlakecity.bedpage.com/WomenSeekMen/usa/6700860.html  1     \n",
       "19  https://saltlakecity.bedpage.com/WomenSeekMen/usa/6712210.html  1     \n",
       "22  https://saltlakecity.bedpage.com/WomenSeekMen/usa/6711972.html  1     \n",
       "34  https://saltlakecity.bedpage.com/WomenSeekMen/usa/6722332.html  1     "
      ]
     },
     "execution_count": 39,
     "metadata": {},
     "output_type": "execute_result"
    }
   ],
   "source": [
    "links_labels_table[links_labels_table['Labels'] == 1].head(10)"
   ]
  },
  {
   "cell_type": "markdown",
   "metadata": {},
   "source": [
    "This label very likely encapsulates the \"Casual Hook-Uppers\" that I postulated would be in the data. Each of these ads emphasized that the poster was currently less than happy, ready to engage in a quick meet-up, and did not make reference to monetary transactions. \n",
    "\n",
    "At least one of these ads advertised massage services from multiple asian women. Sexual services were referenced. I am unsure why it was clustered into this group."
   ]
  },
  {
   "cell_type": "code",
   "execution_count": 40,
   "metadata": {},
   "outputs": [
    {
     "data": {
      "text/html": [
       "<div>\n",
       "<style scoped>\n",
       "    .dataframe tbody tr th:only-of-type {\n",
       "        vertical-align: middle;\n",
       "    }\n",
       "\n",
       "    .dataframe tbody tr th {\n",
       "        vertical-align: top;\n",
       "    }\n",
       "\n",
       "    .dataframe thead th {\n",
       "        text-align: right;\n",
       "    }\n",
       "</style>\n",
       "<table border=\"1\" class=\"dataframe\">\n",
       "  <thead>\n",
       "    <tr style=\"text-align: right;\">\n",
       "      <th></th>\n",
       "      <th>Links</th>\n",
       "      <th>Labels</th>\n",
       "    </tr>\n",
       "  </thead>\n",
       "  <tbody>\n",
       "    <tr>\n",
       "      <th>7</th>\n",
       "      <td>https://saltlakecity.bedpage.com/WomenSeekMen/usa/7148424.html</td>\n",
       "      <td>2</td>\n",
       "    </tr>\n",
       "    <tr>\n",
       "      <th>29</th>\n",
       "      <td>https://saltlakecity.bedpage.com/WomenSeekMen/usa/7196286.html</td>\n",
       "      <td>2</td>\n",
       "    </tr>\n",
       "    <tr>\n",
       "      <th>39</th>\n",
       "      <td>https://saltlakecity.bedpage.com/WomenSeekMen/usa/6719645.html</td>\n",
       "      <td>2</td>\n",
       "    </tr>\n",
       "    <tr>\n",
       "      <th>46</th>\n",
       "      <td>https://saltlakecity.bedpage.com/WomenSeekMen/usa/6696883.html</td>\n",
       "      <td>2</td>\n",
       "    </tr>\n",
       "    <tr>\n",
       "      <th>75</th>\n",
       "      <td>https://saltlakecity.bedpage.com/WomenSeekMen/usa/6762799.html</td>\n",
       "      <td>2</td>\n",
       "    </tr>\n",
       "    <tr>\n",
       "      <th>80</th>\n",
       "      <td>https://saltlakecity.bedpage.com/WomenSeekMen/usa/6670600.html</td>\n",
       "      <td>2</td>\n",
       "    </tr>\n",
       "    <tr>\n",
       "      <th>100</th>\n",
       "      <td>https://saltlakecity.bedpage.com/WomenSeekMen/usa/6711835.html</td>\n",
       "      <td>2</td>\n",
       "    </tr>\n",
       "    <tr>\n",
       "      <th>107</th>\n",
       "      <td>https://saltlakecity.bedpage.com/WomenSeekMen/usa/6698690.html</td>\n",
       "      <td>2</td>\n",
       "    </tr>\n",
       "    <tr>\n",
       "      <th>108</th>\n",
       "      <td>https://saltlakecity.bedpage.com/WomenSeekMen/usa/6700815.html</td>\n",
       "      <td>2</td>\n",
       "    </tr>\n",
       "    <tr>\n",
       "      <th>109</th>\n",
       "      <td>https://saltlakecity.bedpage.com/WomenSeekMen/usa/7119268.html</td>\n",
       "      <td>2</td>\n",
       "    </tr>\n",
       "  </tbody>\n",
       "</table>\n",
       "</div>"
      ],
      "text/plain": [
       "                                                              Links  Labels\n",
       "7    https://saltlakecity.bedpage.com/WomenSeekMen/usa/7148424.html  2     \n",
       "29   https://saltlakecity.bedpage.com/WomenSeekMen/usa/7196286.html  2     \n",
       "39   https://saltlakecity.bedpage.com/WomenSeekMen/usa/6719645.html  2     \n",
       "46   https://saltlakecity.bedpage.com/WomenSeekMen/usa/6696883.html  2     \n",
       "75   https://saltlakecity.bedpage.com/WomenSeekMen/usa/6762799.html  2     \n",
       "80   https://saltlakecity.bedpage.com/WomenSeekMen/usa/6670600.html  2     \n",
       "100  https://saltlakecity.bedpage.com/WomenSeekMen/usa/6711835.html  2     \n",
       "107  https://saltlakecity.bedpage.com/WomenSeekMen/usa/6698690.html  2     \n",
       "108  https://saltlakecity.bedpage.com/WomenSeekMen/usa/6700815.html  2     \n",
       "109  https://saltlakecity.bedpage.com/WomenSeekMen/usa/7119268.html  2     "
      ]
     },
     "execution_count": 40,
     "metadata": {},
     "output_type": "execute_result"
    }
   ],
   "source": [
    "links_labels_table[links_labels_table['Labels'] == 2].head(10)"
   ]
  },
  {
   "cell_type": "markdown",
   "metadata": {},
   "source": [
    "This is a cluster of duplicate ads from the same poster. This person is likely looking for a casual hook-up as no explicit reference to money and sexual favors was made."
   ]
  },
  {
   "cell_type": "code",
   "execution_count": 41,
   "metadata": {},
   "outputs": [
    {
     "data": {
      "text/html": [
       "<div>\n",
       "<style scoped>\n",
       "    .dataframe tbody tr th:only-of-type {\n",
       "        vertical-align: middle;\n",
       "    }\n",
       "\n",
       "    .dataframe tbody tr th {\n",
       "        vertical-align: top;\n",
       "    }\n",
       "\n",
       "    .dataframe thead th {\n",
       "        text-align: right;\n",
       "    }\n",
       "</style>\n",
       "<table border=\"1\" class=\"dataframe\">\n",
       "  <thead>\n",
       "    <tr style=\"text-align: right;\">\n",
       "      <th></th>\n",
       "      <th>Links</th>\n",
       "      <th>Labels</th>\n",
       "    </tr>\n",
       "  </thead>\n",
       "  <tbody>\n",
       "    <tr>\n",
       "      <th>14</th>\n",
       "      <td>https://saltlakecity.bedpage.com/WomenSeekMen/usa/6623537.html</td>\n",
       "      <td>3</td>\n",
       "    </tr>\n",
       "    <tr>\n",
       "      <th>62</th>\n",
       "      <td>https://saltlakecity.bedpage.com/WomenSeekMen/usa/6614514.html</td>\n",
       "      <td>3</td>\n",
       "    </tr>\n",
       "    <tr>\n",
       "      <th>65</th>\n",
       "      <td>https://saltlakecity.bedpage.com/WomenSeekMen/usa/6619756.html</td>\n",
       "      <td>3</td>\n",
       "    </tr>\n",
       "    <tr>\n",
       "      <th>83</th>\n",
       "      <td>https://saltlakecity.bedpage.com/WomenSeekMen/usa/6603817.html</td>\n",
       "      <td>3</td>\n",
       "    </tr>\n",
       "    <tr>\n",
       "      <th>111</th>\n",
       "      <td>https://saltlakecity.bedpage.com/WomenSeekMen/usa/6610547.html</td>\n",
       "      <td>3</td>\n",
       "    </tr>\n",
       "    <tr>\n",
       "      <th>133</th>\n",
       "      <td>https://saltlakecity.bedpage.com/WomenSeekMen/usa/6617843.html</td>\n",
       "      <td>3</td>\n",
       "    </tr>\n",
       "    <tr>\n",
       "      <th>136</th>\n",
       "      <td>https://saltlakecity.bedpage.com/WomenSeekMen/usa/6601497.html</td>\n",
       "      <td>3</td>\n",
       "    </tr>\n",
       "    <tr>\n",
       "      <th>139</th>\n",
       "      <td>https://saltlakecity.bedpage.com/WomenSeekMen/usa/6598269.html</td>\n",
       "      <td>3</td>\n",
       "    </tr>\n",
       "    <tr>\n",
       "      <th>140</th>\n",
       "      <td>https://saltlakecity.bedpage.com/WomenSeekMen/usa/6593527.html</td>\n",
       "      <td>3</td>\n",
       "    </tr>\n",
       "    <tr>\n",
       "      <th>143</th>\n",
       "      <td>https://saltlakecity.bedpage.com/WomenSeekMen/usa/6596433.html</td>\n",
       "      <td>3</td>\n",
       "    </tr>\n",
       "  </tbody>\n",
       "</table>\n",
       "</div>"
      ],
      "text/plain": [
       "                                                              Links  Labels\n",
       "14   https://saltlakecity.bedpage.com/WomenSeekMen/usa/6623537.html  3     \n",
       "62   https://saltlakecity.bedpage.com/WomenSeekMen/usa/6614514.html  3     \n",
       "65   https://saltlakecity.bedpage.com/WomenSeekMen/usa/6619756.html  3     \n",
       "83   https://saltlakecity.bedpage.com/WomenSeekMen/usa/6603817.html  3     \n",
       "111  https://saltlakecity.bedpage.com/WomenSeekMen/usa/6610547.html  3     \n",
       "133  https://saltlakecity.bedpage.com/WomenSeekMen/usa/6617843.html  3     \n",
       "136  https://saltlakecity.bedpage.com/WomenSeekMen/usa/6601497.html  3     \n",
       "139  https://saltlakecity.bedpage.com/WomenSeekMen/usa/6598269.html  3     \n",
       "140  https://saltlakecity.bedpage.com/WomenSeekMen/usa/6593527.html  3     \n",
       "143  https://saltlakecity.bedpage.com/WomenSeekMen/usa/6596433.html  3     "
      ]
     },
     "execution_count": 41,
     "metadata": {},
     "output_type": "execute_result"
    }
   ],
   "source": [
    "links_labels_table[links_labels_table['Labels'] == 3].head(10)"
   ]
  },
  {
   "cell_type": "markdown",
   "metadata": {},
   "source": [
    "This is a cluster of duplicate ads from the same poster. This person is likely looking for a casual hook-up as no explicit reference to money and sexual favors was made."
   ]
  },
  {
   "cell_type": "code",
   "execution_count": 42,
   "metadata": {},
   "outputs": [
    {
     "data": {
      "text/html": [
       "<div>\n",
       "<style scoped>\n",
       "    .dataframe tbody tr th:only-of-type {\n",
       "        vertical-align: middle;\n",
       "    }\n",
       "\n",
       "    .dataframe tbody tr th {\n",
       "        vertical-align: top;\n",
       "    }\n",
       "\n",
       "    .dataframe thead th {\n",
       "        text-align: right;\n",
       "    }\n",
       "</style>\n",
       "<table border=\"1\" class=\"dataframe\">\n",
       "  <thead>\n",
       "    <tr style=\"text-align: right;\">\n",
       "      <th></th>\n",
       "      <th>Links</th>\n",
       "      <th>Labels</th>\n",
       "    </tr>\n",
       "  </thead>\n",
       "  <tbody>\n",
       "    <tr>\n",
       "      <th>36</th>\n",
       "      <td>https://saltlakecity.bedpage.com/WomenSeekMen/taylorsville/6758656.html</td>\n",
       "      <td>4</td>\n",
       "    </tr>\n",
       "    <tr>\n",
       "      <th>84</th>\n",
       "      <td>https://saltlakecity.bedpage.com/WomenSeekMen/taylorsville/7119160.html</td>\n",
       "      <td>4</td>\n",
       "    </tr>\n",
       "    <tr>\n",
       "      <th>91</th>\n",
       "      <td>https://saltlakecity.bedpage.com/WomenSeekMen/taylorsville/7805336.html</td>\n",
       "      <td>4</td>\n",
       "    </tr>\n",
       "    <tr>\n",
       "      <th>97</th>\n",
       "      <td>https://saltlakecity.bedpage.com/WomenSeekMen/taylorsville/6758666.html</td>\n",
       "      <td>4</td>\n",
       "    </tr>\n",
       "    <tr>\n",
       "      <th>284</th>\n",
       "      <td>https://saltlakecity.bedpage.com/WomenSeekMen/taylorsville/7191725.html</td>\n",
       "      <td>4</td>\n",
       "    </tr>\n",
       "    <tr>\n",
       "      <th>300</th>\n",
       "      <td>https://saltlakecity.bedpage.com/WomenSeekMen/taylorsville/6764022.html</td>\n",
       "      <td>4</td>\n",
       "    </tr>\n",
       "    <tr>\n",
       "      <th>339</th>\n",
       "      <td>https://saltlakecity.bedpage.com/WomenSeekMen/taylorsville/6798577.html</td>\n",
       "      <td>4</td>\n",
       "    </tr>\n",
       "    <tr>\n",
       "      <th>387</th>\n",
       "      <td>https://saltlakecity.bedpage.com/WomenSeekMen/taylorsville/6767686.html</td>\n",
       "      <td>4</td>\n",
       "    </tr>\n",
       "    <tr>\n",
       "      <th>400</th>\n",
       "      <td>https://saltlakecity.bedpage.com/WomenSeekMen/taylorsville/7190694.html</td>\n",
       "      <td>4</td>\n",
       "    </tr>\n",
       "    <tr>\n",
       "      <th>409</th>\n",
       "      <td>https://saltlakecity.bedpage.com/WomenSeekMen/taylorsville/6763241.html</td>\n",
       "      <td>4</td>\n",
       "    </tr>\n",
       "  </tbody>\n",
       "</table>\n",
       "</div>"
      ],
      "text/plain": [
       "                                                                       Links  \\\n",
       "36   https://saltlakecity.bedpage.com/WomenSeekMen/taylorsville/6758656.html   \n",
       "84   https://saltlakecity.bedpage.com/WomenSeekMen/taylorsville/7119160.html   \n",
       "91   https://saltlakecity.bedpage.com/WomenSeekMen/taylorsville/7805336.html   \n",
       "97   https://saltlakecity.bedpage.com/WomenSeekMen/taylorsville/6758666.html   \n",
       "284  https://saltlakecity.bedpage.com/WomenSeekMen/taylorsville/7191725.html   \n",
       "300  https://saltlakecity.bedpage.com/WomenSeekMen/taylorsville/6764022.html   \n",
       "339  https://saltlakecity.bedpage.com/WomenSeekMen/taylorsville/6798577.html   \n",
       "387  https://saltlakecity.bedpage.com/WomenSeekMen/taylorsville/6767686.html   \n",
       "400  https://saltlakecity.bedpage.com/WomenSeekMen/taylorsville/7190694.html   \n",
       "409  https://saltlakecity.bedpage.com/WomenSeekMen/taylorsville/6763241.html   \n",
       "\n",
       "     Labels  \n",
       "36   4       \n",
       "84   4       \n",
       "91   4       \n",
       "97   4       \n",
       "284  4       \n",
       "300  4       \n",
       "339  4       \n",
       "387  4       \n",
       "400  4       \n",
       "409  4       "
      ]
     },
     "execution_count": 42,
     "metadata": {},
     "output_type": "execute_result"
    }
   ],
   "source": [
    "links_labels_table[links_labels_table['Labels'] == 4].head(10)"
   ]
  },
  {
   "cell_type": "markdown",
   "metadata": {},
   "source": [
    "This is a cluster of duplicate ads from the same poster, but they all advertise the grand opening of an Asian Massage service in Salt Lake. No explicit reference is made to money or sexual favors, but all ads feature photos of scantily clad Asian women."
   ]
  },
  {
   "cell_type": "code",
   "execution_count": 43,
   "metadata": {},
   "outputs": [
    {
     "data": {
      "text/html": [
       "<div>\n",
       "<style scoped>\n",
       "    .dataframe tbody tr th:only-of-type {\n",
       "        vertical-align: middle;\n",
       "    }\n",
       "\n",
       "    .dataframe tbody tr th {\n",
       "        vertical-align: top;\n",
       "    }\n",
       "\n",
       "    .dataframe thead th {\n",
       "        text-align: right;\n",
       "    }\n",
       "</style>\n",
       "<table border=\"1\" class=\"dataframe\">\n",
       "  <thead>\n",
       "    <tr style=\"text-align: right;\">\n",
       "      <th></th>\n",
       "      <th>Links</th>\n",
       "      <th>Labels</th>\n",
       "    </tr>\n",
       "  </thead>\n",
       "  <tbody>\n",
       "    <tr>\n",
       "      <th>10</th>\n",
       "      <td>https://saltlakecity.bedpage.com/WomenSeekMen/usa/7193841.html</td>\n",
       "      <td>5</td>\n",
       "    </tr>\n",
       "    <tr>\n",
       "      <th>13</th>\n",
       "      <td>https://saltlakecity.bedpage.com/WomenSeekMen/usa/6639184.html</td>\n",
       "      <td>5</td>\n",
       "    </tr>\n",
       "    <tr>\n",
       "      <th>15</th>\n",
       "      <td>https://saltlakecity.bedpage.com/WomenSeekMen/usa/6618072.html</td>\n",
       "      <td>5</td>\n",
       "    </tr>\n",
       "    <tr>\n",
       "      <th>16</th>\n",
       "      <td>https://saltlakecity.bedpage.com/WomenSeekMen/usa/6590221.html</td>\n",
       "      <td>5</td>\n",
       "    </tr>\n",
       "    <tr>\n",
       "      <th>25</th>\n",
       "      <td>https://saltlakecity.bedpage.com/WomenSeekMen/usa/6689605.html</td>\n",
       "      <td>5</td>\n",
       "    </tr>\n",
       "    <tr>\n",
       "      <th>27</th>\n",
       "      <td>https://saltlakecity.bedpage.com/WomenSeekMen/usa/6732436.html</td>\n",
       "      <td>5</td>\n",
       "    </tr>\n",
       "    <tr>\n",
       "      <th>32</th>\n",
       "      <td>https://saltlakecity.bedpage.com/WomenSeekMen/usa/7148457.html</td>\n",
       "      <td>5</td>\n",
       "    </tr>\n",
       "    <tr>\n",
       "      <th>38</th>\n",
       "      <td>https://saltlakecity.bedpage.com/WomenSeekMen/usa/6605164.html</td>\n",
       "      <td>5</td>\n",
       "    </tr>\n",
       "    <tr>\n",
       "      <th>40</th>\n",
       "      <td>https://saltlakecity.bedpage.com/WomenSeekMen/usa/7792046.html</td>\n",
       "      <td>5</td>\n",
       "    </tr>\n",
       "    <tr>\n",
       "      <th>42</th>\n",
       "      <td>https://saltlakecity.bedpage.com/WomenSeekMen/usa/6652918.html</td>\n",
       "      <td>5</td>\n",
       "    </tr>\n",
       "  </tbody>\n",
       "</table>\n",
       "</div>"
      ],
      "text/plain": [
       "                                                             Links  Labels\n",
       "10  https://saltlakecity.bedpage.com/WomenSeekMen/usa/7193841.html  5     \n",
       "13  https://saltlakecity.bedpage.com/WomenSeekMen/usa/6639184.html  5     \n",
       "15  https://saltlakecity.bedpage.com/WomenSeekMen/usa/6618072.html  5     \n",
       "16  https://saltlakecity.bedpage.com/WomenSeekMen/usa/6590221.html  5     \n",
       "25  https://saltlakecity.bedpage.com/WomenSeekMen/usa/6689605.html  5     \n",
       "27  https://saltlakecity.bedpage.com/WomenSeekMen/usa/6732436.html  5     \n",
       "32  https://saltlakecity.bedpage.com/WomenSeekMen/usa/7148457.html  5     \n",
       "38  https://saltlakecity.bedpage.com/WomenSeekMen/usa/6605164.html  5     \n",
       "40  https://saltlakecity.bedpage.com/WomenSeekMen/usa/7792046.html  5     \n",
       "42  https://saltlakecity.bedpage.com/WomenSeekMen/usa/6652918.html  5     "
      ]
     },
     "execution_count": 43,
     "metadata": {},
     "output_type": "execute_result"
    }
   ],
   "source": [
    "links_labels_table[links_labels_table['Labels'] == 5].head(10)"
   ]
  },
  {
   "cell_type": "markdown",
   "metadata": {},
   "source": [
    "This is a cluster of duplicate ads from the same poster. This person is likely looking for a casual hook-up as no explicit reference to money and sexual favors was made."
   ]
  },
  {
   "cell_type": "code",
   "execution_count": 44,
   "metadata": {},
   "outputs": [
    {
     "data": {
      "text/html": [
       "<div>\n",
       "<style scoped>\n",
       "    .dataframe tbody tr th:only-of-type {\n",
       "        vertical-align: middle;\n",
       "    }\n",
       "\n",
       "    .dataframe tbody tr th {\n",
       "        vertical-align: top;\n",
       "    }\n",
       "\n",
       "    .dataframe thead th {\n",
       "        text-align: right;\n",
       "    }\n",
       "</style>\n",
       "<table border=\"1\" class=\"dataframe\">\n",
       "  <thead>\n",
       "    <tr style=\"text-align: right;\">\n",
       "      <th></th>\n",
       "      <th>Links</th>\n",
       "      <th>Labels</th>\n",
       "    </tr>\n",
       "  </thead>\n",
       "  <tbody>\n",
       "    <tr>\n",
       "      <th>79</th>\n",
       "      <td>https://saltlakecity.bedpage.com/WomenSeekMen/usa/7246001.html</td>\n",
       "      <td>6</td>\n",
       "    </tr>\n",
       "    <tr>\n",
       "      <th>105</th>\n",
       "      <td>https://saltlakecity.bedpage.com/WomenSeekMen/usa/7191750.html</td>\n",
       "      <td>6</td>\n",
       "    </tr>\n",
       "    <tr>\n",
       "      <th>151</th>\n",
       "      <td>https://saltlakecity.bedpage.com/WomenSeekMen/usa/7195904.html</td>\n",
       "      <td>6</td>\n",
       "    </tr>\n",
       "    <tr>\n",
       "      <th>189</th>\n",
       "      <td>https://saltlakecity.bedpage.com/WomenSeekMen/usa/6767759.html</td>\n",
       "      <td>6</td>\n",
       "    </tr>\n",
       "    <tr>\n",
       "      <th>275</th>\n",
       "      <td>https://saltlakecity.bedpage.com/WomenSeekMen/usa/7148519.html</td>\n",
       "      <td>6</td>\n",
       "    </tr>\n",
       "    <tr>\n",
       "      <th>306</th>\n",
       "      <td>https://saltlakecity.bedpage.com/WomenSeekMen/usa/6863392.html</td>\n",
       "      <td>6</td>\n",
       "    </tr>\n",
       "    <tr>\n",
       "      <th>332</th>\n",
       "      <td>https://saltlakecity.bedpage.com/WomenSeekMen/usa/7792661.html</td>\n",
       "      <td>6</td>\n",
       "    </tr>\n",
       "    <tr>\n",
       "      <th>412</th>\n",
       "      <td>https://saltlakecity.bedpage.com/WomenSeekMen/usa/7194406.html</td>\n",
       "      <td>6</td>\n",
       "    </tr>\n",
       "    <tr>\n",
       "      <th>432</th>\n",
       "      <td>https://saltlakecity.bedpage.com/WomenSeekMen/usa/6764503.html</td>\n",
       "      <td>6</td>\n",
       "    </tr>\n",
       "    <tr>\n",
       "      <th>590</th>\n",
       "      <td>https://saltlakecity.bedpage.com/WomenSeekMen/usa/6769832.html</td>\n",
       "      <td>6</td>\n",
       "    </tr>\n",
       "  </tbody>\n",
       "</table>\n",
       "</div>"
      ],
      "text/plain": [
       "                                                              Links  Labels\n",
       "79   https://saltlakecity.bedpage.com/WomenSeekMen/usa/7246001.html  6     \n",
       "105  https://saltlakecity.bedpage.com/WomenSeekMen/usa/7191750.html  6     \n",
       "151  https://saltlakecity.bedpage.com/WomenSeekMen/usa/7195904.html  6     \n",
       "189  https://saltlakecity.bedpage.com/WomenSeekMen/usa/6767759.html  6     \n",
       "275  https://saltlakecity.bedpage.com/WomenSeekMen/usa/7148519.html  6     \n",
       "306  https://saltlakecity.bedpage.com/WomenSeekMen/usa/6863392.html  6     \n",
       "332  https://saltlakecity.bedpage.com/WomenSeekMen/usa/7792661.html  6     \n",
       "412  https://saltlakecity.bedpage.com/WomenSeekMen/usa/7194406.html  6     \n",
       "432  https://saltlakecity.bedpage.com/WomenSeekMen/usa/6764503.html  6     \n",
       "590  https://saltlakecity.bedpage.com/WomenSeekMen/usa/6769832.html  6     "
      ]
     },
     "execution_count": 44,
     "metadata": {},
     "output_type": "execute_result"
    }
   ],
   "source": [
    "links_labels_table[links_labels_table['Labels'] == 6].head(10)"
   ]
  },
  {
   "cell_type": "markdown",
   "metadata": {},
   "source": [
    "This is a cluster of duplicate ads from the same poster. It is unclear whether this person is a prostitute or seeking a casual hook-up as these ads repeat the words \"service\" or \"services\" but do not show prices or reference to money."
   ]
  },
  {
   "cell_type": "code",
   "execution_count": 45,
   "metadata": {},
   "outputs": [
    {
     "data": {
      "text/html": [
       "<div>\n",
       "<style scoped>\n",
       "    .dataframe tbody tr th:only-of-type {\n",
       "        vertical-align: middle;\n",
       "    }\n",
       "\n",
       "    .dataframe tbody tr th {\n",
       "        vertical-align: top;\n",
       "    }\n",
       "\n",
       "    .dataframe thead th {\n",
       "        text-align: right;\n",
       "    }\n",
       "</style>\n",
       "<table border=\"1\" class=\"dataframe\">\n",
       "  <thead>\n",
       "    <tr style=\"text-align: right;\">\n",
       "      <th></th>\n",
       "      <th>Links</th>\n",
       "      <th>Labels</th>\n",
       "    </tr>\n",
       "  </thead>\n",
       "  <tbody>\n",
       "    <tr>\n",
       "      <th>31</th>\n",
       "      <td>https://saltlakecity.bedpage.com/WomenSeekMen/united-states/6651383.html</td>\n",
       "      <td>7</td>\n",
       "    </tr>\n",
       "    <tr>\n",
       "      <th>41</th>\n",
       "      <td>https://saltlakecity.bedpage.com/WomenSeekMen/united-states/7194408.html</td>\n",
       "      <td>7</td>\n",
       "    </tr>\n",
       "    <tr>\n",
       "      <th>55</th>\n",
       "      <td>https://saltlakecity.bedpage.com/WomenSeekMen/united-states/7198198.html</td>\n",
       "      <td>7</td>\n",
       "    </tr>\n",
       "    <tr>\n",
       "      <th>58</th>\n",
       "      <td>https://saltlakecity.bedpage.com/WomenSeekMen/united-states/6709853.html</td>\n",
       "      <td>7</td>\n",
       "    </tr>\n",
       "    <tr>\n",
       "      <th>74</th>\n",
       "      <td>https://saltlakecity.bedpage.com/WomenSeekMen/united-states/6724587.html</td>\n",
       "      <td>7</td>\n",
       "    </tr>\n",
       "    <tr>\n",
       "      <th>98</th>\n",
       "      <td>https://saltlakecity.bedpage.com/WomenSeekMen/united-states/6709855.html</td>\n",
       "      <td>7</td>\n",
       "    </tr>\n",
       "    <tr>\n",
       "      <th>104</th>\n",
       "      <td>https://saltlakecity.bedpage.com/WomenSeekMen/united-states/6707492.html</td>\n",
       "      <td>7</td>\n",
       "    </tr>\n",
       "    <tr>\n",
       "      <th>117</th>\n",
       "      <td>https://saltlakecity.bedpage.com/WomenSeekMen/united-states/7196327.html</td>\n",
       "      <td>7</td>\n",
       "    </tr>\n",
       "    <tr>\n",
       "      <th>124</th>\n",
       "      <td>https://saltlakecity.bedpage.com/WomenSeekMen/united-states/7192519.html</td>\n",
       "      <td>7</td>\n",
       "    </tr>\n",
       "    <tr>\n",
       "      <th>130</th>\n",
       "      <td>https://saltlakecity.bedpage.com/WomenSeekMen/united-states/6709854.html</td>\n",
       "      <td>7</td>\n",
       "    </tr>\n",
       "  </tbody>\n",
       "</table>\n",
       "</div>"
      ],
      "text/plain": [
       "                                                                        Links  \\\n",
       "31   https://saltlakecity.bedpage.com/WomenSeekMen/united-states/6651383.html   \n",
       "41   https://saltlakecity.bedpage.com/WomenSeekMen/united-states/7194408.html   \n",
       "55   https://saltlakecity.bedpage.com/WomenSeekMen/united-states/7198198.html   \n",
       "58   https://saltlakecity.bedpage.com/WomenSeekMen/united-states/6709853.html   \n",
       "74   https://saltlakecity.bedpage.com/WomenSeekMen/united-states/6724587.html   \n",
       "98   https://saltlakecity.bedpage.com/WomenSeekMen/united-states/6709855.html   \n",
       "104  https://saltlakecity.bedpage.com/WomenSeekMen/united-states/6707492.html   \n",
       "117  https://saltlakecity.bedpage.com/WomenSeekMen/united-states/7196327.html   \n",
       "124  https://saltlakecity.bedpage.com/WomenSeekMen/united-states/7192519.html   \n",
       "130  https://saltlakecity.bedpage.com/WomenSeekMen/united-states/6709854.html   \n",
       "\n",
       "     Labels  \n",
       "31   7       \n",
       "41   7       \n",
       "55   7       \n",
       "58   7       \n",
       "74   7       \n",
       "98   7       \n",
       "104  7       \n",
       "117  7       \n",
       "124  7       \n",
       "130  7       "
      ]
     },
     "execution_count": 45,
     "metadata": {},
     "output_type": "execute_result"
    }
   ],
   "source": [
    "links_labels_table[links_labels_table['Labels'] == 7].head(10)"
   ]
  },
  {
   "cell_type": "markdown",
   "metadata": {},
   "source": [
    "These are mostly ads to other websites or escort services. For most of them, no phone number or email address is provided but a forwarding url that leads to the new service is."
   ]
  },
  {
   "cell_type": "code",
   "execution_count": 46,
   "metadata": {},
   "outputs": [
    {
     "data": {
      "text/html": [
       "<div>\n",
       "<style scoped>\n",
       "    .dataframe tbody tr th:only-of-type {\n",
       "        vertical-align: middle;\n",
       "    }\n",
       "\n",
       "    .dataframe tbody tr th {\n",
       "        vertical-align: top;\n",
       "    }\n",
       "\n",
       "    .dataframe thead th {\n",
       "        text-align: right;\n",
       "    }\n",
       "</style>\n",
       "<table border=\"1\" class=\"dataframe\">\n",
       "  <thead>\n",
       "    <tr style=\"text-align: right;\">\n",
       "      <th></th>\n",
       "      <th>Links</th>\n",
       "      <th>Labels</th>\n",
       "    </tr>\n",
       "  </thead>\n",
       "  <tbody>\n",
       "    <tr>\n",
       "      <th>1</th>\n",
       "      <td>https://saltlakecity.bedpage.com/WomenSeekMen/usa/6720224.html</td>\n",
       "      <td>8</td>\n",
       "    </tr>\n",
       "    <tr>\n",
       "      <th>17</th>\n",
       "      <td>https://saltlakecity.bedpage.com/WomenSeekMen/usa/6711536.html</td>\n",
       "      <td>8</td>\n",
       "    </tr>\n",
       "    <tr>\n",
       "      <th>18</th>\n",
       "      <td>https://saltlakecity.bedpage.com/WomenSeekMen/usa/6730153.html</td>\n",
       "      <td>8</td>\n",
       "    </tr>\n",
       "    <tr>\n",
       "      <th>20</th>\n",
       "      <td>https://saltlakecity.bedpage.com/WomenSeekMen/usa/6660851.html</td>\n",
       "      <td>8</td>\n",
       "    </tr>\n",
       "    <tr>\n",
       "      <th>21</th>\n",
       "      <td>https://saltlakecity.bedpage.com/WomenSeekMen/usa/6732820.html</td>\n",
       "      <td>8</td>\n",
       "    </tr>\n",
       "    <tr>\n",
       "      <th>24</th>\n",
       "      <td>https://saltlakecity.bedpage.com/WomenSeekMen/usa/7119400.html</td>\n",
       "      <td>8</td>\n",
       "    </tr>\n",
       "    <tr>\n",
       "      <th>37</th>\n",
       "      <td>https://saltlakecity.bedpage.com/WomenSeekMen/usa/6732437.html</td>\n",
       "      <td>8</td>\n",
       "    </tr>\n",
       "    <tr>\n",
       "      <th>43</th>\n",
       "      <td>https://saltlakecity.bedpage.com/WomenSeekMen/usa/6717657.html</td>\n",
       "      <td>8</td>\n",
       "    </tr>\n",
       "    <tr>\n",
       "      <th>44</th>\n",
       "      <td>https://saltlakecity.bedpage.com/WomenSeekMen/usa/6762758.html</td>\n",
       "      <td>8</td>\n",
       "    </tr>\n",
       "    <tr>\n",
       "      <th>60</th>\n",
       "      <td>https://saltlakecity.bedpage.com/WomenSeekMen/usa/6715499.html</td>\n",
       "      <td>8</td>\n",
       "    </tr>\n",
       "  </tbody>\n",
       "</table>\n",
       "</div>"
      ],
      "text/plain": [
       "                                                             Links  Labels\n",
       "1   https://saltlakecity.bedpage.com/WomenSeekMen/usa/6720224.html  8     \n",
       "17  https://saltlakecity.bedpage.com/WomenSeekMen/usa/6711536.html  8     \n",
       "18  https://saltlakecity.bedpage.com/WomenSeekMen/usa/6730153.html  8     \n",
       "20  https://saltlakecity.bedpage.com/WomenSeekMen/usa/6660851.html  8     \n",
       "21  https://saltlakecity.bedpage.com/WomenSeekMen/usa/6732820.html  8     \n",
       "24  https://saltlakecity.bedpage.com/WomenSeekMen/usa/7119400.html  8     \n",
       "37  https://saltlakecity.bedpage.com/WomenSeekMen/usa/6732437.html  8     \n",
       "43  https://saltlakecity.bedpage.com/WomenSeekMen/usa/6717657.html  8     \n",
       "44  https://saltlakecity.bedpage.com/WomenSeekMen/usa/6762758.html  8     \n",
       "60  https://saltlakecity.bedpage.com/WomenSeekMen/usa/6715499.html  8     "
      ]
     },
     "execution_count": 46,
     "metadata": {},
     "output_type": "execute_result"
    }
   ],
   "source": [
    "links_labels_table[links_labels_table['Labels'] == 8].head(10)"
   ]
  },
  {
   "cell_type": "markdown",
   "metadata": {},
   "source": [
    "This is a cluster of duplicate ads from the same poster. This person is likely a prostitute given her use of slang referring to sexual services as well as her referencing the need to \"pre-book\" a meeting."
   ]
  },
  {
   "cell_type": "code",
   "execution_count": 47,
   "metadata": {},
   "outputs": [
    {
     "data": {
      "text/html": [
       "<div>\n",
       "<style scoped>\n",
       "    .dataframe tbody tr th:only-of-type {\n",
       "        vertical-align: middle;\n",
       "    }\n",
       "\n",
       "    .dataframe tbody tr th {\n",
       "        vertical-align: top;\n",
       "    }\n",
       "\n",
       "    .dataframe thead th {\n",
       "        text-align: right;\n",
       "    }\n",
       "</style>\n",
       "<table border=\"1\" class=\"dataframe\">\n",
       "  <thead>\n",
       "    <tr style=\"text-align: right;\">\n",
       "      <th></th>\n",
       "      <th>Links</th>\n",
       "      <th>Labels</th>\n",
       "    </tr>\n",
       "  </thead>\n",
       "  <tbody>\n",
       "    <tr>\n",
       "      <th>28</th>\n",
       "      <td>https://saltlakecity.bedpage.com/WomenSeekMen/usa/6705428.html</td>\n",
       "      <td>9</td>\n",
       "    </tr>\n",
       "    <tr>\n",
       "      <th>134</th>\n",
       "      <td>https://saltlakecity.bedpage.com/WomenSeekMen/usa/6718247.html</td>\n",
       "      <td>9</td>\n",
       "    </tr>\n",
       "    <tr>\n",
       "      <th>155</th>\n",
       "      <td>https://saltlakecity.bedpage.com/WomenSeekMen/usa/7805960.html</td>\n",
       "      <td>9</td>\n",
       "    </tr>\n",
       "    <tr>\n",
       "      <th>245</th>\n",
       "      <td>https://saltlakecity.bedpage.com/WomenSeekMen/usa/7246214.html</td>\n",
       "      <td>9</td>\n",
       "    </tr>\n",
       "    <tr>\n",
       "      <th>308</th>\n",
       "      <td>https://saltlakecity.bedpage.com/WomenSeekMen/usa/6728718.html</td>\n",
       "      <td>9</td>\n",
       "    </tr>\n",
       "    <tr>\n",
       "      <th>320</th>\n",
       "      <td>https://saltlakecity.bedpage.com/WomenSeekMen/usa/6716474.html</td>\n",
       "      <td>9</td>\n",
       "    </tr>\n",
       "    <tr>\n",
       "      <th>427</th>\n",
       "      <td>https://saltlakecity.bedpage.com/WomenSeekMen/usa/7198337.html</td>\n",
       "      <td>9</td>\n",
       "    </tr>\n",
       "    <tr>\n",
       "      <th>471</th>\n",
       "      <td>https://saltlakecity.bedpage.com/WomenSeekMen/usa/6767834.html</td>\n",
       "      <td>9</td>\n",
       "    </tr>\n",
       "    <tr>\n",
       "      <th>602</th>\n",
       "      <td>https://saltlakecity.bedpage.com/WomenSeekMen/usa/6714225.html</td>\n",
       "      <td>9</td>\n",
       "    </tr>\n",
       "    <tr>\n",
       "      <th>611</th>\n",
       "      <td>https://saltlakecity.bedpage.com/WomenSeekMen/usa/7792882.html</td>\n",
       "      <td>9</td>\n",
       "    </tr>\n",
       "  </tbody>\n",
       "</table>\n",
       "</div>"
      ],
      "text/plain": [
       "                                                              Links  Labels\n",
       "28   https://saltlakecity.bedpage.com/WomenSeekMen/usa/6705428.html  9     \n",
       "134  https://saltlakecity.bedpage.com/WomenSeekMen/usa/6718247.html  9     \n",
       "155  https://saltlakecity.bedpage.com/WomenSeekMen/usa/7805960.html  9     \n",
       "245  https://saltlakecity.bedpage.com/WomenSeekMen/usa/7246214.html  9     \n",
       "308  https://saltlakecity.bedpage.com/WomenSeekMen/usa/6728718.html  9     \n",
       "320  https://saltlakecity.bedpage.com/WomenSeekMen/usa/6716474.html  9     \n",
       "427  https://saltlakecity.bedpage.com/WomenSeekMen/usa/7198337.html  9     \n",
       "471  https://saltlakecity.bedpage.com/WomenSeekMen/usa/6767834.html  9     \n",
       "602  https://saltlakecity.bedpage.com/WomenSeekMen/usa/6714225.html  9     \n",
       "611  https://saltlakecity.bedpage.com/WomenSeekMen/usa/7792882.html  9     "
      ]
     },
     "execution_count": 47,
     "metadata": {},
     "output_type": "execute_result"
    }
   ],
   "source": [
    "links_labels_table[links_labels_table['Labels'] == 9].head(10)"
   ]
  },
  {
   "cell_type": "markdown",
   "metadata": {},
   "source": [
    "This is a cluster of duplicate ads from a separate dating site."
   ]
  },
  {
   "cell_type": "code",
   "execution_count": 48,
   "metadata": {},
   "outputs": [
    {
     "data": {
      "text/html": [
       "<div>\n",
       "<style scoped>\n",
       "    .dataframe tbody tr th:only-of-type {\n",
       "        vertical-align: middle;\n",
       "    }\n",
       "\n",
       "    .dataframe tbody tr th {\n",
       "        vertical-align: top;\n",
       "    }\n",
       "\n",
       "    .dataframe thead th {\n",
       "        text-align: right;\n",
       "    }\n",
       "</style>\n",
       "<table border=\"1\" class=\"dataframe\">\n",
       "  <thead>\n",
       "    <tr style=\"text-align: right;\">\n",
       "      <th></th>\n",
       "      <th>Links</th>\n",
       "      <th>Labels</th>\n",
       "    </tr>\n",
       "  </thead>\n",
       "  <tbody>\n",
       "    <tr>\n",
       "      <th>2</th>\n",
       "      <td>https://saltlakecity.bedpage.com/WomenSeekMen/usa/6863223.html</td>\n",
       "      <td>10</td>\n",
       "    </tr>\n",
       "    <tr>\n",
       "      <th>4</th>\n",
       "      <td>https://saltlakecity.bedpage.com/WomenSeekMen/usa/6676132.html</td>\n",
       "      <td>10</td>\n",
       "    </tr>\n",
       "    <tr>\n",
       "      <th>30</th>\n",
       "      <td>https://saltlakecity.bedpage.com/WomenSeekMen/usa/6725948.html</td>\n",
       "      <td>10</td>\n",
       "    </tr>\n",
       "    <tr>\n",
       "      <th>33</th>\n",
       "      <td>https://saltlakecity.bedpage.com/WomenSeekMen/usa/6764985.html</td>\n",
       "      <td>10</td>\n",
       "    </tr>\n",
       "    <tr>\n",
       "      <th>35</th>\n",
       "      <td>https://saltlakecity.bedpage.com/WomenSeekMen/usa/6680492.html</td>\n",
       "      <td>10</td>\n",
       "    </tr>\n",
       "    <tr>\n",
       "      <th>47</th>\n",
       "      <td>https://saltlakecity.bedpage.com/WomenSeekMen/usa/6769671.html</td>\n",
       "      <td>10</td>\n",
       "    </tr>\n",
       "    <tr>\n",
       "      <th>119</th>\n",
       "      <td>https://saltlakecity.bedpage.com/WomenSeekMen/usa/6721740.html</td>\n",
       "      <td>10</td>\n",
       "    </tr>\n",
       "    <tr>\n",
       "      <th>158</th>\n",
       "      <td>https://saltlakecity.bedpage.com/WomenSeekMen/usa/6727824.html</td>\n",
       "      <td>10</td>\n",
       "    </tr>\n",
       "    <tr>\n",
       "      <th>161</th>\n",
       "      <td>https://saltlakecity.bedpage.com/WomenSeekMen/usa/6700826.html</td>\n",
       "      <td>10</td>\n",
       "    </tr>\n",
       "    <tr>\n",
       "      <th>169</th>\n",
       "      <td>https://saltlakecity.bedpage.com/WomenSeekMen/usa/7194283.html</td>\n",
       "      <td>10</td>\n",
       "    </tr>\n",
       "  </tbody>\n",
       "</table>\n",
       "</div>"
      ],
      "text/plain": [
       "                                                              Links  Labels\n",
       "2    https://saltlakecity.bedpage.com/WomenSeekMen/usa/6863223.html  10    \n",
       "4    https://saltlakecity.bedpage.com/WomenSeekMen/usa/6676132.html  10    \n",
       "30   https://saltlakecity.bedpage.com/WomenSeekMen/usa/6725948.html  10    \n",
       "33   https://saltlakecity.bedpage.com/WomenSeekMen/usa/6764985.html  10    \n",
       "35   https://saltlakecity.bedpage.com/WomenSeekMen/usa/6680492.html  10    \n",
       "47   https://saltlakecity.bedpage.com/WomenSeekMen/usa/6769671.html  10    \n",
       "119  https://saltlakecity.bedpage.com/WomenSeekMen/usa/6721740.html  10    \n",
       "158  https://saltlakecity.bedpage.com/WomenSeekMen/usa/6727824.html  10    \n",
       "161  https://saltlakecity.bedpage.com/WomenSeekMen/usa/6700826.html  10    \n",
       "169  https://saltlakecity.bedpage.com/WomenSeekMen/usa/7194283.html  10    "
      ]
     },
     "execution_count": 48,
     "metadata": {},
     "output_type": "execute_result"
    }
   ],
   "source": [
    "links_labels_table[links_labels_table['Labels'] == 10].head(10)"
   ]
  },
  {
   "cell_type": "markdown",
   "metadata": {},
   "source": [
    "This is a cluster of duplicate ads from the same poster. This person is likely seeking a casual hook-up as she explicitly stated she does *not* need/want money."
   ]
  },
  {
   "cell_type": "code",
   "execution_count": 49,
   "metadata": {},
   "outputs": [
    {
     "data": {
      "text/html": [
       "<div>\n",
       "<style scoped>\n",
       "    .dataframe tbody tr th:only-of-type {\n",
       "        vertical-align: middle;\n",
       "    }\n",
       "\n",
       "    .dataframe tbody tr th {\n",
       "        vertical-align: top;\n",
       "    }\n",
       "\n",
       "    .dataframe thead th {\n",
       "        text-align: right;\n",
       "    }\n",
       "</style>\n",
       "<table border=\"1\" class=\"dataframe\">\n",
       "  <thead>\n",
       "    <tr style=\"text-align: right;\">\n",
       "      <th></th>\n",
       "      <th>Links</th>\n",
       "      <th>Labels</th>\n",
       "    </tr>\n",
       "  </thead>\n",
       "  <tbody>\n",
       "    <tr>\n",
       "      <th>103</th>\n",
       "      <td>https://saltlakecity.bedpage.com/WomenSeekMen/united-states/6719673.html</td>\n",
       "      <td>11</td>\n",
       "    </tr>\n",
       "    <tr>\n",
       "      <th>198</th>\n",
       "      <td>https://saltlakecity.bedpage.com/WomenSeekMen/united-states/6722339.html</td>\n",
       "      <td>11</td>\n",
       "    </tr>\n",
       "    <tr>\n",
       "      <th>382</th>\n",
       "      <td>https://saltlakecity.bedpage.com/WomenSeekMen/united-states/6734552.html</td>\n",
       "      <td>11</td>\n",
       "    </tr>\n",
       "    <tr>\n",
       "      <th>391</th>\n",
       "      <td>https://saltlakecity.bedpage.com/WomenSeekMen/united-states/6708621.html</td>\n",
       "      <td>11</td>\n",
       "    </tr>\n",
       "    <tr>\n",
       "      <th>446</th>\n",
       "      <td>https://saltlakecity.bedpage.com/WomenSeekMen/united-states/6735163.html</td>\n",
       "      <td>11</td>\n",
       "    </tr>\n",
       "    <tr>\n",
       "      <th>478</th>\n",
       "      <td>https://saltlakecity.bedpage.com/WomenSeekMen/united-states/6759353.html</td>\n",
       "      <td>11</td>\n",
       "    </tr>\n",
       "    <tr>\n",
       "      <th>479</th>\n",
       "      <td>https://saltlakecity.bedpage.com/WomenSeekMen/united-states/6708622.html</td>\n",
       "      <td>11</td>\n",
       "    </tr>\n",
       "    <tr>\n",
       "      <th>525</th>\n",
       "      <td>https://saltlakecity.bedpage.com/WomenSeekMen/united-states/6722345.html</td>\n",
       "      <td>11</td>\n",
       "    </tr>\n",
       "    <tr>\n",
       "      <th>532</th>\n",
       "      <td>https://saltlakecity.bedpage.com/WomenSeekMen/united-states/6720261.html</td>\n",
       "      <td>11</td>\n",
       "    </tr>\n",
       "  </tbody>\n",
       "</table>\n",
       "</div>"
      ],
      "text/plain": [
       "                                                                        Links  \\\n",
       "103  https://saltlakecity.bedpage.com/WomenSeekMen/united-states/6719673.html   \n",
       "198  https://saltlakecity.bedpage.com/WomenSeekMen/united-states/6722339.html   \n",
       "382  https://saltlakecity.bedpage.com/WomenSeekMen/united-states/6734552.html   \n",
       "391  https://saltlakecity.bedpage.com/WomenSeekMen/united-states/6708621.html   \n",
       "446  https://saltlakecity.bedpage.com/WomenSeekMen/united-states/6735163.html   \n",
       "478  https://saltlakecity.bedpage.com/WomenSeekMen/united-states/6759353.html   \n",
       "479  https://saltlakecity.bedpage.com/WomenSeekMen/united-states/6708622.html   \n",
       "525  https://saltlakecity.bedpage.com/WomenSeekMen/united-states/6722345.html   \n",
       "532  https://saltlakecity.bedpage.com/WomenSeekMen/united-states/6720261.html   \n",
       "\n",
       "     Labels  \n",
       "103  11      \n",
       "198  11      \n",
       "382  11      \n",
       "391  11      \n",
       "446  11      \n",
       "478  11      \n",
       "479  11      \n",
       "525  11      \n",
       "532  11      "
      ]
     },
     "execution_count": 49,
     "metadata": {},
     "output_type": "execute_result"
    }
   ],
   "source": [
    "links_labels_table[links_labels_table['Labels'] == 11].head(10)"
   ]
  },
  {
   "cell_type": "markdown",
   "metadata": {},
   "source": [
    "This is a cluster of duplicate ads from a separate dating site."
   ]
  },
  {
   "cell_type": "code",
   "execution_count": 51,
   "metadata": {},
   "outputs": [
    {
     "data": {
      "text/html": [
       "<div>\n",
       "<style scoped>\n",
       "    .dataframe tbody tr th:only-of-type {\n",
       "        vertical-align: middle;\n",
       "    }\n",
       "\n",
       "    .dataframe tbody tr th {\n",
       "        vertical-align: top;\n",
       "    }\n",
       "\n",
       "    .dataframe thead th {\n",
       "        text-align: right;\n",
       "    }\n",
       "</style>\n",
       "<table border=\"1\" class=\"dataframe\">\n",
       "  <thead>\n",
       "    <tr style=\"text-align: right;\">\n",
       "      <th></th>\n",
       "      <th>Links</th>\n",
       "      <th>Labels</th>\n",
       "    </tr>\n",
       "  </thead>\n",
       "  <tbody>\n",
       "    <tr>\n",
       "      <th>8</th>\n",
       "      <td>https://saltlakecity.bedpage.com/WomenSeekMen/salt-lake-city-ut-usa/6659473.html</td>\n",
       "      <td>12</td>\n",
       "    </tr>\n",
       "    <tr>\n",
       "      <th>54</th>\n",
       "      <td>https://saltlakecity.bedpage.com/WomenSeekMen/salt-lake-city-ut-usa/6644458.html</td>\n",
       "      <td>12</td>\n",
       "    </tr>\n",
       "    <tr>\n",
       "      <th>63</th>\n",
       "      <td>https://saltlakecity.bedpage.com/WomenSeekMen/salt-lake-city-ut-usa/6643113.html</td>\n",
       "      <td>12</td>\n",
       "    </tr>\n",
       "    <tr>\n",
       "      <th>71</th>\n",
       "      <td>https://saltlakecity.bedpage.com/WomenSeekMen/salt-lake-city-ut-usa/6618782.html</td>\n",
       "      <td>12</td>\n",
       "    </tr>\n",
       "    <tr>\n",
       "      <th>78</th>\n",
       "      <td>https://saltlakecity.bedpage.com/WomenSeekMen/salt-lake-city-ut-usa/6647509.html</td>\n",
       "      <td>12</td>\n",
       "    </tr>\n",
       "    <tr>\n",
       "      <th>85</th>\n",
       "      <td>https://saltlakecity.bedpage.com/WomenSeekMen/salt-lake-city-ut-usa/6588742.html</td>\n",
       "      <td>12</td>\n",
       "    </tr>\n",
       "    <tr>\n",
       "      <th>250</th>\n",
       "      <td>https://saltlakecity.bedpage.com/WomenSeekMen/salt-lake-city-ut-usa/6647042.html</td>\n",
       "      <td>12</td>\n",
       "    </tr>\n",
       "    <tr>\n",
       "      <th>304</th>\n",
       "      <td>https://saltlakecity.bedpage.com/WomenSeekMen/salt-lake-city-ut-usa/6649828.html</td>\n",
       "      <td>12</td>\n",
       "    </tr>\n",
       "    <tr>\n",
       "      <th>327</th>\n",
       "      <td>https://saltlakecity.bedpage.com/WomenSeekMen/salt-lake-city-ut-usa/6650151.html</td>\n",
       "      <td>12</td>\n",
       "    </tr>\n",
       "    <tr>\n",
       "      <th>333</th>\n",
       "      <td>https://saltlakecity.bedpage.com/WomenSeekMen/salt-lake-city-ut-usa/6655541.html</td>\n",
       "      <td>12</td>\n",
       "    </tr>\n",
       "  </tbody>\n",
       "</table>\n",
       "</div>"
      ],
      "text/plain": [
       "                                                                                Links  \\\n",
       "8    https://saltlakecity.bedpage.com/WomenSeekMen/salt-lake-city-ut-usa/6659473.html   \n",
       "54   https://saltlakecity.bedpage.com/WomenSeekMen/salt-lake-city-ut-usa/6644458.html   \n",
       "63   https://saltlakecity.bedpage.com/WomenSeekMen/salt-lake-city-ut-usa/6643113.html   \n",
       "71   https://saltlakecity.bedpage.com/WomenSeekMen/salt-lake-city-ut-usa/6618782.html   \n",
       "78   https://saltlakecity.bedpage.com/WomenSeekMen/salt-lake-city-ut-usa/6647509.html   \n",
       "85   https://saltlakecity.bedpage.com/WomenSeekMen/salt-lake-city-ut-usa/6588742.html   \n",
       "250  https://saltlakecity.bedpage.com/WomenSeekMen/salt-lake-city-ut-usa/6647042.html   \n",
       "304  https://saltlakecity.bedpage.com/WomenSeekMen/salt-lake-city-ut-usa/6649828.html   \n",
       "327  https://saltlakecity.bedpage.com/WomenSeekMen/salt-lake-city-ut-usa/6650151.html   \n",
       "333  https://saltlakecity.bedpage.com/WomenSeekMen/salt-lake-city-ut-usa/6655541.html   \n",
       "\n",
       "     Labels  \n",
       "8    12      \n",
       "54   12      \n",
       "63   12      \n",
       "71   12      \n",
       "78   12      \n",
       "85   12      \n",
       "250  12      \n",
       "304  12      \n",
       "327  12      \n",
       "333  12      "
      ]
     },
     "execution_count": 51,
     "metadata": {},
     "output_type": "execute_result"
    }
   ],
   "source": [
    "links_labels_table[links_labels_table['Labels'] == 12].head(10)"
   ]
  },
  {
   "cell_type": "markdown",
   "metadata": {},
   "source": [
    "This is a cluster of two sets of duplicate ads from two different posters. One expressly stated she would exchange sexual favors for money."
   ]
  },
  {
   "cell_type": "code",
   "execution_count": 52,
   "metadata": {},
   "outputs": [
    {
     "data": {
      "text/html": [
       "<div>\n",
       "<style scoped>\n",
       "    .dataframe tbody tr th:only-of-type {\n",
       "        vertical-align: middle;\n",
       "    }\n",
       "\n",
       "    .dataframe tbody tr th {\n",
       "        vertical-align: top;\n",
       "    }\n",
       "\n",
       "    .dataframe thead th {\n",
       "        text-align: right;\n",
       "    }\n",
       "</style>\n",
       "<table border=\"1\" class=\"dataframe\">\n",
       "  <thead>\n",
       "    <tr style=\"text-align: right;\">\n",
       "      <th></th>\n",
       "      <th>Links</th>\n",
       "      <th>Labels</th>\n",
       "    </tr>\n",
       "  </thead>\n",
       "  <tbody>\n",
       "    <tr>\n",
       "      <th>129</th>\n",
       "      <td>https://saltlakecity.bedpage.com/WomenSeekMen/usa/6718245.html</td>\n",
       "      <td>13</td>\n",
       "    </tr>\n",
       "    <tr>\n",
       "      <th>145</th>\n",
       "      <td>https://saltlakecity.bedpage.com/WomenSeekMen/usa/6711978.html</td>\n",
       "      <td>13</td>\n",
       "    </tr>\n",
       "    <tr>\n",
       "      <th>212</th>\n",
       "      <td>https://saltlakecity.bedpage.com/WomenSeekMen/usa/6726788.html</td>\n",
       "      <td>13</td>\n",
       "    </tr>\n",
       "    <tr>\n",
       "      <th>334</th>\n",
       "      <td>https://saltlakecity.bedpage.com/WomenSeekMen/usa/6716471.html</td>\n",
       "      <td>13</td>\n",
       "    </tr>\n",
       "    <tr>\n",
       "      <th>357</th>\n",
       "      <td>https://saltlakecity.bedpage.com/WomenSeekMen/usa/6726791.html</td>\n",
       "      <td>13</td>\n",
       "    </tr>\n",
       "    <tr>\n",
       "      <th>366</th>\n",
       "      <td>https://saltlakecity.bedpage.com/WomenSeekMen/usa/6705595.html</td>\n",
       "      <td>13</td>\n",
       "    </tr>\n",
       "    <tr>\n",
       "      <th>461</th>\n",
       "      <td>https://saltlakecity.bedpage.com/WomenSeekMen/usa/6765907.html</td>\n",
       "      <td>13</td>\n",
       "    </tr>\n",
       "    <tr>\n",
       "      <th>564</th>\n",
       "      <td>https://saltlakecity.bedpage.com/WomenSeekMen/usa/7196546.html</td>\n",
       "      <td>13</td>\n",
       "    </tr>\n",
       "  </tbody>\n",
       "</table>\n",
       "</div>"
      ],
      "text/plain": [
       "                                                              Links  Labels\n",
       "129  https://saltlakecity.bedpage.com/WomenSeekMen/usa/6718245.html  13    \n",
       "145  https://saltlakecity.bedpage.com/WomenSeekMen/usa/6711978.html  13    \n",
       "212  https://saltlakecity.bedpage.com/WomenSeekMen/usa/6726788.html  13    \n",
       "334  https://saltlakecity.bedpage.com/WomenSeekMen/usa/6716471.html  13    \n",
       "357  https://saltlakecity.bedpage.com/WomenSeekMen/usa/6726791.html  13    \n",
       "366  https://saltlakecity.bedpage.com/WomenSeekMen/usa/6705595.html  13    \n",
       "461  https://saltlakecity.bedpage.com/WomenSeekMen/usa/6765907.html  13    \n",
       "564  https://saltlakecity.bedpage.com/WomenSeekMen/usa/7196546.html  13    "
      ]
     },
     "execution_count": 52,
     "metadata": {},
     "output_type": "execute_result"
    }
   ],
   "source": [
    "links_labels_table[links_labels_table['Labels'] == 13].head(10)"
   ]
  },
  {
   "cell_type": "markdown",
   "metadata": {},
   "source": [
    "This is a cluster of duplicate ads from a separate dating site."
   ]
  },
  {
   "cell_type": "code",
   "execution_count": 54,
   "metadata": {},
   "outputs": [
    {
     "data": {
      "text/html": [
       "<div>\n",
       "<style scoped>\n",
       "    .dataframe tbody tr th:only-of-type {\n",
       "        vertical-align: middle;\n",
       "    }\n",
       "\n",
       "    .dataframe tbody tr th {\n",
       "        vertical-align: top;\n",
       "    }\n",
       "\n",
       "    .dataframe thead th {\n",
       "        text-align: right;\n",
       "    }\n",
       "</style>\n",
       "<table border=\"1\" class=\"dataframe\">\n",
       "  <thead>\n",
       "    <tr style=\"text-align: right;\">\n",
       "      <th></th>\n",
       "      <th>Links</th>\n",
       "      <th>Labels</th>\n",
       "    </tr>\n",
       "  </thead>\n",
       "  <tbody>\n",
       "    <tr>\n",
       "      <th>26</th>\n",
       "      <td>https://saltlakecity.bedpage.com/WomenSeekMen/ee-uu/6646708.html</td>\n",
       "      <td>14</td>\n",
       "    </tr>\n",
       "    <tr>\n",
       "      <th>131</th>\n",
       "      <td>https://saltlakecity.bedpage.com/WomenSeekMen/ee-uu/6655365.html</td>\n",
       "      <td>14</td>\n",
       "    </tr>\n",
       "    <tr>\n",
       "      <th>419</th>\n",
       "      <td>https://saltlakecity.bedpage.com/WomenSeekMen/ee-uu/6648935.html</td>\n",
       "      <td>14</td>\n",
       "    </tr>\n",
       "    <tr>\n",
       "      <th>513</th>\n",
       "      <td>https://saltlakecity.bedpage.com/WomenSeekMen/ee-uu/6651230.html</td>\n",
       "      <td>14</td>\n",
       "    </tr>\n",
       "    <tr>\n",
       "      <th>609</th>\n",
       "      <td>https://saltlakecity.bedpage.com/WomenSeekMen/ee-uu/6652485.html</td>\n",
       "      <td>14</td>\n",
       "    </tr>\n",
       "  </tbody>\n",
       "</table>\n",
       "</div>"
      ],
      "text/plain": [
       "                                                                Links  Labels\n",
       "26   https://saltlakecity.bedpage.com/WomenSeekMen/ee-uu/6646708.html  14    \n",
       "131  https://saltlakecity.bedpage.com/WomenSeekMen/ee-uu/6655365.html  14    \n",
       "419  https://saltlakecity.bedpage.com/WomenSeekMen/ee-uu/6648935.html  14    \n",
       "513  https://saltlakecity.bedpage.com/WomenSeekMen/ee-uu/6651230.html  14    \n",
       "609  https://saltlakecity.bedpage.com/WomenSeekMen/ee-uu/6652485.html  14    "
      ]
     },
     "execution_count": 54,
     "metadata": {},
     "output_type": "execute_result"
    }
   ],
   "source": [
    "links_labels_table[links_labels_table['Labels'] == 14].head(10)"
   ]
  },
  {
   "cell_type": "markdown",
   "metadata": {},
   "source": [
    "This is a cluster of duplicate ads from the same poster. It is unclear whether this person is a prostitute or seeking a casual hook-up as these are a mix of English and Spanish."
   ]
  },
  {
   "cell_type": "markdown",
   "metadata": {},
   "source": [
    "## Findings"
   ]
  },
  {
   "cell_type": "markdown",
   "metadata": {},
   "source": [
    "In this section, I do a brief overview of my findings and broad evaluations of clusters. I do not make specific mention of clusters of duplicate ads but instead speak them as being either seeking casual hook-ups, being more likely to be prostitutes, or otherwise. Here, I only evaluate clusters that I saw led to real people or real people's direct contact information. I lastly conjecture as to which clusters, if any, are more likely to be victims of sex trafficking."
   ]
  },
  {
   "cell_type": "markdown",
   "metadata": {},
   "source": [
    "**Label 1 - Casual Hook-Uppers** - This group was full of ads that were very laid-back, informal, and time-insensitive in their tone. For all of the ads in sample of this type of ad that I examined, no mention of money exchange was made.\n",
    "\n",
    "At least one ad in this group, however, advertised asian massage services of multiple women. Reference was made to sexual favors that could be performed by these women."
   ]
  },
  {
   "cell_type": "markdown",
   "metadata": {},
   "source": [
    "**Labels 4, 8, and 12 - Likely Prostitutes** - These clusters were all duplicate ads to the same persons or organizations that advertised sexual favors and made reference to rates, or used language expressly used by prostitutes to discreetly convey the types of sexual favors they may offer. \n",
    "\n",
    "One of these clusters was a group of advertisements to another asian massage parlor in Salt Lake. Nothing in the ad text made reference to sexual favors, but it was highly insinuated given the nature of the photographs attached to the ad. "
   ]
  },
  {
   "cell_type": "markdown",
   "metadata": {},
   "source": [
    "**Summary of Other Labels** - of the sample of the other clusters I examined, many of them appeared to be supposed \"ads\" that were actually just generic links to other dating sites. I imagine that bigger dating sites would put links to their services on local websites like this to broaden their reach.\n",
    "\n",
    "There were also several other clusters of ads by people that were likely seeking casual hook-ups. This much could be gleaned by their ads because of their explicit declining of need for money and certain of their mentioning not being particular with regards to race, age, gender, or even attractiveness."
   ]
  },
  {
   "cell_type": "markdown",
   "metadata": {},
   "source": [
    "## Conclusion"
   ]
  },
  {
   "cell_type": "markdown",
   "metadata": {},
   "source": [
    "To briefly summarize, this project, at the substantive level, led me to several ads or types of ads that may be attached to trafficked persons, but this is hard to tell given the unclear distinction (at least with regards to ad language) between prostitutes and sex trafficked individuals. It also happened to lead me to a number of ads for sexual favors from *multiple* persons of foreign origin, but it did not do so by virtue of how the algorithm worked. The algorithm did, however, do reasonably well at ruling out those who were merely seeking a casual hook-up. Substantively, the project caused me to think deeply about the policy implications for combatting sex trafficking, especially as these relate to the legality (or lack thereof) of sex work and sex workers.\n",
    "\n",
    "At the more analytical level, the project was a crash course in several packages and tools I had never used or knew existed before. I constantly had to think outside of the box and ask the right questions to get around new problems. Unsupervised machine learning is simple and useful for datasets without labels, but it comes without all of the benefits of supervised learning. Namely, clustering could not describe the patterns that distinguished groups, nor could it formulate a prediction model for data that it had not enountered before.\n",
    "\n",
    "I ran into a number of limitations. The first was a lack of unique data. This could have reasonably been overcome by expanding the number of links I took from the website, but even on the third landing page of links there were vast amounts of duplicate links. More reasonably, I might try this same kind of process on another dating site that doesn't allow for re-posting the same ad twice and works more by accounts. The biggest problem was that K-Means was essentially foiled because of all of the duplicate ads. What I ought to have done to address these is find a way to delete them while they were still in the array form. I could have specified that the vocabulary drop all words relating to month and day of posting so that the vectorizer would have made these ads essentially the same in the array format. While my workaround was quite crude, however, it mostly satisfied my purposes and allowed me to roughly delineate at least the prostitutes from the non-prostitutes. A dataset with labels would similarly have made classification simpler. More important then allowing me to make predictions, it would have informed my understanding about what factors likely identify sex trafficking victims as opposed to other groups."
   ]
  }
 ],
 "metadata": {
  "kernelspec": {
   "display_name": "Python 3",
   "language": "python",
   "name": "python3"
  },
  "language_info": {
   "codemirror_mode": {
    "name": "ipython",
    "version": 3
   },
   "file_extension": ".py",
   "mimetype": "text/x-python",
   "name": "python",
   "nbconvert_exporter": "python",
   "pygments_lexer": "ipython3",
   "version": "3.6.7"
  }
 },
 "nbformat": 4,
 "nbformat_minor": 2
}
