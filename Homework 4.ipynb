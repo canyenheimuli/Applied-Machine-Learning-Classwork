{
 "cells": [
  {
   "cell_type": "markdown",
   "metadata": {},
   "source": [
    "# Homework 4 - Classification Regression\n",
    "### Poverty Level Classification using Costa Rican Demographic Data\n",
    "\n",
    "In this notebook, I'll be building a classification-based regression model meant to predict the poverty levels of persons in the dataset. In the dataset, each observation is one person recorded in a Costa Rican demographics information. I'll be trying my hand at using classification models to glean insights about determinants of poverty, and whether poverty levels can be predicted to a reasonable degree."
   ]
  },
  {
   "cell_type": "markdown",
   "metadata": {},
   "source": [
    "### Accreditation:\n",
    "\n",
    "The data used in this notebook comes from the [Costa Rican Household Poverty Level Prediction](https://www.kaggle.com/c/costa-rican-household-poverty-prediction) competition hosted by Kaggle.com. It was a real fun time and I'm glad they made the data available to the public!\n",
    "\n",
    "I also thank the TA [Nelson Griffiths](https://github.com/ngriffiths13) for help with tricky lines of code, and lots of motivation. May he live long and prosper in the land."
   ]
  },
  {
   "cell_type": "code",
   "execution_count": 1,
   "metadata": {},
   "outputs": [
    {
     "name": "stdout",
     "output_type": "stream",
     "text": [
      "Collecting imblearn\n",
      "  Downloading https://files.pythonhosted.org/packages/81/a7/4179e6ebfd654bd0eac0b9c06125b8b4c96a9d0a8ff9e9507eb2a26d2d7e/imblearn-0.0-py2.py3-none-any.whl\n",
      "Collecting seaborn\n",
      "\u001b[?25l  Downloading https://files.pythonhosted.org/packages/a8/76/220ba4420459d9c4c9c9587c6ce607bf56c25b3d3d2de62056efe482dadc/seaborn-0.9.0-py3-none-any.whl (208kB)\n",
      "\u001b[K    100% |████████████████████████████████| 215kB 19.6MB/s ta 0:00:01\n",
      "\u001b[?25hCollecting imbalanced-learn (from imblearn)\n",
      "\u001b[?25l  Downloading https://files.pythonhosted.org/packages/e5/4c/7557e1c2e791bd43878f8c82065bddc5798252084f26ef44527c02262af1/imbalanced_learn-0.4.3-py3-none-any.whl (166kB)\n",
      "\u001b[K    100% |████████████████████████████████| 174kB 23.3MB/s ta 0:00:01\n",
      "\u001b[?25hRequirement already satisfied: numpy>=1.9.3 in /srv/conda/lib/python3.6/site-packages (from seaborn) (1.15.4)\n",
      "Requirement already satisfied: pandas>=0.15.2 in /srv/conda/lib/python3.6/site-packages (from seaborn) (0.23.4)\n",
      "Requirement already satisfied: scipy>=0.14.0 in /srv/conda/lib/python3.6/site-packages (from seaborn) (1.1.0)\n",
      "Requirement already satisfied: matplotlib>=1.4.3 in /srv/conda/lib/python3.6/site-packages (from seaborn) (3.0.2)\n",
      "Requirement already satisfied: scikit-learn>=0.20 in /srv/conda/lib/python3.6/site-packages (from imbalanced-learn->imblearn) (0.20.1)\n",
      "Requirement already satisfied: pytz>=2011k in /srv/conda/lib/python3.6/site-packages (from pandas>=0.15.2->seaborn) (2018.7)\n",
      "Requirement already satisfied: python-dateutil>=2.5.0 in /srv/conda/lib/python3.6/site-packages (from pandas>=0.15.2->seaborn) (2.7.5)\n",
      "Requirement already satisfied: cycler>=0.10 in /srv/conda/lib/python3.6/site-packages (from matplotlib>=1.4.3->seaborn) (0.10.0)\n",
      "Requirement already satisfied: kiwisolver>=1.0.1 in /srv/conda/lib/python3.6/site-packages (from matplotlib>=1.4.3->seaborn) (1.0.1)\n",
      "Requirement already satisfied: pyparsing!=2.0.4,!=2.1.2,!=2.1.6,>=2.0.1 in /srv/conda/lib/python3.6/site-packages (from matplotlib>=1.4.3->seaborn) (2.3.0)\n",
      "Requirement already satisfied: six>=1.5 in /srv/conda/lib/python3.6/site-packages (from python-dateutil>=2.5.0->pandas>=0.15.2->seaborn) (1.12.0)\n",
      "Requirement already satisfied: setuptools in /srv/conda/lib/python3.6/site-packages (from kiwisolver>=1.0.1->matplotlib>=1.4.3->seaborn) (40.6.2)\n",
      "Installing collected packages: imbalanced-learn, imblearn, seaborn\n",
      "Successfully installed imbalanced-learn-0.4.3 imblearn-0.0 seaborn-0.9.0\n"
     ]
    }
   ],
   "source": [
    "!pip install imblearn seaborn"
   ]
  },
  {
   "cell_type": "code",
   "execution_count": 2,
   "metadata": {},
   "outputs": [],
   "source": [
    "###Necessary Packages:\n",
    "\n",
    "#The OGs:\n",
    "import pandas as pd\n",
    "import matplotlib.pyplot as plt\n",
    "import numpy as np\n",
    "import warnings\n",
    "warnings.filterwarnings(\"ignore\")\n",
    "from numpy.polynomial.polynomial import polyfit\n",
    "import seaborn as sns\n",
    "#Set Seaborn's Color Palette\n",
    "sns.set_palette(sns.color_palette(\"muted\", 30))\n",
    "\n",
    "#Modeling Packages\n",
    "from sklearn.ensemble import RandomForestClassifier\n",
    "from sklearn.neighbors import KNeighborsClassifier\n",
    "from sklearn.svm import SVC\n",
    "from sklearn.naive_bayes import GaussianNB\n",
    "\n",
    "#Validation Things\n",
    "from sklearn.model_selection import cross_val_score, train_test_split, RandomizedSearchCV\n",
    "from sklearn.metrics import f1_score, roc_curve, auc, classification_report, confusion_matrix\n",
    "from imblearn.over_sampling import RandomOverSampler"
   ]
  },
  {
   "cell_type": "markdown",
   "metadata": {},
   "source": [
    "## Reading in, Visualizing Data\n",
    "\n",
    "In this section, I'll go through the steps of reading in the data as well as visualizing it. This will be to get a sense of important relationships, or possible outliers. Throughout this section, I will reference the [data's documentation](https://www.kaggle.com/c/costa-rican-household-poverty-prediction/data) provided by Kaggle. It records all the variables in the datasets and how they are coded."
   ]
  },
  {
   "cell_type": "markdown",
   "metadata": {},
   "source": [
    "Kaggle submissions are formatted as two-column datasets with an identifier column (the \"Id\" variable from the test dataset) and a prediction column, predicted by training a model on the training dataset. To get started, I'll read in both datasets, define the target variable for later (\"y\"), and also define the identifier variable that I'll use later when making the final submission (\"Id\")."
   ]
  },
  {
   "cell_type": "code",
   "execution_count": 3,
   "metadata": {},
   "outputs": [
    {
     "data": {
      "text/plain": [
       "9557"
      ]
     },
     "execution_count": 3,
     "metadata": {},
     "output_type": "execute_result"
    }
   ],
   "source": [
    "train_df = pd.read_csv('train.csv')\n",
    "test_df = pd.read_csv('test.csv')\n",
    "y = train_df.loc[(train_df['parentesco1']==1), 'Target']\n",
    "Id = test_df.Id\n",
    "train_df.shape[0]"
   ]
  },
  {
   "cell_type": "code",
   "execution_count": 4,
   "metadata": {},
   "outputs": [
    {
     "data": {
      "text/plain": [
       "23856"
      ]
     },
     "execution_count": 4,
     "metadata": {},
     "output_type": "execute_result"
    }
   ],
   "source": [
    "test_df.shape[0]"
   ]
  },
  {
   "cell_type": "code",
   "execution_count": 5,
   "metadata": {},
   "outputs": [
    {
     "data": {
      "text/html": [
       "<div>\n",
       "<style scoped>\n",
       "    .dataframe tbody tr th:only-of-type {\n",
       "        vertical-align: middle;\n",
       "    }\n",
       "\n",
       "    .dataframe tbody tr th {\n",
       "        vertical-align: top;\n",
       "    }\n",
       "\n",
       "    .dataframe thead th {\n",
       "        text-align: right;\n",
       "    }\n",
       "</style>\n",
       "<table border=\"1\" class=\"dataframe\">\n",
       "  <thead>\n",
       "    <tr style=\"text-align: right;\">\n",
       "      <th></th>\n",
       "      <th>Id</th>\n",
       "      <th>v2a1</th>\n",
       "      <th>hacdor</th>\n",
       "      <th>rooms</th>\n",
       "      <th>hacapo</th>\n",
       "      <th>v14a</th>\n",
       "      <th>refrig</th>\n",
       "      <th>v18q</th>\n",
       "      <th>v18q1</th>\n",
       "      <th>r4h1</th>\n",
       "      <th>...</th>\n",
       "      <th>SQBescolari</th>\n",
       "      <th>SQBage</th>\n",
       "      <th>SQBhogar_total</th>\n",
       "      <th>SQBedjefe</th>\n",
       "      <th>SQBhogar_nin</th>\n",
       "      <th>SQBovercrowding</th>\n",
       "      <th>SQBdependency</th>\n",
       "      <th>SQBmeaned</th>\n",
       "      <th>agesq</th>\n",
       "      <th>Target</th>\n",
       "    </tr>\n",
       "  </thead>\n",
       "  <tbody>\n",
       "    <tr>\n",
       "      <th>0</th>\n",
       "      <td>ID_279628684</td>\n",
       "      <td>190000.0</td>\n",
       "      <td>0</td>\n",
       "      <td>3</td>\n",
       "      <td>0</td>\n",
       "      <td>1</td>\n",
       "      <td>1</td>\n",
       "      <td>0</td>\n",
       "      <td>NaN</td>\n",
       "      <td>0</td>\n",
       "      <td>...</td>\n",
       "      <td>100</td>\n",
       "      <td>1849</td>\n",
       "      <td>1</td>\n",
       "      <td>100</td>\n",
       "      <td>0</td>\n",
       "      <td>1.000000</td>\n",
       "      <td>0.0</td>\n",
       "      <td>100.0</td>\n",
       "      <td>1849</td>\n",
       "      <td>4</td>\n",
       "    </tr>\n",
       "    <tr>\n",
       "      <th>1</th>\n",
       "      <td>ID_f29eb3ddd</td>\n",
       "      <td>135000.0</td>\n",
       "      <td>0</td>\n",
       "      <td>4</td>\n",
       "      <td>0</td>\n",
       "      <td>1</td>\n",
       "      <td>1</td>\n",
       "      <td>1</td>\n",
       "      <td>1.0</td>\n",
       "      <td>0</td>\n",
       "      <td>...</td>\n",
       "      <td>144</td>\n",
       "      <td>4489</td>\n",
       "      <td>1</td>\n",
       "      <td>144</td>\n",
       "      <td>0</td>\n",
       "      <td>1.000000</td>\n",
       "      <td>64.0</td>\n",
       "      <td>144.0</td>\n",
       "      <td>4489</td>\n",
       "      <td>4</td>\n",
       "    </tr>\n",
       "    <tr>\n",
       "      <th>2</th>\n",
       "      <td>ID_68de51c94</td>\n",
       "      <td>NaN</td>\n",
       "      <td>0</td>\n",
       "      <td>8</td>\n",
       "      <td>0</td>\n",
       "      <td>1</td>\n",
       "      <td>1</td>\n",
       "      <td>0</td>\n",
       "      <td>NaN</td>\n",
       "      <td>0</td>\n",
       "      <td>...</td>\n",
       "      <td>121</td>\n",
       "      <td>8464</td>\n",
       "      <td>1</td>\n",
       "      <td>0</td>\n",
       "      <td>0</td>\n",
       "      <td>0.250000</td>\n",
       "      <td>64.0</td>\n",
       "      <td>121.0</td>\n",
       "      <td>8464</td>\n",
       "      <td>4</td>\n",
       "    </tr>\n",
       "    <tr>\n",
       "      <th>3</th>\n",
       "      <td>ID_d671db89c</td>\n",
       "      <td>180000.0</td>\n",
       "      <td>0</td>\n",
       "      <td>5</td>\n",
       "      <td>0</td>\n",
       "      <td>1</td>\n",
       "      <td>1</td>\n",
       "      <td>1</td>\n",
       "      <td>1.0</td>\n",
       "      <td>0</td>\n",
       "      <td>...</td>\n",
       "      <td>81</td>\n",
       "      <td>289</td>\n",
       "      <td>16</td>\n",
       "      <td>121</td>\n",
       "      <td>4</td>\n",
       "      <td>1.777778</td>\n",
       "      <td>1.0</td>\n",
       "      <td>121.0</td>\n",
       "      <td>289</td>\n",
       "      <td>4</td>\n",
       "    </tr>\n",
       "    <tr>\n",
       "      <th>4</th>\n",
       "      <td>ID_d56d6f5f5</td>\n",
       "      <td>180000.0</td>\n",
       "      <td>0</td>\n",
       "      <td>5</td>\n",
       "      <td>0</td>\n",
       "      <td>1</td>\n",
       "      <td>1</td>\n",
       "      <td>1</td>\n",
       "      <td>1.0</td>\n",
       "      <td>0</td>\n",
       "      <td>...</td>\n",
       "      <td>121</td>\n",
       "      <td>1369</td>\n",
       "      <td>16</td>\n",
       "      <td>121</td>\n",
       "      <td>4</td>\n",
       "      <td>1.777778</td>\n",
       "      <td>1.0</td>\n",
       "      <td>121.0</td>\n",
       "      <td>1369</td>\n",
       "      <td>4</td>\n",
       "    </tr>\n",
       "  </tbody>\n",
       "</table>\n",
       "<p>5 rows × 143 columns</p>\n",
       "</div>"
      ],
      "text/plain": [
       "             Id      v2a1  hacdor  rooms  hacapo  v14a  refrig  v18q  v18q1  \\\n",
       "0  ID_279628684  190000.0       0      3       0     1       1     0    NaN   \n",
       "1  ID_f29eb3ddd  135000.0       0      4       0     1       1     1    1.0   \n",
       "2  ID_68de51c94       NaN       0      8       0     1       1     0    NaN   \n",
       "3  ID_d671db89c  180000.0       0      5       0     1       1     1    1.0   \n",
       "4  ID_d56d6f5f5  180000.0       0      5       0     1       1     1    1.0   \n",
       "\n",
       "   r4h1   ...    SQBescolari  SQBage  SQBhogar_total  SQBedjefe  SQBhogar_nin  \\\n",
       "0     0   ...            100    1849               1        100             0   \n",
       "1     0   ...            144    4489               1        144             0   \n",
       "2     0   ...            121    8464               1          0             0   \n",
       "3     0   ...             81     289              16        121             4   \n",
       "4     0   ...            121    1369              16        121             4   \n",
       "\n",
       "   SQBovercrowding  SQBdependency  SQBmeaned  agesq  Target  \n",
       "0         1.000000            0.0      100.0   1849       4  \n",
       "1         1.000000           64.0      144.0   4489       4  \n",
       "2         0.250000           64.0      121.0   8464       4  \n",
       "3         1.777778            1.0      121.0    289       4  \n",
       "4         1.777778            1.0      121.0   1369       4  \n",
       "\n",
       "[5 rows x 143 columns]"
      ]
     },
     "execution_count": 5,
     "metadata": {},
     "output_type": "execute_result"
    }
   ],
   "source": [
    "train_df.head()"
   ]
  },
  {
   "cell_type": "markdown",
   "metadata": {},
   "source": [
    "What a blessing: the data read in correctly. Both datasets have several thousand observations with over 140 variables describing each one. "
   ]
  },
  {
   "cell_type": "markdown",
   "metadata": {},
   "source": [
    "The first thing I'll do is visualize some relationshps within the training dataset. I want to do this to just the training data as to not inform any of my modeling decisions on the testing dataset (no spoilers!). This step should be helpful in determining how variables should be coded for use in the prediction models as well as what variables may be associated with each other."
   ]
  },
  {
   "cell_type": "markdown",
   "metadata": {},
   "source": [
    "I'm gonna start with a few charts that tell us a few things about the target variable. For my first trick, a distribution of the target variable itself!"
   ]
  },
  {
   "cell_type": "code",
   "execution_count": 6,
   "metadata": {},
   "outputs": [
    {
     "data": {
      "text/plain": [
       "([<matplotlib.axis.XTick at 0x7f9d16d4dba8>,\n",
       "  <matplotlib.axis.XTick at 0x7f9d16d4d4e0>,\n",
       "  <matplotlib.axis.XTick at 0x7f9d16d4d2b0>,\n",
       "  <matplotlib.axis.XTick at 0x7f9d16c9e828>],\n",
       " <a list of 4 Text xticklabel objects>)"
      ]
     },
     "execution_count": 6,
     "metadata": {},
     "output_type": "execute_result"
    },
    {
     "data": {
      "image/png": "[encoded data removed]",
      "text/plain": [
       "<Figure size 648x504 with 1 Axes>"
      ]
     },
     "metadata": {
      "needs_background": "light"
     },
     "output_type": "display_data"
    }
   ],
   "source": [
    "#Bar Chart of Target Variable (Poverty Level)\n",
    "f, ax = plt.subplots(figsize=(9, 7))\n",
    "sns.countplot(train_df.Target)\n",
    "plt.title('Distribution of Subjects by Poverty Level', fontsize = 15)\n",
    "plt.xlabel('Poverty Level', fontsize = 12)\n",
    "plt.ylabel('Frequency', fontsize=12)\n",
    "plt.xticks([0, 1, 2, 3],\n",
    "           ['Extreme Poverty', 'Moderate Poverty', 'Vulnerable', 'Non-Vulnerable'])"
   ]
  },
  {
   "cell_type": "markdown",
   "metadata": {},
   "source": [
    "It seems that in this dataset, only a relatively small number of people are in extreme poverty. Indeed, only about a third of the people in the dataset are at least vulnerable or are experiencing some kind of poverty. Classification-based regression will work better if people in different levels of income are distinct in other kinds of ways. I have access to education, technology, and other house-related data so I should be able to find some of those distinctions."
   ]
  },
  {
   "cell_type": "markdown",
   "metadata": {},
   "source": [
    "Let's have a look at how the target variable relates to, say, years of education. We might reasonably expect that there is a general upward trend in the variables; that is, that as years of education increases for observations, they are less-likely to be in \"At Risk\" poverty levels."
   ]
  },
  {
   "cell_type": "code",
   "execution_count": 7,
   "metadata": {},
   "outputs": [
    {
     "data": {
      "image/png": "[encoded data removed]",
      "text/plain": [
       "<Figure size 720x360 with 1 Axes>"
      ]
     },
     "metadata": {
      "needs_background": "light"
     },
     "output_type": "display_data"
    }
   ],
   "source": [
    "#Years of Education by Poverty Level\n",
    "sns.lmplot(x = 'Target', y = 'escolari', data = train_df, aspect = 2)\n",
    "plt.title('Line Graph of Poverty Levels by Average Years of Education')\n",
    "plt.ylabel('Avg. Years Education')\n",
    "plt.xlabel('Poverty Level')\n",
    "plt.show()"
   ]
  },
  {
   "cell_type": "markdown",
   "metadata": {},
   "source": [
    "This graph shows us mostly what we would expect: a general upward trend between education and affluence (the poverty level is measured entirely in income). \n",
    "\n",
    "There's actually another interesting takeaway here: different levels of income variance within education ranges. People who are in the \"Not at Risk\" level have education levels ranging from 0 to 20 years of education. The ranges are slightly more condensed among the more \"At Risk\" people. This will be somewhat helpful at least for a good portion of the testing data because if they have 16 to 20 years of education, it is very likely that they are in the Non-Vulnerable category. I suppose there might be some skew in this variable so I'll check on this later."
   ]
  },
  {
   "cell_type": "markdown",
   "metadata": {},
   "source": [
    "Now I'm going to look at a few boxplots. These may similarly help uncover quantifiable distinctions between poverty levels."
   ]
  },
  {
   "cell_type": "code",
   "execution_count": 8,
   "metadata": {},
   "outputs": [],
   "source": [
    "#Quick Function that Spits Out a Box Plot\n",
    "def box_out(x):\n",
    "    f, ax = plt.subplots(figsize=(12, 9))\n",
    "    sns.boxplot(x = 'Target', y = x, data = train_df)\n",
    "    plt.xlabel('Poverty Level')"
   ]
  },
  {
   "cell_type": "code",
   "execution_count": 9,
   "metadata": {},
   "outputs": [
    {
     "name": "stdout",
     "output_type": "stream",
     "text": [
      "Number of Children Grouped by Income Levels\n"
     ]
    },
    {
     "data": {
      "image/png": "[encoded data removed]",
      "text/plain": [
       "<Figure size 864x648 with 1 Axes>"
      ]
     },
     "metadata": {
      "needs_background": "light"
     },
     "output_type": "display_data"
    }
   ],
   "source": [
    "print(\"Number of Children Grouped by Income Levels\")\n",
    "box_out('hogar_nin')"
   ]
  },
  {
   "cell_type": "markdown",
   "metadata": {},
   "source": [
    "Here, we see a slight trend of what we might expect. It happens that those who are non-vulnerable are slightly more likely to have fewer children. There are also a number of outlier observations of 8 or 9 children within the Extreme Poverty group. "
   ]
  },
  {
   "cell_type": "code",
   "execution_count": 10,
   "metadata": {},
   "outputs": [
    {
     "name": "stdout",
     "output_type": "stream",
     "text": [
      "Monthly Mortgage Payments Grouped by Income Levels\n"
     ]
    },
    {
     "data": {
      "image/png": "[encoded data removed]",
      "text/plain": [
       "<Figure size 864x648 with 1 Axes>"
      ]
     },
     "metadata": {
      "needs_background": "light"
     },
     "output_type": "display_data"
    }
   ],
   "source": [
    "print(\"Monthly Mortgage Payments Grouped by Income Levels\")\n",
    "box_out('v2a1')"
   ]
  },
  {
   "cell_type": "markdown",
   "metadata": {},
   "source": [
    "Still, we see pretty much what we'd expect: that families that make larger monthly rent payments are relatively more represented in the Non-Vulnerable category. It follows that if you are making bigger monthly rent payments, you have money to pay in the first place."
   ]
  },
  {
   "cell_type": "markdown",
   "metadata": {},
   "source": [
    "I'm going to look at some cross-tabulations of the poverty groups with house-related variables such as house materials and such."
   ]
  },
  {
   "cell_type": "code",
   "execution_count": 11,
   "metadata": {},
   "outputs": [
    {
     "name": "stdout",
     "output_type": "stream",
     "text": [
      "Cross-Tabulation of Mosaic/Ceramic/Terrazo Floors by Income Group\n"
     ]
    },
    {
     "data": {
      "text/html": [
       "<div>\n",
       "<style scoped>\n",
       "    .dataframe tbody tr th:only-of-type {\n",
       "        vertical-align: middle;\n",
       "    }\n",
       "\n",
       "    .dataframe tbody tr th {\n",
       "        vertical-align: top;\n",
       "    }\n",
       "\n",
       "    .dataframe thead th {\n",
       "        text-align: right;\n",
       "    }\n",
       "</style>\n",
       "<table border=\"1\" class=\"dataframe\">\n",
       "  <thead>\n",
       "    <tr style=\"text-align: right;\">\n",
       "      <th>pisomoscer</th>\n",
       "      <th>0</th>\n",
       "      <th>1</th>\n",
       "    </tr>\n",
       "    <tr>\n",
       "      <th>Target</th>\n",
       "      <th></th>\n",
       "      <th></th>\n",
       "    </tr>\n",
       "  </thead>\n",
       "  <tbody>\n",
       "    <tr>\n",
       "      <th>1</th>\n",
       "      <td>403</td>\n",
       "      <td>352</td>\n",
       "    </tr>\n",
       "    <tr>\n",
       "      <th>2</th>\n",
       "      <td>808</td>\n",
       "      <td>789</td>\n",
       "    </tr>\n",
       "    <tr>\n",
       "      <th>3</th>\n",
       "      <td>471</td>\n",
       "      <td>738</td>\n",
       "    </tr>\n",
       "    <tr>\n",
       "      <th>4</th>\n",
       "      <td>1254</td>\n",
       "      <td>4742</td>\n",
       "    </tr>\n",
       "  </tbody>\n",
       "</table>\n",
       "</div>"
      ],
      "text/plain": [
       "pisomoscer     0     1\n",
       "Target                \n",
       "1            403   352\n",
       "2            808   789\n",
       "3            471   738\n",
       "4           1254  4742"
      ]
     },
     "execution_count": 11,
     "metadata": {},
     "output_type": "execute_result"
    }
   ],
   "source": [
    "print(\"Cross-Tabulation of Mosaic/Ceramic/Terrazo Floors by Income Group\")\n",
    "pd.crosstab(train_df['Target'], train_df['pisomoscer'])"
   ]
  },
  {
   "cell_type": "markdown",
   "metadata": {},
   "source": [
    "These are informative but pretty intuitive results. Below, I have displayed the same information above but reported as proportions of people having this kind of flooring within their respective income groups:\n",
    "\n",
    "    Group 1 (Extreme Poverty)  - 46.6%\n",
    "    Group 2 (Moderate Poverty) - 49.4%\n",
    "    Group 3 (At Risk)          - 61%\n",
    "    Group 4 (Non-Vulnerable)   - 79.1%\n",
    "    \n",
    "Thus, this variable might be helpful at least in classifying the Non-Vulnerables."
   ]
  },
  {
   "cell_type": "code",
   "execution_count": 12,
   "metadata": {},
   "outputs": [
    {
     "name": "stdout",
     "output_type": "stream",
     "text": [
      "Cross-Tabulation of Cement Floors by Income Group\n"
     ]
    },
    {
     "data": {
      "text/html": [
       "<div>\n",
       "<style scoped>\n",
       "    .dataframe tbody tr th:only-of-type {\n",
       "        vertical-align: middle;\n",
       "    }\n",
       "\n",
       "    .dataframe tbody tr th {\n",
       "        vertical-align: top;\n",
       "    }\n",
       "\n",
       "    .dataframe thead th {\n",
       "        text-align: right;\n",
       "    }\n",
       "</style>\n",
       "<table border=\"1\" class=\"dataframe\">\n",
       "  <thead>\n",
       "    <tr style=\"text-align: right;\">\n",
       "      <th>pisocemento</th>\n",
       "      <th>0</th>\n",
       "      <th>1</th>\n",
       "    </tr>\n",
       "    <tr>\n",
       "      <th>Target</th>\n",
       "      <th></th>\n",
       "      <th></th>\n",
       "    </tr>\n",
       "  </thead>\n",
       "  <tbody>\n",
       "    <tr>\n",
       "      <th>1</th>\n",
       "      <td>470</td>\n",
       "      <td>285</td>\n",
       "    </tr>\n",
       "    <tr>\n",
       "      <th>2</th>\n",
       "      <td>1036</td>\n",
       "      <td>561</td>\n",
       "    </tr>\n",
       "    <tr>\n",
       "      <th>3</th>\n",
       "      <td>875</td>\n",
       "      <td>334</td>\n",
       "    </tr>\n",
       "    <tr>\n",
       "      <th>4</th>\n",
       "      <td>5046</td>\n",
       "      <td>950</td>\n",
       "    </tr>\n",
       "  </tbody>\n",
       "</table>\n",
       "</div>"
      ],
      "text/plain": [
       "pisocemento     0    1\n",
       "Target                \n",
       "1             470  285\n",
       "2            1036  561\n",
       "3             875  334\n",
       "4            5046  950"
      ]
     },
     "execution_count": 12,
     "metadata": {},
     "output_type": "execute_result"
    }
   ],
   "source": [
    "print(\"Cross-Tabulation of Cement Floors by Income Group\")\n",
    "pd.crosstab(train_df['Target'], train_df['pisocemento'])"
   ]
  },
  {
   "cell_type": "markdown",
   "metadata": {},
   "source": [
    "And here are the proportions of households having cement floors by income group:\n",
    "\n",
    "    Group 1 (Extreme Poverty)  - 37.7%\n",
    "    Group 2 (Moderate Poverty) - 35.1%\n",
    "    Group 3 (At Risk)          - 27.6%\n",
    "    Group 4 (Non-Vulnerable)   - 15.8%\n",
    "    \n",
    "It is evidently the case that Non-Vulnerables are much less-likely to have cement floors. Indeed, they are nearly *half* as likely to have cement floorings as are those in the \"At Risk\" group, and around 40% as likely compared with those in extreme poverty."
   ]
  },
  {
   "cell_type": "markdown",
   "metadata": {},
   "source": [
    "So not many clear distinctions between income groups are immediately visible from my visualizations. Hopefully, the cleaning and feature engineering stage can help turn messy information into more coherent data that helps in prediction modeling."
   ]
  },
  {
   "cell_type": "markdown",
   "metadata": {},
   "source": [
    "## Data Cleaning and Feature Engineering\n",
    "\n",
    "In this stage, I will start with the data cleaning and the construction of new variables. Data cleaning will here entail the imputing of missing values with appropriate information, and fixing of mis-coded variables or variables that should be coded in a different way. Feature Engineering will be creating new variables that make use of information already in the datasets."
   ]
  },
  {
   "cell_type": "markdown",
   "metadata": {},
   "source": [
    "### Cleaning\n",
    "\n",
    "Cleaning will be done to both datasets together, so I combine them with the following code:"
   ]
  },
  {
   "cell_type": "code",
   "execution_count": 13,
   "metadata": {},
   "outputs": [],
   "source": [
    "#Combining Datasets\n",
    "ntrain = train_df.shape[0]\n",
    "full_df = pd.concat((train_df.drop('Target', axis = 1), test_df)).reset_index(drop = True)\n",
    "full_df = full_df.drop('Id', axis = 1)"
   ]
  },
  {
   "cell_type": "code",
   "execution_count": 14,
   "metadata": {},
   "outputs": [
    {
     "data": {
      "text/plain": [
       "(33413, 141)"
      ]
     },
     "execution_count": 14,
     "metadata": {},
     "output_type": "execute_result"
    }
   ],
   "source": [
    "full_df.shape"
   ]
  },
  {
   "cell_type": "markdown",
   "metadata": {},
   "source": [
    "Let's look at some missing values. The following code sorts all the variables in the dataset by the number of missing values that variable has:"
   ]
  },
  {
   "cell_type": "code",
   "execution_count": 15,
   "metadata": {},
   "outputs": [
    {
     "data": {
      "text/plain": [
       "rez_esc            27581\n",
       "v18q1              25468\n",
       "v2a1               24263\n",
       "meaneduc              36\n",
       "SQBmeaned             36\n",
       "v14a                   0\n",
       "sanitario6             0\n",
       "techocane              0\n",
       "techootro              0\n",
       "cielorazo              0\n",
       "abastaguadentro        0\n",
       "abastaguafuera         0\n",
       "abastaguano            0\n",
       "public                 0\n",
       "planpri                0\n",
       "noelec                 0\n",
       "coopele                0\n",
       "sanitario1             0\n",
       "sanitario2             0\n",
       "sanitario3             0\n",
       "sanitario5             0\n",
       "energcocinar1          0\n",
       "refrig                 0\n",
       "energcocinar2          0\n",
       "energcocinar3          0\n",
       "energcocinar4          0\n",
       "elimbasu1              0\n",
       "elimbasu2              0\n",
       "elimbasu3              0\n",
       "elimbasu4              0\n",
       "                   ...  \n",
       "parentesco2            0\n",
       "parentesco1            0\n",
       "estadocivil7           0\n",
       "estadocivil6           0\n",
       "estadocivil4           0\n",
       "instlevel2             0\n",
       "estadocivil3           0\n",
       "estadocivil2           0\n",
       "estadocivil1           0\n",
       "female                 0\n",
       "male                   0\n",
       "dis                    0\n",
       "parentesco5            0\n",
       "parentesco6            0\n",
       "parentesco7            0\n",
       "parentesco8            0\n",
       "parentesco9            0\n",
       "parentesco10           0\n",
       "parentesco11           0\n",
       "parentesco12           0\n",
       "idhogar                0\n",
       "hogar_nin              0\n",
       "hogar_adul             0\n",
       "hogar_mayor            0\n",
       "hogar_total            0\n",
       "dependency             0\n",
       "edjefe                 0\n",
       "edjefa                 0\n",
       "instlevel1             0\n",
       "eviv2                  0\n",
       "Length: 141, dtype: int64"
      ]
     },
     "execution_count": 15,
     "metadata": {},
     "output_type": "execute_result"
    }
   ],
   "source": [
    "full_df.isna().sum().sort_values(ascending = False)"
   ]
  },
  {
   "cell_type": "markdown",
   "metadata": {},
   "source": [
    "Well that is convenient: all of five variables in the combined dataset even have missing values at all. I list them below:\n",
    "\n",
    "**rez_esc** - Years behind in school\n",
    "\n",
    "**v18q1** - Number of tablets in the household\n",
    "\n",
    "**v2a1** - Monthly rent payment\n",
    "\n",
    "**meaneduc** - Average years of education for adults in the household\n",
    "\n",
    "**SQBmeaned** - Average years of education for adults squared"
   ]
  },
  {
   "cell_type": "markdown",
   "metadata": {},
   "source": [
    "First, I'll investigate the \"Number of Tablets in the House\" variable:"
   ]
  },
  {
   "cell_type": "code",
   "execution_count": 16,
   "metadata": {},
   "outputs": [
    {
     "data": {
      "text/plain": [
       "0    NaN\n",
       "1    1.0\n",
       "2    NaN\n",
       "3    1.0\n",
       "4    1.0\n",
       "5    1.0\n",
       "6    1.0\n",
       "7    NaN\n",
       "8    NaN\n",
       "9    NaN\n",
       "Name: v18q1, dtype: float64"
      ]
     },
     "execution_count": 16,
     "metadata": {},
     "output_type": "execute_result"
    }
   ],
   "source": [
    "full_df['v18q1'].head(10)"
   ]
  },
  {
   "cell_type": "code",
   "execution_count": 17,
   "metadata": {},
   "outputs": [
    {
     "data": {
      "text/plain": [
       "1.0    5883\n",
       "2.0    1449\n",
       "3.0     447\n",
       "4.0     125\n",
       "5.0      31\n",
       "6.0      10\n",
       "Name: v18q1, dtype: int64"
      ]
     },
     "execution_count": 17,
     "metadata": {},
     "output_type": "execute_result"
    }
   ],
   "source": [
    "full_df['v18q1'].value_counts()"
   ]
  },
  {
   "cell_type": "markdown",
   "metadata": {},
   "source": [
    "It's probably the case that a missing value denotes not having any tablets at all. There happens to be a dummy variable that records owning at least one tablet, and its zero values seem to correspond with missing values of the categorical variable."
   ]
  },
  {
   "cell_type": "code",
   "execution_count": 18,
   "metadata": {},
   "outputs": [
    {
     "data": {
      "text/plain": [
       "0    0\n",
       "1    1\n",
       "2    0\n",
       "3    1\n",
       "4    1\n",
       "5    1\n",
       "6    1\n",
       "7    0\n",
       "8    0\n",
       "9    0\n",
       "Name: v18q, dtype: int64"
      ]
     },
     "execution_count": 18,
     "metadata": {},
     "output_type": "execute_result"
    }
   ],
   "source": [
    "full_df['v18q'].head(10)"
   ]
  },
  {
   "cell_type": "code",
   "execution_count": 19,
   "metadata": {},
   "outputs": [],
   "source": [
    "full_df.v18q1 = full_df.v18q1.fillna(0)"
   ]
  },
  {
   "cell_type": "markdown",
   "metadata": {},
   "source": [
    "I'll now look at the mean education variable. The documentation says it's the average level of education for adults (presumably) in the household so there's no clear indicator for why this might be missing. There are 36 of these values - I'll take a look at all of these rows:"
   ]
  },
  {
   "cell_type": "code",
   "execution_count": 20,
   "metadata": {},
   "outputs": [
    {
     "data": {
      "text/html": [
       "<div>\n",
       "<style scoped>\n",
       "    .dataframe tbody tr th:only-of-type {\n",
       "        vertical-align: middle;\n",
       "    }\n",
       "\n",
       "    .dataframe tbody tr th {\n",
       "        vertical-align: top;\n",
       "    }\n",
       "\n",
       "    .dataframe thead th {\n",
       "        text-align: right;\n",
       "    }\n",
       "</style>\n",
       "<table border=\"1\" class=\"dataframe\">\n",
       "  <thead>\n",
       "    <tr style=\"text-align: right;\">\n",
       "      <th></th>\n",
       "      <th>v2a1</th>\n",
       "      <th>hacdor</th>\n",
       "      <th>rooms</th>\n",
       "      <th>hacapo</th>\n",
       "      <th>v14a</th>\n",
       "      <th>refrig</th>\n",
       "      <th>v18q</th>\n",
       "      <th>v18q1</th>\n",
       "      <th>r4h1</th>\n",
       "      <th>r4h2</th>\n",
       "      <th>...</th>\n",
       "      <th>age</th>\n",
       "      <th>SQBescolari</th>\n",
       "      <th>SQBage</th>\n",
       "      <th>SQBhogar_total</th>\n",
       "      <th>SQBedjefe</th>\n",
       "      <th>SQBhogar_nin</th>\n",
       "      <th>SQBovercrowding</th>\n",
       "      <th>SQBdependency</th>\n",
       "      <th>SQBmeaned</th>\n",
       "      <th>agesq</th>\n",
       "    </tr>\n",
       "  </thead>\n",
       "  <tbody>\n",
       "    <tr>\n",
       "      <th>1291</th>\n",
       "      <td>NaN</td>\n",
       "      <td>0</td>\n",
       "      <td>7</td>\n",
       "      <td>0</td>\n",
       "      <td>1</td>\n",
       "      <td>1</td>\n",
       "      <td>0</td>\n",
       "      <td>0.0</td>\n",
       "      <td>0</td>\n",
       "      <td>0</td>\n",
       "      <td>...</td>\n",
       "      <td>18</td>\n",
       "      <td>100</td>\n",
       "      <td>324</td>\n",
       "      <td>1</td>\n",
       "      <td>0</td>\n",
       "      <td>1</td>\n",
       "      <td>0.040000</td>\n",
       "      <td>64.0</td>\n",
       "      <td>NaN</td>\n",
       "      <td>324</td>\n",
       "    </tr>\n",
       "    <tr>\n",
       "      <th>1840</th>\n",
       "      <td>110000.0</td>\n",
       "      <td>0</td>\n",
       "      <td>1</td>\n",
       "      <td>0</td>\n",
       "      <td>1</td>\n",
       "      <td>1</td>\n",
       "      <td>0</td>\n",
       "      <td>0.0</td>\n",
       "      <td>0</td>\n",
       "      <td>1</td>\n",
       "      <td>...</td>\n",
       "      <td>18</td>\n",
       "      <td>36</td>\n",
       "      <td>324</td>\n",
       "      <td>4</td>\n",
       "      <td>16</td>\n",
       "      <td>4</td>\n",
       "      <td>4.000000</td>\n",
       "      <td>64.0</td>\n",
       "      <td>NaN</td>\n",
       "      <td>324</td>\n",
       "    </tr>\n",
       "    <tr>\n",
       "      <th>1841</th>\n",
       "      <td>110000.0</td>\n",
       "      <td>0</td>\n",
       "      <td>1</td>\n",
       "      <td>0</td>\n",
       "      <td>1</td>\n",
       "      <td>1</td>\n",
       "      <td>0</td>\n",
       "      <td>0.0</td>\n",
       "      <td>0</td>\n",
       "      <td>1</td>\n",
       "      <td>...</td>\n",
       "      <td>18</td>\n",
       "      <td>16</td>\n",
       "      <td>324</td>\n",
       "      <td>4</td>\n",
       "      <td>16</td>\n",
       "      <td>4</td>\n",
       "      <td>4.000000</td>\n",
       "      <td>64.0</td>\n",
       "      <td>NaN</td>\n",
       "      <td>324</td>\n",
       "    </tr>\n",
       "    <tr>\n",
       "      <th>2049</th>\n",
       "      <td>180000.0</td>\n",
       "      <td>0</td>\n",
       "      <td>3</td>\n",
       "      <td>0</td>\n",
       "      <td>1</td>\n",
       "      <td>1</td>\n",
       "      <td>0</td>\n",
       "      <td>0.0</td>\n",
       "      <td>0</td>\n",
       "      <td>2</td>\n",
       "      <td>...</td>\n",
       "      <td>19</td>\n",
       "      <td>144</td>\n",
       "      <td>361</td>\n",
       "      <td>4</td>\n",
       "      <td>144</td>\n",
       "      <td>4</td>\n",
       "      <td>1.000000</td>\n",
       "      <td>64.0</td>\n",
       "      <td>NaN</td>\n",
       "      <td>361</td>\n",
       "    </tr>\n",
       "    <tr>\n",
       "      <th>2050</th>\n",
       "      <td>180000.0</td>\n",
       "      <td>0</td>\n",
       "      <td>3</td>\n",
       "      <td>0</td>\n",
       "      <td>1</td>\n",
       "      <td>1</td>\n",
       "      <td>0</td>\n",
       "      <td>0.0</td>\n",
       "      <td>0</td>\n",
       "      <td>2</td>\n",
       "      <td>...</td>\n",
       "      <td>19</td>\n",
       "      <td>144</td>\n",
       "      <td>361</td>\n",
       "      <td>4</td>\n",
       "      <td>144</td>\n",
       "      <td>4</td>\n",
       "      <td>1.000000</td>\n",
       "      <td>64.0</td>\n",
       "      <td>NaN</td>\n",
       "      <td>361</td>\n",
       "    </tr>\n",
       "    <tr>\n",
       "      <th>9561</th>\n",
       "      <td>175000.0</td>\n",
       "      <td>0</td>\n",
       "      <td>4</td>\n",
       "      <td>0</td>\n",
       "      <td>1</td>\n",
       "      <td>1</td>\n",
       "      <td>1</td>\n",
       "      <td>1.0</td>\n",
       "      <td>0</td>\n",
       "      <td>0</td>\n",
       "      <td>...</td>\n",
       "      <td>18</td>\n",
       "      <td>121</td>\n",
       "      <td>324</td>\n",
       "      <td>1</td>\n",
       "      <td>0</td>\n",
       "      <td>1</td>\n",
       "      <td>0.250000</td>\n",
       "      <td>64.0</td>\n",
       "      <td>NaN</td>\n",
       "      <td>324</td>\n",
       "    </tr>\n",
       "    <tr>\n",
       "      <th>10092</th>\n",
       "      <td>399378.0</td>\n",
       "      <td>0</td>\n",
       "      <td>6</td>\n",
       "      <td>0</td>\n",
       "      <td>1</td>\n",
       "      <td>0</td>\n",
       "      <td>1</td>\n",
       "      <td>3.0</td>\n",
       "      <td>0</td>\n",
       "      <td>0</td>\n",
       "      <td>...</td>\n",
       "      <td>18</td>\n",
       "      <td>121</td>\n",
       "      <td>324</td>\n",
       "      <td>1</td>\n",
       "      <td>0</td>\n",
       "      <td>1</td>\n",
       "      <td>1.000000</td>\n",
       "      <td>64.0</td>\n",
       "      <td>NaN</td>\n",
       "      <td>324</td>\n",
       "    </tr>\n",
       "    <tr>\n",
       "      <th>10093</th>\n",
       "      <td>180000.0</td>\n",
       "      <td>0</td>\n",
       "      <td>4</td>\n",
       "      <td>0</td>\n",
       "      <td>1</td>\n",
       "      <td>1</td>\n",
       "      <td>0</td>\n",
       "      <td>0.0</td>\n",
       "      <td>0</td>\n",
       "      <td>0</td>\n",
       "      <td>...</td>\n",
       "      <td>19</td>\n",
       "      <td>144</td>\n",
       "      <td>361</td>\n",
       "      <td>4</td>\n",
       "      <td>0</td>\n",
       "      <td>4</td>\n",
       "      <td>1.000000</td>\n",
       "      <td>64.0</td>\n",
       "      <td>NaN</td>\n",
       "      <td>361</td>\n",
       "    </tr>\n",
       "    <tr>\n",
       "      <th>10094</th>\n",
       "      <td>180000.0</td>\n",
       "      <td>0</td>\n",
       "      <td>4</td>\n",
       "      <td>0</td>\n",
       "      <td>1</td>\n",
       "      <td>1</td>\n",
       "      <td>0</td>\n",
       "      <td>0.0</td>\n",
       "      <td>0</td>\n",
       "      <td>0</td>\n",
       "      <td>...</td>\n",
       "      <td>19</td>\n",
       "      <td>144</td>\n",
       "      <td>361</td>\n",
       "      <td>4</td>\n",
       "      <td>0</td>\n",
       "      <td>4</td>\n",
       "      <td>1.000000</td>\n",
       "      <td>64.0</td>\n",
       "      <td>NaN</td>\n",
       "      <td>361</td>\n",
       "    </tr>\n",
       "    <tr>\n",
       "      <th>12169</th>\n",
       "      <td>100000.0</td>\n",
       "      <td>0</td>\n",
       "      <td>2</td>\n",
       "      <td>0</td>\n",
       "      <td>1</td>\n",
       "      <td>1</td>\n",
       "      <td>0</td>\n",
       "      <td>0.0</td>\n",
       "      <td>0</td>\n",
       "      <td>1</td>\n",
       "      <td>...</td>\n",
       "      <td>19</td>\n",
       "      <td>64</td>\n",
       "      <td>361</td>\n",
       "      <td>4</td>\n",
       "      <td>64</td>\n",
       "      <td>4</td>\n",
       "      <td>4.000000</td>\n",
       "      <td>64.0</td>\n",
       "      <td>NaN</td>\n",
       "      <td>361</td>\n",
       "    </tr>\n",
       "    <tr>\n",
       "      <th>12170</th>\n",
       "      <td>100000.0</td>\n",
       "      <td>0</td>\n",
       "      <td>2</td>\n",
       "      <td>0</td>\n",
       "      <td>1</td>\n",
       "      <td>1</td>\n",
       "      <td>0</td>\n",
       "      <td>0.0</td>\n",
       "      <td>0</td>\n",
       "      <td>1</td>\n",
       "      <td>...</td>\n",
       "      <td>17</td>\n",
       "      <td>36</td>\n",
       "      <td>289</td>\n",
       "      <td>4</td>\n",
       "      <td>64</td>\n",
       "      <td>4</td>\n",
       "      <td>4.000000</td>\n",
       "      <td>64.0</td>\n",
       "      <td>NaN</td>\n",
       "      <td>289</td>\n",
       "    </tr>\n",
       "    <tr>\n",
       "      <th>16366</th>\n",
       "      <td>135000.0</td>\n",
       "      <td>0</td>\n",
       "      <td>3</td>\n",
       "      <td>0</td>\n",
       "      <td>1</td>\n",
       "      <td>1</td>\n",
       "      <td>0</td>\n",
       "      <td>0.0</td>\n",
       "      <td>0</td>\n",
       "      <td>0</td>\n",
       "      <td>...</td>\n",
       "      <td>18</td>\n",
       "      <td>144</td>\n",
       "      <td>324</td>\n",
       "      <td>4</td>\n",
       "      <td>0</td>\n",
       "      <td>4</td>\n",
       "      <td>1.000000</td>\n",
       "      <td>64.0</td>\n",
       "      <td>NaN</td>\n",
       "      <td>324</td>\n",
       "    </tr>\n",
       "    <tr>\n",
       "      <th>16367</th>\n",
       "      <td>135000.0</td>\n",
       "      <td>0</td>\n",
       "      <td>3</td>\n",
       "      <td>0</td>\n",
       "      <td>1</td>\n",
       "      <td>1</td>\n",
       "      <td>0</td>\n",
       "      <td>0.0</td>\n",
       "      <td>0</td>\n",
       "      <td>0</td>\n",
       "      <td>...</td>\n",
       "      <td>19</td>\n",
       "      <td>144</td>\n",
       "      <td>361</td>\n",
       "      <td>4</td>\n",
       "      <td>0</td>\n",
       "      <td>4</td>\n",
       "      <td>1.000000</td>\n",
       "      <td>64.0</td>\n",
       "      <td>NaN</td>\n",
       "      <td>361</td>\n",
       "    </tr>\n",
       "    <tr>\n",
       "      <th>16823</th>\n",
       "      <td>90000.0</td>\n",
       "      <td>0</td>\n",
       "      <td>3</td>\n",
       "      <td>0</td>\n",
       "      <td>1</td>\n",
       "      <td>1</td>\n",
       "      <td>0</td>\n",
       "      <td>0.0</td>\n",
       "      <td>0</td>\n",
       "      <td>1</td>\n",
       "      <td>...</td>\n",
       "      <td>19</td>\n",
       "      <td>144</td>\n",
       "      <td>361</td>\n",
       "      <td>4</td>\n",
       "      <td>144</td>\n",
       "      <td>4</td>\n",
       "      <td>4.000000</td>\n",
       "      <td>64.0</td>\n",
       "      <td>NaN</td>\n",
       "      <td>361</td>\n",
       "    </tr>\n",
       "    <tr>\n",
       "      <th>16824</th>\n",
       "      <td>90000.0</td>\n",
       "      <td>0</td>\n",
       "      <td>3</td>\n",
       "      <td>0</td>\n",
       "      <td>1</td>\n",
       "      <td>1</td>\n",
       "      <td>0</td>\n",
       "      <td>0.0</td>\n",
       "      <td>0</td>\n",
       "      <td>1</td>\n",
       "      <td>...</td>\n",
       "      <td>18</td>\n",
       "      <td>100</td>\n",
       "      <td>324</td>\n",
       "      <td>4</td>\n",
       "      <td>144</td>\n",
       "      <td>4</td>\n",
       "      <td>4.000000</td>\n",
       "      <td>64.0</td>\n",
       "      <td>NaN</td>\n",
       "      <td>324</td>\n",
       "    </tr>\n",
       "    <tr>\n",
       "      <th>25365</th>\n",
       "      <td>NaN</td>\n",
       "      <td>0</td>\n",
       "      <td>5</td>\n",
       "      <td>0</td>\n",
       "      <td>1</td>\n",
       "      <td>1</td>\n",
       "      <td>0</td>\n",
       "      <td>0.0</td>\n",
       "      <td>1</td>\n",
       "      <td>1</td>\n",
       "      <td>...</td>\n",
       "      <td>19</td>\n",
       "      <td>36</td>\n",
       "      <td>361</td>\n",
       "      <td>9</td>\n",
       "      <td>36</td>\n",
       "      <td>9</td>\n",
       "      <td>2.250000</td>\n",
       "      <td>64.0</td>\n",
       "      <td>NaN</td>\n",
       "      <td>361</td>\n",
       "    </tr>\n",
       "    <tr>\n",
       "      <th>25366</th>\n",
       "      <td>NaN</td>\n",
       "      <td>0</td>\n",
       "      <td>5</td>\n",
       "      <td>0</td>\n",
       "      <td>1</td>\n",
       "      <td>1</td>\n",
       "      <td>0</td>\n",
       "      <td>0.0</td>\n",
       "      <td>1</td>\n",
       "      <td>1</td>\n",
       "      <td>...</td>\n",
       "      <td>18</td>\n",
       "      <td>64</td>\n",
       "      <td>324</td>\n",
       "      <td>9</td>\n",
       "      <td>36</td>\n",
       "      <td>9</td>\n",
       "      <td>2.250000</td>\n",
       "      <td>64.0</td>\n",
       "      <td>NaN</td>\n",
       "      <td>324</td>\n",
       "    </tr>\n",
       "    <tr>\n",
       "      <th>25367</th>\n",
       "      <td>NaN</td>\n",
       "      <td>0</td>\n",
       "      <td>5</td>\n",
       "      <td>0</td>\n",
       "      <td>1</td>\n",
       "      <td>1</td>\n",
       "      <td>0</td>\n",
       "      <td>0.0</td>\n",
       "      <td>1</td>\n",
       "      <td>1</td>\n",
       "      <td>...</td>\n",
       "      <td>2</td>\n",
       "      <td>0</td>\n",
       "      <td>4</td>\n",
       "      <td>9</td>\n",
       "      <td>36</td>\n",
       "      <td>9</td>\n",
       "      <td>2.250000</td>\n",
       "      <td>64.0</td>\n",
       "      <td>NaN</td>\n",
       "      <td>4</td>\n",
       "    </tr>\n",
       "    <tr>\n",
       "      <th>25653</th>\n",
       "      <td>NaN</td>\n",
       "      <td>0</td>\n",
       "      <td>1</td>\n",
       "      <td>0</td>\n",
       "      <td>1</td>\n",
       "      <td>0</td>\n",
       "      <td>0</td>\n",
       "      <td>0.0</td>\n",
       "      <td>0</td>\n",
       "      <td>0</td>\n",
       "      <td>...</td>\n",
       "      <td>2</td>\n",
       "      <td>0</td>\n",
       "      <td>4</td>\n",
       "      <td>4</td>\n",
       "      <td>0</td>\n",
       "      <td>4</td>\n",
       "      <td>4.000000</td>\n",
       "      <td>64.0</td>\n",
       "      <td>NaN</td>\n",
       "      <td>4</td>\n",
       "    </tr>\n",
       "    <tr>\n",
       "      <th>25654</th>\n",
       "      <td>NaN</td>\n",
       "      <td>0</td>\n",
       "      <td>1</td>\n",
       "      <td>0</td>\n",
       "      <td>1</td>\n",
       "      <td>0</td>\n",
       "      <td>0</td>\n",
       "      <td>0.0</td>\n",
       "      <td>0</td>\n",
       "      <td>0</td>\n",
       "      <td>...</td>\n",
       "      <td>18</td>\n",
       "      <td>49</td>\n",
       "      <td>324</td>\n",
       "      <td>4</td>\n",
       "      <td>0</td>\n",
       "      <td>4</td>\n",
       "      <td>4.000000</td>\n",
       "      <td>64.0</td>\n",
       "      <td>NaN</td>\n",
       "      <td>324</td>\n",
       "    </tr>\n",
       "    <tr>\n",
       "      <th>25848</th>\n",
       "      <td>NaN</td>\n",
       "      <td>0</td>\n",
       "      <td>4</td>\n",
       "      <td>0</td>\n",
       "      <td>1</td>\n",
       "      <td>1</td>\n",
       "      <td>0</td>\n",
       "      <td>0.0</td>\n",
       "      <td>0</td>\n",
       "      <td>1</td>\n",
       "      <td>...</td>\n",
       "      <td>17</td>\n",
       "      <td>81</td>\n",
       "      <td>289</td>\n",
       "      <td>1</td>\n",
       "      <td>81</td>\n",
       "      <td>1</td>\n",
       "      <td>0.250000</td>\n",
       "      <td>64.0</td>\n",
       "      <td>NaN</td>\n",
       "      <td>289</td>\n",
       "    </tr>\n",
       "    <tr>\n",
       "      <th>28978</th>\n",
       "      <td>NaN</td>\n",
       "      <td>0</td>\n",
       "      <td>3</td>\n",
       "      <td>0</td>\n",
       "      <td>1</td>\n",
       "      <td>1</td>\n",
       "      <td>0</td>\n",
       "      <td>0.0</td>\n",
       "      <td>0</td>\n",
       "      <td>0</td>\n",
       "      <td>...</td>\n",
       "      <td>18</td>\n",
       "      <td>121</td>\n",
       "      <td>324</td>\n",
       "      <td>1</td>\n",
       "      <td>0</td>\n",
       "      <td>1</td>\n",
       "      <td>0.250000</td>\n",
       "      <td>64.0</td>\n",
       "      <td>NaN</td>\n",
       "      <td>324</td>\n",
       "    </tr>\n",
       "    <tr>\n",
       "      <th>29542</th>\n",
       "      <td>NaN</td>\n",
       "      <td>0</td>\n",
       "      <td>5</td>\n",
       "      <td>0</td>\n",
       "      <td>1</td>\n",
       "      <td>1</td>\n",
       "      <td>1</td>\n",
       "      <td>1.0</td>\n",
       "      <td>0</td>\n",
       "      <td>0</td>\n",
       "      <td>...</td>\n",
       "      <td>19</td>\n",
       "      <td>100</td>\n",
       "      <td>361</td>\n",
       "      <td>1</td>\n",
       "      <td>0</td>\n",
       "      <td>1</td>\n",
       "      <td>0.111111</td>\n",
       "      <td>64.0</td>\n",
       "      <td>NaN</td>\n",
       "      <td>361</td>\n",
       "    </tr>\n",
       "    <tr>\n",
       "      <th>30693</th>\n",
       "      <td>NaN</td>\n",
       "      <td>0</td>\n",
       "      <td>2</td>\n",
       "      <td>0</td>\n",
       "      <td>0</td>\n",
       "      <td>0</td>\n",
       "      <td>0</td>\n",
       "      <td>0.0</td>\n",
       "      <td>1</td>\n",
       "      <td>0</td>\n",
       "      <td>...</td>\n",
       "      <td>18</td>\n",
       "      <td>36</td>\n",
       "      <td>324</td>\n",
       "      <td>4</td>\n",
       "      <td>0</td>\n",
       "      <td>4</td>\n",
       "      <td>4.000000</td>\n",
       "      <td>64.0</td>\n",
       "      <td>NaN</td>\n",
       "      <td>324</td>\n",
       "    </tr>\n",
       "    <tr>\n",
       "      <th>30694</th>\n",
       "      <td>NaN</td>\n",
       "      <td>0</td>\n",
       "      <td>2</td>\n",
       "      <td>0</td>\n",
       "      <td>0</td>\n",
       "      <td>0</td>\n",
       "      <td>0</td>\n",
       "      <td>0.0</td>\n",
       "      <td>1</td>\n",
       "      <td>0</td>\n",
       "      <td>...</td>\n",
       "      <td>2</td>\n",
       "      <td>0</td>\n",
       "      <td>4</td>\n",
       "      <td>4</td>\n",
       "      <td>0</td>\n",
       "      <td>4</td>\n",
       "      <td>4.000000</td>\n",
       "      <td>64.0</td>\n",
       "      <td>NaN</td>\n",
       "      <td>4</td>\n",
       "    </tr>\n",
       "    <tr>\n",
       "      <th>31201</th>\n",
       "      <td>NaN</td>\n",
       "      <td>0</td>\n",
       "      <td>3</td>\n",
       "      <td>0</td>\n",
       "      <td>0</td>\n",
       "      <td>0</td>\n",
       "      <td>0</td>\n",
       "      <td>0.0</td>\n",
       "      <td>1</td>\n",
       "      <td>0</td>\n",
       "      <td>...</td>\n",
       "      <td>17</td>\n",
       "      <td>81</td>\n",
       "      <td>289</td>\n",
       "      <td>4</td>\n",
       "      <td>0</td>\n",
       "      <td>4</td>\n",
       "      <td>1.000000</td>\n",
       "      <td>64.0</td>\n",
       "      <td>NaN</td>\n",
       "      <td>289</td>\n",
       "    </tr>\n",
       "    <tr>\n",
       "      <th>31202</th>\n",
       "      <td>NaN</td>\n",
       "      <td>0</td>\n",
       "      <td>3</td>\n",
       "      <td>0</td>\n",
       "      <td>0</td>\n",
       "      <td>0</td>\n",
       "      <td>0</td>\n",
       "      <td>0.0</td>\n",
       "      <td>1</td>\n",
       "      <td>0</td>\n",
       "      <td>...</td>\n",
       "      <td>1</td>\n",
       "      <td>0</td>\n",
       "      <td>1</td>\n",
       "      <td>4</td>\n",
       "      <td>0</td>\n",
       "      <td>4</td>\n",
       "      <td>1.000000</td>\n",
       "      <td>64.0</td>\n",
       "      <td>NaN</td>\n",
       "      <td>1</td>\n",
       "    </tr>\n",
       "    <tr>\n",
       "      <th>31381</th>\n",
       "      <td>NaN</td>\n",
       "      <td>0</td>\n",
       "      <td>1</td>\n",
       "      <td>0</td>\n",
       "      <td>0</td>\n",
       "      <td>0</td>\n",
       "      <td>0</td>\n",
       "      <td>0.0</td>\n",
       "      <td>0</td>\n",
       "      <td>1</td>\n",
       "      <td>...</td>\n",
       "      <td>15</td>\n",
       "      <td>49</td>\n",
       "      <td>225</td>\n",
       "      <td>4</td>\n",
       "      <td>0</td>\n",
       "      <td>4</td>\n",
       "      <td>4.000000</td>\n",
       "      <td>64.0</td>\n",
       "      <td>NaN</td>\n",
       "      <td>225</td>\n",
       "    </tr>\n",
       "    <tr>\n",
       "      <th>31382</th>\n",
       "      <td>NaN</td>\n",
       "      <td>0</td>\n",
       "      <td>1</td>\n",
       "      <td>0</td>\n",
       "      <td>0</td>\n",
       "      <td>0</td>\n",
       "      <td>0</td>\n",
       "      <td>0.0</td>\n",
       "      <td>0</td>\n",
       "      <td>1</td>\n",
       "      <td>...</td>\n",
       "      <td>18</td>\n",
       "      <td>81</td>\n",
       "      <td>324</td>\n",
       "      <td>4</td>\n",
       "      <td>0</td>\n",
       "      <td>4</td>\n",
       "      <td>4.000000</td>\n",
       "      <td>64.0</td>\n",
       "      <td>NaN</td>\n",
       "      <td>324</td>\n",
       "    </tr>\n",
       "    <tr>\n",
       "      <th>31383</th>\n",
       "      <td>50000.0</td>\n",
       "      <td>0</td>\n",
       "      <td>3</td>\n",
       "      <td>0</td>\n",
       "      <td>1</td>\n",
       "      <td>1</td>\n",
       "      <td>0</td>\n",
       "      <td>0.0</td>\n",
       "      <td>0</td>\n",
       "      <td>0</td>\n",
       "      <td>...</td>\n",
       "      <td>1</td>\n",
       "      <td>0</td>\n",
       "      <td>1</td>\n",
       "      <td>4</td>\n",
       "      <td>0</td>\n",
       "      <td>4</td>\n",
       "      <td>1.000000</td>\n",
       "      <td>64.0</td>\n",
       "      <td>NaN</td>\n",
       "      <td>1</td>\n",
       "    </tr>\n",
       "    <tr>\n",
       "      <th>31384</th>\n",
       "      <td>50000.0</td>\n",
       "      <td>0</td>\n",
       "      <td>3</td>\n",
       "      <td>0</td>\n",
       "      <td>1</td>\n",
       "      <td>1</td>\n",
       "      <td>0</td>\n",
       "      <td>0.0</td>\n",
       "      <td>0</td>\n",
       "      <td>0</td>\n",
       "      <td>...</td>\n",
       "      <td>18</td>\n",
       "      <td>36</td>\n",
       "      <td>324</td>\n",
       "      <td>4</td>\n",
       "      <td>0</td>\n",
       "      <td>4</td>\n",
       "      <td>1.000000</td>\n",
       "      <td>64.0</td>\n",
       "      <td>NaN</td>\n",
       "      <td>324</td>\n",
       "    </tr>\n",
       "    <tr>\n",
       "      <th>31682</th>\n",
       "      <td>50000.0</td>\n",
       "      <td>0</td>\n",
       "      <td>3</td>\n",
       "      <td>0</td>\n",
       "      <td>1</td>\n",
       "      <td>1</td>\n",
       "      <td>0</td>\n",
       "      <td>0.0</td>\n",
       "      <td>0</td>\n",
       "      <td>0</td>\n",
       "      <td>...</td>\n",
       "      <td>0</td>\n",
       "      <td>0</td>\n",
       "      <td>0</td>\n",
       "      <td>4</td>\n",
       "      <td>0</td>\n",
       "      <td>4</td>\n",
       "      <td>4.000000</td>\n",
       "      <td>64.0</td>\n",
       "      <td>NaN</td>\n",
       "      <td>0</td>\n",
       "    </tr>\n",
       "    <tr>\n",
       "      <th>31683</th>\n",
       "      <td>50000.0</td>\n",
       "      <td>0</td>\n",
       "      <td>3</td>\n",
       "      <td>0</td>\n",
       "      <td>1</td>\n",
       "      <td>1</td>\n",
       "      <td>0</td>\n",
       "      <td>0.0</td>\n",
       "      <td>0</td>\n",
       "      <td>0</td>\n",
       "      <td>...</td>\n",
       "      <td>18</td>\n",
       "      <td>81</td>\n",
       "      <td>324</td>\n",
       "      <td>4</td>\n",
       "      <td>0</td>\n",
       "      <td>4</td>\n",
       "      <td>4.000000</td>\n",
       "      <td>64.0</td>\n",
       "      <td>NaN</td>\n",
       "      <td>324</td>\n",
       "    </tr>\n",
       "    <tr>\n",
       "      <th>31893</th>\n",
       "      <td>NaN</td>\n",
       "      <td>0</td>\n",
       "      <td>5</td>\n",
       "      <td>0</td>\n",
       "      <td>1</td>\n",
       "      <td>1</td>\n",
       "      <td>0</td>\n",
       "      <td>0.0</td>\n",
       "      <td>0</td>\n",
       "      <td>1</td>\n",
       "      <td>...</td>\n",
       "      <td>18</td>\n",
       "      <td>49</td>\n",
       "      <td>324</td>\n",
       "      <td>9</td>\n",
       "      <td>36</td>\n",
       "      <td>9</td>\n",
       "      <td>2.777778</td>\n",
       "      <td>64.0</td>\n",
       "      <td>NaN</td>\n",
       "      <td>324</td>\n",
       "    </tr>\n",
       "    <tr>\n",
       "      <th>31894</th>\n",
       "      <td>NaN</td>\n",
       "      <td>0</td>\n",
       "      <td>5</td>\n",
       "      <td>0</td>\n",
       "      <td>1</td>\n",
       "      <td>1</td>\n",
       "      <td>0</td>\n",
       "      <td>0.0</td>\n",
       "      <td>0</td>\n",
       "      <td>1</td>\n",
       "      <td>...</td>\n",
       "      <td>1</td>\n",
       "      <td>0</td>\n",
       "      <td>1</td>\n",
       "      <td>9</td>\n",
       "      <td>36</td>\n",
       "      <td>9</td>\n",
       "      <td>2.777778</td>\n",
       "      <td>64.0</td>\n",
       "      <td>NaN</td>\n",
       "      <td>1</td>\n",
       "    </tr>\n",
       "    <tr>\n",
       "      <th>31895</th>\n",
       "      <td>NaN</td>\n",
       "      <td>0</td>\n",
       "      <td>5</td>\n",
       "      <td>0</td>\n",
       "      <td>1</td>\n",
       "      <td>1</td>\n",
       "      <td>0</td>\n",
       "      <td>0.0</td>\n",
       "      <td>0</td>\n",
       "      <td>1</td>\n",
       "      <td>...</td>\n",
       "      <td>18</td>\n",
       "      <td>36</td>\n",
       "      <td>324</td>\n",
       "      <td>9</td>\n",
       "      <td>36</td>\n",
       "      <td>9</td>\n",
       "      <td>2.777778</td>\n",
       "      <td>64.0</td>\n",
       "      <td>NaN</td>\n",
       "      <td>324</td>\n",
       "    </tr>\n",
       "  </tbody>\n",
       "</table>\n",
       "<p>36 rows × 141 columns</p>\n",
       "</div>"
      ],
      "text/plain": [
       "           v2a1  hacdor  rooms  hacapo  v14a  refrig  v18q  v18q1  r4h1  r4h2  \\\n",
       "1291        NaN       0      7       0     1       1     0    0.0     0     0   \n",
       "1840   110000.0       0      1       0     1       1     0    0.0     0     1   \n",
       "1841   110000.0       0      1       0     1       1     0    0.0     0     1   \n",
       "2049   180000.0       0      3       0     1       1     0    0.0     0     2   \n",
       "2050   180000.0       0      3       0     1       1     0    0.0     0     2   \n",
       "9561   175000.0       0      4       0     1       1     1    1.0     0     0   \n",
       "10092  399378.0       0      6       0     1       0     1    3.0     0     0   \n",
       "10093  180000.0       0      4       0     1       1     0    0.0     0     0   \n",
       "10094  180000.0       0      4       0     1       1     0    0.0     0     0   \n",
       "12169  100000.0       0      2       0     1       1     0    0.0     0     1   \n",
       "12170  100000.0       0      2       0     1       1     0    0.0     0     1   \n",
       "16366  135000.0       0      3       0     1       1     0    0.0     0     0   \n",
       "16367  135000.0       0      3       0     1       1     0    0.0     0     0   \n",
       "16823   90000.0       0      3       0     1       1     0    0.0     0     1   \n",
       "16824   90000.0       0      3       0     1       1     0    0.0     0     1   \n",
       "25365       NaN       0      5       0     1       1     0    0.0     1     1   \n",
       "25366       NaN       0      5       0     1       1     0    0.0     1     1   \n",
       "25367       NaN       0      5       0     1       1     0    0.0     1     1   \n",
       "25653       NaN       0      1       0     1       0     0    0.0     0     0   \n",
       "25654       NaN       0      1       0     1       0     0    0.0     0     0   \n",
       "25848       NaN       0      4       0     1       1     0    0.0     0     1   \n",
       "28978       NaN       0      3       0     1       1     0    0.0     0     0   \n",
       "29542       NaN       0      5       0     1       1     1    1.0     0     0   \n",
       "30693       NaN       0      2       0     0       0     0    0.0     1     0   \n",
       "30694       NaN       0      2       0     0       0     0    0.0     1     0   \n",
       "31201       NaN       0      3       0     0       0     0    0.0     1     0   \n",
       "31202       NaN       0      3       0     0       0     0    0.0     1     0   \n",
       "31381       NaN       0      1       0     0       0     0    0.0     0     1   \n",
       "31382       NaN       0      1       0     0       0     0    0.0     0     1   \n",
       "31383   50000.0       0      3       0     1       1     0    0.0     0     0   \n",
       "31384   50000.0       0      3       0     1       1     0    0.0     0     0   \n",
       "31682   50000.0       0      3       0     1       1     0    0.0     0     0   \n",
       "31683   50000.0       0      3       0     1       1     0    0.0     0     0   \n",
       "31893       NaN       0      5       0     1       1     0    0.0     0     1   \n",
       "31894       NaN       0      5       0     1       1     0    0.0     0     1   \n",
       "31895       NaN       0      5       0     1       1     0    0.0     0     1   \n",
       "\n",
       "       ...    age  SQBescolari  SQBage  SQBhogar_total  SQBedjefe  \\\n",
       "1291   ...     18          100     324               1          0   \n",
       "1840   ...     18           36     324               4         16   \n",
       "1841   ...     18           16     324               4         16   \n",
       "2049   ...     19          144     361               4        144   \n",
       "2050   ...     19          144     361               4        144   \n",
       "9561   ...     18          121     324               1          0   \n",
       "10092  ...     18          121     324               1          0   \n",
       "10093  ...     19          144     361               4          0   \n",
       "10094  ...     19          144     361               4          0   \n",
       "12169  ...     19           64     361               4         64   \n",
       "12170  ...     17           36     289               4         64   \n",
       "16366  ...     18          144     324               4          0   \n",
       "16367  ...     19          144     361               4          0   \n",
       "16823  ...     19          144     361               4        144   \n",
       "16824  ...     18          100     324               4        144   \n",
       "25365  ...     19           36     361               9         36   \n",
       "25366  ...     18           64     324               9         36   \n",
       "25367  ...      2            0       4               9         36   \n",
       "25653  ...      2            0       4               4          0   \n",
       "25654  ...     18           49     324               4          0   \n",
       "25848  ...     17           81     289               1         81   \n",
       "28978  ...     18          121     324               1          0   \n",
       "29542  ...     19          100     361               1          0   \n",
       "30693  ...     18           36     324               4          0   \n",
       "30694  ...      2            0       4               4          0   \n",
       "31201  ...     17           81     289               4          0   \n",
       "31202  ...      1            0       1               4          0   \n",
       "31381  ...     15           49     225               4          0   \n",
       "31382  ...     18           81     324               4          0   \n",
       "31383  ...      1            0       1               4          0   \n",
       "31384  ...     18           36     324               4          0   \n",
       "31682  ...      0            0       0               4          0   \n",
       "31683  ...     18           81     324               4          0   \n",
       "31893  ...     18           49     324               9         36   \n",
       "31894  ...      1            0       1               9         36   \n",
       "31895  ...     18           36     324               9         36   \n",
       "\n",
       "       SQBhogar_nin  SQBovercrowding  SQBdependency  SQBmeaned  agesq  \n",
       "1291              1         0.040000           64.0        NaN    324  \n",
       "1840              4         4.000000           64.0        NaN    324  \n",
       "1841              4         4.000000           64.0        NaN    324  \n",
       "2049              4         1.000000           64.0        NaN    361  \n",
       "2050              4         1.000000           64.0        NaN    361  \n",
       "9561              1         0.250000           64.0        NaN    324  \n",
       "10092             1         1.000000           64.0        NaN    324  \n",
       "10093             4         1.000000           64.0        NaN    361  \n",
       "10094             4         1.000000           64.0        NaN    361  \n",
       "12169             4         4.000000           64.0        NaN    361  \n",
       "12170             4         4.000000           64.0        NaN    289  \n",
       "16366             4         1.000000           64.0        NaN    324  \n",
       "16367             4         1.000000           64.0        NaN    361  \n",
       "16823             4         4.000000           64.0        NaN    361  \n",
       "16824             4         4.000000           64.0        NaN    324  \n",
       "25365             9         2.250000           64.0        NaN    361  \n",
       "25366             9         2.250000           64.0        NaN    324  \n",
       "25367             9         2.250000           64.0        NaN      4  \n",
       "25653             4         4.000000           64.0        NaN      4  \n",
       "25654             4         4.000000           64.0        NaN    324  \n",
       "25848             1         0.250000           64.0        NaN    289  \n",
       "28978             1         0.250000           64.0        NaN    324  \n",
       "29542             1         0.111111           64.0        NaN    361  \n",
       "30693             4         4.000000           64.0        NaN    324  \n",
       "30694             4         4.000000           64.0        NaN      4  \n",
       "31201             4         1.000000           64.0        NaN    289  \n",
       "31202             4         1.000000           64.0        NaN      1  \n",
       "31381             4         4.000000           64.0        NaN    225  \n",
       "31382             4         4.000000           64.0        NaN    324  \n",
       "31383             4         1.000000           64.0        NaN      1  \n",
       "31384             4         1.000000           64.0        NaN    324  \n",
       "31682             4         4.000000           64.0        NaN      0  \n",
       "31683             4         4.000000           64.0        NaN    324  \n",
       "31893             9         2.777778           64.0        NaN    324  \n",
       "31894             9         2.777778           64.0        NaN      1  \n",
       "31895             9         2.777778           64.0        NaN    324  \n",
       "\n",
       "[36 rows x 141 columns]"
      ]
     },
     "execution_count": 20,
     "metadata": {},
     "output_type": "execute_result"
    }
   ],
   "source": [
    "full_df.loc[(full_df['SQBmeaned'].isnull()) & (full_df['meaneduc'].isnull())]"
   ]
  },
  {
   "cell_type": "markdown",
   "metadata": {},
   "source": [
    "Though I can't see the variable in question, these are all the columns where the Mean Education variable is missing. All missing values of this variable similarly correspond to missing Education Squared variable values. No clear indicators stick out to me as to why any value would be missing - their rent payments, house characteristics, and household demographics all seem to vary widely. \n",
    "\n",
    "To deal with these, I'll just impute the median value grouped by years of schooling. It's reasonable to think that the distributions of years of schooling are similar within cohorts of years of schooling."
   ]
  },
  {
   "cell_type": "code",
   "execution_count": 21,
   "metadata": {},
   "outputs": [],
   "source": [
    "#Imputing Missing \"Mean Education\" Values with Median of \"Years of Schooling\" Group\n",
    "full_df['meaneduc'] = full_df.groupby('escolari')['meaneduc'].transform(lambda x: x.fillna(x.median()))\n",
    "\n",
    "#Filling in \"Mean Education Squared\"\n",
    "full_df['SQBmeaned'] = (full_df.meaneduc)**2"
   ]
  },
  {
   "cell_type": "markdown",
   "metadata": {},
   "source": [
    "I'm not sure to begin with the \"Years Behind\" variable, but I'll start with a cross-tabulation. Hopefully, this can give me a hint as to whether the the missing values are overrepresented in certain age groups:"
   ]
  },
  {
   "cell_type": "code",
   "execution_count": 22,
   "metadata": {},
   "outputs": [
    {
     "data": {
      "text/html": [
       "<div>\n",
       "<style scoped>\n",
       "    .dataframe tbody tr th:only-of-type {\n",
       "        vertical-align: middle;\n",
       "    }\n",
       "\n",
       "    .dataframe tbody tr th {\n",
       "        vertical-align: top;\n",
       "    }\n",
       "\n",
       "    .dataframe thead th {\n",
       "        text-align: right;\n",
       "    }\n",
       "</style>\n",
       "<table border=\"1\" class=\"dataframe\">\n",
       "  <thead>\n",
       "    <tr style=\"text-align: right;\">\n",
       "      <th>age</th>\n",
       "      <th>7</th>\n",
       "      <th>8</th>\n",
       "      <th>9</th>\n",
       "      <th>10</th>\n",
       "      <th>11</th>\n",
       "      <th>12</th>\n",
       "      <th>13</th>\n",
       "      <th>14</th>\n",
       "      <th>15</th>\n",
       "      <th>16</th>\n",
       "      <th>17</th>\n",
       "    </tr>\n",
       "    <tr>\n",
       "      <th>rez_esc</th>\n",
       "      <th></th>\n",
       "      <th></th>\n",
       "      <th></th>\n",
       "      <th></th>\n",
       "      <th></th>\n",
       "      <th></th>\n",
       "      <th></th>\n",
       "      <th></th>\n",
       "      <th></th>\n",
       "      <th></th>\n",
       "      <th></th>\n",
       "    </tr>\n",
       "  </thead>\n",
       "  <tbody>\n",
       "    <tr>\n",
       "      <th>0.0</th>\n",
       "      <td>478</td>\n",
       "      <td>512</td>\n",
       "      <td>480</td>\n",
       "      <td>456</td>\n",
       "      <td>374</td>\n",
       "      <td>433</td>\n",
       "      <td>454</td>\n",
       "      <td>377</td>\n",
       "      <td>329</td>\n",
       "      <td>326</td>\n",
       "      <td>255</td>\n",
       "    </tr>\n",
       "    <tr>\n",
       "      <th>1.0</th>\n",
       "      <td>0</td>\n",
       "      <td>18</td>\n",
       "      <td>33</td>\n",
       "      <td>58</td>\n",
       "      <td>55</td>\n",
       "      <td>69</td>\n",
       "      <td>60</td>\n",
       "      <td>97</td>\n",
       "      <td>113</td>\n",
       "      <td>119</td>\n",
       "      <td>106</td>\n",
       "    </tr>\n",
       "    <tr>\n",
       "      <th>2.0</th>\n",
       "      <td>0</td>\n",
       "      <td>0</td>\n",
       "      <td>2</td>\n",
       "      <td>5</td>\n",
       "      <td>12</td>\n",
       "      <td>21</td>\n",
       "      <td>21</td>\n",
       "      <td>24</td>\n",
       "      <td>76</td>\n",
       "      <td>91</td>\n",
       "      <td>84</td>\n",
       "    </tr>\n",
       "    <tr>\n",
       "      <th>3.0</th>\n",
       "      <td>0</td>\n",
       "      <td>0</td>\n",
       "      <td>0</td>\n",
       "      <td>4</td>\n",
       "      <td>3</td>\n",
       "      <td>6</td>\n",
       "      <td>5</td>\n",
       "      <td>6</td>\n",
       "      <td>8</td>\n",
       "      <td>75</td>\n",
       "      <td>67</td>\n",
       "    </tr>\n",
       "    <tr>\n",
       "      <th>4.0</th>\n",
       "      <td>0</td>\n",
       "      <td>0</td>\n",
       "      <td>0</td>\n",
       "      <td>0</td>\n",
       "      <td>1</td>\n",
       "      <td>1</td>\n",
       "      <td>1</td>\n",
       "      <td>0</td>\n",
       "      <td>1</td>\n",
       "      <td>7</td>\n",
       "      <td>69</td>\n",
       "    </tr>\n",
       "    <tr>\n",
       "      <th>5.0</th>\n",
       "      <td>0</td>\n",
       "      <td>0</td>\n",
       "      <td>0</td>\n",
       "      <td>0</td>\n",
       "      <td>0</td>\n",
       "      <td>5</td>\n",
       "      <td>3</td>\n",
       "      <td>5</td>\n",
       "      <td>4</td>\n",
       "      <td>9</td>\n",
       "      <td>13</td>\n",
       "    </tr>\n",
       "    <tr>\n",
       "      <th>99.0</th>\n",
       "      <td>0</td>\n",
       "      <td>1</td>\n",
       "      <td>0</td>\n",
       "      <td>0</td>\n",
       "      <td>0</td>\n",
       "      <td>0</td>\n",
       "      <td>0</td>\n",
       "      <td>0</td>\n",
       "      <td>0</td>\n",
       "      <td>0</td>\n",
       "      <td>0</td>\n",
       "    </tr>\n",
       "  </tbody>\n",
       "</table>\n",
       "</div>"
      ],
      "text/plain": [
       "age       7    8    9    10   11   12   13   14   15   16   17\n",
       "rez_esc                                                       \n",
       "0.0      478  512  480  456  374  433  454  377  329  326  255\n",
       "1.0        0   18   33   58   55   69   60   97  113  119  106\n",
       "2.0        0    0    2    5   12   21   21   24   76   91   84\n",
       "3.0        0    0    0    4    3    6    5    6    8   75   67\n",
       "4.0        0    0    0    0    1    1    1    0    1    7   69\n",
       "5.0        0    0    0    0    0    5    3    5    4    9   13\n",
       "99.0       0    1    0    0    0    0    0    0    0    0    0"
      ]
     },
     "execution_count": 22,
     "metadata": {},
     "output_type": "execute_result"
    }
   ],
   "source": [
    "pd.crosstab(full_df['rez_esc'], full_df['age'])"
   ]
  },
  {
   "cell_type": "markdown",
   "metadata": {},
   "source": [
    "Shoot: missing values don't seem to appear on this chart. However, this chart does show that the variable seems only to apply to people in the 7 to 17 age range. This makes sense - in order to be behind in school, you have to be in school in the first place; namely, in *public school* where being behind is even a concern. The first part of dealing with this, then, will just be filling in zeros for those outside the relevant age group.\n",
    "\n",
    "There also appears to be a pesky 99. I imagine this was supposed to be a missing value? I'll recode this before I impute the missing values."
   ]
  },
  {
   "cell_type": "code",
   "execution_count": 23,
   "metadata": {},
   "outputs": [
    {
     "data": {
      "text/plain": [
       "5"
      ]
     },
     "execution_count": 23,
     "metadata": {},
     "output_type": "execute_result"
    }
   ],
   "source": [
    "#Recode \"Years Behind\" as Zero for Not-In-School Observations\n",
    "full_df.loc[((full_df['age'] >= 17) | (full_df['age'] < 7)) & (full_df['rez_esc'].isnull()), 'rez_esc'] = 0\n",
    "\n",
    "#Fix Pesky 99\n",
    "full_df.loc[(full_df['rez_esc'] == 99)] = 0\n",
    "\n",
    "#Checks remaining Missing Values\n",
    "full_df['rez_esc'].isna().sum()"
   ]
  },
  {
   "cell_type": "markdown",
   "metadata": {},
   "source": [
    "Only five missing values remain, but I'll deal with them responsibly. I reckon the most appropriate fix would be to impute missing values with the median \"Years Behind\" value of that observation's Mean Education group within the training data. Of all the groups in the data, I imagine that average household education affects anyone's \"Years Behind\" the most (actually, it is probably income but predicting missing values based on the Target could cause an endogeneity problem). My reasoning is that assuming parents are the principal deciders of who goes to school and who doesn't, their lack of recognizing the benefits of their education itself (low levels of \"Mean Education\") may correspond to unwillingness to support their children through school (higher levels of \"Years Behind\" values). "
   ]
  },
  {
   "cell_type": "code",
   "execution_count": 24,
   "metadata": {},
   "outputs": [],
   "source": [
    "#Imputes Missing \"Years Behind\" Values with Median of \"Mean Education\"\n",
    "full_df['rez_esc'] = full_df.groupby('meaneduc')['rez_esc'].transform(lambda x: x.fillna(x.median()))"
   ]
  },
  {
   "cell_type": "markdown",
   "metadata": {},
   "source": [
    "For the last missing variable, Rent Payments, I'll similarly make a cross-tabulation to see if higher rates of missing values are associated with different home ownership statuses. I'll do this using a binary flag showing whether the variable in question (Rent Payments) is missing, and tabulate this with different specifications of home ownership."
   ]
  },
  {
   "cell_type": "code",
   "execution_count": 25,
   "metadata": {},
   "outputs": [
    {
     "data": {
      "text/html": [
       "<div>\n",
       "<style scoped>\n",
       "    .dataframe tbody tr th:only-of-type {\n",
       "        vertical-align: middle;\n",
       "    }\n",
       "\n",
       "    .dataframe tbody tr th {\n",
       "        vertical-align: top;\n",
       "    }\n",
       "\n",
       "    .dataframe thead th {\n",
       "        text-align: right;\n",
       "    }\n",
       "</style>\n",
       "<table border=\"1\" class=\"dataframe\">\n",
       "  <thead>\n",
       "    <tr style=\"text-align: right;\">\n",
       "      <th>own_status</th>\n",
       "      <th>NaN</th>\n",
       "      <th>Other (Assigned, Borrowed)</th>\n",
       "      <th>Own, Fully Paid</th>\n",
       "      <th>Own, Paying in Installments</th>\n",
       "      <th>Precarious</th>\n",
       "      <th>Rented</th>\n",
       "    </tr>\n",
       "    <tr>\n",
       "      <th>missing_rent</th>\n",
       "      <th></th>\n",
       "      <th></th>\n",
       "      <th></th>\n",
       "      <th></th>\n",
       "      <th></th>\n",
       "      <th></th>\n",
       "    </tr>\n",
       "  </thead>\n",
       "  <tbody>\n",
       "    <tr>\n",
       "      <th>0</th>\n",
       "      <td>1</td>\n",
       "      <td>0</td>\n",
       "      <td>0</td>\n",
       "      <td>3497</td>\n",
       "      <td>0</td>\n",
       "      <td>5652</td>\n",
       "    </tr>\n",
       "    <tr>\n",
       "      <th>1</th>\n",
       "      <td>0</td>\n",
       "      <td>2822</td>\n",
       "      <td>20844</td>\n",
       "      <td>0</td>\n",
       "      <td>597</td>\n",
       "      <td>0</td>\n",
       "    </tr>\n",
       "  </tbody>\n",
       "</table>\n",
       "</div>"
      ],
      "text/plain": [
       "own_status    NaN  Other (Assigned, Borrowed)  Own, Fully Paid  \\\n",
       "missing_rent                                                     \n",
       "0               1                           0                0   \n",
       "1               0                        2822            20844   \n",
       "\n",
       "own_status    Own, Paying in Installments  Precarious  Rented  \n",
       "missing_rent                                                   \n",
       "0                                    3497           0    5652  \n",
       "1                                       0         597       0  "
      ]
     },
     "execution_count": 25,
     "metadata": {},
     "output_type": "execute_result"
    }
   ],
   "source": [
    "#Creates Binary Flag for Missing Values\n",
    "full_df['missing_rent'] = 0\n",
    "full_df.loc[(full_df.v2a1.isnull()), 'missing_rent'] = 1\n",
    "\n",
    "#Creates an Ownership Status Variable Made of Condensed Dummies\n",
    "full_df['own_status'] = \"NaN\"\n",
    "full_df.loc[(full_df.tipovivi1 == 1), 'own_status'] = \"Own, Fully Paid\"\n",
    "full_df.loc[(full_df.tipovivi2 == 1), 'own_status'] = \"Own, Paying in Installments\"\n",
    "full_df.loc[(full_df.tipovivi3 == 1), 'own_status'] = \"Rented\"\n",
    "full_df.loc[(full_df.tipovivi4 == 1), 'own_status'] = \"Precarious\"\n",
    "full_df.loc[(full_df.tipovivi5 == 1), 'own_status'] = \"Other (Assigned, Borrowed)\"\n",
    "\n",
    "#Cross-Tab\n",
    "pd.crosstab(full_df['missing_rent'], full_df['own_status'])"
   ]
  },
  {
   "cell_type": "markdown",
   "metadata": {},
   "source": [
    "Well that is a nice find: most of the missing values of rent payments correspond to households which own and have fully paid off their houses. There's no need to worry about their missing payments and we can just impute these with zeros. Of the 27,579 originally identified missing values, this accounts for about 76% of the missing values in this variable.\n",
    "\n",
    "For the rest of the missing values (there are about 3,500) of them remaining, I'll just impute the median value for that dataset (whether it's from the training or testing dataset). The code involves grouping observations by the \"Head of Household\" marker variable, but this still imputes the median of the appropriate dataset without using information from the other dataset."
   ]
  },
  {
   "cell_type": "code",
   "execution_count": 26,
   "metadata": {},
   "outputs": [],
   "source": [
    "#Replace Observations with Paid-Off Houses as Zero for Rent Payment Variable\n",
    "full_df.loc[(full_df.tipovivi1 == 1, 'v2a1')] = 0\n",
    "\n",
    "#Fill in Other Missing Values with Median Using Training Data for Heads of Households\n",
    "full_df['v2a1'] = full_df.groupby('parentesco1')['v2a1'].transform(lambda x: x.fillna(x.median()))"
   ]
  },
  {
   "cell_type": "code",
   "execution_count": 27,
   "metadata": {},
   "outputs": [
    {
     "data": {
      "text/plain": [
       "0"
      ]
     },
     "execution_count": 27,
     "metadata": {},
     "output_type": "execute_result"
    }
   ],
   "source": [
    "full_df.isna().any().sum()"
   ]
  },
  {
   "cell_type": "code",
   "execution_count": 28,
   "metadata": {},
   "outputs": [],
   "source": [
    "#Drop Variables Generated for Cross-Tab\n",
    "full_df = full_df.drop('own_status', axis=1)\n",
    "full_df = full_df.drop('missing_rent', axis=1)"
   ]
  },
  {
   "cell_type": "markdown",
   "metadata": {},
   "source": [
    "### Categorical Variables\n",
    "\n",
    "In this dataset, I have not yet had a look at categorical variables if there are any that need to be dealt with. The code below returns them."
   ]
  },
  {
   "cell_type": "code",
   "execution_count": 29,
   "metadata": {},
   "outputs": [
    {
     "data": {
      "text/html": [
       "<div>\n",
       "<style scoped>\n",
       "    .dataframe tbody tr th:only-of-type {\n",
       "        vertical-align: middle;\n",
       "    }\n",
       "\n",
       "    .dataframe tbody tr th {\n",
       "        vertical-align: top;\n",
       "    }\n",
       "\n",
       "    .dataframe thead th {\n",
       "        text-align: right;\n",
       "    }\n",
       "</style>\n",
       "<table border=\"1\" class=\"dataframe\">\n",
       "  <thead>\n",
       "    <tr style=\"text-align: right;\">\n",
       "      <th></th>\n",
       "      <th>idhogar</th>\n",
       "      <th>dependency</th>\n",
       "      <th>edjefe</th>\n",
       "      <th>edjefa</th>\n",
       "    </tr>\n",
       "  </thead>\n",
       "  <tbody>\n",
       "    <tr>\n",
       "      <th>0</th>\n",
       "      <td>21eb7fcc1</td>\n",
       "      <td>no</td>\n",
       "      <td>10</td>\n",
       "      <td>no</td>\n",
       "    </tr>\n",
       "    <tr>\n",
       "      <th>1</th>\n",
       "      <td>0e5d7a658</td>\n",
       "      <td>8</td>\n",
       "      <td>12</td>\n",
       "      <td>no</td>\n",
       "    </tr>\n",
       "    <tr>\n",
       "      <th>2</th>\n",
       "      <td>2c7317ea8</td>\n",
       "      <td>8</td>\n",
       "      <td>no</td>\n",
       "      <td>11</td>\n",
       "    </tr>\n",
       "    <tr>\n",
       "      <th>3</th>\n",
       "      <td>2b58d945f</td>\n",
       "      <td>yes</td>\n",
       "      <td>11</td>\n",
       "      <td>no</td>\n",
       "    </tr>\n",
       "    <tr>\n",
       "      <th>4</th>\n",
       "      <td>2b58d945f</td>\n",
       "      <td>yes</td>\n",
       "      <td>11</td>\n",
       "      <td>no</td>\n",
       "    </tr>\n",
       "  </tbody>\n",
       "</table>\n",
       "</div>"
      ],
      "text/plain": [
       "     idhogar dependency edjefe edjefa\n",
       "0  21eb7fcc1         no     10     no\n",
       "1  0e5d7a658          8     12     no\n",
       "2  2c7317ea8          8     no     11\n",
       "3  2b58d945f        yes     11     no\n",
       "4  2b58d945f        yes     11     no"
      ]
     },
     "execution_count": 29,
     "metadata": {},
     "output_type": "execute_result"
    }
   ],
   "source": [
    "full_df.select_dtypes(include = 'object').head()"
   ]
  },
  {
   "cell_type": "markdown",
   "metadata": {},
   "source": [
    "Don't be alarmed - the \"Dependency\", \"Edjefe (Male Head of Household Years of Education)\", and \"Edjefa (Female Head of Household Years of Education)\" are all actually ordinal. It just happens that \"1\" and \"0\" for these variables were left as \"yes\" and \"no\" respectively. All that needs to be done for them is making that change. \n",
    "\n",
    "The other variable, \"idhogar\" is a family identifier that won't actually be used for modeling. I'm just going to drop this variable."
   ]
  },
  {
   "cell_type": "code",
   "execution_count": 30,
   "metadata": {},
   "outputs": [],
   "source": [
    "#Turn \"Yes\" and \"No\" into \"1\" and \"0\", Respectively\n",
    "full_df.loc[(full_df['dependency'] == 'yes'), 'dependency']=1\n",
    "full_df.loc[(full_df['dependency'] == 'no'), 'dependency']=0\n",
    "full_df['dependency'] = full_df['dependency'].apply(pd.to_numeric)\n",
    "\n",
    "full_df.loc[(full_df['edjefe'] == 'yes'), 'edjefe']=1\n",
    "full_df.loc[(full_df['edjefe'] == 'no'), 'edjefe']=0\n",
    "full_df['edjefe'] = full_df['edjefe'].apply(pd.to_numeric)\n",
    "\n",
    "full_df.loc[(full_df['edjefa'] == 'yes'), 'edjefa']=1\n",
    "full_df.loc[(full_df['edjefa'] == 'no'), 'edjefa']=0\n",
    "full_df['edjefa'] = full_df['edjefa'].apply(pd.to_numeric)"
   ]
  },
  {
   "cell_type": "markdown",
   "metadata": {},
   "source": [
    "There is still a lot of categorical-based information in this dataset including housing materials, house region, education levels, and so on. Fortunately, this data is already all coded numerically so no changes need to be made to those variables."
   ]
  },
  {
   "cell_type": "markdown",
   "metadata": {},
   "source": [
    "### Feature Engineering\n",
    "\n",
    "In this section, I discuss the rationalizations and show the code for creating new and exciting variables using the data on hand. The purpose of this step is to use information we already have to create new variables that might be better predictors of the target variable.\n",
    "\n",
    "I'll create two new variables based on the makeup of each household: one recording the household's percentage of youth-aged persons, and another recording the same percentage of old persons.\n",
    "\n",
    "I'll create two technology-based variables: one that records the number of technological devices per capita (I make the assumption that technological devices bring about the same marginal utility in use), and one that records a rough scaling of housing quality. This scale increases by one or two points for selected values of housing material variables, especially such variables that record quality of materials used."
   ]
  },
  {
   "cell_type": "code",
   "execution_count": 31,
   "metadata": {},
   "outputs": [],
   "source": [
    "#Household Youth Prop.\n",
    "full_df['youth_prop'] = full_df['hogar_nin'] / full_df['hogar_total']\n",
    "\n",
    "#Household Seniority Prop.\n",
    "full_df['sr_prop'] = full_df['hogar_mayor'] / full_df['hogar_total']\n",
    "\n",
    "#Household Tech Devices Per Capita\n",
    "full_df['tech_per_cap'] = (full_df['v18q'] \n",
    "                        + full_df['computer']\n",
    "                        + full_df['qmobilephone'] \n",
    "                        + full_df['television']) / full_df['tamviv']\n",
    "\n",
    "#Household Quality Score\n",
    "full_df['house_quality'] = (full_df['cielorazo']\n",
    "                         + full_df['epared2'] \n",
    "                         + 2*full_df['epared2']\n",
    "                         + full_df['etecho2']\n",
    "                         + 2*full_df['etecho3']\n",
    "                         + full_df['eviv2']\n",
    "                         + 2*full_df['eviv3'])"
   ]
  },
  {
   "cell_type": "markdown",
   "metadata": {},
   "source": [
    "If any of these variables turn out to be useful in the creation of later prediction models, the results will show it."
   ]
  },
  {
   "cell_type": "markdown",
   "metadata": {},
   "source": [
    "## Creating Prediction Models\n",
    "\n",
    "Now that the datasets have been sufficiently cleaned and new variables have been created, I'm ready to start trying out some models on the data. I'll be validating models using a train-test-split method and will define a function that tests models based on their cross-validation f1-macro scores. F1-macro scores are computed by taking f1 scores and weighting each class equally to compute an average f1 score. \n",
    "\n",
    "There are a slew of modeling techniques available to use for classification problems. Below, I list several of them and describe how each goes about the classification problem. There are even more available than those I list here, but I don't have access to those on this version of Jupyter Notebook... Later on, I'll evaluate which ones did the best, and take those on to the hyper-parameter tuning stage. The descriptions listed here are all taken from each classifier's individual documentation page from the Scikit Learn website.\n",
    "\n",
    "[Random Forest Classifier](https://scikit-learn.org/stable/modules/generated/sklearn.ensemble.RandomForestClassifier.html): A classifier algorithm based on Random Forest, or multiple decision trees. It fits a number of decision tree classifiers on various sub-samples of the dataset and uses averaging to improve the predictive accuracy and control over-fitting. Samples are drawn wirth replacement if bootstrap=True, which is the default setting.\n",
    "\n",
    "[K-Nearest Neighbors](https://scikit-learn.org/stable/modules/generated/sklearn.neighbors.KNeighborsClassifier.html): K-Nearest Neighbors classifies observations by defining 1) \"k\" amount of \"neighbor\" observations near the target, 2) a distance between the target and its neighbors (usually euclidian), and 3) takes the average value of the target variable for all \"k\" of the neighbors. \n",
    "\n",
    "[SVC](https://scikit-learn.org/stable/modules/generated/sklearn.svm.SVC.html): A C-Support Vector Classification. With multi-class problems this classifier uses a one-to-one scheme.\n",
    "\n",
    "[Gaussian Naive Bayes](https://scikit-learn.org/stable/modules/generated/sklearn.naive_bayes.GaussianNB.html): Implements the Naive Bayes algorithm for classifying observations. Likelihood of features is assumed to be normal, and parameters are estimed using Max Likelihood Estimation (MLE)."
   ]
  },
  {
   "cell_type": "markdown",
   "metadata": {},
   "source": [
    "As I described earlier, I'll be testing models using a train-test-split method of cross-validation. Before I do all that, I'll split up the data into its parts again and get a split of the data. The code below facilitates this:"
   ]
  },
  {
   "cell_type": "code",
   "execution_count": 32,
   "metadata": {},
   "outputs": [
    {
     "data": {
      "text/plain": [
       "(2973, 145)"
      ]
     },
     "execution_count": 32,
     "metadata": {},
     "output_type": "execute_result"
    }
   ],
   "source": [
    "train_complete = full_df[:ntrain]\n",
    "x = train_complete.loc[train_complete['parentesco1']==1].drop('idhogar', axis = 1)\n",
    "train_complete = pd.concat([x, y], axis = 1)\n",
    "test_complete = full_df[ntrain:].drop('idhogar', axis = 1)\n",
    "train_complete.shape"
   ]
  },
  {
   "cell_type": "code",
   "execution_count": 33,
   "metadata": {},
   "outputs": [],
   "source": [
    "#Grab a Split of the Data\n",
    "x_train, x_test, y_train, y_test = train_test_split(x, y)"
   ]
  },
  {
   "cell_type": "code",
   "execution_count": 34,
   "metadata": {},
   "outputs": [],
   "source": [
    "#Function for Testing Models\n",
    "def test_clf(clf):\n",
    "    score = cross_val_score(clf, x, y, scoring = 'f1_macro', cv = 5)\n",
    "    print(clf.__class__.__name__,\"Score =\", score.mean())"
   ]
  },
  {
   "cell_type": "markdown",
   "metadata": {},
   "source": [
    "As I discussed above, I'll be using the cross-validation F1-Macro score as the main evaluation metric. Each cross-validation will use 5 folds (validate using 5 different, exhaustive subsets of the data). This will give me an idea of which model naturally does the best. The best performing model(s) here will go on to the next stage."
   ]
  },
  {
   "cell_type": "code",
   "execution_count": 35,
   "metadata": {},
   "outputs": [
    {
     "name": "stdout",
     "output_type": "stream",
     "text": [
      "RandomForestClassifier Score = 0.3347806895773308\n",
      "KNeighborsClassifier Score = 0.31088580482759853\n",
      "SVC Score = 0.1985586242463813\n",
      "GaussianNB Score = 0.34705508807705643\n"
     ]
    }
   ],
   "source": [
    "RandF = RandomForestClassifier()\n",
    "KNN = KNeighborsClassifier()\n",
    "SVC = SVC()\n",
    "GNB = GaussianNB()\n",
    "\n",
    "test_clf(RandF)\n",
    "test_clf(KNN)\n",
    "test_clf(SVC)\n",
    "test_clf(GNB)"
   ]
  },
  {
   "cell_type": "markdown",
   "metadata": {},
   "source": [
    "Let's have a look at this output:\n",
    "\n",
    "The function returned the F1-Macro score for each algorithm, the harmonic mean of an algorithm's precision and recall. Of all of these, Random Forest and Naive Bayes did best. At this point, Hyper-Parameter tuning can possibly make these classifiers do even better. One problem I found was that Naive Bayes doesn't happen to have many hyperparameters to tune - the math is pretty straightforward for this classifier. Random Forest, on the other hand, has several, such as its number of estimators, minimum samples split, maximum features, and so on. If any improvements can be made using Hyper-Parameter tuning, they would reasonably be made to the Random Forest.\n",
    "\n",
    "The following code defines the Hyper-Parameters to search through and executes a Random Search CV to find them."
   ]
  },
  {
   "cell_type": "code",
   "execution_count": 36,
   "metadata": {},
   "outputs": [],
   "source": [
    "#Defining Hyper-Parameters\n",
    "hparams = {'RandF' : {'n_estimators' : np.arange(100,2000,100),\n",
    "                      'criterion' : ['gini', 'entropy'],\n",
    "                      'min_samples_split' : np.arange(2, 5, 1),\n",
    "                      'min_samples_leaf' : [1, 2, 4],\n",
    "                      'max_features' : np.arange(10, 50, 10),\n",
    "                      'max_depth' : np.arange(3, 10, 1),\n",
    "                      'bootstrap': [True, False]}\n",
    "         }"
   ]
  },
  {
   "cell_type": "code",
   "execution_count": 37,
   "metadata": {},
   "outputs": [],
   "source": [
    "def hp_tune(clf, hparams):\n",
    "    clf_rs = RandomizedSearchCV(clf, param_distributions = hparams, \n",
    "                                n_iter = 20, scoring = 'f1_macro', verbose=1)\n",
    "    clf_rs.fit(x, y)\n",
    "    clf_rs_pred = clf_rs.predict(x_test)\n",
    "    score = f1_score(y_test, clf_rs_pred, average = 'macro')\n",
    "    print('F1 Score: %s \\n' %(score))\n",
    "    print('Best Parameters:',clf_rs.best_params_)"
   ]
  },
  {
   "cell_type": "code",
   "execution_count": 38,
   "metadata": {},
   "outputs": [
    {
     "name": "stdout",
     "output_type": "stream",
     "text": [
      "Fitting 3 folds for each of 20 candidates, totalling 60 fits\n"
     ]
    },
    {
     "name": "stderr",
     "output_type": "stream",
     "text": [
      "[Parallel(n_jobs=1)]: Using backend SequentialBackend with 1 concurrent workers.\n",
      "[Parallel(n_jobs=1)]: Done  60 out of  60 | elapsed:  5.7min finished\n"
     ]
    },
    {
     "name": "stdout",
     "output_type": "stream",
     "text": [
      "F1 Score: 0.5957460040891828 \n",
      "\n",
      "Best Parameters: {'n_estimators': 300, 'min_samples_split': 4, 'min_samples_leaf': 4, 'max_features': 20, 'max_depth': 9, 'criterion': 'entropy', 'bootstrap': True}\n"
     ]
    }
   ],
   "source": [
    "RandF = hp_tune(RandF, hparams['RandF'])"
   ]
  },
  {
   "cell_type": "markdown",
   "metadata": {},
   "source": [
    "It looks like I made some significant improvements to the model by doing some hyperparameter tuning. The model's F-1 macro score went up quite a bit. Deeper investigation would have to be done to see if the model still has low precision or recall.\n",
    "\n",
    "I'll now specify the Random Forest model to use the values of the hyperparameters that the Random Search CV found to be the best."
   ]
  },
  {
   "cell_type": "code",
   "execution_count": 39,
   "metadata": {},
   "outputs": [],
   "source": [
    "RandF = RandomForestClassifier(n_estimators = 300, \n",
    "                               min_samples_split = 4, \n",
    "                               min_samples_leaf = 4, \n",
    "                               max_features = 20, \n",
    "                               max_depth = 9, \n",
    "                               criterion = 'entropy', \n",
    "                               bootstrap = True)"
   ]
  },
  {
   "cell_type": "markdown",
   "metadata": {},
   "source": [
    "Let's see what this model looks like on a confusion matrix."
   ]
  },
  {
   "cell_type": "code",
   "execution_count": 40,
   "metadata": {},
   "outputs": [],
   "source": [
    "#Define function to plot confusion matrix\n",
    "def plot_confusion_matrix(y_true, y_pred):\n",
    "    cm = confusion_matrix(y_true, y_pred)\n",
    "    f, ax = plt.subplots(figsize=(8, 6))\n",
    "    sns.heatmap(cm, cmap=\"Blues_r\", annot=True,)\n",
    "    plt.title('Confusion Matrix', fontsize=15)\n",
    "    plt.ylabel('True label', fontsize=12)\n",
    "    plt.xlabel('Predicted label', fontsize=12)\n",
    "    plt.xticks([0, 1, 2, 3],\n",
    "           ['Extreme Poverty', 'Moderate Poverty', 'Vulnerable', 'Non-Vulnerable'])\n",
    "    plt.yticks([0, 1, 2, 3],\n",
    "           ['Extreme Poverty', 'Moderate Poverty', 'Vulnerable', 'Non-Vulnerable'],\n",
    "              rotation=0)"
   ]
  },
  {
   "cell_type": "code",
   "execution_count": 41,
   "metadata": {},
   "outputs": [],
   "source": [
    "#Train models and make predictions\n",
    "RandF.fit(x_train, y_train)\n",
    "rf_pred = RandF.predict(x_test)"
   ]
  },
  {
   "cell_type": "code",
   "execution_count": 42,
   "metadata": {},
   "outputs": [
    {
     "name": "stdout",
     "output_type": "stream",
     "text": [
      "              precision    recall  f1-score   support\n",
      "\n",
      "           1       0.46      0.10      0.17        58\n",
      "           2       0.35      0.20      0.25       112\n",
      "           3       0.75      0.03      0.06        98\n",
      "           4       0.70      0.97      0.81       476\n",
      "\n",
      "   micro avg       0.66      0.66      0.66       744\n",
      "   macro avg       0.57      0.33      0.32       744\n",
      "weighted avg       0.63      0.66      0.58       744\n",
      "\n"
     ]
    }
   ],
   "source": [
    "rf_report = classification_report(y_test, rf_pred)\n",
    "print(rf_report)"
   ]
  },
  {
   "cell_type": "code",
   "execution_count": 43,
   "metadata": {},
   "outputs": [
    {
     "data": {
      "image/png": "[encoded data removed]",
      "text/plain": [
       "<Figure size 576x432 with 2 Axes>"
      ]
     },
     "metadata": {
      "needs_background": "light"
     },
     "output_type": "display_data"
    }
   ],
   "source": [
    "plot_confusion_matrix(y_test, rf_pred)"
   ]
  },
  {
   "cell_type": "markdown",
   "metadata": {},
   "source": [
    "Here, I explain and interpret both the classification report and the confusion matrix:\n",
    "\n",
    "A classification report returns three metrics of model accuracy: the precision (the number of true positives divided by all the positive predictions), the recall (the number of true positives divided by all of the actual positives), and the F1-Macro score which I described earlier. As shown above, the precision is decent with respect to those in extreme poverty as well as those in the Non-Vulnerable category, though it is not doing so well for groups 2 and 3. Recall,  in contrast, is showing that this model captures less than 15% of those in the poorest class. I'll describe why this may be the case in the next section.\n",
    "\n",
    "The confusion matrix shows the predictions made in contrast with the true categories in which observations belong. Simply, the rows are the true classes, and the columns are the predictions. Cell 0,0 displays the number of the 0th class that the model got right, and so on. Were every prediction correct, every number not on the diagonal would be a zero. Values above the diagonal are the false positives, and values below it are false negatives. \n",
    "\n",
    "In general, it looks like the model learned little more than to predict that most of the classes are not in any kind of poverty as, statistically, this prediction is right most of the time. As I showed earlier, there was significant imbalance between classes of income and that's probably what's coming into play here. Fortunately, I have a number of tools to deal with this and I'll go over these in the following sections."
   ]
  },
  {
   "cell_type": "markdown",
   "metadata": {},
   "source": [
    "## Workarounds for Imbalanced Data\n",
    "\n",
    "In practice, imbalanced data is a big problem in analysis, and this data happens to be pretty imbalanced as well. Comparatively speaking, only a small fraction of observations in the entire dataset were in poverty at all, so the model had a hard time predicting them accurately. Consider it this way: if 99% of the people in the dataset were not in poverty, all the model would really have to do is predict that everyone was *not* in poverty. In that case, the model would still technically be 99% accurate but it would be missing a lot of information in the data. Furthermore, in predictions where we don't know beforehand who actually is in poverty and who isn't, we wouldn't know who needed help. \n",
    "\n",
    "In the rest of this section, I describe and implement two basic workarounds for this problem: weighting, and oversampling."
   ]
  },
  {
   "cell_type": "markdown",
   "metadata": {},
   "source": [
    "### Data Weighting\n",
    "\n",
    "Sometimes, using weights in modeling allows the model to learn with better information, such as which classes should be weighted more heavily during model training and prediction. Generally, the \"weight\" that is added to a single observation is something like the inverse of the probability that it is in the data. For implementation here, I'll add weights that, simply speaking, put more emphasis on predicting the lower income groups, and less on the higher ones. "
   ]
  },
  {
   "cell_type": "code",
   "execution_count": 44,
   "metadata": {},
   "outputs": [
    {
     "name": "stdout",
     "output_type": "stream",
     "text": [
      "Original Random Forest Report \n",
      "\n",
      "              precision    recall  f1-score   support\n",
      "\n",
      "           1       0.46      0.10      0.17        58\n",
      "           2       0.35      0.20      0.25       112\n",
      "           3       0.75      0.03      0.06        98\n",
      "           4       0.70      0.97      0.81       476\n",
      "\n",
      "   micro avg       0.66      0.66      0.66       744\n",
      "   macro avg       0.57      0.33      0.32       744\n",
      "weighted avg       0.63      0.66      0.58       744\n",
      "\n",
      "Weighted Random Forest Report \n",
      "\n",
      "              precision    recall  f1-score   support\n",
      "\n",
      "           1       0.46      0.10      0.17        58\n",
      "           2       0.33      0.20      0.25       112\n",
      "           3       0.50      0.03      0.06        98\n",
      "           4       0.70      0.96      0.81       476\n",
      "\n",
      "   micro avg       0.66      0.66      0.66       744\n",
      "   macro avg       0.50      0.32      0.32       744\n",
      "weighted avg       0.60      0.66      0.58       744\n",
      "\n"
     ]
    }
   ],
   "source": [
    "weights = {1:4, 2:1, 3:1.2, 4:.25}\n",
    "RandF_weighted = RandomForestClassifier(n_estimators = 300, \n",
    "                                        min_samples_split = 4, \n",
    "                                        min_samples_leaf = 2, \n",
    "                                        max_features = 20, \n",
    "                                        max_depth = 9, \n",
    "                                        criterion = 'gini', \n",
    "                                        bootstrap = True)\n",
    "RandF_weighted.fit(x_train, y_train)\n",
    "RandF_weighted_pred = RandF_weighted.predict(x_test)\n",
    "RandF_weighted_report = classification_report(y_test, RandF_weighted_pred)\n",
    "\n",
    "#Renders Model Report, Compares to Weighted Model\n",
    "print('Original Random Forest Report \\n')\n",
    "print(rf_report)\n",
    "print('Weighted Random Forest Report \\n')\n",
    "print(RandF_weighted_report)"
   ]
  },
  {
   "cell_type": "markdown",
   "metadata": {},
   "source": [
    "It looks like after using this method, my model was slightly better able to predict those in extreme poverty. This is what I was aiming for in this trial of model improvement. In practice, it is probably most important to know foremost who needs the most help, and not worry as much about those who aren't vulnerable anyway."
   ]
  },
  {
   "cell_type": "markdown",
   "metadata": {},
   "source": [
    "### Data Oversampling\n",
    "\n",
    "Oversampling is another way that I'll deal with imbalances in the data. Simply put, it randomly creates synthetic data specifically from our underrepresented classes so our model has more data to learn from. This is done by creating new data wherein each poverty class is equally represented, and then having the model learn from this data instead."
   ]
  },
  {
   "cell_type": "code",
   "execution_count": 45,
   "metadata": {},
   "outputs": [],
   "source": [
    "#Creates New Training Sets with Oversampled Data\n",
    "train_overs = RandomOverSampler(random_state=0)\n",
    "x_resampled, y_resampled = train_overs.fit_resample(x_train, y_train)"
   ]
  },
  {
   "cell_type": "markdown",
   "metadata": {},
   "source": [
    "To illustrate what resampled (oversampled) data looks like, I'll show the distribution of the new data:"
   ]
  },
  {
   "cell_type": "code",
   "execution_count": 46,
   "metadata": {},
   "outputs": [
    {
     "data": {
      "text/plain": [
       "([<matplotlib.axis.XTick at 0x7f9d15433a90>,\n",
       "  <matplotlib.axis.XTick at 0x7f9d154332e8>,\n",
       "  <matplotlib.axis.XTick at 0x7f9d15433278>,\n",
       "  <matplotlib.axis.XTick at 0x7f9d152852e8>],\n",
       " <a list of 4 Text xticklabel objects>)"
      ]
     },
     "execution_count": 46,
     "metadata": {},
     "output_type": "execute_result"
    },
    {
     "data": {
      "image/png": "[encoded data removed]",
      "text/plain": [
       "<Figure size 576x432 with 1 Axes>"
      ]
     },
     "metadata": {
      "needs_background": "light"
     },
     "output_type": "display_data"
    }
   ],
   "source": [
    "#Graphs resampled data\n",
    "f, ax = plt.subplots(figsize=(8, 6))\n",
    "sns.countplot(y_resampled)\n",
    "plt.title('Distribution of Oversampled Poverty Classes', fontsize=15)\n",
    "plt.xlabel('Poverty Level', fontsize=12)\n",
    "plt.ylabel('Frequency', fontsize=12)\n",
    "plt.xticks([0, 1, 2, 3],\n",
    "           ['Extreme Poverty', 'Moderate Poverty', 'Vulnerable', 'Non-Vulnerable'])"
   ]
  },
  {
   "cell_type": "markdown",
   "metadata": {},
   "source": [
    "As you can see, the data distribution is now almost perfectly even. This makes it much easier for the model to make predictions of who might fall into each category. This is similar to weighting, but it gives each class the same amount of weight, meaning it's being rewarded (or penalized) for making correct predictions in any income class."
   ]
  },
  {
   "cell_type": "markdown",
   "metadata": {},
   "source": [
    "Let's see if the model performs any better on this oversampled data:"
   ]
  },
  {
   "cell_type": "code",
   "execution_count": 47,
   "metadata": {},
   "outputs": [
    {
     "name": "stdout",
     "output_type": "stream",
     "text": [
      "Original Classification Report \n",
      "\n",
      "              precision    recall  f1-score   support\n",
      "\n",
      "           1       0.46      0.10      0.17        58\n",
      "           2       0.35      0.20      0.25       112\n",
      "           3       0.75      0.03      0.06        98\n",
      "           4       0.70      0.97      0.81       476\n",
      "\n",
      "   micro avg       0.66      0.66      0.66       744\n",
      "   macro avg       0.57      0.33      0.32       744\n",
      "weighted avg       0.63      0.66      0.58       744\n",
      "\n",
      "Oversampled Data Classification Report \n",
      "\n",
      "              precision    recall  f1-score   support\n",
      "\n",
      "           1       0.33      0.38      0.35        58\n",
      "           2       0.29      0.38      0.33       112\n",
      "           3       0.23      0.32      0.27        98\n",
      "           4       0.88      0.74      0.80       476\n",
      "\n",
      "   micro avg       0.60      0.60      0.60       744\n",
      "   macro avg       0.43      0.45      0.44       744\n",
      "weighted avg       0.66      0.60      0.63       744\n",
      "\n"
     ]
    }
   ],
   "source": [
    "print('Original Classification Report \\n')\n",
    "print(rf_report)\n",
    "RandF_resampled = RandF\n",
    "RandF_resampled.fit(x_resampled, y_resampled)\n",
    "RandF_resampled_pred = RandF_resampled.predict(x_test)\n",
    "RandF_resampled_report = classification_report(y_test, RandF_resampled_pred)\n",
    "print('Oversampled Data Classification Report \\n')\n",
    "print(RandF_resampled_report)"
   ]
  },
  {
   "cell_type": "code",
   "execution_count": 48,
   "metadata": {},
   "outputs": [
    {
     "data": {
      "image/png": "[encoded data removed]",
      "text/plain": [
       "<Figure size 576x432 with 2 Axes>"
      ]
     },
     "metadata": {
      "needs_background": "light"
     },
     "output_type": "display_data"
    }
   ],
   "source": [
    "plot_confusion_matrix(y_test, RandF_resampled_pred)"
   ]
  },
  {
   "cell_type": "markdown",
   "metadata": {},
   "source": [
    "Overall, and specifically for the lowest income level, the F-1 score has improved greatly. The model also did about as well or only a little better for the less vulnerable groups so that's good. \n",
    "\n",
    "The oversampled model's recall scores went up significantly (it did better at correctly finding the poor people) though it's precision scores dropped a bit (it had a few more false positives). It appears there is some tradeoff between precision and recall and the improvement of the F-1 score may mask this fact. Looks like care should be taken when deciding which metric (precision or recall) to maximize."
   ]
  },
  {
   "cell_type": "markdown",
   "metadata": {},
   "source": [
    "I'll also have a look at the \"feature importances\" of the model. These can be thought of as important variables, except in using a Random Forest, we call them features and feature importances instead... I'll be looking at a couple main things: what features mattered the most, and if any of the features I created are among those important features. It would be nice to know if the feature engineering stages I went through were of any help to the model."
   ]
  },
  {
   "cell_type": "code",
   "execution_count": 49,
   "metadata": {},
   "outputs": [],
   "source": [
    "#Feature Importances Dataset\n",
    "feature_importances = pd.DataFrame(columns = ['Variable', 'Coef'])\n",
    "feature_importances['Variable'] = list(x)\n",
    "feature_importances['Coef'] = abs(RandF_resampled.feature_importances_)\n",
    "feature_importances.sort_values(by = 'Coef', ascending = False, inplace = True)\n",
    "feature_importances = feature_importances[0:10]"
   ]
  },
  {
   "cell_type": "code",
   "execution_count": 50,
   "metadata": {},
   "outputs": [
    {
     "data": {
      "text/plain": [
       "Text(0.5, 1.0, 'Most Important Features in Oversampled Model')"
      ]
     },
     "execution_count": 50,
     "metadata": {},
     "output_type": "execute_result"
    },
    {
     "data": {
      "image/png": "[encoded data removed]",
      "text/plain": [
       "<Figure size 720x576 with 1 Axes>"
      ]
     },
     "metadata": {
      "needs_background": "light"
     },
     "output_type": "display_data"
    }
   ],
   "source": [
    "#Bar Chart of Top 10 Features of the Model\n",
    "f, ax = plt.subplots(figsize=(10, 8))\n",
    "plt.xticks(rotation='90')\n",
    "sns.barplot(x=feature_importances['Variable'], y = feature_importances['Coef'])\n",
    "plt.xlabel('Features', fontsize=12)\n",
    "plt.ylabel('Importance (Coefficient)', fontsize=12)\n",
    "plt.xticks(rotation = 30)\n",
    "plt.title('Most Important Features in Oversampled Model', fontsize=15)"
   ]
  },
  {
   "cell_type": "markdown",
   "metadata": {},
   "source": [
    "Here are a few notes on this graph:\n",
    "\n",
    "Generally speaking, this graph shows the features of the data that were the best predictors of variation in the poverty (income) level. As we might expect, general education is very important in predicting this kind of thing, as are years of school. Other age-related demographics of the household seemed to matter quite a bit. House Quality is missing here, but it might still be in the top 15 or top 20 features.\n",
    "\n",
    "Also, it appears that a few of the variables I engineered (Tech Per Capita as well as Youth Proportion) showed up in the important features graph. Nice! Were the competition still open, I would be very excited to report my findings to scholars and/or government officials who were interested in my research."
   ]
  },
  {
   "cell_type": "markdown",
   "metadata": {},
   "source": [
    "## Conclusion and Implications\n",
    "\n",
    "Here, I recap the process I went through, the substantive takeaways of the analysis, and a few other thoughts.\n",
    "\n",
    "As I have shown, I visualized the data first to get an idea of what features in the data might matter most. I specifically wanted to do this on just the training data because I wanted to think about relationships that would be generalizeable to data that I hadn't seen before. I then combined the data, cleaned it, did some feature engineering that was mostly informed by the features and relationships I initially saw, and ran a few prediction models. None of them did super well, but I was able to take the one that did the best and helped it do a little bit better with some basic hyperparameter tuning, and ran the model with weights and oversampled data. \n",
    "\n",
    "In practice, I might have still been a bit concerned about how bad the model did at predicting those the most vulnerable to poverty. It was interesting to think that model improvements, even if marginal, could really be life-saving in this case. The biggest thing I saw that played into the model's failure to predict poverty levels was lack of data - not of the number of observations, per se, but the data that was collected on each household or person. It seems that future data collection might be improved by finding things like specific region, job type, details about the household's greater social network, and so on.\n",
    "\n",
    "Not only was this a good domain-related experience that taught me about how I would make a classification model for poverty, but it was a good practical experience with thinking through the general problems of classification and prediction."
   ]
  }
 ],
 "metadata": {
  "kernelspec": {
   "display_name": "Python 3",
   "language": "python",
   "name": "python3"
  },
  "language_info": {
   "codemirror_mode": {
    "name": "ipython",
    "version": 3
   },
   "file_extension": ".py",
   "mimetype": "text/x-python",
   "name": "python",
   "nbconvert_exporter": "python",
   "pygments_lexer": "ipython3",
   "version": "3.6.7"
  }
 },
 "nbformat": 4,
 "nbformat_minor": 2
}
